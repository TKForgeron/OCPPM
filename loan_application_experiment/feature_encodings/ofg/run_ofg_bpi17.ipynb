{
 "cells": [
  {
   "cell_type": "code",
   "execution_count": 2,
   "metadata": {},
   "outputs": [
    {
     "name": "stdout",
     "output_type": "stream",
     "text": [
      "CPU: Intel(R) Core(TM) i5-7500 CPU @ 3.40GHz (4x)\n",
      "Total CPU memory: 46.93GB\n",
      "Available CPU memory: 38.64GB\n",
      "GPU: NVIDIA GeForce GTX 960\n",
      "Total GPU memory: 4096.0MB\n",
      "Available GPU memory: 4029.0MB\n",
      "Platform: Linux-5.19.0-46-generic-x86_64-with-glibc2.35\n",
      "Torch version: 1.13.1+cu117\n",
      "Cuda available: True\n",
      "Torch geometric version: 2.3.1\n"
     ]
    }
   ],
   "source": [
    "import os\n",
    "\n",
    "os.chdir(\"/home/tim/Development/OCPPM/\")\n",
    "import pickle\n",
    "import numpy as np\n",
    "import random\n",
    "import pandas as pd\n",
    "import torch\n",
    "import torch_geometric.nn as pygnn\n",
    "import torch_geometric.transforms as T\n",
    "import torch_geometric.loader as L\n",
    "import torch.nn.functional as F\n",
    "import torch.optim as O\n",
    "\n",
    "# Custom imports\n",
    "from loan_application_experiment.models.geometric_models import (\n",
    "    AGNN_EFG,\n",
    "    HigherOrderGNN_EFG,\n",
    "    GraphModel,\n",
    "    SimpleGNN_EFG,\n",
    ")\n",
    "\n",
    "import utilities.evaluation_utils as evaluation_utils\n",
    "import utilities.hetero_data_utils as hetero_data_utils\n",
    "import utilities.hetero_evaluation_utils as hetero_evaluation_utils\n",
    "import utilities.hetero_training_utils as hetero_training_utils\n",
    "import utilities.torch_utils as torch_utils\n",
    "\n",
    "# Print system info\n",
    "torch_utils.print_system_info()\n",
    "torch_utils.print_torch_info()\n",
    "\n",
    "\n",
    "def quick_check(t: torch.Tensor) -> pd.DataFrame:\n",
    "    return pd.DataFrame(t).head()"
   ]
  },
  {
   "cell_type": "code",
   "execution_count": 12,
   "metadata": {},
   "outputs": [
    {
     "data": {
      "text/plain": [
       "HeteroData(\n",
       "  \u001b[1mapplication\u001b[0m={\n",
       "    y=[31509],\n",
       "    x=[31509, 3]\n",
       "  },\n",
       "  \u001b[1moffer\u001b[0m={\n",
       "    y=[42995],\n",
       "    x=[42995, 7]\n",
       "  },\n",
       "  \u001b[1m(application, interacts, application)\u001b[0m={ edge_index=[2, 31509] },\n",
       "  \u001b[1m(application, interacts, offer)\u001b[0m={ edge_index=[2, 42995] },\n",
       "  \u001b[1m(offer, interacts, offer)\u001b[0m={ edge_index=[2, 55049] },\n",
       "  \u001b[1m(offer, rev_interacts, application)\u001b[0m={ edge_index=[2, 42995] }\n",
       ")"
      ]
     },
     "execution_count": 12,
     "metadata": {},
     "output_type": "execute_result"
    }
   ],
   "source": [
    "objects_data_dict_file = \"data/BPI17/feature_encodings/OFG/ofg/raw/BPI17_OFG.pkl\"\n",
    "with open(objects_data_dict_file, \"rb\") as fp:\n",
    "    ofg = pickle.load(fp)\n",
    "data = ofg\n",
    "data = T.ToUndirected()(data)\n",
    "data = T.AddSelfLoops()(data)\n",
    "data = T.NormalizeFeatures()(data)\n",
    "data"
   ]
  },
  {
   "cell_type": "code",
   "execution_count": 14,
   "metadata": {},
   "outputs": [
    {
     "name": "stderr",
     "output_type": "stream",
     "text": [
      "/home/tim/Development/OCPPM/.env/lib/python3.9/site-packages/torch_geometric/nn/to_hetero_transformer.py:379: UserWarning: 'act1' will be duplicated, but its parameters cannot be reset. To suppress this warning, add a 'reset_parameters()' method to 'act1'\n",
      "  warnings.warn(\n",
      "/home/tim/Development/OCPPM/.env/lib/python3.9/site-packages/torch_geometric/nn/to_hetero_transformer.py:379: UserWarning: 'act2' will be duplicated, but its parameters cannot be reset. To suppress this warning, add a 'reset_parameters()' method to 'act2'\n",
      "  warnings.warn(\n"
     ]
    }
   ],
   "source": [
    "class HigherOrderGNN_HOEG(GraphModel):\n",
    "    def __init__(self, hidden_channels: int = 64, out_channels: int = 1):\n",
    "        super().__init__()\n",
    "        self.conv1 = pygnn.GraphConv(-1, hidden_channels)\n",
    "        self.conv2 = pygnn.GraphConv(-1, hidden_channels)\n",
    "        self.act1 = torch.nn.PReLU()\n",
    "        self.act2 = torch.nn.PReLU()\n",
    "        # self.pool1 = pygnn.global_add_pool\n",
    "        self.out = pygnn.Linear(-1, out_channels)\n",
    "\n",
    "    def forward(self, x, edge_index, batch):\n",
    "        x = self.conv1(x, edge_index)\n",
    "        x = self.act1(x)\n",
    "        x = self.conv2(x, edge_index)\n",
    "        x = self.act2(x)\n",
    "        # x = self.pool1(x, batch)\n",
    "        x = self.out(x)\n",
    "        return x\n",
    "\n",
    "\n",
    "model = HigherOrderGNN_HOEG(32, 1)\n",
    "model = pygnn.to_hetero(model, data.metadata())\n",
    "# model.double()\n",
    "\n",
    "# with torch.no_grad():  # Initialize lazy modules.\n",
    "#      out = model(het_data.x_dict, het_data.edge_index_dict)"
   ]
  },
  {
   "cell_type": "code",
   "execution_count": null,
   "metadata": {},
   "outputs": [],
   "source": []
  },
  {
   "cell_type": "code",
   "execution_count": 9,
   "metadata": {},
   "outputs": [],
   "source": [
    "# from torch_geometric.sampler import HeteroSamplerOutput, HGTSampler\n",
    "# from torch_geometric.loader import HGTLoader\n",
    "\n",
    "# het_data = T.RandomNodeSplit()(het_data)\n",
    "# loader = HGTLoader(het_data,\n",
    "#                    num_samples={key: [10_000] for key in het_data.node_types},\n",
    "#                    input_nodes=('offer', het_data['offer'].train_mask))"
   ]
  },
  {
   "cell_type": "code",
   "execution_count": 10,
   "metadata": {},
   "outputs": [
    {
     "name": "stderr",
     "output_type": "stream",
     "text": [
      "/tmp/ipykernel_30541/3943607108.py:6: UserWarning: Using a target size (torch.Size([41495])) that is different to the input size (torch.Size([41495, 1])). This will likely lead to incorrect results due to broadcasting. Please ensure they have the same size.\n",
      "  loss = loss_fn(out[\"offer\"][mask], data[\"offer\"].y[mask])\n"
     ]
    },
    {
     "ename": "",
     "evalue": "",
     "output_type": "error",
     "traceback": [
      "\u001b[1;31mCannot execute code, session has been disposed. Please try restarting the Kernel."
     ]
    },
    {
     "ename": "",
     "evalue": "",
     "output_type": "error",
     "traceback": [
      "\u001b[1;31mThe Kernel crashed while executing code in the the current cell or a previous cell. Please review the code in the cell(s) to identify a possible cause of the failure. Click <a href='https://aka.ms/vscodeJupyterKernelCrash'>here</a> for more info. View Jupyter <a href='command:jupyter.viewOutput'>log</a> for further details."
     ]
    }
   ],
   "source": [
    "het_data = T.RandomNodeSplit()(het_data)\n",
    "\n",
    "optimizer = O.Adam(\n",
    "    model.parameters(),\n",
    "    lr=0.001,\n",
    "    betas=(0.9, 0.999),\n",
    "    eps=1e-08,\n",
    "    weight_decay=0,\n",
    "    amsgrad=False,\n",
    ")\n",
    "loss = train(model, het_data, optimizer, F.l1_loss)\n",
    "loss"
   ]
  },
  {
   "cell_type": "code",
   "execution_count": null,
   "metadata": {},
   "outputs": [
    {
     "data": {
      "text/plain": [
       "10588784.253657103"
      ]
     },
     "execution_count": 11,
     "metadata": {},
     "output_type": "execute_result"
    }
   ],
   "source": [
    "loss\n",
    "# 1.3763950517127197"
   ]
  },
  {
   "cell_type": "code",
   "execution_count": null,
   "metadata": {},
   "outputs": [
    {
     "ename": "AssertionError",
     "evalue": "",
     "output_type": "error",
     "traceback": [
      "\u001b[0;31m---------------------------------------------------------------------------\u001b[0m",
      "\u001b[0;31mAssertionError\u001b[0m                            Traceback (most recent call last)",
      "Cell \u001b[0;32mIn[12], line 1\u001b[0m\n\u001b[0;32m----> 1\u001b[0m net \u001b[39m=\u001b[39m to_hetero(net, het_data\u001b[39m.\u001b[39;49mmetadata(), aggr\u001b[39m=\u001b[39;49m\u001b[39m\"\u001b[39;49m\u001b[39msum\u001b[39;49m\u001b[39m\"\u001b[39;49m)\n",
      "File \u001b[0;32m~/Development/OCPPM/.env/lib/python3.9/site-packages/torch_geometric/nn/to_hetero_transformer.py:119\u001b[0m, in \u001b[0;36mto_hetero\u001b[0;34m(module, metadata, aggr, input_map, debug)\u001b[0m\n\u001b[1;32m     27\u001b[0m \u001b[39mdef\u001b[39;00m \u001b[39mto_hetero\u001b[39m(module: Module, metadata: Metadata, aggr: \u001b[39mstr\u001b[39m \u001b[39m=\u001b[39m \u001b[39m\"\u001b[39m\u001b[39msum\u001b[39m\u001b[39m\"\u001b[39m,\n\u001b[1;32m     28\u001b[0m               input_map: Optional[Dict[\u001b[39mstr\u001b[39m, \u001b[39mstr\u001b[39m]] \u001b[39m=\u001b[39m \u001b[39mNone\u001b[39;00m,\n\u001b[1;32m     29\u001b[0m               debug: \u001b[39mbool\u001b[39m \u001b[39m=\u001b[39m \u001b[39mFalse\u001b[39;00m) \u001b[39m-\u001b[39m\u001b[39m>\u001b[39m GraphModule:\n\u001b[1;32m     30\u001b[0m \u001b[39m    \u001b[39m\u001b[39mr\u001b[39m\u001b[39m\"\"\"Converts a homogeneous GNN model into its heterogeneous equivalent in\u001b[39;00m\n\u001b[1;32m     31\u001b[0m \u001b[39m    which node representations are learned for each node type in\u001b[39;00m\n\u001b[1;32m     32\u001b[0m \u001b[39m    :obj:`metadata[0]`, and messages are exchanged between each edge type in\u001b[39;00m\n\u001b[0;32m   (...)\u001b[0m\n\u001b[1;32m    117\u001b[0m \u001b[39m            transformation in debug mode. (default: :obj:`False`)\u001b[39;00m\n\u001b[1;32m    118\u001b[0m \u001b[39m    \"\"\"\u001b[39;00m\n\u001b[0;32m--> 119\u001b[0m     transformer \u001b[39m=\u001b[39m ToHeteroTransformer(module, metadata, aggr, input_map, debug)\n\u001b[1;32m    120\u001b[0m     \u001b[39mreturn\u001b[39;00m transformer\u001b[39m.\u001b[39mtransform()\n",
      "File \u001b[0;32m~/Development/OCPPM/.env/lib/python3.9/site-packages/torch_geometric/nn/to_hetero_transformer.py:143\u001b[0m, in \u001b[0;36mToHeteroTransformer.__init__\u001b[0;34m(self, module, metadata, aggr, input_map, debug)\u001b[0m\n\u001b[1;32m    135\u001b[0m \u001b[39mdef\u001b[39;00m \u001b[39m__init__\u001b[39m(\n\u001b[1;32m    136\u001b[0m     \u001b[39mself\u001b[39m,\n\u001b[1;32m    137\u001b[0m     module: Module,\n\u001b[0;32m   (...)\u001b[0m\n\u001b[1;32m    141\u001b[0m     debug: \u001b[39mbool\u001b[39m \u001b[39m=\u001b[39m \u001b[39mFalse\u001b[39;00m,\n\u001b[1;32m    142\u001b[0m ):\n\u001b[0;32m--> 143\u001b[0m     \u001b[39msuper\u001b[39;49m()\u001b[39m.\u001b[39;49m\u001b[39m__init__\u001b[39;49m(module, input_map, debug)\n\u001b[1;32m    145\u001b[0m     \u001b[39mself\u001b[39m\u001b[39m.\u001b[39mmetadata \u001b[39m=\u001b[39m metadata\n\u001b[1;32m    146\u001b[0m     \u001b[39mself\u001b[39m\u001b[39m.\u001b[39maggr \u001b[39m=\u001b[39m aggr\n",
      "File \u001b[0;32m~/Development/OCPPM/.env/lib/python3.9/site-packages/torch_geometric/nn/fx.py:73\u001b[0m, in \u001b[0;36mTransformer.__init__\u001b[0;34m(self, module, input_map, debug)\u001b[0m\n\u001b[1;32m     66\u001b[0m \u001b[39mdef\u001b[39;00m \u001b[39m__init__\u001b[39m(\n\u001b[1;32m     67\u001b[0m     \u001b[39mself\u001b[39m,\n\u001b[1;32m     68\u001b[0m     module: Module,\n\u001b[1;32m     69\u001b[0m     input_map: Optional[Dict[\u001b[39mstr\u001b[39m, \u001b[39mstr\u001b[39m]] \u001b[39m=\u001b[39m \u001b[39mNone\u001b[39;00m,\n\u001b[1;32m     70\u001b[0m     debug: \u001b[39mbool\u001b[39m \u001b[39m=\u001b[39m \u001b[39mFalse\u001b[39;00m,\n\u001b[1;32m     71\u001b[0m ):\n\u001b[1;32m     72\u001b[0m     \u001b[39mself\u001b[39m\u001b[39m.\u001b[39mmodule \u001b[39m=\u001b[39m module\n\u001b[0;32m---> 73\u001b[0m     \u001b[39mself\u001b[39m\u001b[39m.\u001b[39mgm \u001b[39m=\u001b[39m symbolic_trace(module)\n\u001b[1;32m     74\u001b[0m     \u001b[39mself\u001b[39m\u001b[39m.\u001b[39minput_map \u001b[39m=\u001b[39m input_map\n\u001b[1;32m     75\u001b[0m     \u001b[39mself\u001b[39m\u001b[39m.\u001b[39mdebug \u001b[39m=\u001b[39m debug\n",
      "File \u001b[0;32m~/Development/OCPPM/.env/lib/python3.9/site-packages/torch_geometric/nn/fx.py:366\u001b[0m, in \u001b[0;36msymbolic_trace\u001b[0;34m(module, concrete_args)\u001b[0m\n\u001b[1;32m    362\u001b[0m         \u001b[39mself\u001b[39m\u001b[39m.\u001b[39msubmodule_paths \u001b[39m=\u001b[39m \u001b[39mNone\u001b[39;00m\n\u001b[1;32m    364\u001b[0m         \u001b[39mreturn\u001b[39;00m \u001b[39mself\u001b[39m\u001b[39m.\u001b[39mgraph\n\u001b[0;32m--> 366\u001b[0m \u001b[39mreturn\u001b[39;00m GraphModule(module, Tracer()\u001b[39m.\u001b[39;49mtrace(module, concrete_args))\n",
      "File \u001b[0;32m~/Development/OCPPM/.env/lib/python3.9/site-packages/torch_geometric/nn/fx.py:314\u001b[0m, in \u001b[0;36msymbolic_trace.<locals>.Tracer.trace\u001b[0;34m(self, root, concrete_args)\u001b[0m\n\u001b[1;32m    310\u001b[0m         collect_tensor_attrs(v, prefix_atoms \u001b[39m+\u001b[39m [k])\n\u001b[1;32m    312\u001b[0m collect_tensor_attrs(\u001b[39mself\u001b[39m\u001b[39m.\u001b[39mroot, [])\n\u001b[0;32m--> 314\u001b[0m \u001b[39massert\u001b[39;00m \u001b[39misinstance\u001b[39m(fn, st\u001b[39m.\u001b[39mFunctionType)\n\u001b[1;32m    316\u001b[0m fn_globals \u001b[39m=\u001b[39m fn\u001b[39m.\u001b[39m\u001b[39m__globals__\u001b[39m  \u001b[39m# run before it gets patched\u001b[39;00m\n\u001b[1;32m    317\u001b[0m fn, args \u001b[39m=\u001b[39m \u001b[39mself\u001b[39m\u001b[39m.\u001b[39mcreate_args_for_root(\n\u001b[1;32m    318\u001b[0m     fn, \u001b[39misinstance\u001b[39m(root, torch\u001b[39m.\u001b[39mnn\u001b[39m.\u001b[39mModule), concrete_args)\n",
      "\u001b[0;31mAssertionError\u001b[0m: "
     ]
    }
   ],
   "source": [
    "net."
   ]
  },
  {
   "cell_type": "code",
   "execution_count": null,
   "metadata": {},
   "outputs": [],
   "source": []
  }
 ],
 "metadata": {
  "kernelspec": {
   "display_name": ".env",
   "language": "python",
   "name": "python3"
  },
  "language_info": {
   "codemirror_mode": {
    "name": "ipython",
    "version": 3
   },
   "file_extension": ".py",
   "mimetype": "text/x-python",
   "name": "python",
   "nbconvert_exporter": "python",
   "pygments_lexer": "ipython3",
   "version": "3.9.17"
  },
  "orig_nbformat": 4
 },
 "nbformat": 4,
 "nbformat_minor": 2
}
