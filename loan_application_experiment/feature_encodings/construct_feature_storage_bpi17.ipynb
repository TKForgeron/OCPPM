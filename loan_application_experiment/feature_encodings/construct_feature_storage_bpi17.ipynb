{
 "cells": [
  {
   "cell_type": "code",
   "execution_count": 1,
   "metadata": {},
   "outputs": [],
   "source": [
    "from typing import Any, Callable\n",
    "import pickle\n",
    "import re\n",
    "import string\n",
    "from sklearn.preprocessing import StandardScaler\n",
    "\n",
    "# Object centric process mining\n",
    "import ocpa.objects.log.importer.ocel.factory as ocel_import_factory\n",
    "from ocpa.algo.predictive_monitoring.obj import Feature_Storage\n",
    "from ocpa.objects.log.ocel import OCEL\n",
    "import ocpa.algo.predictive_monitoring.factory as feature_factory\n",
    "from ocpa.algo.predictive_monitoring import tabular\n",
    "import ocpa.objects.log.importer.csv.factory as csv_import_factory"
   ]
  },
  {
   "cell_type": "code",
   "execution_count": 2,
   "metadata": {},
   "outputs": [],
   "source": [
    "ocel_in_file = \"../../data/BPI17/source/BPI2017-CountEncoded.jsonocel\"\n",
    "event_attributes = [\n",
    "    \"event_Action_ce\",\n",
    "    \"event_EventOrigin_ce\",\n",
    "    \"event_OrgResource_ce\",\n",
    "]\n",
    "feature_storage_out_file = \"../../data/BPI17/feature_encodings/EFG/efg/raw/BPI_split_[C2_P2_P3_P5_O3_Action_EventOrigin_OrgResource].fs\""
   ]
  },
  {
   "cell_type": "code",
   "execution_count": 3,
   "metadata": {},
   "outputs": [],
   "source": [
    "ocel = ocel_import_factory.apply(ocel_in_file)"
   ]
  },
  {
   "cell_type": "code",
   "execution_count": 4,
   "metadata": {},
   "outputs": [],
   "source": [
    "activities = ocel.log.log[\"event_activity\"].unique().tolist()\n",
    "\n",
    "# Adams used just C2, D1, P2, and O3 with P3 as the target variable\n",
    "event_level_features = {\n",
    "    f\"C2{char}\": (feature_factory.EVENT_PRECEDING_ACTIVITIES, (act,))\n",
    "    for act, char in zip(activities, string.ascii_lowercase)\n",
    "} | {\n",
    "    # \"D1\": (\n",
    "    #     feature_factory.EVENT_AGG_PREVIOUS_CHAR_VALUES,\n",
    "    #     (\"event_RequestedAmount\", max),\n",
    "    # ), # error ('event_RequestedAmount' has become an object attribute)\n",
    "    \"P2\": (feature_factory.EVENT_ELAPSED_TIME, ()),\n",
    "    \"P3\": (feature_factory.EVENT_REMAINING_TIME, ()),\n",
    "    # \"P4\": (feature_factory.EVENT_FLOW_TIME, ()),\n",
    "    \"P5\": (feature_factory.EVENT_SYNCHRONIZATION_TIME, ()),\n",
    "    # \"P6\": (feature_factory.EVENT_SOJOURN_TIME, ()),\n",
    "    # \"P7\": (feature_factory.EVENT_POOLING_TIME, ()), # error\n",
    "    # \"P8\": (feature_factory.EVENT_LAGGING_TIME, ()), # error\n",
    "    # \"P9\": (feature_factory.EVENT_SERVICE_TIME, ()), # error\n",
    "    # \"P10\": (feature_factory.EVENT_WAITING_TIME, ()), # error\n",
    "    \"O3\": (feature_factory.EVENT_PREVIOUS_TYPE_COUNT, (\"offer\",)),\n",
    "}"
   ]
  },
  {
   "cell_type": "code",
   "execution_count": 5,
   "metadata": {},
   "outputs": [
    {
     "name": "stdout",
     "output_type": "stream",
     "text": [
      "Applying feature extraction to process executions\n"
     ]
    },
    {
     "name": "stderr",
     "output_type": "stream",
     "text": [
      "100%|██████████| 31509/31509 [01:39<00:00, 317.56it/s]\n"
     ]
    }
   ],
   "source": [
    "feature_storage = feature_factory.apply(\n",
    "    ocel,\n",
    "    event_based_features=list(event_level_features.values()),\n",
    "    event_attributes=event_attributes,\n",
    ")"
   ]
  },
  {
   "cell_type": "code",
   "execution_count": 6,
   "metadata": {},
   "outputs": [],
   "source": [
    "# Generate the train-validation-test split (with the same split as Adams)\n",
    "# but do not normalize the features here\n",
    "feature_storage.extract_normalized_train_test_split(\n",
    "    scaler=StandardScaler, test_size=0.3, validation_size=0.7 * 0.2, state=42\n",
    ")"
   ]
  },
  {
   "cell_type": "code",
   "execution_count": 7,
   "metadata": {},
   "outputs": [],
   "source": [
    "with open(feature_storage_out_file, \"wb\") as binary:\n",
    "    pickle.dump(feature_storage, binary)"
   ]
  }
 ],
 "metadata": {
  "kernelspec": {
   "display_name": ".env",
   "language": "python",
   "name": "python3"
  },
  "language_info": {
   "codemirror_mode": {
    "name": "ipython",
    "version": 3
   },
   "file_extension": ".py",
   "mimetype": "text/x-python",
   "name": "python",
   "nbconvert_exporter": "python",
   "pygments_lexer": "ipython3",
   "version": "3.9.17"
  },
  "orig_nbformat": 4
 },
 "nbformat": 4,
 "nbformat_minor": 2
}
