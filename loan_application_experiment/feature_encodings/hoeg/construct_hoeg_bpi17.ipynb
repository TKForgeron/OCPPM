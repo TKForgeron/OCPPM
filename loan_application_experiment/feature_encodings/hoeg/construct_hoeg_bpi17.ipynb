{
 "cells": [
  {
   "cell_type": "code",
   "execution_count": 1,
   "metadata": {},
   "outputs": [
    {
     "name": "stderr",
     "output_type": "stream",
     "text": [
      "/home/tim/Development/OCPPM/.env/lib/python3.9/site-packages/tqdm/auto.py:21: TqdmWarning: IProgress not found. Please update jupyter and ipywidgets. See https://ipywidgets.readthedocs.io/en/stable/user_install.html\n",
      "  from .autonotebook import tqdm as notebook_tqdm\n"
     ]
    },
    {
     "name": "stdout",
     "output_type": "stream",
     "text": [
      "Torch version: 1.13.1+cu117\n",
      "Cuda available: True\n",
      "Torch geometric version: 2.3.1\n",
      "\n"
     ]
    }
   ],
   "source": [
    "import os\n",
    "\n",
    "os.chdir(\"/home/tim/Development/OCPPM/\")\n",
    "import logging\n",
    "from loan_application_experiment.feature_encodings.hoeg.hoeg import HOEG\n",
    "\n",
    "# from experiment.feature_encodings.efg.efg import EFG\n",
    "import ocpa.algo.predictive_monitoring.factory as feature_factory\n",
    "import torch\n",
    "import torch.nn as nn\n",
    "import torch.nn.functional as F\n",
    "import torch.optim as O\n",
    "import torch_geometric.nn as pygnn\n",
    "import torch_geometric.transforms as T\n",
    "from loan_application_experiment.models.geometric_models import (\n",
    "    AGNN_EFG,\n",
    "    AdamsGCN,\n",
    "    GraphModel,\n",
    "    HigherOrderGNN_EFG,\n",
    ")\n",
    "\n",
    "logging.basicConfig(\n",
    "    level=logging.DEBUG,\n",
    "    format=\"%(asctime)s %(levelname)s %(message)s\",\n",
    "    datefmt=\"%Y-%m-%d %H:%M:%S\",\n",
    "    filename=\"logging/debug.log\",\n",
    ")\n",
    "logging.critical(f\"{'-' * 32} NEW RUN {'-' * 32}\")\n",
    "\n",
    "bpi17_hoeg_config = {\n",
    "    \"STORAGE_PATH\": \"data/BPI17/feature_encodings/HOEG/hoeg\",\n",
    "    \"SPLIT_FEATURE_STORAGE_FILE\": \"BPI_split_[C2_P2_P3_P5_O3_Action_EventOrigin_OrgResource].fs\",\n",
    "    \"TARGET_LABEL\": (feature_factory.EVENT_REMAINING_TIME, ()),\n",
    "    \"OBJECTS_DATA_DICT\": \"bpi17_ofg+oi_graph+app_node_map+off_node_map.pkl\",\n",
    "    \"SUBGRAPH_SIZE\": 4,\n",
    "    \"BATCH_SIZE\": 64,\n",
    "    \"RANDOM_SEED\": 42,\n",
    "    \"EPOCHS\": 30,\n",
    "    \"early_stopping\": 5,\n",
    "    \"optimizer_settings\": {\n",
    "        \"lr\": 0.001,\n",
    "        \"betas\": (0.9, 0.999),\n",
    "        \"eps\": 1e-08,\n",
    "        \"weight_decay\": 0,\n",
    "        \"amsgrad\": False,\n",
    "    },\n",
    "    \"loss_fn\": torch.nn.L1Loss(),\n",
    "    \"verbose\": True,\n",
    "    \"skip_cache\": True,\n",
    "    \"device\": torch.device(\"cuda\" if torch.cuda.is_available() else \"cpu\"),\n",
    "}"
   ]
  },
  {
   "cell_type": "code",
   "execution_count": 2,
   "metadata": {},
   "outputs": [
    {
     "name": "stderr",
     "output_type": "stream",
     "text": [
      "Processing...\n",
      "31509it [01:55, 273.17it/s]\n",
      "Done!\n"
     ]
    }
   ],
   "source": [
    "dataset = HOEG(\n",
    "    root=bpi17_hoeg_config[\"STORAGE_PATH\"],\n",
    "    events_filename=bpi17_hoeg_config[\"SPLIT_FEATURE_STORAGE_FILE\"],\n",
    "    objects_filename=bpi17_hoeg_config[\"OBJECTS_DATA_DICT\"],\n",
    "    label_key=bpi17_hoeg_config[\"TARGET_LABEL\"],\n",
    "    skip_cache=bpi17_hoeg_config[\"skip_cache\"],\n",
    "    transform=T.ToUndirected(),\n",
    ")"
   ]
  },
  {
   "cell_type": "markdown",
   "metadata": {},
   "source": [
    "Just some checks..."
   ]
  },
  {
   "cell_type": "code",
   "execution_count": 3,
   "metadata": {},
   "outputs": [
    {
     "name": "stderr",
     "output_type": "stream",
     "text": [
      "100%|██████████| 31509/31509 [00:35<00:00, 891.53it/s] \n"
     ]
    },
    {
     "data": {
      "text/plain": [
       "HOEG (#graphs=31509):\n",
       "+------------+----------+----------+\n",
       "|            |   #nodes |   #edges |\n",
       "|------------+----------+----------|\n",
       "| mean       |     14.9 |     74.6 |\n",
       "| std        |      4.1 |     21.8 |\n",
       "| min        |      8   |     35   |\n",
       "| quantile25 |     12   |     59   |\n",
       "| median     |     14   |     69   |\n",
       "| quantile75 |     17   |     84   |\n",
       "| max        |     52   |    276   |\n",
       "+------------+----------+----------+"
      ]
     },
     "execution_count": 3,
     "metadata": {},
     "output_type": "execute_result"
    }
   ],
   "source": [
    "dataset.get_summary()"
   ]
  },
  {
   "cell_type": "code",
   "execution_count": 4,
   "metadata": {},
   "outputs": [
    {
     "data": {
      "text/plain": [
       "HeteroData(\n",
       "  \u001b[1mevent\u001b[0m={\n",
       "    x=[41, 27],\n",
       "    y=[41]\n",
       "  },\n",
       "  \u001b[1mapplication\u001b[0m={\n",
       "    x=[1, 3],\n",
       "    y=[1]\n",
       "  },\n",
       "  \u001b[1moffer\u001b[0m={\n",
       "    x=[9, 7],\n",
       "    y=[9]\n",
       "  },\n",
       "  \u001b[1m(event, follows, event)\u001b[0m={ edge_index=[2, 139] },\n",
       "  \u001b[1m(event, interacts, application)\u001b[0m={ edge_index=[2, 32] },\n",
       "  \u001b[1m(event, interacts, offer)\u001b[0m={ edge_index=[2, 28] },\n",
       "  \u001b[1m(application, interacts, application)\u001b[0m={ edge_index=[2, 1] },\n",
       "  \u001b[1m(application, rev_interacts, event)\u001b[0m={ edge_index=[2, 32] },\n",
       "  \u001b[1m(offer, rev_interacts, event)\u001b[0m={ edge_index=[2, 28] }\n",
       ")"
      ]
     },
     "execution_count": 4,
     "metadata": {},
     "output_type": "execute_result"
    }
   ],
   "source": [
    "dataset[0]"
   ]
  }
 ],
 "metadata": {
  "kernelspec": {
   "display_name": ".env",
   "language": "python",
   "name": "python3"
  },
  "language_info": {
   "codemirror_mode": {
    "name": "ipython",
    "version": 3
   },
   "file_extension": ".py",
   "mimetype": "text/x-python",
   "name": "python",
   "nbconvert_exporter": "python",
   "pygments_lexer": "ipython3",
   "version": "3.9.17"
  },
  "orig_nbformat": 4
 },
 "nbformat": 4,
 "nbformat_minor": 2
}
