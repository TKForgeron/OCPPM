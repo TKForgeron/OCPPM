{
 "cells": [
  {
   "cell_type": "code",
   "execution_count": 6,
   "metadata": {},
   "outputs": [],
   "source": [
    "# SELF REMINDER. Copy the 'ocpa' directory to the forked one from github, so that I can push updates to github.\n",
    "\n",
    "# Python natives\n",
    "import pickle\n",
    "from typing import Any\n",
    "\n",
    "import ocpa.algo.predictive_monitoring.factory as feature_factory\n",
    "import ocpa.objects.log.importer.csv.factory as csv_import_factory\n",
    "\n",
    "# Object centric process mining\n",
    "import ocpa.objects.log.importer.ocel.factory as ocel_import_factory\n",
    "from ocpa.algo.predictive_monitoring.obj import Feature_Storage\n",
    "from ocpa.objects.log.ocel import OCEL\n",
    "from ocpa.algo.predictive_monitoring import tabular, sequential\n",
    "\n",
    "# Simple machine learning models, procedure tools, and evaluation metrics\n",
    "from sklearn.preprocessing import PowerTransformer, StandardScaler\n",
    "\n"
   ]
  },
  {
   "cell_type": "code",
   "execution_count": 10,
   "metadata": {},
   "outputs": [],
   "source": [
    "\n",
    "\n",
    "def load_ocel(\n",
    "    ocel_filename: str,\n",
    "    parameters: dict[str, Any] = None,\n",
    ") -> OCEL:\n",
    "    extension = ocel_filename.split(\".\")[-1]\n",
    "    if extension == \"csv\":\n",
    "        return csv_import_factory.apply(\n",
    "            ocel_filename, csv_import_factory.TO_OCEL, parameters\n",
    "        )\n",
    "    elif extension == \"jsonocel\":\n",
    "        return ocel_import_factory.apply(ocel_filename)\n",
    "    elif extension == \"xmlocel\":\n",
    "        raise Exception(\"XMLOCEL is not supported yet\")\n",
    "    else:\n",
    "        raise Exception(f\"{extension} is not supported yet\")\n",
    "\n",
    "\n",
    "def build_feature_storage(ocel, feature_set: list = [\"default\"]) -> Feature_Storage:\n",
    "    print(\"Constructing FeatureStorage object\")\n",
    "    if feature_set == [\"default\"]:\n",
    "        return feature_factory.apply(\n",
    "            ocel,\n",
    "            event_based_features=[\n",
    "                (feature_factory.EVENT_PRECEDING_ACTIVITIES, (act,))\n",
    "                for act in ocel.log.log[\"event_activity\"]\n",
    "                .unique()\n",
    "                .tolist()  # all unique activities in the log\n",
    "            ]  # C2\n",
    "            + [\n",
    "                (feature_factory.EVENT_ELAPSED_TIME, ()),  # P2\n",
    "                (feature_factory.EVENT_REMAINING_TIME, ()),  # P3\n",
    "                (\n",
    "                    feature_factory.EVENT_PREVIOUS_TYPE_COUNT,\n",
    "                    (ocel.obj.meta.obj_types[0],),  # pick first object type as feature\n",
    "                ),  # O3\n",
    "            ],\n",
    "        )\n",
    "    return feature_factory.apply(ocel, event_based_features=feature_set)\n",
    "\n",
    "\n",
    "def pickle_feature_storage(feature_storage: Feature_Storage, path: str) -> None:\n",
    "    print(\"Pickling FeatureStorage object\")\n",
    "    with open(\n",
    "        path,\n",
    "        \"wb\",\n",
    "    ) as file:\n",
    "        pickle.dump(feature_storage, file)"
   ]
  },
  {
   "cell_type": "code",
   "execution_count": 11,
   "metadata": {},
   "outputs": [],
   "source": [
    "ocel_file = \"../../../data/BPI17/source/BPI2017-Final.jsonocel\"\n",
    "feature_storage_out_file = \"../../../data/BPI17/feature_encodings/EFG/efg/raw/BPI2017-feature_storage-split-[C2,P2,P3,O3].fs\"\n"
   ]
  },
  {
   "cell_type": "code",
   "execution_count": 4,
   "metadata": {},
   "outputs": [],
   "source": [
    "ocel = load_ocel(ocel_file)"
   ]
  },
  {
   "cell_type": "code",
   "execution_count": 5,
   "metadata": {},
   "outputs": [
    {
     "name": "stdout",
     "output_type": "stream",
     "text": [
      "Constructing FeatureStorage object\n",
      "Applying feature extraction to process executions\n"
     ]
    },
    {
     "name": "stderr",
     "output_type": "stream",
     "text": [
      "100%|██████████| 31509/31509 [00:57<00:00, 544.27it/s]\n"
     ]
    }
   ],
   "source": [
    "feature_storage = build_feature_storage(ocel)"
   ]
  },
  {
   "cell_type": "code",
   "execution_count": 12,
   "metadata": {},
   "outputs": [
    {
     "name": "stdout",
     "output_type": "stream",
     "text": [
      "Pickling FeatureStorage object\n"
     ]
    }
   ],
   "source": [
    "pickle_feature_storage(feature_storage, feature_storage_out_file)"
   ]
  },
  {
   "cell_type": "code",
   "execution_count": null,
   "metadata": {},
   "outputs": [],
   "source": []
  }
 ],
 "metadata": {
  "kernelspec": {
   "display_name": ".env",
   "language": "python",
   "name": "python3"
  },
  "language_info": {
   "codemirror_mode": {
    "name": "ipython",
    "version": 3
   },
   "file_extension": ".py",
   "mimetype": "text/x-python",
   "name": "python",
   "nbconvert_exporter": "python",
   "pygments_lexer": "ipython3",
   "version": "3.9.17"
  },
  "orig_nbformat": 4
 },
 "nbformat": 4,
 "nbformat_minor": 2
}
