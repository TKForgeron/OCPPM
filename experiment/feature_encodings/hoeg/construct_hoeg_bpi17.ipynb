{
 "cells": [
  {
   "cell_type": "code",
   "execution_count": 1,
   "metadata": {},
   "outputs": [
    {
     "name": "stderr",
     "output_type": "stream",
     "text": [
      "/home/tim/Development/OCPPM/.env/lib/python3.9/site-packages/tqdm/auto.py:21: TqdmWarning: IProgress not found. Please update jupyter and ipywidgets. See https://ipywidgets.readthedocs.io/en/stable/user_install.html\n",
      "  from .autonotebook import tqdm as notebook_tqdm\n"
     ]
    },
    {
     "name": "stdout",
     "output_type": "stream",
     "text": [
      "Torch version: 1.13.1+cu117\n",
      "Cuda available: True\n",
      "Torch geometric version: 2.3.1\n",
      "\n"
     ]
    }
   ],
   "source": [
    "import os\n",
    "os.chdir(\"/home/tim/Development/OCPPM/\")\n",
    "import logging\n",
    "from experiment.feature_encodings.hoeg.hoeg import HOEG\n",
    "# from experiment.feature_encodings.efg.efg import EFG\n",
    "import ocpa.algo.predictive_monitoring.factory as feature_factory\n",
    "import torch.nn\n",
    "import torch.nn.functional as F\n",
    "import torch.optim as O\n",
    "import torch_geometric.transforms as T\n",
    "from torch_geometric.nn import (\n",
    "    GATConv,\n",
    "    Linear,\n",
    "    to_hetero,\n",
    ")\n",
    "\n",
    "logging.basicConfig(\n",
    "    level=logging.DEBUG,\n",
    "    format=\"%(asctime)s %(levelname)s %(message)s\",\n",
    "    datefmt=\"%Y-%m-%d %H:%M:%S\",\n",
    "    filename=\"logging/debug.log\",\n",
    ")\n",
    "logging.critical(f\"{'-' * 32} NEW RUN {'-' * 32}\")\n",
    "\n",
    "feature_storage_file = \"data/BPI17/feature_encodings/HOEG/hoeg\"\n",
    "fs_file = \"BPI2017-feature_storage-split-[C1-3,C5,P1-6,O2,O3,O5].fs\"\n",
    "objects_data_dict = \"bpi17_ofg+oi_graph+app_node_map+off_node_map.pkl\"\n",
    "target =(feature_factory.EVENT_REMAINING_TIME, ())\n",
    "use_cache = True\n",
    "\n",
    "DEVICE = torch.device(\"cuda\" if torch.cuda.is_available() else \"cpu\")\n"
   ]
  },
  {
   "cell_type": "code",
   "execution_count": 2,
   "metadata": {},
   "outputs": [],
   "source": [
    "dataset = HOEG(\n",
    "    root=feature_storage_file,\n",
    "    events_filename=fs_file,\n",
    "    objects_filename=objects_data_dict,\n",
    "    label_key=target,\n",
    "    use_cache=use_cache,\n",
    "    transform=T.ToUndirected()\n",
    ")"
   ]
  },
  {
   "cell_type": "code",
   "execution_count": 12,
   "metadata": {},
   "outputs": [
    {
     "name": "stderr",
     "output_type": "stream",
     "text": [
      "100%|██████████| 31509/31509 [00:29<00:00, 1076.15it/s]\n"
     ]
    },
    {
     "data": {
      "text/plain": [
       "HOEG (#graphs=31509):\n",
       "+------------+----------+----------+\n",
       "|            |   #nodes |   #edges |\n",
       "|------------+----------+----------|\n",
       "| mean       |     14.9 |     61.1 |\n",
       "| std        |      4.1 |     18.4 |\n",
       "| min        |      8   |     28   |\n",
       "| quantile25 |     12   |     48   |\n",
       "| median     |     14   |     56   |\n",
       "| quantile75 |     17   |     68   |\n",
       "| max        |     52   |    240   |\n",
       "+------------+----------+----------+"
      ]
     },
     "execution_count": 12,
     "metadata": {},
     "output_type": "execute_result"
    }
   ],
   "source": [
    "dataset.get_summary()"
   ]
  },
  {
   "cell_type": "code",
   "execution_count": 9,
   "metadata": {},
   "outputs": [
    {
     "data": {
      "text/plain": [
       "HeteroData(\n",
       "  \u001b[1mevent\u001b[0m={\n",
       "    x=[41, 93],\n",
       "    y=[41]\n",
       "  },\n",
       "  \u001b[1mapplication\u001b[0m={ x=[1, 18] },\n",
       "  \u001b[1moffer\u001b[0m={ x=[9, 8] },\n",
       "  \u001b[1m(event, follows, event)\u001b[0m={ edge_index=[2, 98] },\n",
       "  \u001b[1m(event, interacts, application)\u001b[0m={ edge_index=[2, 32] },\n",
       "  \u001b[1m(event, interacts, offer)\u001b[0m={ edge_index=[2, 28] },\n",
       "  \u001b[1m(application, interacts, application)\u001b[0m={ edge_index=[2, 0] },\n",
       "  \u001b[1m(application, rev_interacts, event)\u001b[0m={ edge_index=[2, 32] },\n",
       "  \u001b[1m(offer, rev_interacts, event)\u001b[0m={ edge_index=[2, 28] }\n",
       ")"
      ]
     },
     "execution_count": 9,
     "metadata": {},
     "output_type": "execute_result"
    }
   ],
   "source": [
    "dataset[0]"
   ]
  },
  {
   "cell_type": "code",
   "execution_count": 10,
   "metadata": {},
   "outputs": [
    {
     "data": {
      "text/plain": [
       "GraphModule(\n",
       "  (conv1): ModuleDict(\n",
       "    (event__follows__event): GATConv((-1, -1), 128, heads=1)\n",
       "    (event__interacts__application): GATConv((-1, -1), 128, heads=1)\n",
       "    (event__interacts__offer): GATConv((-1, -1), 128, heads=1)\n",
       "    (application__interacts__application): GATConv((-1, -1), 128, heads=1)\n",
       "  )\n",
       "  (lin1): ModuleDict(\n",
       "    (event): Linear(-1, 128, bias=True)\n",
       "    (application): Linear(-1, 128, bias=True)\n",
       "    (offer): Linear(-1, 128, bias=True)\n",
       "  )\n",
       "  (conv2): ModuleDict(\n",
       "    (event__follows__event): GATConv((-1, -1), 1, heads=1)\n",
       "    (event__interacts__application): GATConv((-1, -1), 1, heads=1)\n",
       "    (event__interacts__offer): GATConv((-1, -1), 1, heads=1)\n",
       "    (application__interacts__application): GATConv((-1, -1), 1, heads=1)\n",
       "  )\n",
       "  (lin2): ModuleDict(\n",
       "    (event): Linear(-1, 1, bias=True)\n",
       "    (application): Linear(-1, 1, bias=True)\n",
       "    (offer): Linear(-1, 1, bias=True)\n",
       "  )\n",
       ")"
      ]
     },
     "execution_count": 10,
     "metadata": {},
     "output_type": "execute_result"
    }
   ],
   "source": [
    "class GAT(torch.nn.Module):\n",
    "    def __init__(self, hidden_channels, out_channels):\n",
    "        super().__init__()\n",
    "        self.conv1 = GATConv((-1, -1), hidden_channels, add_self_loops=False)\n",
    "        self.lin1 = Linear(-1, hidden_channels)\n",
    "        self.conv2 = GATConv((-1, -1), out_channels, add_self_loops=False)\n",
    "        self.lin2 = Linear(-1, out_channels)\n",
    "\n",
    "    def forward(self, x, edge_index):\n",
    "        x = self.conv1(x, edge_index) + self.lin1(x)\n",
    "        x = x.relu()\n",
    "        x = self.conv2(x, edge_index) + self.lin2(x)\n",
    "        return x\n",
    "\n",
    "\n",
    "\n",
    "model = GAT(hidden_channels=128, out_channels=1)\n",
    "model = to_hetero(model, dataset[0].metadata(), aggr='sum')\n",
    "optimizer = O.Adam(model.parameters(), lr=0.001, betas=(0.9, 0.999), eps=1e-08, weight_decay=0, amsgrad=False)\n",
    "model.to(DEVICE)"
   ]
  },
  {
   "cell_type": "code",
   "execution_count": null,
   "metadata": {},
   "outputs": [],
   "source": [
    "def train():\n",
    "    model.train()\n",
    "    optimizer.zero_grad()\n",
    "    out = model(data.x_dict, data.edge_index_dict)\n",
    "    mask = data['paper'].train_mask\n",
    "    loss = F.cross_entropy(out['paper'][mask], data['paper'].y[mask])\n",
    "    loss.backward()\n",
    "    optimizer.step()\n",
    "    return float(loss)"
   ]
  }
 ],
 "metadata": {
  "kernelspec": {
   "display_name": ".env",
   "language": "python",
   "name": "python3"
  },
  "language_info": {
   "codemirror_mode": {
    "name": "ipython",
    "version": 3
   },
   "file_extension": ".py",
   "mimetype": "text/x-python",
   "name": "python",
   "nbconvert_exporter": "python",
   "pygments_lexer": "ipython3",
   "version": "3.9.17"
  },
  "orig_nbformat": 4
 },
 "nbformat": 4,
 "nbformat_minor": 2
}
