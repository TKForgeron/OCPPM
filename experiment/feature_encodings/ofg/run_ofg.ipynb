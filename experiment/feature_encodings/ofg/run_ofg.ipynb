{
 "cells": [
  {
   "cell_type": "code",
   "execution_count": 11,
   "metadata": {},
   "outputs": [],
   "source": [
    "import pickle\n",
    "\n",
    "import pandas as pd\n",
    "import torch\n",
    "from torch_geometric.nn import HGTConv,GATConv, Linear, to_hetero\n",
    "import torch_geometric.transforms as T\n",
    "import torch.nn.functional as F\n",
    "import torch.optim as O\n",
    "\n",
    "# from ....models.geometric_models import AGNN, CGNN"
   ]
  },
  {
   "cell_type": "code",
   "execution_count": 14,
   "metadata": {},
   "outputs": [
    {
     "data": {
      "text/plain": [
       "HeteroData(\n",
       "  \u001b[1mapplication\u001b[0m={ x=[31509, 17] },\n",
       "  \u001b[1moffer\u001b[0m={ x=[42995, 7] },\n",
       "  \u001b[1m(application, interacts, application)\u001b[0m={ edge_index=[2, 31509] },\n",
       "  \u001b[1m(application, interacts, offer)\u001b[0m={ edge_index=[2, 42995] },\n",
       "  \u001b[1m(offer, interacts, offer)\u001b[0m={ edge_index=[2, 55049] }\n",
       ")"
      ]
     },
     "execution_count": 14,
     "metadata": {},
     "output_type": "execute_result"
    }
   ],
   "source": [
    "with open(\"../../../data/BPI17/feature_encodings/BPI17_OFG.pkl\", \"rb\") as het_data_pkl:\n",
    "    het_data = pickle.load(het_data_pkl)\n",
    "\n",
    "het_data = T.AddSelfLoops()(het_data)\n",
    "het_data = T.NormalizeFeatures()(het_data)"
   ]
  },
  {
   "cell_type": "code",
   "execution_count": null,
   "metadata": {},
   "outputs": [],
   "source": []
  },
  {
   "cell_type": "code",
   "execution_count": 3,
   "metadata": {},
   "outputs": [],
   "source": [
    "class GAT(torch.nn.Module):\n",
    "    def __init__(self, hidden_channels, out_channels):\n",
    "        super().__init__()\n",
    "        self.conv1 = GATConv((-1, -1), hidden_channels, add_self_loops=False)\n",
    "        self.lin1 = Linear(-1, hidden_channels)\n",
    "        self.conv2 = GATConv((-1, -1), out_channels, add_self_loops=False)\n",
    "        self.lin2 = Linear(-1, out_channels)\n",
    "\n",
    "    def forward(self, x, edge_index):\n",
    "        x = self.conv1(x, edge_index) + self.lin1(x)\n",
    "        x = x.relu()\n",
    "        x = self.conv2(x, edge_index) + self.lin2(x)\n",
    "        return x\n",
    "\n",
    "class HGT(torch.nn.Module):\n",
    "    def __init__(self,data, hidden_channels, out_channels, num_heads, num_layers):\n",
    "        super().__init__()\n",
    "\n",
    "        self.lin_dict = torch.nn.ModuleDict()\n",
    "        for node_type in data.node_types:\n",
    "            self.lin_dict[node_type] = Linear(-1, hidden_channels)\n",
    "\n",
    "        self.convs = torch.nn.ModuleList()\n",
    "        for _ in range(num_layers):\n",
    "            conv = HGTConv(hidden_channels, hidden_channels, data.metadata(),\n",
    "                           num_heads, group='sum')\n",
    "            self.convs.append(conv)\n",
    "\n",
    "        self.lin = Linear(hidden_channels, out_channels)\n",
    "\n",
    "    def forward(self, x_dict, edge_index_dict):\n",
    "        for node_type, x in x_dict.items():\n",
    "            x_dict[node_type] = self.lin_dict[node_type](x).relu_()\n",
    "\n",
    "        for conv in self.convs:\n",
    "            x_dict = conv(x_dict, edge_index_dict)\n",
    "\n",
    "        return self.lin(x_dict['author'])\n"
   ]
  },
  {
   "cell_type": "code",
   "execution_count": 4,
   "metadata": {},
   "outputs": [],
   "source": [
    "df = pd.DataFrame(\n",
    "    het_data['offer'].x,\n",
    "    columns=[\n",
    "        \"event_NumberOfTerms\",\n",
    "        \"event_Accepted\",\n",
    "        \"event_Selected\",\n",
    "        \"event_OfferedAmount\",\n",
    "        \"event_CreditScore\",\n",
    "        \"event_FirstWithdrawalAmount\",\n",
    "        \"event_MonthlyCost\",\n",
    "    ],\n",
    ")\n",
    "y = df['event_NumberOfTerms'].values\n",
    "df = df.drop('event_NumberOfTerms',axis=1)\n",
    "x = df.values\n",
    "het_data['offer'].x = torch.tensor(x)\n",
    "het_data['offer'].y = torch.tensor(y)"
   ]
  },
  {
   "cell_type": "code",
   "execution_count": 5,
   "metadata": {},
   "outputs": [
    {
     "data": {
      "text/plain": [
       "GraphModule(\n",
       "  (conv1): ModuleDict(\n",
       "    (application__interacts__application): GATConv((-1, -1), 64, heads=1)\n",
       "    (application__interacts__offer): GATConv((-1, -1), 64, heads=1)\n",
       "    (offer__interacts__offer): GATConv((-1, -1), 64, heads=1)\n",
       "  )\n",
       "  (lin1): ModuleDict(\n",
       "    (application): Linear(-1, 64, bias=True)\n",
       "    (offer): Linear(-1, 64, bias=True)\n",
       "  )\n",
       "  (conv2): ModuleDict(\n",
       "    (application__interacts__application): GATConv((-1, -1), 1, heads=1)\n",
       "    (application__interacts__offer): GATConv((-1, -1), 1, heads=1)\n",
       "    (offer__interacts__offer): GATConv((-1, -1), 1, heads=1)\n",
       "  )\n",
       "  (lin2): ModuleDict(\n",
       "    (application): Linear(-1, 1, bias=True)\n",
       "    (offer): Linear(-1, 1, bias=True)\n",
       "  )\n",
       ")"
      ]
     },
     "execution_count": 5,
     "metadata": {},
     "output_type": "execute_result"
    }
   ],
   "source": [
    "# model = HGT(het_data, hidden_channels=64, out_channels=1, num_heads=2, num_layers=2)\n",
    "model = GAT(hidden_channels=64, out_channels=1)\n",
    "model = to_hetero(model, het_data.metadata(), aggr=\"sum\")\n",
    "model.double()\n",
    "\n",
    "# with torch.no_grad():  # Initialize lazy modules.\n",
    "#      out = model(het_data.x_dict, het_data.edge_index_dict)\n"
   ]
  },
  {
   "cell_type": "code",
   "execution_count": 6,
   "metadata": {},
   "outputs": [],
   "source": [
    "def train(model, data, optimizer, loss_fn):\n",
    "    model.train()\n",
    "    optimizer.zero_grad()\n",
    "    out = model(data.x_dict, data.edge_index_dict)\n",
    "    mask = data[\"offer\"].train_mask\n",
    "    loss = loss_fn(out[\"offer\"][mask], data[\"offer\"].y[mask])\n",
    "    loss.backward()\n",
    "    optimizer.step()\n",
    "    return float(loss)"
   ]
  },
  {
   "cell_type": "code",
   "execution_count": 7,
   "metadata": {},
   "outputs": [],
   "source": [
    "het_data = T.RandomNodeSplit()(het_data)\n",
    "optimizer = O.Adam(model.parameters(), lr=0.001, betas=(0.9, 0.999), eps=1e-08, weight_decay=0, amsgrad=False)\n",
    "loss = train(model,het_data,optimizer, F.mse_loss)"
   ]
  }
 ],
 "metadata": {
  "kernelspec": {
   "display_name": ".env",
   "language": "python",
   "name": "python3"
  },
  "language_info": {
   "codemirror_mode": {
    "name": "ipython",
    "version": 3
   },
   "file_extension": ".py",
   "mimetype": "text/x-python",
   "name": "python",
   "nbconvert_exporter": "python",
   "pygments_lexer": "ipython3",
   "version": "3.9.16"
  },
  "orig_nbformat": 4
 },
 "nbformat": 4,
 "nbformat_minor": 2
}
