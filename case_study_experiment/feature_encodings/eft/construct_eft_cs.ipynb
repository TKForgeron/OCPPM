{
 "cells": [
  {
   "cell_type": "code",
   "execution_count": 1,
   "metadata": {},
   "outputs": [],
   "source": [
    "from typing import Any, Callable\n",
    "import pickle\n",
    "import re\n",
    "\n",
    "# Object centric process mining\n",
    "import ocpa.objects.log.importer.ocel.factory as ocel_import_factory\n",
    "from ocpa.algo.predictive_monitoring.obj import Feature_Storage\n",
    "from ocpa.objects.log.ocel import OCEL\n",
    "import ocpa.algo.predictive_monitoring.factory as feature_factory\n",
    "from ocpa.algo.predictive_monitoring import tabular\n",
    "import ocpa.objects.log.importer.csv.factory as csv_import_factory"
   ]
  },
  {
   "cell_type": "code",
   "execution_count": 2,
   "metadata": {},
   "outputs": [],
   "source": [
    "ocel_in_file = \"../../../data/CS/source/cs_january_ots[krs_krv_cv]_eas[ea2_ea4_resource_robot_resource_person_resource_multi].jsonocel\"\n",
    "event_attributes = [\"ea2\", \"ea4\", \"resource_robot\", \"resource_person\", \"resource_multi\"]\n",
    "feature_storage_out_file = \"../../../data/CS/feature_encodings/EFG/raw/CS_split_[P2_P3_O3_ea2_ea4_resource_robot_person_multi].fs\"\n",
    "eft_out_file = '../../../data/CS/feature_encodings/baselines/EFT/eft.csv'"
   ]
  },
  {
   "cell_type": "code",
   "execution_count": 3,
   "metadata": {},
   "outputs": [],
   "source": [
    "event_level_features = {\n",
    "    \"P2\": (feature_factory.EVENT_ELAPSED_TIME, ()),\n",
    "    \"P3\": (feature_factory.EVENT_REMAINING_TIME, ()),\n",
    "    # \"P4\": (feature_factory.EVENT_FLOW_TIME, ()),\n",
    "    \"P5\": (feature_factory.EVENT_SYNCHRONIZATION_TIME, ()),\n",
    "    # \"P6\": (feature_factory.EVENT_SOJOURN_TIME, ()),\n",
    "    \n",
    "    # \"P7\": (feature_factory.EVENT_POOLING_TIME, ()), # error\n",
    "    # \"P8\": (feature_factory.EVENT_LAGGING_TIME, ()), # error\n",
    "    # \"P9\": (feature_factory.EVENT_SERVICE_TIME, ()), # error\n",
    "    # \"P10\": (feature_factory.EVENT_WAITING_TIME, ()), # error\n",
    "    \n",
    "    # \"O3\": (feature_factory.EVENT_PREVIOUS_TYPE_COUNT, (\"krv\",)),\n",
    "    \"O3\": (feature_factory.EVENT_PREVIOUS_TYPE_COUNT, (\"krs\",)),\n",
    "    # \"O3\": (feature_factory.EVENT_PREVIOUS_TYPE_COUNT, (\"cv\",)),\n",
    "}"
   ]
  },
  {
   "cell_type": "code",
   "execution_count": 4,
   "metadata": {},
   "outputs": [],
   "source": [
    "ocel = ocel_import_factory.apply(ocel_in_file)"
   ]
  },
  {
   "cell_type": "code",
   "execution_count": 5,
   "metadata": {},
   "outputs": [
    {
     "name": "stdout",
     "output_type": "stream",
     "text": [
      "Applying feature extraction to process executions\n"
     ]
    },
    {
     "name": "stderr",
     "output_type": "stream",
     "text": [
      "100%|██████████| 301667/301667 [07:42<00:00, 652.87it/s]  \n"
     ]
    }
   ],
   "source": [
    "feature_storage = feature_factory.apply(\n",
    "    ocel,\n",
    "    event_based_features=list(event_level_features.values()),\n",
    "    event_attributes=[f\"event_{ea}\" for ea in event_attributes],\n",
    ")  # takes much too long resource (ot2) is an object type"
   ]
  },
  {
   "cell_type": "code",
   "execution_count": 6,
   "metadata": {},
   "outputs": [],
   "source": [
    "feature_storage.extract_normalized_train_test_split(\n",
    "    test_size=0.2,\n",
    "    validation_size=0.2,\n",
    "    state=42,\n",
    ")"
   ]
  },
  {
   "cell_type": "code",
   "execution_count": 7,
   "metadata": {},
   "outputs": [],
   "source": [
    "with open(feature_storage_out_file, \"wb\") as bin:\n",
    "    pickle.dump(feature_storage, bin)"
   ]
  },
  {
   "cell_type": "code",
   "execution_count": 8,
   "metadata": {},
   "outputs": [],
   "source": [
    "eft = tabular.construct_table(feature_storage)"
   ]
  },
  {
   "cell_type": "code",
   "execution_count": 9,
   "metadata": {},
   "outputs": [],
   "source": [
    "# rename columns that contain JSON special characters (as they are not supported by LightGBM)\n",
    "eft = eft.rename(columns=lambda col_name: re.sub(\"[^A-Za-z0-9_]+\", \"\", str(col_name)))\n",
    "eft.to_csv(eft_out_file, sep=\";\", index=False)"
   ]
  },
  {
   "cell_type": "code",
   "execution_count": null,
   "metadata": {},
   "outputs": [],
   "source": []
  }
 ],
 "metadata": {
  "kernelspec": {
   "display_name": ".env",
   "language": "python",
   "name": "python3"
  },
  "language_info": {
   "codemirror_mode": {
    "name": "ipython",
    "version": 3
   },
   "file_extension": ".py",
   "mimetype": "text/x-python",
   "name": "python",
   "nbconvert_exporter": "python",
   "pygments_lexer": "ipython3",
   "version": "3.9.17"
  },
  "orig_nbformat": 4
 },
 "nbformat": 4,
 "nbformat_minor": 2
}
