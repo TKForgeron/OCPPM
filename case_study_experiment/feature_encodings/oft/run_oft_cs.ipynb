{
 "cells": [
  {
   "cell_type": "code",
   "execution_count": 1,
   "metadata": {},
   "outputs": [],
   "source": [
    "from catboost import CatBoostClassifier, Pool\n",
    "import lightgbm as lgb\n",
    "import numpy as np\n",
    "import pandas as pd\n",
    "import sklearn.metrics as metrics\n",
    "from sklearn.model_selection import train_test_split"
   ]
  },
  {
   "cell_type": "code",
   "execution_count": 2,
   "metadata": {},
   "outputs": [],
   "source": [
    "oft_out_file = \"../../../data/CS/feature_encodings/OFT/objects.csv\""
   ]
  },
  {
   "cell_type": "code",
   "execution_count": 37,
   "metadata": {},
   "outputs": [],
   "source": [
    "df_objects = pd.read_csv(oft_out_file)\n",
    "df_objects = df_objects.set_index('ocel:oid')\n",
    "df_objects['ocel:type'] = df_objects['ocel:type'].astype('category')\n",
    "df_objects['oa10'] = df_objects['oa10'].astype('category')"
   ]
  },
  {
   "cell_type": "code",
   "execution_count": 36,
   "metadata": {},
   "outputs": [],
   "source": []
  },
  {
   "cell_type": "code",
   "execution_count": 38,
   "metadata": {},
   "outputs": [
    {
     "data": {
      "text/html": [
       "<div>\n",
       "<style scoped>\n",
       "    .dataframe tbody tr th:only-of-type {\n",
       "        vertical-align: middle;\n",
       "    }\n",
       "\n",
       "    .dataframe tbody tr th {\n",
       "        vertical-align: top;\n",
       "    }\n",
       "\n",
       "    .dataframe thead th {\n",
       "        text-align: right;\n",
       "    }\n",
       "</style>\n",
       "<table border=\"1\" class=\"dataframe\">\n",
       "  <thead>\n",
       "    <tr style=\"text-align: right;\">\n",
       "      <th></th>\n",
       "      <th>ocel:type</th>\n",
       "      <th>oa1</th>\n",
       "      <th>oa5</th>\n",
       "      <th>oa10</th>\n",
       "    </tr>\n",
       "    <tr>\n",
       "      <th>ocel:oid</th>\n",
       "      <th></th>\n",
       "      <th></th>\n",
       "      <th></th>\n",
       "      <th></th>\n",
       "    </tr>\n",
       "  </thead>\n",
       "  <tbody>\n",
       "    <tr>\n",
       "      <th>KRS-197859</th>\n",
       "      <td>krs</td>\n",
       "      <td>-1.129970</td>\n",
       "      <td>-0.090177</td>\n",
       "      <td>Midden- en kleinbedrijf 2</td>\n",
       "    </tr>\n",
       "    <tr>\n",
       "      <th>KRS-344127</th>\n",
       "      <td>krs</td>\n",
       "      <td>0.368881</td>\n",
       "      <td>-1.002100</td>\n",
       "      <td>Midden- en kleinbedrijf 2</td>\n",
       "    </tr>\n",
       "    <tr>\n",
       "      <th>KRS-9763017</th>\n",
       "      <td>krs</td>\n",
       "      <td>0.368881</td>\n",
       "      <td>-0.481001</td>\n",
       "      <td>Midden- en kleinbedrijf 1</td>\n",
       "    </tr>\n",
       "    <tr>\n",
       "      <th>KRS-1011207</th>\n",
       "      <td>krs</td>\n",
       "      <td>1.867732</td>\n",
       "      <td>-0.481001</td>\n",
       "      <td>Midden- en kleinbedrijf 2</td>\n",
       "    </tr>\n",
       "    <tr>\n",
       "      <th>KRS-3890065</th>\n",
       "      <td>krs</td>\n",
       "      <td>1.867732</td>\n",
       "      <td>-0.090177</td>\n",
       "      <td>Midden- en kleinbedrijf 2</td>\n",
       "    </tr>\n",
       "    <tr>\n",
       "      <th>...</th>\n",
       "      <td>...</td>\n",
       "      <td>...</td>\n",
       "      <td>...</td>\n",
       "      <td>...</td>\n",
       "    </tr>\n",
       "    <tr>\n",
       "      <th>KRV-9749381</th>\n",
       "      <td>krv</td>\n",
       "      <td>0.368881</td>\n",
       "      <td>-0.350727</td>\n",
       "      <td>Midden- en kleinbedrijf 2</td>\n",
       "    </tr>\n",
       "    <tr>\n",
       "      <th>KRS-9549051</th>\n",
       "      <td>krs</td>\n",
       "      <td>0.368881</td>\n",
       "      <td>-0.090177</td>\n",
       "      <td>Midden- en kleinbedrijf 2</td>\n",
       "    </tr>\n",
       "    <tr>\n",
       "      <th>KRV-5150118</th>\n",
       "      <td>krv</td>\n",
       "      <td>0.368881</td>\n",
       "      <td>-0.090177</td>\n",
       "      <td>Midden- en kleinbedrijf 2</td>\n",
       "    </tr>\n",
       "    <tr>\n",
       "      <th>KRV-8949856</th>\n",
       "      <td>krv</td>\n",
       "      <td>0.368881</td>\n",
       "      <td>-0.611276</td>\n",
       "      <td>Grootzakelijk</td>\n",
       "    </tr>\n",
       "    <tr>\n",
       "      <th>KRV-1289834</th>\n",
       "      <td>krv</td>\n",
       "      <td>0.368881</td>\n",
       "      <td>-0.481001</td>\n",
       "      <td>Grootzakelijk</td>\n",
       "    </tr>\n",
       "  </tbody>\n",
       "</table>\n",
       "<p>104852 rows × 4 columns</p>\n",
       "</div>"
      ],
      "text/plain": [
       "            ocel:type       oa1       oa5                       oa10\n",
       "ocel:oid                                                            \n",
       "KRS-197859        krs -1.129970 -0.090177  Midden- en kleinbedrijf 2\n",
       "KRS-344127        krs  0.368881 -1.002100  Midden- en kleinbedrijf 2\n",
       "KRS-9763017       krs  0.368881 -0.481001  Midden- en kleinbedrijf 1\n",
       "KRS-1011207       krs  1.867732 -0.481001  Midden- en kleinbedrijf 2\n",
       "KRS-3890065       krs  1.867732 -0.090177  Midden- en kleinbedrijf 2\n",
       "...               ...       ...       ...                        ...\n",
       "KRV-9749381       krv  0.368881 -0.350727  Midden- en kleinbedrijf 2\n",
       "KRS-9549051       krs  0.368881 -0.090177  Midden- en kleinbedrijf 2\n",
       "KRV-5150118       krv  0.368881 -0.090177  Midden- en kleinbedrijf 2\n",
       "KRV-8949856       krv  0.368881 -0.611276              Grootzakelijk\n",
       "KRV-1289834       krv  0.368881 -0.481001              Grootzakelijk\n",
       "\n",
       "[104852 rows x 4 columns]"
      ]
     },
     "execution_count": 38,
     "metadata": {},
     "output_type": "execute_result"
    }
   ],
   "source": [
    "# LightGBM\n",
    "feature_names = {\"cat\": [\"oa10\"], \"num\": [\"oa1\", \"oa5\"]}\n",
    "flatten = lambda l: [item for sublist in l for item in sublist]\n",
    "df_objects"
   ]
  },
  {
   "cell_type": "code",
   "execution_count": 40,
   "metadata": {},
   "outputs": [],
   "source": [
    "# make train test split\n",
    "X, y = (\n",
    "    df_objects.drop([\"ocel:type\"], axis=1),\n",
    "    df_objects.loc[:, \"ocel:type\"].replace({\"krs\": 0, \"krv\": 1, \"cv\": 2}),\n",
    ")\n",
    "X_train, X_valid, y_train, y_valid = train_test_split(\n",
    "    X, y, test_size=0.2, random_state=0\n",
    ")\n",
    "\n",
    "train_data = lgb.Dataset(\n",
    "    X_train,\n",
    "    label=y_train,\n",
    "    feature_name=flatten(feature_names.values()),\n",
    "    categorical_feature=feature_names[\"cat\"],\n",
    ")\n",
    "valid_data = lgb.Dataset(\n",
    "    X_valid,\n",
    "    label=y_valid,\n",
    "    feature_name=flatten(feature_names.values()),\n",
    "    categorical_feature=feature_names[\"cat\"],\n",
    ")"
   ]
  },
  {
   "cell_type": "code",
   "execution_count": 41,
   "metadata": {},
   "outputs": [
    {
     "name": "stdout",
     "output_type": "stream",
     "text": [
      "[LightGBM] [Warning] Met negative value in categorical features, will convert it to NaN\n"
     ]
    },
    {
     "ename": "ValueError",
     "evalue": "Series.dtypes must be int, float or bool",
     "output_type": "error",
     "traceback": [
      "\u001b[0;31m---------------------------------------------------------------------------\u001b[0m",
      "\u001b[0;31mValueError\u001b[0m                                Traceback (most recent call last)",
      "Cell \u001b[0;32mIn[41], line 6\u001b[0m\n\u001b[1;32m      1\u001b[0m params \u001b[39m=\u001b[39m {\n\u001b[1;32m      2\u001b[0m     \u001b[39m\"\u001b[39m\u001b[39mobjective\u001b[39m\u001b[39m\"\u001b[39m: \u001b[39m\"\u001b[39m\u001b[39mmulticlass\u001b[39m\u001b[39m\"\u001b[39m,\n\u001b[1;32m      3\u001b[0m     \u001b[39m\"\u001b[39m\u001b[39mnum_class\u001b[39m\u001b[39m\"\u001b[39m: \u001b[39m3\u001b[39m,\n\u001b[1;32m      4\u001b[0m     \u001b[39m\"\u001b[39m\u001b[39mmetric\u001b[39m\u001b[39m\"\u001b[39m: [\u001b[39m\"\u001b[39m\u001b[39mmulti_logloss\u001b[39m\u001b[39m\"\u001b[39m],\n\u001b[1;32m      5\u001b[0m }\n\u001b[0;32m----> 6\u001b[0m bst \u001b[39m=\u001b[39m lgb\u001b[39m.\u001b[39;49mtrain(\n\u001b[1;32m      7\u001b[0m     params,\n\u001b[1;32m      8\u001b[0m     train_data,\n\u001b[1;32m      9\u001b[0m     categorical_feature\u001b[39m=\u001b[39;49mfeature_names[\u001b[39m'\u001b[39;49m\u001b[39mcat\u001b[39;49m\u001b[39m'\u001b[39;49m],\n\u001b[1;32m     10\u001b[0m     \u001b[39m# num_boost_round=5000,\u001b[39;49;00m\n\u001b[1;32m     11\u001b[0m     valid_sets\u001b[39m=\u001b[39;49m[valid_data],\n\u001b[1;32m     12\u001b[0m     \u001b[39m# callbacks=[lgb.early_stopping(50)],\u001b[39;49;00m\n\u001b[1;32m     13\u001b[0m )\n",
      "File \u001b[0;32m~/Development/OCPPM/.env/lib/python3.9/site-packages/lightgbm/engine.py:271\u001b[0m, in \u001b[0;36mtrain\u001b[0;34m(params, train_set, num_boost_round, valid_sets, valid_names, fobj, feval, init_model, feature_name, categorical_feature, early_stopping_rounds, evals_result, verbose_eval, learning_rates, keep_training_booster, callbacks)\u001b[0m\n\u001b[1;32m    269\u001b[0m \u001b[39m# construct booster\u001b[39;00m\n\u001b[1;32m    270\u001b[0m \u001b[39mtry\u001b[39;00m:\n\u001b[0;32m--> 271\u001b[0m     booster \u001b[39m=\u001b[39m Booster(params\u001b[39m=\u001b[39;49mparams, train_set\u001b[39m=\u001b[39;49mtrain_set)\n\u001b[1;32m    272\u001b[0m     \u001b[39mif\u001b[39;00m is_valid_contain_train:\n\u001b[1;32m    273\u001b[0m         booster\u001b[39m.\u001b[39mset_train_data_name(train_data_name)\n",
      "File \u001b[0;32m~/Development/OCPPM/.env/lib/python3.9/site-packages/lightgbm/basic.py:2605\u001b[0m, in \u001b[0;36mBooster.__init__\u001b[0;34m(self, params, train_set, model_file, model_str, silent)\u001b[0m\n\u001b[1;32m   2598\u001b[0m     \u001b[39mself\u001b[39m\u001b[39m.\u001b[39mset_network(\n\u001b[1;32m   2599\u001b[0m         machines\u001b[39m=\u001b[39mmachines,\n\u001b[1;32m   2600\u001b[0m         local_listen_port\u001b[39m=\u001b[39mparams[\u001b[39m\"\u001b[39m\u001b[39mlocal_listen_port\u001b[39m\u001b[39m\"\u001b[39m],\n\u001b[1;32m   2601\u001b[0m         listen_time_out\u001b[39m=\u001b[39mparams\u001b[39m.\u001b[39mget(\u001b[39m\"\u001b[39m\u001b[39mtime_out\u001b[39m\u001b[39m\"\u001b[39m, \u001b[39m120\u001b[39m),\n\u001b[1;32m   2602\u001b[0m         num_machines\u001b[39m=\u001b[39mparams[\u001b[39m\"\u001b[39m\u001b[39mnum_machines\u001b[39m\u001b[39m\"\u001b[39m]\n\u001b[1;32m   2603\u001b[0m     )\n\u001b[1;32m   2604\u001b[0m \u001b[39m# construct booster object\u001b[39;00m\n\u001b[0;32m-> 2605\u001b[0m train_set\u001b[39m.\u001b[39;49mconstruct()\n\u001b[1;32m   2606\u001b[0m \u001b[39m# copy the parameters from train_set\u001b[39;00m\n\u001b[1;32m   2607\u001b[0m params\u001b[39m.\u001b[39mupdate(train_set\u001b[39m.\u001b[39mget_params())\n",
      "File \u001b[0;32m~/Development/OCPPM/.env/lib/python3.9/site-packages/lightgbm/basic.py:1815\u001b[0m, in \u001b[0;36mDataset.construct\u001b[0;34m(self)\u001b[0m\n\u001b[1;32m   1812\u001b[0m             \u001b[39mself\u001b[39m\u001b[39m.\u001b[39m_set_init_score_by_predictor(\u001b[39mself\u001b[39m\u001b[39m.\u001b[39m_predictor, \u001b[39mself\u001b[39m\u001b[39m.\u001b[39mdata, used_indices)\n\u001b[1;32m   1813\u001b[0m \u001b[39melse\u001b[39;00m:\n\u001b[1;32m   1814\u001b[0m     \u001b[39m# create train\u001b[39;00m\n\u001b[0;32m-> 1815\u001b[0m     \u001b[39mself\u001b[39;49m\u001b[39m.\u001b[39;49m_lazy_init(\u001b[39mself\u001b[39;49m\u001b[39m.\u001b[39;49mdata, label\u001b[39m=\u001b[39;49m\u001b[39mself\u001b[39;49m\u001b[39m.\u001b[39;49mlabel,\n\u001b[1;32m   1816\u001b[0m                     weight\u001b[39m=\u001b[39;49m\u001b[39mself\u001b[39;49m\u001b[39m.\u001b[39;49mweight, group\u001b[39m=\u001b[39;49m\u001b[39mself\u001b[39;49m\u001b[39m.\u001b[39;49mgroup,\n\u001b[1;32m   1817\u001b[0m                     init_score\u001b[39m=\u001b[39;49m\u001b[39mself\u001b[39;49m\u001b[39m.\u001b[39;49minit_score, predictor\u001b[39m=\u001b[39;49m\u001b[39mself\u001b[39;49m\u001b[39m.\u001b[39;49m_predictor,\n\u001b[1;32m   1818\u001b[0m                     silent\u001b[39m=\u001b[39;49m\u001b[39mself\u001b[39;49m\u001b[39m.\u001b[39;49msilent, feature_name\u001b[39m=\u001b[39;49m\u001b[39mself\u001b[39;49m\u001b[39m.\u001b[39;49mfeature_name,\n\u001b[1;32m   1819\u001b[0m                     categorical_feature\u001b[39m=\u001b[39;49m\u001b[39mself\u001b[39;49m\u001b[39m.\u001b[39;49mcategorical_feature, params\u001b[39m=\u001b[39;49m\u001b[39mself\u001b[39;49m\u001b[39m.\u001b[39;49mparams)\n\u001b[1;32m   1820\u001b[0m \u001b[39mif\u001b[39;00m \u001b[39mself\u001b[39m\u001b[39m.\u001b[39mfree_raw_data:\n\u001b[1;32m   1821\u001b[0m     \u001b[39mself\u001b[39m\u001b[39m.\u001b[39mdata \u001b[39m=\u001b[39m \u001b[39mNone\u001b[39;00m\n",
      "File \u001b[0;32m~/Development/OCPPM/.env/lib/python3.9/site-packages/lightgbm/basic.py:1557\u001b[0m, in \u001b[0;36mDataset._lazy_init\u001b[0;34m(self, data, label, reference, weight, group, init_score, predictor, silent, feature_name, categorical_feature, params)\u001b[0m\n\u001b[1;32m   1555\u001b[0m         \u001b[39mraise\u001b[39;00m \u001b[39mTypeError\u001b[39;00m(\u001b[39mf\u001b[39m\u001b[39m'\u001b[39m\u001b[39mCannot initialize Dataset from \u001b[39m\u001b[39m{\u001b[39;00m\u001b[39mtype\u001b[39m(data)\u001b[39m.\u001b[39m\u001b[39m__name__\u001b[39m\u001b[39m}\u001b[39;00m\u001b[39m'\u001b[39m)\n\u001b[1;32m   1556\u001b[0m \u001b[39mif\u001b[39;00m label \u001b[39mis\u001b[39;00m \u001b[39mnot\u001b[39;00m \u001b[39mNone\u001b[39;00m:\n\u001b[0;32m-> 1557\u001b[0m     \u001b[39mself\u001b[39;49m\u001b[39m.\u001b[39;49mset_label(label)\n\u001b[1;32m   1558\u001b[0m \u001b[39mif\u001b[39;00m \u001b[39mself\u001b[39m\u001b[39m.\u001b[39mget_label() \u001b[39mis\u001b[39;00m \u001b[39mNone\u001b[39;00m:\n\u001b[1;32m   1559\u001b[0m     \u001b[39mraise\u001b[39;00m \u001b[39mValueError\u001b[39;00m(\u001b[39m\"\u001b[39m\u001b[39mLabel should not be None\u001b[39m\u001b[39m\"\u001b[39m)\n",
      "File \u001b[0;32m~/Development/OCPPM/.env/lib/python3.9/site-packages/lightgbm/basic.py:2163\u001b[0m, in \u001b[0;36mDataset.set_label\u001b[0;34m(self, label)\u001b[0m\n\u001b[1;32m   2161\u001b[0m \u001b[39mself\u001b[39m\u001b[39m.\u001b[39mlabel \u001b[39m=\u001b[39m label\n\u001b[1;32m   2162\u001b[0m \u001b[39mif\u001b[39;00m \u001b[39mself\u001b[39m\u001b[39m.\u001b[39mhandle \u001b[39mis\u001b[39;00m \u001b[39mnot\u001b[39;00m \u001b[39mNone\u001b[39;00m:\n\u001b[0;32m-> 2163\u001b[0m     label \u001b[39m=\u001b[39m list_to_1d_numpy(_label_from_pandas(label), name\u001b[39m=\u001b[39;49m\u001b[39m'\u001b[39;49m\u001b[39mlabel\u001b[39;49m\u001b[39m'\u001b[39;49m)\n\u001b[1;32m   2164\u001b[0m     \u001b[39mself\u001b[39m\u001b[39m.\u001b[39mset_field(\u001b[39m'\u001b[39m\u001b[39mlabel\u001b[39m\u001b[39m'\u001b[39m, label)\n\u001b[1;32m   2165\u001b[0m     \u001b[39mself\u001b[39m\u001b[39m.\u001b[39mlabel \u001b[39m=\u001b[39m \u001b[39mself\u001b[39m\u001b[39m.\u001b[39mget_field(\u001b[39m'\u001b[39m\u001b[39mlabel\u001b[39m\u001b[39m'\u001b[39m)  \u001b[39m# original values can be modified at cpp side\u001b[39;00m\n",
      "File \u001b[0;32m~/Development/OCPPM/.env/lib/python3.9/site-packages/lightgbm/basic.py:186\u001b[0m, in \u001b[0;36mlist_to_1d_numpy\u001b[0;34m(data, dtype, name)\u001b[0m\n\u001b[1;32m    184\u001b[0m \u001b[39melif\u001b[39;00m \u001b[39misinstance\u001b[39m(data, pd_Series):\n\u001b[1;32m    185\u001b[0m     \u001b[39mif\u001b[39;00m _get_bad_pandas_dtypes([data\u001b[39m.\u001b[39mdtypes]):\n\u001b[0;32m--> 186\u001b[0m         \u001b[39mraise\u001b[39;00m \u001b[39mValueError\u001b[39;00m(\u001b[39m'\u001b[39m\u001b[39mSeries.dtypes must be int, float or bool\u001b[39m\u001b[39m'\u001b[39m)\n\u001b[1;32m    187\u001b[0m     \u001b[39mreturn\u001b[39;00m np\u001b[39m.\u001b[39marray(data, dtype\u001b[39m=\u001b[39mdtype, copy\u001b[39m=\u001b[39m\u001b[39mFalse\u001b[39;00m)  \u001b[39m# SparseArray should be supported as well\u001b[39;00m\n\u001b[1;32m    188\u001b[0m \u001b[39melse\u001b[39;00m:\n",
      "\u001b[0;31mValueError\u001b[0m: Series.dtypes must be int, float or bool"
     ]
    }
   ],
   "source": [
    "params = {\n",
    "    \"objective\": \"multiclass\",\n",
    "    \"num_class\": 3,\n",
    "    \"metric\": [\"multi_logloss\"],\n",
    "}\n",
    "bst = lgb.train(\n",
    "    params,\n",
    "    train_data,\n",
    "    categorical_feature=feature_names['cat'],\n",
    "    # num_boost_round=5000,\n",
    "    valid_sets=[valid_data],\n",
    "    # callbacks=[lgb.early_stopping(50)],\n",
    ")"
   ]
  },
  {
   "cell_type": "code",
   "execution_count": 19,
   "metadata": {},
   "outputs": [],
   "source": [
    "def get_predictions(lst):\n",
    "    return max(range(len(lst)), key=lst.__getitem__)\n",
    "\n",
    "y_train_preds = bst.predict(X_train)\n",
    "y_valid_preds = bst.predict(X_valid)\n",
    "y_train_preds = np.apply_along_axis(get_predictions, axis=1, arr=y_train_preds)\n",
    "y_valid_preds = np.apply_along_axis(get_predictions, axis=1, arr=y_valid_preds)"
   ]
  },
  {
   "cell_type": "code",
   "execution_count": 20,
   "metadata": {},
   "outputs": [
    {
     "name": "stdout",
     "output_type": "stream",
     "text": [
      "Training accuracy: 0.5999809253585436\n",
      "Validation accuracy: 0.6005436078393973\n"
     ]
    }
   ],
   "source": [
    "\n",
    "train_mse_loss = metrics.accuracy_score(y_train, y_train_preds)\n",
    "valid_mse_loss = metrics.accuracy_score(y_valid, y_valid_preds)\n",
    "\n",
    "print(f\"Training accuracy: {train_mse_loss}\")\n",
    "print(f\"Validation accuracy: {valid_mse_loss}\")"
   ]
  },
  {
   "cell_type": "code",
   "execution_count": 21,
   "metadata": {},
   "outputs": [
    {
     "data": {
      "text/plain": [
       "array([[10731,  1480,     0],\n",
       "       [ 6461,  1863,     0],\n",
       "       [  304,   132,     0]])"
      ]
     },
     "execution_count": 21,
     "metadata": {},
     "output_type": "execute_result"
    }
   ],
   "source": [
    "metrics.confusion_matrix(y_valid,y_valid_preds)"
   ]
  },
  {
   "cell_type": "code",
   "execution_count": 26,
   "metadata": {},
   "outputs": [
    {
     "data": {
      "text/plain": [
       "Particulieren                 50007\n",
       "Midden- en kleinbedrijf 2     31013\n",
       "Grootzakelijk                  8727\n",
       "Midden- en kleinbedrijf 1      6364\n",
       "Private Banking 2              3622\n",
       "Private Banking 1              2791\n",
       "Grootzakelijk Grootbedrijf      761\n",
       "Bijzonder Beheer Bedrijven       72\n",
       "Name: oa10, dtype: int64"
      ]
     },
     "execution_count": 26,
     "metadata": {},
     "output_type": "execute_result"
    }
   ],
   "source": [
    "df_objects['oa10'].value_counts()"
   ]
  }
 ],
 "metadata": {
  "kernelspec": {
   "display_name": ".env",
   "language": "python",
   "name": "python3"
  },
  "language_info": {
   "codemirror_mode": {
    "name": "ipython",
    "version": 3
   },
   "file_extension": ".py",
   "mimetype": "text/x-python",
   "name": "python",
   "nbconvert_exporter": "python",
   "pygments_lexer": "ipython3",
   "version": "3.9.17"
  },
  "orig_nbformat": 4
 },
 "nbformat": 4,
 "nbformat_minor": 2
}
