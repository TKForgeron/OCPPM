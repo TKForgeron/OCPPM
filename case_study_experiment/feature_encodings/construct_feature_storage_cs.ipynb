{
 "cells": [
  {
   "cell_type": "code",
   "execution_count": null,
   "metadata": {},
   "outputs": [],
   "source": [
    "from typing import Any, Callable\n",
    "import pickle\n",
    "import re\n",
    "import string\n",
    "from sklearn.preprocessing import StandardScaler\n",
    "\n",
    "# Object centric process mining\n",
    "import ocpa.objects.log.importer.ocel.factory as ocel_import_factory\n",
    "from ocpa.algo.predictive_monitoring.obj import Feature_Storage\n",
    "from ocpa.objects.log.ocel import OCEL\n",
    "import ocpa.algo.predictive_monitoring.factory as feature_factory\n",
    "from ocpa.algo.predictive_monitoring import tabular\n",
    "import ocpa.objects.log.importer.csv.factory as csv_import_factory"
   ]
  },
  {
   "cell_type": "code",
   "execution_count": null,
   "metadata": {},
   "outputs": [],
   "source": [
    "ocel_in_file = \"../../data/CS/source/cs_january_ots[krs_krv_cv]_eas[ea2_ea4_resource_ce_resource_multi].jsonocel\"\n",
    "event_attributes = [\"ea2\", \"ea4\", \"resource_ce\", \"resource_multi\"]\n",
    "feature_storage_intermediate_file = \"../../data/CS/feature_encodings/EFG/efg/raw/CS_[P2_P3_O3_ea2_ea4_resource_robot_person_multi].fs\"\n",
    "feature_storage_out_file = \"../../data/CS/feature_encodings/EFG/efg/raw/CS_split_[P2_P3_O3_ea2_ea4_resource_robot_person_multi].fs\""
   ]
  },
  {
   "cell_type": "code",
   "execution_count": null,
   "metadata": {},
   "outputs": [],
   "source": [
    "ocel = ocel_import_factory.apply(ocel_in_file)"
   ]
  },
  {
   "cell_type": "code",
   "execution_count": null,
   "metadata": {},
   "outputs": [],
   "source": [
    "all_acts = ocel.log.log[\"event_activity\"].value_counts(normalize=True) * 100\n",
    "most_occuring_acts = all_acts[all_acts > 1].index\n",
    "event_level_features = {\n",
    "    f\"C2{char}\": (feature_factory.EVENT_PRECEDING_ACTIVITIES, (act,))\n",
    "    for act, char in zip(most_occuring_acts, string.ascii_lowercase)\n",
    "} | {\n",
    "    \"P2\": (feature_factory.EVENT_ELAPSED_TIME, ()),\n",
    "    # \"P3\": (feature_factory.EVENT_REMAINING_TIME, ()), # only use for target (but we use 'ea4' now)\n",
    "    # \"P4\": (feature_factory.EVENT_FLOW_TIME, ()),\n",
    "    \"P5\": (feature_factory.EVENT_SYNCHRONIZATION_TIME, ()),\n",
    "    # \"P6\": (feature_factory.EVENT_SOJOURN_TIME, ()),\n",
    "    \"O3a\": (feature_factory.EVENT_PREVIOUS_TYPE_COUNT, (\"krs\",)),\n",
    "    \"O3b\": (feature_factory.EVENT_PREVIOUS_TYPE_COUNT, (\"krv\",)),\n",
    "    \"O3c\": (feature_factory.EVENT_PREVIOUS_TYPE_COUNT, (\"cv\",)),\n",
    "}"
   ]
  },
  {
   "cell_type": "code",
   "execution_count": null,
   "metadata": {},
   "outputs": [],
   "source": [
    "feature_storage = feature_factory.apply(\n",
    "    ocel,\n",
    "    event_based_features=list(event_level_features.values()),\n",
    "    event_attributes=[f\"event_{ea}\" for ea in event_attributes],\n",
    "    # workers=2\n",
    ")  # takes much too long when resource (ot2) is an object type"
   ]
  },
  {
   "cell_type": "code",
   "execution_count": null,
   "metadata": {},
   "outputs": [],
   "source": [
    "with open(feature_storage_intermediate_file, \"wb\") as bin:\n",
    "    pickle.dump(feature_storage, bin)"
   ]
  },
  {
   "cell_type": "code",
   "execution_count": null,
   "metadata": {},
   "outputs": [],
   "source": [
    "feature_storage.extract_normalized_train_test_split(\n",
    "    scaler=StandardScaler,\n",
    "    scaling_exempt_features=[\"event_ea4\"],\n",
    "    test_size=0.3,\n",
    "    validation_size=0.2,\n",
    "    state=42,\n",
    ")"
   ]
  },
  {
   "cell_type": "code",
   "execution_count": null,
   "metadata": {},
   "outputs": [],
   "source": [
    "with open(feature_storage_out_file, \"wb\") as bin:\n",
    "    pickle.dump(feature_storage, bin)"
   ]
  }
 ],
 "metadata": {
  "kernelspec": {
   "display_name": ".env",
   "language": "python",
   "name": "python3"
  },
  "language_info": {
   "codemirror_mode": {
    "name": "ipython",
    "version": 3
   },
   "file_extension": ".py",
   "mimetype": "text/x-python",
   "name": "python",
   "nbconvert_exporter": "python",
   "pygments_lexer": "ipython3",
   "version": "3.9.17"
  },
  "orig_nbformat": 4
 },
 "nbformat": 4,
 "nbformat_minor": 2
}
