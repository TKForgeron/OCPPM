{
  "cells": [
    {
      "cell_type": "code",
      "execution_count": 1,
      "metadata": {},
      "outputs": [
        {
          "name": "stderr",
          "output_type": "stream",
          "text": [
            "/home/tim/Development/OCPPM/.env/lib/python3.9/site-packages/tqdm/auto.py:21: TqdmWarning: IProgress not found. Please update jupyter and ipywidgets. See https://ipywidgets.readthedocs.io/en/stable/user_install.html\n",
            "  from .autonotebook import tqdm as notebook_tqdm\n"
          ]
        }
      ],
      "source": [
        "import pickle\n",
        "import logging\n",
        "import pickle\n",
        "import random\n",
        "from copy import copy\n",
        "from typing import Any, Callable, Optional\n",
        "\n",
        "import matplotlib.pyplot as plt\n",
        "import networkx as nx\n",
        "import numpy as np\n",
        "import pandas as pd\n",
        "import pm4py\n",
        "import pm4py.ocel\n",
        "import torch\n",
        "import torch_geometric as tg\n",
        "import torch_geometric.utils as utils\n",
        "from pm4py.algo.transformation.ocel.features.objects import (\n",
        "    algorithm as object_feature_factory,\n",
        ")\n",
        "from torch import Tensor\n",
        "from torch_geometric.data import HeteroData\n",
        "from torch_geometric.datasets import FakeHeteroDataset\n",
        "from torch_geometric.typing import (\n",
        "    DEFAULT_REL,\n",
        "    EdgeTensorType,\n",
        "    EdgeType,\n",
        "    FeatureTensorType,\n",
        "    NodeType,\n",
        "    QueryType,\n",
        "    SparseTensor,\n",
        ")\n"
      ]
    },
    {
      "cell_type": "code",
      "execution_count": 2,
      "metadata": {},
      "outputs": [],
      "source": [
        "with open('../data/BPI17/feature_encodings/BPI17_OFG.pkl', 'rb') as hetero_data_pkl:\n",
        "    hetero_data = pickle.load(hetero_data_pkl)"
      ]
    },
    {
      "cell_type": "code",
      "execution_count": null,
      "metadata": {},
      "outputs": [],
      "source": []
    },
    {
      "cell_type": "code",
      "execution_count": 3,
      "metadata": {},
      "outputs": [
        {
          "data": {
            "text/plain": [
              "{}"
            ]
          },
          "execution_count": 3,
          "metadata": {},
          "output_type": "execute_result"
        }
      ],
      "source": [
        "hetero_data[\"application\", \"interacts with\", \"offer\"]"
      ]
    },
    {
      "cell_type": "code",
      "execution_count": 4,
      "metadata": {},
      "outputs": [
        {
          "ename": "NameError",
          "evalue": "name 'graph' is not defined",
          "output_type": "error",
          "traceback": [
            "\u001b[0;31m---------------------------------------------------------------------------\u001b[0m",
            "\u001b[0;31mNameError\u001b[0m                                 Traceback (most recent call last)",
            "Cell \u001b[0;32mIn[4], line 2\u001b[0m\n\u001b[1;32m      1\u001b[0m G \u001b[39m=\u001b[39m nx\u001b[39m.\u001b[39mGraph()\n\u001b[0;32m----> 2\u001b[0m G\u001b[39m.\u001b[39madd_edges_from(graph)\n\u001b[1;32m      3\u001b[0m some_graph \u001b[39m=\u001b[39m {x \u001b[39mfor\u001b[39;00m x \u001b[39min\u001b[39;00m graph \u001b[39mif\u001b[39;00m \u001b[39m\"\u001b[39m\u001b[39mApplication_2114646933\u001b[39m\u001b[39m\"\u001b[39m \u001b[39min\u001b[39;00m x}\n\u001b[1;32m      4\u001b[0m sorted_cc \u001b[39m=\u001b[39m \u001b[39msorted\u001b[39m(\u001b[39mlist\u001b[39m(nx\u001b[39m.\u001b[39mconnected_components(G)), key\u001b[39m=\u001b[39m\u001b[39mlen\u001b[39m, reverse\u001b[39m=\u001b[39m\u001b[39mTrue\u001b[39;00m)\n",
            "\u001b[0;31mNameError\u001b[0m: name 'graph' is not defined"
          ]
        }
      ],
      "source": [
        "G = nx.Graph()\n",
        "G.add_edges_from(graph)\n",
        "some_graph = {x for x in graph if \"Application_2114646933\" in x}\n",
        "sorted_cc = sorted(list(nx.connected_components(G)), key=len, reverse=True)\n",
        "sg = G.subgraph(sorted_cc[4])\n",
        "# sg = nx.Graph()\n",
        "# sg.add_edges_from(some_graph_adjacency)\n",
        "nx.draw(sg, with_labels=True)\n",
        "plt.savefig(\"../../tests/objects_interaction_graph.png\")"
      ]
    },
    {
      "cell_type": "code",
      "execution_count": 5,
      "metadata": {},
      "outputs": [
        {
          "data": {
            "text/plain": [
              "HeteroData(\n",
              "  \u001b[1mpaper\u001b[0m={\n",
              "    x=[736389, 128],\n",
              "    year=[736389],\n",
              "    y=[736389],\n",
              "    train_mask=[736389],\n",
              "    val_mask=[736389],\n",
              "    test_mask=[736389]\n",
              "  },\n",
              "  \u001b[1mauthor\u001b[0m={ x=[1134649, 128] },\n",
              "  \u001b[1minstitution\u001b[0m={ x=[8740, 128] },\n",
              "  \u001b[1mfield_of_study\u001b[0m={ x=[59965, 128] },\n",
              "  \u001b[1m(author, affiliated_with, institution)\u001b[0m={ edge_index=[2, 1043998] },\n",
              "  \u001b[1m(author, writes, paper)\u001b[0m={ edge_index=[2, 7145660] },\n",
              "  \u001b[1m(paper, cites, paper)\u001b[0m={ edge_index=[2, 5416271] },\n",
              "  \u001b[1m(paper, has_topic, field_of_study)\u001b[0m={ edge_index=[2, 7505078] }\n",
              ")"
            ]
          },
          "execution_count": 5,
          "metadata": {},
          "output_type": "execute_result"
        }
      ],
      "source": [
        "from torch_geometric.datasets import OGB_MAG\n",
        "\n",
        "dataset = OGB_MAG(root=\"./data\", preprocess=\"metapath2vec\")\n",
        "citation_network = dataset[0]\n",
        "citation_network"
      ]
    },
    {
      "cell_type": "code",
      "execution_count": 6,
      "metadata": {},
      "outputs": [
        {
          "data": {
            "text/plain": [
              "349"
            ]
          },
          "execution_count": 6,
          "metadata": {},
          "output_type": "execute_result"
        }
      ],
      "source": [
        "dataset.num_classes"
      ]
    },
    {
      "cell_type": "code",
      "execution_count": 8,
      "metadata": {},
      "outputs": [
        {
          "name": "stderr",
          "output_type": "stream",
          "text": [
            "/tmp/ipykernel_5995/2265959475.py:5: UserWarning: The use of `x.T` on tensors of dimension other than 2 to reverse their shape is deprecated and it will throw an error in a future release. Consider `x.mT` to transpose batches of matrices or `x.permute(*torch.arange(x.ndim - 1, -1, -1))` to reverse the dimensions of a tensor. (Triggered internally at ../aten/src/ATen/native/TensorShape.cpp:3277.)\n",
            "  order_y_tensor = torch.tensor(list(orders.values()))[\n"
          ]
        }
      ],
      "source": [
        "# testing to check whether we can indicate correct nodes from each node type in the edge_index\n",
        "orders = {\"price\": [1250, 678], \"discount\": [33, 0], \"black_friday_sale\": [1, 0]}\n",
        "items = {\"weight\": [3.5, 3.0, 26.0], \"size\": [2, 2, 3]}\n",
        "order_x_tensor = torch.tensor(list(orders.values()))[1:].T\n",
        "order_y_tensor = torch.tensor(list(orders.values()))[\n",
        "    0\n",
        "].T  # order_price will be the target\n",
        "item_x_tensor = torch.tensor(list(items.values())).T\n",
        "# o_o_interaction = torch.tensor([[],[]])\n",
        "o_i_interaction = torch.tensor(\n",
        "    [[0, 0, 1], [0, 1, 2]]\n",
        ")  # directional (only from order to item)\n",
        "i_i_interaction = torch.tensor([[2, 1], [1, 2]])\n",
        "test_het = HeteroData(\n",
        "    {\"order\": {\"x\": order_x_tensor, \"y\": order_y_tensor}, \"item\": {\"x\": item_x_tensor}},\n",
        "    #   order__interacts_with__order={'edge_index': o_o_interaction},\n",
        "    order__interacts_with__item={\"edge_index\": o_i_interaction},\n",
        "    item__interacts_with__item={\"edge_index\": i_i_interaction},\n",
        ")"
      ]
    },
    {
      "cell_type": "code",
      "execution_count": 9,
      "metadata": {},
      "outputs": [
        {
          "data": {
            "image/png": "[encoded data removed]",
            "text/plain": [
              "<Figure size 640x480 with 1 Axes>"
            ]
          },
          "metadata": {},
          "output_type": "display_data"
        }
      ],
      "source": [
        "test_het\n",
        "g = utils.to_networkx(test_het.to_homogeneous(), to_undirected=False)\n",
        "nx.draw(g, with_labels=True)"
      ]
    },
    {
      "cell_type": "code",
      "execution_count": null,
      "metadata": {},
      "outputs": [],
      "source": [
        "fake_het = FakeHeteroDataset(\n",
        "    num_node_types=2,\n",
        "    num_edge_types=3,\n",
        "    avg_num_nodes=2.5,\n",
        "    num_classes=2,\n",
        "    avg_degree=1,\n",
        "    avg_num_channels=3,\n",
        ")\n",
        "fake_het = fake_het[0]\n",
        "# fake_het.generate_ids()\n",
        "fake_het"
      ]
    },
    {
      "cell_type": "code",
      "execution_count": null,
      "metadata": {},
      "outputs": [],
      "source": [
        "fake_het[\"v0\"]"
      ]
    },
    {
      "cell_type": "code",
      "execution_count": null,
      "metadata": {},
      "outputs": [],
      "source": [
        "fake_het\n",
        "fake_het.to_dict()"
      ]
    },
    {
      "cell_type": "code",
      "execution_count": null,
      "metadata": {},
      "outputs": [],
      "source": [
        "fake_het[\"(v1, e0, v1)\"]"
      ]
    },
    {
      "cell_type": "code",
      "execution_count": null,
      "metadata": {},
      "outputs": [],
      "source": []
    },
    {
      "cell_type": "code",
      "execution_count": null,
      "metadata": {},
      "outputs": [],
      "source": []
    },
    {
      "cell_type": "code",
      "execution_count": null,
      "metadata": {},
      "outputs": [],
      "source": []
    },
    {
      "cell_type": "code",
      "execution_count": null,
      "metadata": {},
      "outputs": [],
      "source": [
        "# define a format for the adjacency matrix (use real oid or custom object_index?)"
      ]
    },
    {
      "cell_type": "code",
      "execution_count": null,
      "metadata": {},
      "outputs": [],
      "source": [
        "# Define HeteroData in PyG, using offer_features, application_features, and the adjacency matrix"
      ]
    },
    {
      "cell_type": "code",
      "execution_count": null,
      "metadata": {},
      "outputs": [],
      "source": [
        "# build OFG class that can hold features\n",
        "# enable this class to be ported to PyG\n"
      ]
    },
    {
      "cell_type": "code",
      "execution_count": null,
      "metadata": {},
      "outputs": [],
      "source": [
        "# COULD MOVE THIS TO A UNIT TEST FILE\n",
        "# example_edges = [('o1','i1'),('o1','i2'),('i2','i3'),('i3','o2')]\n",
        "# test_split = split_on_edge_types(edge_list=to_undirected(example_edges), edge_types=[('o','i'), ('i','i')])\n",
        "# test_split\n"
      ]
    }
  ],
  "metadata": {
    "anaconda-cloud": {},
    "kernelspec": {
      "display_name": "Python 3",
      "language": "python",
      "name": "python3"
    },
    "language_info": {
      "codemirror_mode": {
        "name": "ipython",
        "version": 3
      },
      "file_extension": ".py",
      "mimetype": "text/x-python",
      "name": "python",
      "nbconvert_exporter": "python",
      "pygments_lexer": "ipython3",
      "version": "3.9.16"
    }
  },
  "nbformat": 4,
  "nbformat_minor": 4
}
