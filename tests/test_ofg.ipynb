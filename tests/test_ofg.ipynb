{
  "cells": [
    {
      "cell_type": "code",
      "execution_count": 1,
      "metadata": {},
      "outputs": [
        {
          "name": "stderr",
          "output_type": "stream",
          "text": [
            "/home/tim/Development/OCPPM/.env/lib/python3.9/site-packages/tqdm/auto.py:21: TqdmWarning: IProgress not found. Please update jupyter and ipywidgets. See https://ipywidgets.readthedocs.io/en/stable/user_install.html\n",
            "  from .autonotebook import tqdm as notebook_tqdm\n"
          ]
        }
      ],
      "source": [
        "import pickle\n",
        "import logging\n",
        "import pickle\n",
        "import random\n",
        "from copy import copy\n",
        "from typing import Any, Callable, Optional\n",
        "\n",
        "import matplotlib.pyplot as plt\n",
        "import networkx as nx\n",
        "import numpy as np\n",
        "import pandas as pd\n",
        "import pm4py\n",
        "import pm4py.ocel\n",
        "import torch\n",
        "import torch_geometric as tg\n",
        "import torch_geometric.utils as utils\n",
        "from pm4py.algo.transformation.ocel.features.objects import (\n",
        "    algorithm as object_feature_factory,\n",
        ")\n",
        "from torch import Tensor\n",
        "from torch_geometric.data import HeteroData\n",
        "from torch_geometric.datasets import FakeHeteroDataset\n",
        "from torch_geometric.typing import (\n",
        "    DEFAULT_REL,\n",
        "    EdgeTensorType,\n",
        "    EdgeType,\n",
        "    FeatureTensorType,\n",
        "    NodeType,\n",
        "    QueryType,\n",
        "    SparseTensor,\n",
        ")\n"
      ]
    },
    {
      "cell_type": "code",
      "execution_count": 2,
      "metadata": {},
      "outputs": [],
      "source": [
        "with open('../data/BPI17/feature_encodings/BPI17_OFG.pkl', 'rb') as hetero_data_pkl:\n",
        "    hetero_data = pickle.load(hetero_data_pkl)"
      ]
    },
    {
      "cell_type": "code",
      "execution_count": 16,
      "metadata": {},
      "outputs": [
        {
          "ename": "ValueError",
          "evalue": "Shape of passed values is (31509, 18), indices imply (31509, 8)",
          "output_type": "error",
          "traceback": [
            "\u001b[0;31m---------------------------------------------------------------------------\u001b[0m",
            "\u001b[0;31mValueError\u001b[0m                                Traceback (most recent call last)",
            "Cell \u001b[0;32mIn[16], line 1\u001b[0m\n\u001b[0;32m----> 1\u001b[0m pd\u001b[39m.\u001b[39;49mDataFrame(hetero_data[\u001b[39m'\u001b[39;49m\u001b[39mapplication\u001b[39;49m\u001b[39m'\u001b[39;49m]\u001b[39m.\u001b[39;49mx,columns\u001b[39m=\u001b[39;49m[\n\u001b[1;32m      2\u001b[0m         \u001b[39m\"\u001b[39;49m\u001b[39mevent_NumberOfTerms\u001b[39;49m\u001b[39m\"\u001b[39;49m,\n\u001b[1;32m      3\u001b[0m         \u001b[39m\"\u001b[39;49m\u001b[39mevent_Accepted\u001b[39;49m\u001b[39m\"\u001b[39;49m,\n\u001b[1;32m      4\u001b[0m         \u001b[39m\"\u001b[39;49m\u001b[39mevent_Selected\u001b[39;49m\u001b[39m\"\u001b[39;49m,\n\u001b[1;32m      5\u001b[0m         \u001b[39m\"\u001b[39;49m\u001b[39mevent_OfferedAmount\u001b[39;49m\u001b[39m\"\u001b[39;49m,\n\u001b[1;32m      6\u001b[0m         \u001b[39m\"\u001b[39;49m\u001b[39mevent_CreditScore\u001b[39;49m\u001b[39m\"\u001b[39;49m,\n\u001b[1;32m      7\u001b[0m         \u001b[39m\"\u001b[39;49m\u001b[39mevent_FirstWithdrawalAmount\u001b[39;49m\u001b[39m\"\u001b[39;49m,\n\u001b[1;32m      8\u001b[0m         \u001b[39m\"\u001b[39;49m\u001b[39mevent_MonthlyCost\u001b[39;49m\u001b[39m\"\u001b[39;49m,\u001b[39m'\u001b[39;49m\u001b[39mindex\u001b[39;49m\u001b[39m'\u001b[39;49m\n\u001b[1;32m      9\u001b[0m     ],)\n",
            "File \u001b[0;32m~/Development/OCPPM/.env/lib/python3.9/site-packages/pandas/core/frame.py:762\u001b[0m, in \u001b[0;36mDataFrame.__init__\u001b[0;34m(self, data, index, columns, dtype, copy)\u001b[0m\n\u001b[1;32m    754\u001b[0m         mgr \u001b[39m=\u001b[39m arrays_to_mgr(\n\u001b[1;32m    755\u001b[0m             arrays,\n\u001b[1;32m    756\u001b[0m             columns,\n\u001b[0;32m   (...)\u001b[0m\n\u001b[1;32m    759\u001b[0m             typ\u001b[39m=\u001b[39mmanager,\n\u001b[1;32m    760\u001b[0m         )\n\u001b[1;32m    761\u001b[0m     \u001b[39melse\u001b[39;00m:\n\u001b[0;32m--> 762\u001b[0m         mgr \u001b[39m=\u001b[39m ndarray_to_mgr(\n\u001b[1;32m    763\u001b[0m             data,\n\u001b[1;32m    764\u001b[0m             index,\n\u001b[1;32m    765\u001b[0m             columns,\n\u001b[1;32m    766\u001b[0m             dtype\u001b[39m=\u001b[39;49mdtype,\n\u001b[1;32m    767\u001b[0m             copy\u001b[39m=\u001b[39;49mcopy,\n\u001b[1;32m    768\u001b[0m             typ\u001b[39m=\u001b[39;49mmanager,\n\u001b[1;32m    769\u001b[0m         )\n\u001b[1;32m    770\u001b[0m \u001b[39melse\u001b[39;00m:\n\u001b[1;32m    771\u001b[0m     mgr \u001b[39m=\u001b[39m dict_to_mgr(\n\u001b[1;32m    772\u001b[0m         {},\n\u001b[1;32m    773\u001b[0m         index,\n\u001b[0;32m   (...)\u001b[0m\n\u001b[1;32m    776\u001b[0m         typ\u001b[39m=\u001b[39mmanager,\n\u001b[1;32m    777\u001b[0m     )\n",
            "File \u001b[0;32m~/Development/OCPPM/.env/lib/python3.9/site-packages/pandas/core/internals/construction.py:349\u001b[0m, in \u001b[0;36mndarray_to_mgr\u001b[0;34m(values, index, columns, dtype, copy, typ)\u001b[0m\n\u001b[1;32m    344\u001b[0m \u001b[39m# _prep_ndarraylike ensures that values.ndim == 2 at this point\u001b[39;00m\n\u001b[1;32m    345\u001b[0m index, columns \u001b[39m=\u001b[39m _get_axes(\n\u001b[1;32m    346\u001b[0m     values\u001b[39m.\u001b[39mshape[\u001b[39m0\u001b[39m], values\u001b[39m.\u001b[39mshape[\u001b[39m1\u001b[39m], index\u001b[39m=\u001b[39mindex, columns\u001b[39m=\u001b[39mcolumns\n\u001b[1;32m    347\u001b[0m )\n\u001b[0;32m--> 349\u001b[0m _check_values_indices_shape_match(values, index, columns)\n\u001b[1;32m    351\u001b[0m \u001b[39mif\u001b[39;00m typ \u001b[39m==\u001b[39m \u001b[39m\"\u001b[39m\u001b[39marray\u001b[39m\u001b[39m\"\u001b[39m:\n\u001b[1;32m    353\u001b[0m     \u001b[39mif\u001b[39;00m \u001b[39missubclass\u001b[39m(values\u001b[39m.\u001b[39mdtype\u001b[39m.\u001b[39mtype, \u001b[39mstr\u001b[39m):\n",
            "File \u001b[0;32m~/Development/OCPPM/.env/lib/python3.9/site-packages/pandas/core/internals/construction.py:420\u001b[0m, in \u001b[0;36m_check_values_indices_shape_match\u001b[0;34m(values, index, columns)\u001b[0m\n\u001b[1;32m    418\u001b[0m passed \u001b[39m=\u001b[39m values\u001b[39m.\u001b[39mshape\n\u001b[1;32m    419\u001b[0m implied \u001b[39m=\u001b[39m (\u001b[39mlen\u001b[39m(index), \u001b[39mlen\u001b[39m(columns))\n\u001b[0;32m--> 420\u001b[0m \u001b[39mraise\u001b[39;00m \u001b[39mValueError\u001b[39;00m(\u001b[39mf\u001b[39m\u001b[39m\"\u001b[39m\u001b[39mShape of passed values is \u001b[39m\u001b[39m{\u001b[39;00mpassed\u001b[39m}\u001b[39;00m\u001b[39m, indices imply \u001b[39m\u001b[39m{\u001b[39;00mimplied\u001b[39m}\u001b[39;00m\u001b[39m\"\u001b[39m)\n",
            "\u001b[0;31mValueError\u001b[0m: Shape of passed values is (31509, 18), indices imply (31509, 8)"
          ]
        }
      ],
      "source": []
    },
    {
      "cell_type": "code",
      "execution_count": 4,
      "metadata": {},
      "outputs": [
        {
          "data": {
            "text/plain": [
              "{'edge_index': tensor([[29783, 23908,  7739,  ...,  1417, 14084, 17688],\n",
              "        [40727, 32704, 10593,  ...,  2183, 19645, 24574]])}"
            ]
          },
          "execution_count": 4,
          "metadata": {},
          "output_type": "execute_result"
        }
      ],
      "source": [
        "hetero_data[\"application\", \"interacts with\", \"offer\"]"
      ]
    },
    {
      "cell_type": "code",
      "execution_count": null,
      "metadata": {},
      "outputs": [],
      "source": [
        "G = nx.Graph()\n",
        "G.add_edges_from(graph)\n",
        "some_graph = {x for x in graph if \"Application_2114646933\" in x}\n",
        "sorted_cc = sorted(list(nx.connected_components(G)), key=len, reverse=True)\n",
        "sg = G.subgraph(sorted_cc[4])\n",
        "# sg = nx.Graph()\n",
        "# sg.add_edges_from(some_graph_adjacency)\n",
        "nx.draw(sg, with_labels=True)\n",
        "plt.savefig(\"../../tests/objects_interaction_graph.png\")"
      ]
    },
    {
      "cell_type": "code",
      "execution_count": 5,
      "metadata": {},
      "outputs": [
        {
          "name": "stderr",
          "output_type": "stream",
          "text": [
            "Downloading http://snap.stanford.edu/ogb/data/nodeproppred/mag.zip\n",
            "Extracting data/mag/raw/mag.zip\n",
            "Downloading https://data.pyg.org/datasets/mag_metapath2vec_emb.zip\n",
            "Extracting data/mag/raw/mag_metapath2vec_emb.zip\n",
            "Processing...\n",
            "Done!\n"
          ]
        },
        {
          "data": {
            "text/plain": [
              "HeteroData(\n",
              "  \u001b[1mpaper\u001b[0m={\n",
              "    x=[736389, 128],\n",
              "    year=[736389],\n",
              "    y=[736389],\n",
              "    train_mask=[736389],\n",
              "    val_mask=[736389],\n",
              "    test_mask=[736389]\n",
              "  },\n",
              "  \u001b[1mauthor\u001b[0m={ x=[1134649, 128] },\n",
              "  \u001b[1minstitution\u001b[0m={ x=[8740, 128] },\n",
              "  \u001b[1mfield_of_study\u001b[0m={ x=[59965, 128] },\n",
              "  \u001b[1m(author, affiliated_with, institution)\u001b[0m={ edge_index=[2, 1043998] },\n",
              "  \u001b[1m(author, writes, paper)\u001b[0m={ edge_index=[2, 7145660] },\n",
              "  \u001b[1m(paper, cites, paper)\u001b[0m={ edge_index=[2, 5416271] },\n",
              "  \u001b[1m(paper, has_topic, field_of_study)\u001b[0m={ edge_index=[2, 7505078] }\n",
              ")"
            ]
          },
          "execution_count": 5,
          "metadata": {},
          "output_type": "execute_result"
        }
      ],
      "source": [
        "from torch_geometric.datasets import OGB_MAG\n",
        "\n",
        "dataset = OGB_MAG(root=\"./data\", preprocess=\"metapath2vec\")\n",
        "citation_network = dataset[0]\n",
        "citation_network"
      ]
    },
    {
      "cell_type": "code",
      "execution_count": 6,
      "metadata": {},
      "outputs": [
        {
          "data": {
            "text/plain": [
              "349"
            ]
          },
          "execution_count": 6,
          "metadata": {},
          "output_type": "execute_result"
        }
      ],
      "source": [
        "dataset.num_classes"
      ]
    },
    {
      "cell_type": "code",
      "execution_count": null,
      "metadata": {},
      "outputs": [],
      "source": [
        "edge_tensor.shape"
      ]
    },
    {
      "cell_type": "code",
      "execution_count": null,
      "metadata": {},
      "outputs": [],
      "source": [
        "# testing to check whether we can indicate correct nodes from each node type in the edge_index\n",
        "orders = {\"price\": [1250, 678], \"discount\": [33, 0], \"black_friday_sale\": [1, 0]}\n",
        "items = {\"weight\": [3.5, 3.0, 26.0], \"size\": [2, 2, 3]}\n",
        "order_x_tensor = torch.tensor(list(orders.values()))[1:].T\n",
        "order_y_tensor = torch.tensor(list(orders.values()))[\n",
        "    0\n",
        "].T  # order_price will be the target\n",
        "item_x_tensor = torch.tensor(list(items.values())).T\n",
        "# o_o_interaction = torch.tensor([[],[]])\n",
        "o_i_interaction = torch.tensor(\n",
        "    [[0, 0, 1], [0, 1, 2]]\n",
        ")  # directional (only from order to item)\n",
        "i_i_interaction = torch.tensor([[2, 1], [1, 2]])\n",
        "test_het = HeteroData(\n",
        "    {\"order\": {\"x\": order_x_tensor, \"y\": order_y_tensor}, \"item\": {\"x\": item_x_tensor}},\n",
        "    #   order__interacts_with__order={'edge_index': o_o_interaction},\n",
        "    order__interacts_with__item={\"edge_index\": o_i_interaction},\n",
        "    item__interacts_with__item={\"edge_index\": i_i_interaction},\n",
        ")"
      ]
    },
    {
      "cell_type": "code",
      "execution_count": null,
      "metadata": {},
      "outputs": [],
      "source": [
        "test_het\n",
        "g = utils.to_networkx(test_het.to_homogeneous(), to_undirected=False)\n",
        "nx.draw(g, with_labels=True)"
      ]
    },
    {
      "cell_type": "code",
      "execution_count": null,
      "metadata": {},
      "outputs": [],
      "source": [
        "fake_het = FakeHeteroDataset(\n",
        "    num_node_types=2,\n",
        "    num_edge_types=3,\n",
        "    avg_num_nodes=2.5,\n",
        "    num_classes=2,\n",
        "    avg_degree=1,\n",
        "    avg_num_channels=3,\n",
        ")\n",
        "fake_het = fake_het[0]\n",
        "# fake_het.generate_ids()\n",
        "fake_het"
      ]
    },
    {
      "cell_type": "code",
      "execution_count": null,
      "metadata": {},
      "outputs": [],
      "source": [
        "fake_het[\"v0\"]"
      ]
    },
    {
      "cell_type": "code",
      "execution_count": null,
      "metadata": {},
      "outputs": [],
      "source": [
        "fake_het\n",
        "fake_het.to_dict()"
      ]
    },
    {
      "cell_type": "code",
      "execution_count": null,
      "metadata": {},
      "outputs": [],
      "source": [
        "fake_het[\"(v1, e0, v1)\"]"
      ]
    },
    {
      "cell_type": "code",
      "execution_count": null,
      "metadata": {},
      "outputs": [],
      "source": []
    },
    {
      "cell_type": "code",
      "execution_count": null,
      "metadata": {},
      "outputs": [],
      "source": []
    },
    {
      "cell_type": "code",
      "execution_count": null,
      "metadata": {},
      "outputs": [],
      "source": []
    },
    {
      "cell_type": "code",
      "execution_count": null,
      "metadata": {},
      "outputs": [],
      "source": [
        "# define a format for the adjacency matrix (use real oid or custom object_index?)"
      ]
    },
    {
      "cell_type": "code",
      "execution_count": null,
      "metadata": {},
      "outputs": [],
      "source": [
        "# Define HeteroData in PyG, using offer_features, application_features, and the adjacency matrix"
      ]
    },
    {
      "cell_type": "code",
      "execution_count": null,
      "metadata": {},
      "outputs": [],
      "source": [
        "# build OFG class that can hold features\n",
        "# enable this class to be ported to PyG\n"
      ]
    },
    {
      "cell_type": "code",
      "execution_count": null,
      "metadata": {},
      "outputs": [],
      "source": [
        "# COULD MOVE THIS TO A UNIT TEST FILE\n",
        "# example_edges = [('o1','i1'),('o1','i2'),('i2','i3'),('i3','o2')]\n",
        "# test_split = split_on_edge_types(edge_list=to_undirected(example_edges), edge_types=[('o','i'), ('i','i')])\n",
        "# test_split\n"
      ]
    }
  ],
  "metadata": {
    "anaconda-cloud": {},
    "kernelspec": {
      "display_name": "Python 3",
      "language": "python",
      "name": "python3"
    },
    "language_info": {
      "codemirror_mode": {
        "name": "ipython",
        "version": 3
      },
      "file_extension": ".py",
      "mimetype": "text/x-python",
      "name": "python",
      "nbconvert_exporter": "python",
      "pygments_lexer": "ipython3",
      "version": "3.9.16"
    }
  },
  "nbformat": 4,
  "nbformat_minor": 4
}
