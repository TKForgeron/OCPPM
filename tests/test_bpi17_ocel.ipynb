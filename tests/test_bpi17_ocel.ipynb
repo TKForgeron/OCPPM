{
 "cells": [
  {
   "cell_type": "code",
   "execution_count": 21,
   "metadata": {},
   "outputs": [],
   "source": [
    "# imports\n",
    "import pm4py\n",
    "import json\n",
    "from typing import Any\n",
    "from copy import copy"
   ]
  },
  {
   "cell_type": "code",
   "execution_count": 16,
   "id": "14308009",
   "metadata": {},
   "outputs": [],
   "source": [
    "# config vars\n",
    "ocel_intermediary_file = \"../data/BPI17/intermediates/BPI2017.jsonocel\"\n",
    "ocel_file =  \"../data/BPI17/BPI2017-Final.jsonocel\""
   ]
  },
  {
   "cell_type": "code",
   "execution_count": 31,
   "id": "b55f4055",
   "metadata": {},
   "outputs": [],
   "source": [
    "ocel = pm4py.read.read_ocel(ocel_file)"
   ]
  },
  {
   "cell_type": "code",
   "execution_count": 32,
   "id": "1a3cefa7",
   "metadata": {},
   "outputs": [
    {
     "data": {
      "text/html": [
       "<div>\n",
       "<style scoped>\n",
       "    .dataframe tbody tr th:only-of-type {\n",
       "        vertical-align: middle;\n",
       "    }\n",
       "\n",
       "    .dataframe tbody tr th {\n",
       "        vertical-align: top;\n",
       "    }\n",
       "\n",
       "    .dataframe thead th {\n",
       "        text-align: right;\n",
       "    }\n",
       "</style>\n",
       "<table border=\"1\" class=\"dataframe\">\n",
       "  <thead>\n",
       "    <tr style=\"text-align: right;\">\n",
       "      <th></th>\n",
       "      <th>ocel:eid</th>\n",
       "      <th>ocel:timestamp</th>\n",
       "      <th>ocel:activity</th>\n",
       "      <th>event_OrgResource</th>\n",
       "      <th>event_Action</th>\n",
       "      <th>event_EventOrigin</th>\n",
       "      <th>start_timestamp</th>\n",
       "    </tr>\n",
       "  </thead>\n",
       "  <tbody>\n",
       "    <tr>\n",
       "      <th>0</th>\n",
       "      <td>1</td>\n",
       "      <td>2016-01-01 10:51:15.304</td>\n",
       "      <td>Create application</td>\n",
       "      <td>User_1</td>\n",
       "      <td>Created</td>\n",
       "      <td>Application</td>\n",
       "      <td>2016-01-01 10:51:15.304000</td>\n",
       "    </tr>\n",
       "    <tr>\n",
       "      <th>1</th>\n",
       "      <td>2</td>\n",
       "      <td>2016-01-01 10:51:15.352</td>\n",
       "      <td>Submit</td>\n",
       "      <td>User_1</td>\n",
       "      <td>statechange</td>\n",
       "      <td>Application</td>\n",
       "      <td>2016-01-01 10:51:15.352000</td>\n",
       "    </tr>\n",
       "    <tr>\n",
       "      <th>13</th>\n",
       "      <td>14</td>\n",
       "      <td>2016-01-01 11:16:11.500</td>\n",
       "      <td>Create application</td>\n",
       "      <td>User_1</td>\n",
       "      <td>Created</td>\n",
       "      <td>Application</td>\n",
       "      <td>2016-01-01 11:16:11.500000</td>\n",
       "    </tr>\n",
       "    <tr>\n",
       "      <th>14</th>\n",
       "      <td>15</td>\n",
       "      <td>2016-01-01 11:16:11.549</td>\n",
       "      <td>Submit</td>\n",
       "      <td>User_1</td>\n",
       "      <td>statechange</td>\n",
       "      <td>Application</td>\n",
       "      <td>2016-01-01 11:16:11.549000</td>\n",
       "    </tr>\n",
       "    <tr>\n",
       "      <th>23</th>\n",
       "      <td>24</td>\n",
       "      <td>2016-01-01 12:19:38.177</td>\n",
       "      <td>Create application</td>\n",
       "      <td>User_1</td>\n",
       "      <td>Created</td>\n",
       "      <td>Application</td>\n",
       "      <td>2016-01-01 12:19:38.177000</td>\n",
       "    </tr>\n",
       "  </tbody>\n",
       "</table>\n",
       "</div>"
      ],
      "text/plain": [
       "   ocel:eid          ocel:timestamp       ocel:activity event_OrgResource  \\\n",
       "0         1 2016-01-01 10:51:15.304  Create application            User_1   \n",
       "1         2 2016-01-01 10:51:15.352              Submit            User_1   \n",
       "13       14 2016-01-01 11:16:11.500  Create application            User_1   \n",
       "14       15 2016-01-01 11:16:11.549              Submit            User_1   \n",
       "23       24 2016-01-01 12:19:38.177  Create application            User_1   \n",
       "\n",
       "   event_Action event_EventOrigin             start_timestamp  \n",
       "0       Created       Application  2016-01-01 10:51:15.304000  \n",
       "1   statechange       Application  2016-01-01 10:51:15.352000  \n",
       "13      Created       Application  2016-01-01 11:16:11.500000  \n",
       "14  statechange       Application  2016-01-01 11:16:11.549000  \n",
       "23      Created       Application  2016-01-01 12:19:38.177000  "
      ]
     },
     "execution_count": 32,
     "metadata": {},
     "output_type": "execute_result"
    }
   ],
   "source": [
    "# check events\n",
    "ocel.events.head()"
   ]
  },
  {
   "cell_type": "code",
   "execution_count": 9,
   "id": "551b1396",
   "metadata": {},
   "outputs": [
    {
     "data": {
      "text/plain": [
       "ocel:oid                        object\n",
       "ocel:type                       object\n",
       "event_RequestedAmount          float64\n",
       "event_LoanGoal                  object\n",
       "event_ApplicationType           object\n",
       "event_OfferedAmount            float64\n",
       "event_NumberOfTerms            float64\n",
       "event_CreditScore              float64\n",
       "event_Accepted                  object\n",
       "event_FirstWithdrawalAmount    float64\n",
       "event_MonthlyCost              float64\n",
       "event_Selected                  object\n",
       "dtype: object"
      ]
     },
     "execution_count": 9,
     "metadata": {},
     "output_type": "execute_result"
    }
   ],
   "source": [
    "# check objects\n",
    "ocel.objects.dtypes"
   ]
  },
  {
   "cell_type": "code",
   "execution_count": 13,
   "id": "ecb55637",
   "metadata": {},
   "outputs": [
    {
     "data": {
      "text/plain": [
       "ocel:oid                           0\n",
       "ocel:type                          0\n",
       "event_RequestedAmount          42995\n",
       "event_LoanGoal                 42995\n",
       "event_ApplicationType          42995\n",
       "event_OfferedAmount              411\n",
       "event_NumberOfTerms              411\n",
       "event_CreditScore                411\n",
       "event_Accepted                   411\n",
       "event_FirstWithdrawalAmount      411\n",
       "event_MonthlyCost                411\n",
       "event_Selected                   411\n",
       "dtype: int64"
      ]
     },
     "execution_count": 13,
     "metadata": {},
     "output_type": "execute_result"
    }
   ],
   "source": [
    "# check offer object type\n",
    "ocel.objects[ocel.objects['ocel:type']=='offer'].isna().sum()"
   ]
  },
  {
   "cell_type": "code",
   "execution_count": 14,
   "id": "8dc15c3b",
   "metadata": {},
   "outputs": [
    {
     "data": {
      "text/plain": [
       "ocel:oid                           0\n",
       "ocel:type                          0\n",
       "event_RequestedAmount              0\n",
       "event_LoanGoal                     0\n",
       "event_ApplicationType              0\n",
       "event_OfferedAmount            31509\n",
       "event_NumberOfTerms            31509\n",
       "event_CreditScore              31509\n",
       "event_Accepted                 31509\n",
       "event_FirstWithdrawalAmount    31509\n",
       "event_MonthlyCost              31509\n",
       "event_Selected                 31509\n",
       "dtype: int64"
      ]
     },
     "execution_count": 14,
     "metadata": {},
     "output_type": "execute_result"
    }
   ],
   "source": [
    "# check application object type\n",
    "ocel.objects[ocel.objects['ocel:type']=='application'].isna().sum()"
   ]
  }
 ],
 "metadata": {
  "kernelspec": {
   "display_name": ".env",
   "language": "python",
   "name": "python3"
  },
  "language_info": {
   "codemirror_mode": {
    "name": "ipython",
    "version": 3
   },
   "file_extension": ".py",
   "mimetype": "text/x-python",
   "name": "python",
   "nbconvert_exporter": "python",
   "pygments_lexer": "ipython3",
   "version": "3.9.0"
  }
 },
 "nbformat": 4,
 "nbformat_minor": 5
}
