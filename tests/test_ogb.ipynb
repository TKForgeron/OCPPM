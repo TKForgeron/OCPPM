{
 "cells": [
  {
   "cell_type": "code",
   "execution_count": 1,
   "metadata": {},
   "outputs": [
    {
     "name": "stderr",
     "output_type": "stream",
     "text": [
      "/home/tim/Development/OCPPM/.env/lib/python3.9/site-packages/tqdm/auto.py:21: TqdmWarning: IProgress not found. Please update jupyter and ipywidgets. See https://ipywidgets.readthedocs.io/en/stable/user_install.html\n",
      "  from .autonotebook import tqdm as notebook_tqdm\n"
     ]
    }
   ],
   "source": [
    "import torch_geometric.transforms as T\n",
    "from torch_geometric.datasets import OGB_MAG\n",
    "from torch_geometric.loader import NeighborLoader\n",
    "import torch.optim as O\n",
    "import torch.nn.functional as F\n",
    "from torch_geometric.nn import GATConv, Linear, to_hetero\n",
    "import torch\n",
    "\n",
    "DEVICE = torch.device(\"cuda\" if torch.cuda.is_available() else \"cpu\")"
   ]
  },
  {
   "cell_type": "code",
   "execution_count": 2,
   "metadata": {},
   "outputs": [],
   "source": [
    "transform = T.ToUndirected()  # Add reverse edge types.\n",
    "\n",
    "dataset = OGB_MAG(root=\"./data\", preprocess=\"metapath2vec\", transform=T.ToUndirected())\n",
    "data = dataset[0]\n",
    "\n",
    "\n",
    "train_loader = NeighborLoader(\n",
    "    data,\n",
    "    # Sample 15 neighbors for each node and each edge type for 2 iterations:\n",
    "    num_neighbors=[15] * 2,\n",
    "    # Use a batch size of 128 for sampling training nodes of type \"paper\":\n",
    "    batch_size=128,\n",
    "    input_nodes=(\"paper\", data[\"paper\"].train_mask),\n",
    ")\n",
    "\n",
    "batch = next(iter(train_loader))"
   ]
  },
  {
   "cell_type": "code",
   "execution_count": 3,
   "metadata": {},
   "outputs": [
    {
     "data": {
      "text/plain": [
       "GraphModule(\n",
       "  (conv1): ModuleDict(\n",
       "    (author__affiliated_with__institution): GATConv((-1, -1), 64, heads=1)\n",
       "    (author__writes__paper): GATConv((-1, -1), 64, heads=1)\n",
       "    (paper__cites__paper): GATConv((-1, -1), 64, heads=1)\n",
       "    (paper__has_topic__field_of_study): GATConv((-1, -1), 64, heads=1)\n",
       "    (institution__rev_affiliated_with__author): GATConv((-1, -1), 64, heads=1)\n",
       "    (paper__rev_writes__author): GATConv((-1, -1), 64, heads=1)\n",
       "    (field_of_study__rev_has_topic__paper): GATConv((-1, -1), 64, heads=1)\n",
       "  )\n",
       "  (lin1): ModuleDict(\n",
       "    (paper): Linear(-1, 64, bias=True)\n",
       "    (author): Linear(-1, 64, bias=True)\n",
       "    (institution): Linear(-1, 64, bias=True)\n",
       "    (field_of_study): Linear(-1, 64, bias=True)\n",
       "  )\n",
       "  (conv2): ModuleDict(\n",
       "    (author__affiliated_with__institution): GATConv((-1, -1), 349, heads=1)\n",
       "    (author__writes__paper): GATConv((-1, -1), 349, heads=1)\n",
       "    (paper__cites__paper): GATConv((-1, -1), 349, heads=1)\n",
       "    (paper__has_topic__field_of_study): GATConv((-1, -1), 349, heads=1)\n",
       "    (institution__rev_affiliated_with__author): GATConv((-1, -1), 349, heads=1)\n",
       "    (paper__rev_writes__author): GATConv((-1, -1), 349, heads=1)\n",
       "    (field_of_study__rev_has_topic__paper): GATConv((-1, -1), 349, heads=1)\n",
       "  )\n",
       "  (lin2): ModuleDict(\n",
       "    (paper): Linear(-1, 349, bias=True)\n",
       "    (author): Linear(-1, 349, bias=True)\n",
       "    (institution): Linear(-1, 349, bias=True)\n",
       "    (field_of_study): Linear(-1, 349, bias=True)\n",
       "  )\n",
       ")"
      ]
     },
     "execution_count": 3,
     "metadata": {},
     "output_type": "execute_result"
    }
   ],
   "source": [
    "class GAT(torch.nn.Module):\n",
    "    def __init__(self, hidden_channels, out_channels):\n",
    "        super().__init__()\n",
    "        self.conv1 = GATConv((-1, -1), hidden_channels, add_self_loops=False)\n",
    "        self.lin1 = Linear(-1, hidden_channels)\n",
    "        self.conv2 = GATConv((-1, -1), out_channels, add_self_loops=False)\n",
    "        self.lin2 = Linear(-1, out_channels)\n",
    "\n",
    "    def forward(self, x, edge_index):\n",
    "        x = self.conv1(x, edge_index) + self.lin1(x)\n",
    "        x = x.relu()\n",
    "        x = self.conv2(x, edge_index) + self.lin2(x)\n",
    "        return x\n",
    "\n",
    "\n",
    "model = GAT(hidden_channels=64, out_channels=dataset.num_classes)\n",
    "model = to_hetero(model, data.metadata(), aggr=\"sum\")\n",
    "optimizer = O.Adam(\n",
    "    model.parameters(),\n",
    "    lr=0.001,\n",
    "    betas=(0.9, 0.999),\n",
    "    eps=1e-08,\n",
    "    weight_decay=0,\n",
    "    amsgrad=False,\n",
    ")\n",
    "model.to(DEVICE)"
   ]
  },
  {
   "cell_type": "code",
   "execution_count": 4,
   "metadata": {},
   "outputs": [],
   "source": [
    "def train():\n",
    "    model.train()\n",
    "\n",
    "    total_examples = total_loss = 0\n",
    "    for batch in train_loader:\n",
    "        optimizer.zero_grad()\n",
    "        batch = batch.to(DEVICE)\n",
    "        batch_size = batch[\"paper\"].batch_size\n",
    "        out = model(batch.x_dict, batch.edge_index_dict)\n",
    "        loss = F.cross_entropy(out[\"paper\"][:batch_size], batch[\"paper\"].y[:batch_size])\n",
    "        loss.backward()\n",
    "        optimizer.step()\n",
    "\n",
    "        total_examples += batch_size\n",
    "        total_loss += float(loss) * batch_size\n",
    "\n",
    "    return total_loss / total_examples"
   ]
  },
  {
   "cell_type": "code",
   "execution_count": 5,
   "metadata": {},
   "outputs": [
    {
     "data": {
      "text/plain": [
       "2.153773753613016"
      ]
     },
     "execution_count": 5,
     "metadata": {},
     "output_type": "execute_result"
    }
   ],
   "source": [
    "avg_loss = train()\n",
    "avg_loss"
   ]
  }
 ],
 "metadata": {
  "kernelspec": {
   "display_name": ".env",
   "language": "python",
   "name": "python3"
  },
  "language_info": {
   "codemirror_mode": {
    "name": "ipython",
    "version": 3
   },
   "file_extension": ".py",
   "mimetype": "text/x-python",
   "name": "python",
   "nbconvert_exporter": "python",
   "pygments_lexer": "ipython3",
   "version": "3.9.17"
  },
  "orig_nbformat": 4
 },
 "nbformat": 4,
 "nbformat_minor": 2
}
