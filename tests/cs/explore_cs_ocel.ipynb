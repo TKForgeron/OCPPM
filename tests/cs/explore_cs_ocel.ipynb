{
 "cells": [
  {
   "cell_type": "code",
   "execution_count": 1,
   "metadata": {},
   "outputs": [],
   "source": [
    "# imports\n",
    "import os\n",
    "\n",
    "os.chdir(\"/home/tim/Development/OCPPM/\")\n",
    "import pm4py\n",
    "import pm4py.read\n",
    "import ocpa.objects.log.importer.ocel.factory as ocel_import_factory\n",
    "import json\n",
    "from typing import Any\n",
    "from copy import copy\n",
    "import pandas as pd\n",
    "\n",
    "ocel_in_file = \"data/CS/source/cs_january_ots[krs_krv_cv]_oas[oa1_oa2_oa3_oa4_oa5_oa6_oa7_oa8_oa9_oa10_oa11_oa12_oa13_oa15_oa16]_eas[resourceCE_resourceMulti_ea1_ea2_ea3_ea4_ea6_ea8_ea10_ea12_ea14].jsonocel\""
   ]
  },
  {
   "cell_type": "code",
   "execution_count": 2,
   "metadata": {},
   "outputs": [],
   "source": [
    "ocel = pm4py.read.read_ocel(ocel_in_file)"
   ]
  },
  {
   "cell_type": "code",
   "execution_count": 4,
   "metadata": {},
   "outputs": [
    {
     "name": "stdout",
     "output_type": "stream",
     "text": [
      "(324035, 17)\n"
     ]
    },
    {
     "data": {
      "text/plain": [
       "0.835691    224507\n",
       "0.164309     99528\n",
       "Name: oa9, dtype: int64"
      ]
     },
     "execution_count": 4,
     "metadata": {},
     "output_type": "execute_result"
    }
   ],
   "source": [
    "#\n",
    "print(ocel.objects.shape)\n",
    "ocel.objects[\"oa9\"].value_counts()"
   ]
  },
  {
   "cell_type": "code",
   "execution_count": 4,
   "metadata": {},
   "outputs": [
    {
     "name": "stdout",
     "output_type": "stream",
     "text": [
      "(1752998, 14)\n"
     ]
    },
    {
     "data": {
      "text/html": [
       "<div>\n",
       "<style scoped>\n",
       "    .dataframe tbody tr th:only-of-type {\n",
       "        vertical-align: middle;\n",
       "    }\n",
       "\n",
       "    .dataframe tbody tr th {\n",
       "        vertical-align: top;\n",
       "    }\n",
       "\n",
       "    .dataframe thead th {\n",
       "        text-align: right;\n",
       "    }\n",
       "</style>\n",
       "<table border=\"1\" class=\"dataframe\">\n",
       "  <thead>\n",
       "    <tr style=\"text-align: right;\">\n",
       "      <th></th>\n",
       "      <th>ocel:eid</th>\n",
       "      <th>ocel:timestamp</th>\n",
       "      <th>ocel:activity</th>\n",
       "      <th>event_ea10</th>\n",
       "      <th>event_ea8</th>\n",
       "      <th>event_ea2</th>\n",
       "      <th>event_ea12</th>\n",
       "      <th>event_ea4</th>\n",
       "      <th>event_ea6</th>\n",
       "      <th>event_resourceCE</th>\n",
       "      <th>event_ea3</th>\n",
       "      <th>event_ea14</th>\n",
       "      <th>event_resourceMulti</th>\n",
       "      <th>event_ea1</th>\n",
       "    </tr>\n",
       "  </thead>\n",
       "  <tbody>\n",
       "    <tr>\n",
       "      <th>0</th>\n",
       "      <td>1</td>\n",
       "      <td>2023-01-01 10:06:44.609</td>\n",
       "      <td>Finish Task</td>\n",
       "      <td>0.224765</td>\n",
       "      <td>0.216395</td>\n",
       "      <td>0.526823</td>\n",
       "      <td>0.274337</td>\n",
       "      <td>4.0</td>\n",
       "      <td>0.26262</td>\n",
       "      <td>0.825684</td>\n",
       "      <td>0.01904</td>\n",
       "      <td>0.019645</td>\n",
       "      <td>0</td>\n",
       "      <td>0.198374</td>\n",
       "    </tr>\n",
       "    <tr>\n",
       "      <th>1</th>\n",
       "      <td>2</td>\n",
       "      <td>2023-01-01 10:08:48.993</td>\n",
       "      <td>Finish Task</td>\n",
       "      <td>0.224765</td>\n",
       "      <td>0.216395</td>\n",
       "      <td>0.526823</td>\n",
       "      <td>0.274337</td>\n",
       "      <td>4.0</td>\n",
       "      <td>0.26262</td>\n",
       "      <td>0.825684</td>\n",
       "      <td>0.01904</td>\n",
       "      <td>0.019645</td>\n",
       "      <td>0</td>\n",
       "      <td>0.198374</td>\n",
       "    </tr>\n",
       "    <tr>\n",
       "      <th>2</th>\n",
       "      <td>3</td>\n",
       "      <td>2023-01-01 10:08:49.088</td>\n",
       "      <td>Update Object State</td>\n",
       "      <td>0.224765</td>\n",
       "      <td>0.216395</td>\n",
       "      <td>0.526823</td>\n",
       "      <td>0.274337</td>\n",
       "      <td>4.0</td>\n",
       "      <td>0.26262</td>\n",
       "      <td>0.825684</td>\n",
       "      <td>0.01904</td>\n",
       "      <td>0.019645</td>\n",
       "      <td>0</td>\n",
       "      <td>0.198374</td>\n",
       "    </tr>\n",
       "    <tr>\n",
       "      <th>3</th>\n",
       "      <td>4</td>\n",
       "      <td>2023-01-01 10:08:49.091</td>\n",
       "      <td>Reallocate Task</td>\n",
       "      <td>0.224765</td>\n",
       "      <td>0.216395</td>\n",
       "      <td>0.526823</td>\n",
       "      <td>0.274337</td>\n",
       "      <td>4.0</td>\n",
       "      <td>0.26262</td>\n",
       "      <td>0.825684</td>\n",
       "      <td>0.01904</td>\n",
       "      <td>0.019645</td>\n",
       "      <td>1</td>\n",
       "      <td>0.198374</td>\n",
       "    </tr>\n",
       "    <tr>\n",
       "      <th>4</th>\n",
       "      <td>5</td>\n",
       "      <td>2023-01-01 10:09:46.678</td>\n",
       "      <td>Finish Task</td>\n",
       "      <td>0.040257</td>\n",
       "      <td>0.247333</td>\n",
       "      <td>-0.061526</td>\n",
       "      <td>0.274337</td>\n",
       "      <td>3.0</td>\n",
       "      <td>0.26262</td>\n",
       "      <td>0.825684</td>\n",
       "      <td>0.07390</td>\n",
       "      <td>0.019645</td>\n",
       "      <td>0</td>\n",
       "      <td>0.198374</td>\n",
       "    </tr>\n",
       "  </tbody>\n",
       "</table>\n",
       "</div>"
      ],
      "text/plain": [
       "  ocel:eid          ocel:timestamp        ocel:activity  event_ea10  \\\n",
       "0        1 2023-01-01 10:06:44.609          Finish Task    0.224765   \n",
       "1        2 2023-01-01 10:08:48.993          Finish Task    0.224765   \n",
       "2        3 2023-01-01 10:08:49.088  Update Object State    0.224765   \n",
       "3        4 2023-01-01 10:08:49.091      Reallocate Task    0.224765   \n",
       "4        5 2023-01-01 10:09:46.678          Finish Task    0.040257   \n",
       "\n",
       "   event_ea8  event_ea2  event_ea12  event_ea4  event_ea6  event_resourceCE  \\\n",
       "0   0.216395   0.526823    0.274337        4.0    0.26262          0.825684   \n",
       "1   0.216395   0.526823    0.274337        4.0    0.26262          0.825684   \n",
       "2   0.216395   0.526823    0.274337        4.0    0.26262          0.825684   \n",
       "3   0.216395   0.526823    0.274337        4.0    0.26262          0.825684   \n",
       "4   0.247333  -0.061526    0.274337        3.0    0.26262          0.825684   \n",
       "\n",
       "   event_ea3  event_ea14  event_resourceMulti  event_ea1  \n",
       "0    0.01904    0.019645                    0   0.198374  \n",
       "1    0.01904    0.019645                    0   0.198374  \n",
       "2    0.01904    0.019645                    0   0.198374  \n",
       "3    0.01904    0.019645                    1   0.198374  \n",
       "4    0.07390    0.019645                    0   0.198374  "
      ]
     },
     "execution_count": 4,
     "metadata": {},
     "output_type": "execute_result"
    }
   ],
   "source": [
    "print(ocel.events.shape)\n",
    "ocel.events.head()"
   ]
  },
  {
   "cell_type": "code",
   "execution_count": 5,
   "metadata": {},
   "outputs": [],
   "source": [
    "with open(ocel_in_file, \"r\") as ocel:\n",
    "    data = json.load(ocel)"
   ]
  },
  {
   "cell_type": "code",
   "execution_count": 29,
   "metadata": {},
   "outputs": [],
   "source": [
    "res = []\n",
    "for e in data[\"ocel:events\"].values():\n",
    "    res.extend(e[\"ocel:omap\"])"
   ]
  },
  {
   "cell_type": "code",
   "execution_count": 30,
   "metadata": {},
   "outputs": [
    {
     "data": {
      "text/plain": [
       "2"
      ]
     },
     "execution_count": 30,
     "metadata": {},
     "output_type": "execute_result"
    }
   ],
   "source": [
    "failure = \"KRV-3723804\"\n",
    "res.count(failure)"
   ]
  }
 ],
 "metadata": {
  "kernelspec": {
   "display_name": ".env",
   "language": "python",
   "name": "python3"
  },
  "language_info": {
   "codemirror_mode": {
    "name": "ipython",
    "version": 3
   },
   "file_extension": ".py",
   "mimetype": "text/x-python",
   "name": "python",
   "nbconvert_exporter": "python",
   "pygments_lexer": "ipython3",
   "version": "3.9.17"
  },
  "orig_nbformat": 4
 },
 "nbformat": 4,
 "nbformat_minor": 2
}
