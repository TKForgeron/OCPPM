{
 "cells": [
  {
   "cell_type": "code",
   "execution_count": 1,
   "metadata": {},
   "outputs": [],
   "source": [
    "import os\n",
    "\n",
    "go_up_n_directories = lambda path, n: os.path.abspath(\n",
    "    os.path.join(*([os.path.dirname(path)] + [\"..\"] * n))\n",
    ")\n",
    "os.chdir(go_up_n_directories(os.getcwd(), 1))  # run once (otherwise restart kernel)"
   ]
  },
  {
   "cell_type": "code",
   "execution_count": 2,
   "metadata": {},
   "outputs": [],
   "source": [
    "# Imports\n",
    "import pm4py\n",
    "import pm4py.utils\n",
    "import pm4py.read\n",
    "from pm4py.objects.ocel.obj import OCEL\n",
    "import ocpa.objects.log.importer.ocel.factory as ocel_import_factory\n",
    "import ocpa.algo.predictive_monitoring.factory as feature_factory\n",
    "from ocpa.algo.predictive_monitoring.obj import Feature_Storage\n",
    "import torch_geometric.transforms as T\n",
    "import json\n",
    "from typing import Any\n",
    "from copy import copy\n",
    "import pickle\n",
    "import pandas as pd\n",
    "import numpy as np\n",
    "from pprint import pprint\n",
    "\n",
    "from utilities import hetero_data_utils, data_utils\n",
    "from experiments.hoeg import HOEG"
   ]
  },
  {
   "cell_type": "code",
   "execution_count": 3,
   "metadata": {},
   "outputs": [],
   "source": [
    "ocel_in_file = \"data/CS/source/cs_january_only_linked_ots[krs_krv_cv]_oas[oa1_oa2_oa3_oa4_oa5_oa6_oa7_oa8_oa10_oa11_oa12_oa13_oa15_oa16]_eas[resourceCE_resourceMulti_ea1_ea2_ea3_ea4_ea6_ea8_ea10_ea12_ea14].jsonocel\""
   ]
  },
  {
   "cell_type": "code",
   "execution_count": 4,
   "metadata": {},
   "outputs": [],
   "source": [
    "ocpa_ocel = ocel_import_factory.apply(ocel_in_file)"
   ]
  },
  {
   "cell_type": "code",
   "execution_count": 3,
   "metadata": {},
   "outputs": [
    {
     "name": "stderr",
     "output_type": "stream",
     "text": [
      "Processing...\n",
      "31277it [08:25, 61.90it/s]\n",
      "Done!\n"
     ]
    },
    {
     "data": {
      "text/plain": [
       "HeteroDataBatch(\n",
       "  \u001b[1mevent\u001b[0m={\n",
       "    x=[695694, 15],\n",
       "    y=[695694],\n",
       "    batch=[695694],\n",
       "    ptr=[31278]\n",
       "  },\n",
       "  \u001b[1mkrs\u001b[0m={\n",
       "    x=[31513, 20],\n",
       "    y=[31513],\n",
       "    batch=[31513],\n",
       "    ptr=[31278]\n",
       "  },\n",
       "  \u001b[1mkrv\u001b[0m={\n",
       "    x=[31357, 20],\n",
       "    y=[31357],\n",
       "    batch=[31357],\n",
       "    ptr=[31278]\n",
       "  },\n",
       "  \u001b[1mcv\u001b[0m={\n",
       "    x=[31278, 20],\n",
       "    y=[31278],\n",
       "    batch=[31278],\n",
       "    ptr=[31278]\n",
       "  },\n",
       "  \u001b[1m(event, follows, event)\u001b[0m={ edge_index=[2, 1360111] },\n",
       "  \u001b[1m(krs, interacts, event)\u001b[0m={ edge_index=[2, 235756] },\n",
       "  \u001b[1m(krv, interacts, event)\u001b[0m={ edge_index=[2, 466965] },\n",
       "  \u001b[1m(cv, interacts, event)\u001b[0m={ edge_index=[2, 56137] }\n",
       ")"
      ]
     },
     "execution_count": 3,
     "metadata": {},
     "output_type": "execute_result"
    }
   ],
   "source": [
    "transformations = [\n",
    "    hetero_data_utils.AddObjectSelfLoops(),\n",
    "    T.AddSelfLoops(),\n",
    "    T.NormalizeFeatures(),\n",
    "]\n",
    "cs_hoeg_ds = HOEG(\n",
    "    root=\"data/CS/feature_encodings/HOEG/hoeg\",\n",
    "    events_filename=\"CS_split_[C2_P2_P3_O3_eas].fs\",\n",
    "    objects_filename=\"cs_ofg+oi_graph+krs_node_map+krv_node_map+cv_node_map.pkl\",\n",
    "    event_node_label_key=(feature_factory.EVENT_REMAINING_TIME, ()),\n",
    "    object_nodes_label_key=\"@@object_lifecycle_duration\",\n",
    "    edge_types=[\n",
    "        (\"event\", \"follows\", \"event\"),\n",
    "        (\"krs\", \"interacts\", \"event\"),\n",
    "        (\"krv\", \"interacts\", \"event\"),\n",
    "        (\"cv\", \"interacts\", \"event\"),\n",
    "    ],\n",
    "    object_node_types=[\"krs\", \"krv\", \"cv\"],\n",
    "    transform=T.Compose(transformations),\n",
    ")\n",
    "next(iter(data_utils.DataLoader(cs_hoeg_ds, batch_size=cs_hoeg_ds.len())))"
   ]
  },
  {
   "cell_type": "code",
   "execution_count": 4,
   "metadata": {},
   "outputs": [
    {
     "name": "stdout",
     "output_type": "stream",
     "text": [
      "Train set\n"
     ]
    },
    {
     "name": "stderr",
     "output_type": "stream",
     "text": [
      "100%|██████████| 31277/31277 [00:34<00:00, 904.76it/s]"
     ]
    },
    {
     "name": "stdout",
     "output_type": "stream",
     "text": [
      "HOEG (#graphs=31277):\n",
      "+------------+----------+----------+\n",
      "|            |   #nodes |   #edges |\n",
      "|------------+----------+----------|\n",
      "| mean       |     25.3 |     70.8 |\n",
      "| std        |     13   |     39.1 |\n",
      "| min        |      7   |     16   |\n",
      "| quantile25 |     16   |     43   |\n",
      "| median     |     23   |     64   |\n",
      "| quantile75 |     31   |     88   |\n",
      "| max        |    161   |    478   |\n",
      "+------------+----------+----------+ \n",
      "\n"
     ]
    },
    {
     "name": "stderr",
     "output_type": "stream",
     "text": [
      "\n"
     ]
    }
   ],
   "source": [
    "data_utils.print_dataset_summaries(cs_hoeg_ds)"
   ]
  },
  {
   "cell_type": "code",
   "execution_count": 5,
   "metadata": {},
   "outputs": [
    {
     "name": "stderr",
     "output_type": "stream",
     "text": [
      "100%|██████████| 269725/269725 [00:36<00:00, 7326.53it/s] \n"
     ]
    }
   ],
   "source": [
    "fs: Feature_Storage = feature_factory.apply(\n",
    "    ocpa_ocel,\n",
    "    execution_based_features=[(feature_factory.EXECUTION_THROUGHPUT, ())],\n",
    "    min_execution_length=4,\n",
    ")"
   ]
  },
  {
   "cell_type": "code",
   "execution_count": 6,
   "metadata": {},
   "outputs": [
    {
     "name": "stdout",
     "output_type": "stream",
     "text": [
      "{'max_trace_len': 158,\n",
      " 'mean_trace_len': 22.242990056591104,\n",
      " 'median_trace_len': 20.0,\n",
      " 'min_trace_len': 4,\n",
      " 'no_events': 695694,\n",
      " 'std_trace_len': 13.034722696164092}\n"
     ]
    }
   ],
   "source": [
    "trace_lengths = [fg.size for fg in fs.feature_graphs]\n",
    "cs_events_stats = {\n",
    "    \"no_events\": sum(trace_lengths),\n",
    "    \"min_trace_len\": min(trace_lengths),\n",
    "    \"max_trace_len\": max(trace_lengths),\n",
    "    \"median_trace_len\": np.median(trace_lengths),\n",
    "    \"mean_trace_len\": np.mean(trace_lengths),\n",
    "    \"std_trace_len\": np.std(trace_lengths),\n",
    "}\n",
    "pprint(cs_events_stats)"
   ]
  },
  {
   "cell_type": "code",
   "execution_count": 7,
   "metadata": {},
   "outputs": [
    {
     "name": "stdout",
     "output_type": "stream",
     "text": [
      "{'max_tp': 10111075.021,\n",
      " 'mean_tp': 2957048.255577485,\n",
      " 'median_tp': 2432327.002,\n",
      " 'min_tp': 1.143,\n",
      " 'no_cases': 31277,\n",
      " 'std_tp': 2354827.121669342}\n"
     ]
    }
   ],
   "source": [
    "throughput_times = [fg.attributes[fs.execution_features[0]] for fg in fs.feature_graphs]\n",
    "cs_cases_stats = {\n",
    "    \"no_cases\": len(fs.feature_graphs),\n",
    "    \"min_tp\": min(throughput_times),\n",
    "    \"max_tp\": max(throughput_times),\n",
    "    \"median_tp\": np.median(throughput_times),\n",
    "    \"mean_tp\": np.mean(throughput_times),\n",
    "    \"std_tp\": np.std(throughput_times),\n",
    "}\n",
    "pprint(cs_cases_stats)"
   ]
  },
  {
   "cell_type": "code",
   "execution_count": 13,
   "metadata": {},
   "outputs": [
    {
     "data": {
      "text/plain": [
       "{'@@event_num_oa1',\n",
       " '@@event_num_oa10',\n",
       " '@@event_num_oa11',\n",
       " '@@event_num_oa12',\n",
       " '@@event_num_oa13',\n",
       " '@@event_num_oa15',\n",
       " '@@event_num_oa16',\n",
       " '@@event_num_oa2',\n",
       " '@@event_num_oa3',\n",
       " '@@event_num_oa4',\n",
       " '@@event_num_oa5',\n",
       " '@@event_num_oa6',\n",
       " '@@event_num_oa7',\n",
       " '@@event_num_oa8',\n",
       " '@@object_lifecycle_duration',\n",
       " 'krs_index',\n",
       " 'object_index'}"
      ]
     },
     "execution_count": 13,
     "metadata": {},
     "output_type": "execute_result"
    }
   ],
   "source": [
    "with open(\"data/CS/feature_encodings/HOEG/hoeg/raw/cs_ofg+oi_graph+krs_node_map+krv_node_map+cv_node_map.pkl\", 'rb') as fp:\n",
    "    obj_dict = pickle.load(fp)\n",
    "set(obj_dict['object_feature_matrices']['krs'].columns.tolist())"
   ]
  },
  {
   "cell_type": "code",
   "execution_count": null,
   "metadata": {},
   "outputs": [],
   "source": []
  },
  {
   "cell_type": "code",
   "execution_count": null,
   "metadata": {},
   "outputs": [],
   "source": []
  },
  {
   "cell_type": "code",
   "execution_count": null,
   "metadata": {},
   "outputs": [],
   "source": [
    "ocel = pm4py.read.read_ocel(ocel_in_file)\n",
    "ocel_table = ocel.get_extended_table()"
   ]
  },
  {
   "cell_type": "code",
   "execution_count": 4,
   "metadata": {},
   "outputs": [
    {
     "name": "stdout",
     "output_type": "stream",
     "text": [
      "(324035, 17)\n"
     ]
    },
    {
     "data": {
      "text/plain": [
       "0.835691    224507\n",
       "0.164309     99528\n",
       "Name: oa9, dtype: int64"
      ]
     },
     "execution_count": 4,
     "metadata": {},
     "output_type": "execute_result"
    }
   ],
   "source": [
    "#\n",
    "print(ocel.objects.shape)\n",
    "ocel.objects[\"oa9\"].value_counts()"
   ]
  },
  {
   "cell_type": "code",
   "execution_count": 4,
   "metadata": {},
   "outputs": [
    {
     "name": "stdout",
     "output_type": "stream",
     "text": [
      "(1752998, 14)\n"
     ]
    },
    {
     "data": {
      "text/html": [
       "<div>\n",
       "<style scoped>\n",
       "    .dataframe tbody tr th:only-of-type {\n",
       "        vertical-align: middle;\n",
       "    }\n",
       "\n",
       "    .dataframe tbody tr th {\n",
       "        vertical-align: top;\n",
       "    }\n",
       "\n",
       "    .dataframe thead th {\n",
       "        text-align: right;\n",
       "    }\n",
       "</style>\n",
       "<table border=\"1\" class=\"dataframe\">\n",
       "  <thead>\n",
       "    <tr style=\"text-align: right;\">\n",
       "      <th></th>\n",
       "      <th>ocel:eid</th>\n",
       "      <th>ocel:timestamp</th>\n",
       "      <th>ocel:activity</th>\n",
       "      <th>event_ea10</th>\n",
       "      <th>event_ea8</th>\n",
       "      <th>event_ea2</th>\n",
       "      <th>event_ea12</th>\n",
       "      <th>event_ea4</th>\n",
       "      <th>event_ea6</th>\n",
       "      <th>event_resourceCE</th>\n",
       "      <th>event_ea3</th>\n",
       "      <th>event_ea14</th>\n",
       "      <th>event_resourceMulti</th>\n",
       "      <th>event_ea1</th>\n",
       "    </tr>\n",
       "  </thead>\n",
       "  <tbody>\n",
       "    <tr>\n",
       "      <th>0</th>\n",
       "      <td>1</td>\n",
       "      <td>2023-01-01 10:06:44.609</td>\n",
       "      <td>Finish Task</td>\n",
       "      <td>0.224765</td>\n",
       "      <td>0.216395</td>\n",
       "      <td>0.526823</td>\n",
       "      <td>0.274337</td>\n",
       "      <td>4.0</td>\n",
       "      <td>0.26262</td>\n",
       "      <td>0.825684</td>\n",
       "      <td>0.01904</td>\n",
       "      <td>0.019645</td>\n",
       "      <td>0</td>\n",
       "      <td>0.198374</td>\n",
       "    </tr>\n",
       "    <tr>\n",
       "      <th>1</th>\n",
       "      <td>2</td>\n",
       "      <td>2023-01-01 10:08:48.993</td>\n",
       "      <td>Finish Task</td>\n",
       "      <td>0.224765</td>\n",
       "      <td>0.216395</td>\n",
       "      <td>0.526823</td>\n",
       "      <td>0.274337</td>\n",
       "      <td>4.0</td>\n",
       "      <td>0.26262</td>\n",
       "      <td>0.825684</td>\n",
       "      <td>0.01904</td>\n",
       "      <td>0.019645</td>\n",
       "      <td>0</td>\n",
       "      <td>0.198374</td>\n",
       "    </tr>\n",
       "    <tr>\n",
       "      <th>2</th>\n",
       "      <td>3</td>\n",
       "      <td>2023-01-01 10:08:49.088</td>\n",
       "      <td>Update Object State</td>\n",
       "      <td>0.224765</td>\n",
       "      <td>0.216395</td>\n",
       "      <td>0.526823</td>\n",
       "      <td>0.274337</td>\n",
       "      <td>4.0</td>\n",
       "      <td>0.26262</td>\n",
       "      <td>0.825684</td>\n",
       "      <td>0.01904</td>\n",
       "      <td>0.019645</td>\n",
       "      <td>0</td>\n",
       "      <td>0.198374</td>\n",
       "    </tr>\n",
       "    <tr>\n",
       "      <th>3</th>\n",
       "      <td>4</td>\n",
       "      <td>2023-01-01 10:08:49.091</td>\n",
       "      <td>Reallocate Task</td>\n",
       "      <td>0.224765</td>\n",
       "      <td>0.216395</td>\n",
       "      <td>0.526823</td>\n",
       "      <td>0.274337</td>\n",
       "      <td>4.0</td>\n",
       "      <td>0.26262</td>\n",
       "      <td>0.825684</td>\n",
       "      <td>0.01904</td>\n",
       "      <td>0.019645</td>\n",
       "      <td>1</td>\n",
       "      <td>0.198374</td>\n",
       "    </tr>\n",
       "    <tr>\n",
       "      <th>4</th>\n",
       "      <td>5</td>\n",
       "      <td>2023-01-01 10:09:46.678</td>\n",
       "      <td>Finish Task</td>\n",
       "      <td>0.040257</td>\n",
       "      <td>0.247333</td>\n",
       "      <td>-0.061526</td>\n",
       "      <td>0.274337</td>\n",
       "      <td>3.0</td>\n",
       "      <td>0.26262</td>\n",
       "      <td>0.825684</td>\n",
       "      <td>0.07390</td>\n",
       "      <td>0.019645</td>\n",
       "      <td>0</td>\n",
       "      <td>0.198374</td>\n",
       "    </tr>\n",
       "  </tbody>\n",
       "</table>\n",
       "</div>"
      ],
      "text/plain": [
       "  ocel:eid          ocel:timestamp        ocel:activity  event_ea10  \\\n",
       "0        1 2023-01-01 10:06:44.609          Finish Task    0.224765   \n",
       "1        2 2023-01-01 10:08:48.993          Finish Task    0.224765   \n",
       "2        3 2023-01-01 10:08:49.088  Update Object State    0.224765   \n",
       "3        4 2023-01-01 10:08:49.091      Reallocate Task    0.224765   \n",
       "4        5 2023-01-01 10:09:46.678          Finish Task    0.040257   \n",
       "\n",
       "   event_ea8  event_ea2  event_ea12  event_ea4  event_ea6  event_resourceCE  \\\n",
       "0   0.216395   0.526823    0.274337        4.0    0.26262          0.825684   \n",
       "1   0.216395   0.526823    0.274337        4.0    0.26262          0.825684   \n",
       "2   0.216395   0.526823    0.274337        4.0    0.26262          0.825684   \n",
       "3   0.216395   0.526823    0.274337        4.0    0.26262          0.825684   \n",
       "4   0.247333  -0.061526    0.274337        3.0    0.26262          0.825684   \n",
       "\n",
       "   event_ea3  event_ea14  event_resourceMulti  event_ea1  \n",
       "0    0.01904    0.019645                    0   0.198374  \n",
       "1    0.01904    0.019645                    0   0.198374  \n",
       "2    0.01904    0.019645                    0   0.198374  \n",
       "3    0.01904    0.019645                    1   0.198374  \n",
       "4    0.07390    0.019645                    0   0.198374  "
      ]
     },
     "execution_count": 4,
     "metadata": {},
     "output_type": "execute_result"
    }
   ],
   "source": [
    "print(ocel.events.shape)\n",
    "ocel.events.head()"
   ]
  },
  {
   "cell_type": "code",
   "execution_count": 5,
   "metadata": {},
   "outputs": [],
   "source": [
    "with open(ocel_in_file, \"r\") as ocel:\n",
    "    data = json.load(ocel)"
   ]
  },
  {
   "cell_type": "code",
   "execution_count": 29,
   "metadata": {},
   "outputs": [],
   "source": [
    "res = []\n",
    "for e in data[\"ocel:events\"].values():\n",
    "    res.extend(e[\"ocel:omap\"])"
   ]
  },
  {
   "cell_type": "code",
   "execution_count": 30,
   "metadata": {},
   "outputs": [
    {
     "data": {
      "text/plain": [
       "2"
      ]
     },
     "execution_count": 30,
     "metadata": {},
     "output_type": "execute_result"
    }
   ],
   "source": [
    "failure = \"KRV-3723804\"\n",
    "res.count(failure)"
   ]
  }
 ],
 "metadata": {
  "kernelspec": {
   "display_name": ".env",
   "language": "python",
   "name": "python3"
  },
  "language_info": {
   "codemirror_mode": {
    "name": "ipython",
    "version": 3
   },
   "file_extension": ".py",
   "mimetype": "text/x-python",
   "name": "python",
   "nbconvert_exporter": "python",
   "pygments_lexer": "ipython3",
   "version": "3.9.17"
  },
  "orig_nbformat": 4
 },
 "nbformat": 4,
 "nbformat_minor": 2
}
