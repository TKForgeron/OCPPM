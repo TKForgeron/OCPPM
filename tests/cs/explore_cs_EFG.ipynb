{
 "cells": [
  {
   "cell_type": "code",
   "execution_count": 1,
   "metadata": {},
   "outputs": [
    {
     "name": "stdout",
     "output_type": "stream",
     "text": [
      "CPU: Intel(R) Core(TM) i5-7500 CPU @ 3.40GHz (4x)\n",
      "Total CPU memory: 46.93GB\n",
      "Available CPU memory: 34.35GB\n",
      "GPU: NVIDIA GeForce GTX 960\n",
      "Total GPU memory: 4096.0MB\n",
      "Available GPU memory: 2872.0MB\n",
      "Platform: Linux-5.19.0-46-generic-x86_64-with-glibc2.35\n"
     ]
    }
   ],
   "source": [
    "# DEPENDENCIES\n",
    "# Python native\n",
    "import os\n",
    "\n",
    "os.chdir(\"/home/tim/Development/OCPPM/\")\n",
    "import pprint\n",
    "import functools\n",
    "from typing import Any, Callable\n",
    "\n",
    "# Data handling\n",
    "import numpy as np\n",
    "import ocpa.algo.predictive_monitoring.factory as feature_factory\n",
    "\n",
    "# PyG\n",
    "import torch\n",
    "\n",
    "# # Simple machine learning models, procedure tools, and evaluation metrics\n",
    "from torch_geometric.loader import DataLoader\n",
    "from tqdm import tqdm\n",
    "\n",
    "# Custom imports\n",
    "from experiments.efg import EFG\n",
    "from experiments.efg_sg import EFG_SG\n",
    "from utilities import torch_utils\n",
    "from utilities import data_utils\n",
    "from utilities import training_utils\n",
    "from utilities import evaluation_utils\n",
    "\n",
    "torch_utils.print_system_info()\n",
    "\n",
    "\n",
    "# Setup\n",
    "cs_efg_config = {\n",
    "    \"model_output_path\": \"models/CS/efg\",\n",
    "    \"STORAGE_PATH\": \"data/CS/feature_encodings/EFG/efg\",\n",
    "    \"SPLIT_FEATURE_STORAGE_FILE\": \"CS_split_[C2_P2_P3_O3_eas].fs\",\n",
    "    \"graph_level_prediction\": True,\n",
    "    \"classification_task\": True,\n",
    "    \"TARGET_LABEL\": \"event_ea4\",\n",
    "    \"features_dtype\": torch.float32,\n",
    "    \"target_dtype\": torch.int64,\n",
    "    \"class_distribution\": {\n",
    "        0.0: 0.705315,\n",
    "        1.0: 0.015818,\n",
    "        2.0: 0.010882,\n",
    "        3.0: 0.016800,\n",
    "        4.0: 0.069764,\n",
    "        5.0: 0.081383,\n",
    "        6.0: 0.100038,\n",
    "    },\n",
    "    \"SUBGRAPH_SIZE\": 4,\n",
    "    \"BATCH_SIZE\": 64,\n",
    "    \"RANDOM_SEED\": 42,\n",
    "    \"EPOCHS\": 30,\n",
    "    \"early_stopping\": 5,\n",
    "    \"optimizer_settings\": {\n",
    "        \"lr\": 0.001,\n",
    "        \"betas\": (0.9, 0.999),\n",
    "        \"eps\": 1e-08,\n",
    "        \"weight_decay\": 0,\n",
    "        \"amsgrad\": False,\n",
    "    },\n",
    "    \"loss_fn\": torch.nn.CrossEntropyLoss(),\n",
    "    \"device\": torch.device(\"cuda:0\" if torch.cuda.is_available() else \"cpu\"),\n",
    "    \"verbose\": True,\n",
    "    \"skip_cache\": False,\n",
    "}\n",
    "cs_efg_config[\"regression_task\"] = True\n",
    "if cs_efg_config[\"regression_task\"]:\n",
    "    cs_efg_config[\"target_dtype\"] = torch.float32\n",
    "    cs_efg_config[\"TARGET_LABEL\"] = (feature_factory.EVENT_REMAINING_TIME, ())\n",
    "    cs_efg_config[\"loss_fn\"] = torch.nn.L1Loss()\n",
    "    if \"class_distribution\" in cs_efg_config:\n",
    "        del cs_efg_config[\"class_distribution\"]\n",
    "\n",
    "# ADAPTATIONS\n",
    "# cs_efg_config[\"BATCH_SIZE\"] = 64\n",
    "# cs_efg_config[\"skip_cache\"] = False"
   ]
  },
  {
   "cell_type": "code",
   "execution_count": 2,
   "metadata": {},
   "outputs": [],
   "source": [
    "# Get data and dataloaders\n",
    "(\n",
    "    # ds_train,\n",
    "    ds_val,\n",
    "    # ds_test\n",
    ") = data_utils.load_datasets(\n",
    "    dataset_class=EFG_SG,\n",
    "    storage_path=cs_efg_config[\"STORAGE_PATH\"],\n",
    "    split_feature_storage_file=cs_efg_config[\"SPLIT_FEATURE_STORAGE_FILE\"],\n",
    "    target_label=cs_efg_config[\"TARGET_LABEL\"],\n",
    "    graph_level_target=cs_efg_config[\"graph_level_prediction\"],\n",
    "    features_dtype=cs_efg_config[\"features_dtype\"],\n",
    "    target_dtype=cs_efg_config[\"target_dtype\"],\n",
    "    subgraph_size=cs_efg_config[\"SUBGRAPH_SIZE\"],\n",
    "    # train=True,\n",
    "    val=True,\n",
    "    # test=True,\n",
    "    skip_cache=cs_efg_config[\"skip_cache\"],\n",
    ")"
   ]
  },
  {
   "cell_type": "code",
   "execution_count": 4,
   "metadata": {},
   "outputs": [],
   "source": [
    "(\n",
    "    # train_loader,\n",
    "    val_loader,\n",
    "    # test_loader\n",
    ") = data_utils.prepare_dataloaders(\n",
    "    batch_size=cs_efg_config[\"BATCH_SIZE\"],\n",
    "    # ds_train=ds_train,\n",
    "    ds_val=ds_val,\n",
    "    # ds_test=ds_test,\n",
    "    # num_workers=0,\n",
    "    seed_worker=functools.partial(\n",
    "        torch_utils.seed_worker, state=cs_efg_config[\"RANDOM_SEED\"]\n",
    "    ),\n",
    "    generator=torch.Generator().manual_seed(cs_efg_config[\"RANDOM_SEED\"]),\n",
    ")"
   ]
  },
  {
   "cell_type": "code",
   "execution_count": 5,
   "metadata": {},
   "outputs": [
    {
     "name": "stdout",
     "output_type": "stream",
     "text": [
      "Validation set\n"
     ]
    },
    {
     "name": "stderr",
     "output_type": "stream",
     "text": [
      "100%|██████████| 58666/58666 [00:37<00:00, 1580.64it/s]\n"
     ]
    },
    {
     "name": "stdout",
     "output_type": "stream",
     "text": [
      "EFG (#graphs=58666):\n",
      "+------------+----------+----------+\n",
      "|            |   #nodes |   #edges |\n",
      "|------------+----------+----------|\n",
      "| mean       |      8.5 |      7.5 |\n",
      "| std        |     11.3 |     11.3 |\n",
      "| min        |      1   |      0   |\n",
      "| quantile25 |      1   |      0   |\n",
      "| median     |      3   |      2   |\n",
      "| quantile75 |     12   |     11   |\n",
      "| max        |    143   |    142   |\n",
      "+------------+----------+----------+ \n",
      "\n"
     ]
    }
   ],
   "source": [
    "data_utils.print_dataset_summaries(ds_val=ds_val)"
   ]
  },
  {
   "cell_type": "code",
   "execution_count": null,
   "metadata": {},
   "outputs": [],
   "source": []
  }
 ],
 "metadata": {
  "kernelspec": {
   "display_name": ".env",
   "language": "python",
   "name": "python3"
  },
  "language_info": {
   "codemirror_mode": {
    "name": "ipython",
    "version": 3
   },
   "file_extension": ".py",
   "mimetype": "text/x-python",
   "name": "python",
   "nbconvert_exporter": "python",
   "pygments_lexer": "ipython3",
   "version": "3.9.17"
  },
  "orig_nbformat": 4
 },
 "nbformat": 4,
 "nbformat_minor": 2
}
