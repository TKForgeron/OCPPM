{
 "cells": [
  {
   "cell_type": "code",
   "execution_count": 1,
   "metadata": {},
   "outputs": [
    {
     "name": "stderr",
     "output_type": "stream",
     "text": [
      "CRITICAL:root:-------------------------------- TEST CS HOEG --------------------------------\n"
     ]
    },
    {
     "name": "stdout",
     "output_type": "stream",
     "text": [
      "CPU: Intel(R) Core(TM) i5-7500 CPU @ 3.40GHz (4x)\n",
      "Total CPU memory: 46.93GB\n",
      "Available CPU memory: 31.92GB\n",
      "GPU: NVIDIA GeForce GTX 960\n",
      "Total GPU memory: 4096.0MB\n",
      "Available GPU memory: 4029.0MB\n",
      "Platform: Linux-6.2.0-26-generic-x86_64-with-glibc2.35\n",
      "Torch version: 1.13.1+cu117\n",
      "Cuda available: True\n",
      "Torch geometric version: 2.3.1\n"
     ]
    }
   ],
   "source": [
    "# DEPENDENCIES\n",
    "# Python native\n",
    "import functools\n",
    "import json\n",
    "import os\n",
    "\n",
    "os.chdir(\"/home/tim/Development/OCPPM/\")\n",
    "import pickle\n",
    "import logging\n",
    "import random\n",
    "from copy import copy\n",
    "from datetime import datetime\n",
    "from statistics import median as median\n",
    "from sys import platform\n",
    "from typing import Any, Callable\n",
    "\n",
    "# Data handling\n",
    "import numpy as np\n",
    "import ocpa.algo.predictive_monitoring.factory as feature_factory\n",
    "\n",
    "# PyG\n",
    "import torch\n",
    "import torch.nn as nn\n",
    "import torch.nn.functional as F\n",
    "import torch.optim as O\n",
    "\n",
    "# PyTorch TensorBoard support\n",
    "import torch.utils.tensorboard\n",
    "import torch_geometric.nn as pygnn\n",
    "import torch_geometric.transforms as T\n",
    "\n",
    "# Object centric process mining\n",
    "from ocpa.algo.predictive_monitoring.obj import Feature_Storage as FeatureStorage\n",
    "\n",
    "# # Simple machine learning models, procedure tools, and evaluation metrics\n",
    "# from sklearn.model_selection import train_test_split\n",
    "from sklearn.preprocessing import StandardScaler\n",
    "from torch import tensor\n",
    "from torch.utils.tensorboard.writer import SummaryWriter\n",
    "from torch_geometric.loader import DataLoader\n",
    "from tqdm import tqdm\n",
    "\n",
    "import utilities.evaluation_utils as evaluation_utils\n",
    "import utilities.hetero_data_utils as hetero_data_utils\n",
    "import utilities.hetero_evaluation_utils as hetero_evaluation_utils\n",
    "import utilities.hetero_training_utils as hetero_training_utils\n",
    "import utilities.torch_utils\n",
    "\n",
    "# Custom imports\n",
    "# from loan_application_experiment.feature_encodings.efg.efg import EFG\n",
    "from experiments.hoeg import HOEG\n",
    "\n",
    "# from importing_ocel import build_feature_storage, load_ocel, pickle_feature_storage\n",
    "from models.definitions.geometric_models import GraphModel, HigherOrderGNN\n",
    "\n",
    "# Print system info\n",
    "utilities.torch_utils.print_system_info()\n",
    "utilities.torch_utils.print_torch_info()\n",
    "\n",
    "# INITIAL CONFIGURATION\n",
    "cs_hoeg_config = {\n",
    "    \"STORAGE_PATH\": \"data/CS/feature_encodings/HOEG/hoeg\",\n",
    "    \"SPLIT_FEATURE_STORAGE_FILE\": \"CS_split_[C2_P2_P3_O3_eas].fs\",\n",
    "    \"events_target_label\": (feature_factory.EVENT_REMAINING_TIME, ()),\n",
    "    \"objects_target_label\": \"@@object_lifecycle_duration\",\n",
    "    \"OBJECTS_DATA_DICT\": \"cs_ofg+oi_graph+krs_node_map+krv_node_map+cv_node_map.pkl\",\n",
    "    \"BATCH_SIZE\": 16,\n",
    "    \"RANDOM_SEED\": 42,\n",
    "    \"EPOCHS\": 32,\n",
    "    \"target_node_type\": \"event\",\n",
    "    \"object_types\": [\"krs\", \"krv\", \"cv\"],\n",
    "    \"meta_data\": (\n",
    "        [\"event\", \"krs\", \"krv\", \"cv\"],\n",
    "        [\n",
    "            (\"event\", \"follows\", \"event\"),\n",
    "            (\"event\", \"interacts\", \"krs\"),\n",
    "            (\"event\", \"interacts\", \"krv\"),\n",
    "            (\"event\", \"interacts\", \"cv\"),\n",
    "        ],\n",
    "    ),\n",
    "    \"early_stopping\": 8,\n",
    "    \"optimizer_settings\": {\n",
    "        \"lr\": 0.001,\n",
    "        \"betas\": (0.9, 0.999),\n",
    "        \"eps\": 1e-08,\n",
    "        \"weight_decay\": 0,\n",
    "        \"amsgrad\": False,\n",
    "    },\n",
    "    \"loss_fn\": torch.nn.L1Loss(),\n",
    "    \"verbose\": False,\n",
    "    \"skip_cache\": False,\n",
    "    \"device\": torch.device(\"cuda\" if torch.cuda.is_available() else \"cpu\"),\n",
    "}\n",
    "\n",
    "# CONFIGURATION ADAPTATIONS may be set here\n",
    "# cs_hoeg_config[\"early_stopping\"] = 4\n",
    "# cs_hoeg_config['skip_cache'] = True\n",
    "logging.basicConfig(\n",
    "    level=logging.INFO,\n",
    "    format=\"%(asctime)s %(levelname)s %(message)s\",\n",
    "    datefmt=\"%Y-%m-%d %H:%M:%S\",\n",
    "    filename=\"logging/debug.log\",\n",
    ")\n",
    "logging.critical(\"-\" * 32 + \" TEST CS HOEG \" + \"-\" * 32)"
   ]
  },
  {
   "cell_type": "code",
   "execution_count": 35,
   "metadata": {},
   "outputs": [
    {
     "data": {
      "text/plain": [
       "tensor([0, 1, 2])"
      ]
     },
     "execution_count": 35,
     "metadata": {},
     "output_type": "execute_result"
    }
   ],
   "source": [
    "torch.arange(3)"
   ]
  },
  {
   "cell_type": "code",
   "execution_count": 58,
   "metadata": {},
   "outputs": [
    {
     "name": "stdout",
     "output_type": "stream",
     "text": [
      "Functions yield equal result:  False\n",
      "Final class method duration: 0.000293731689453125\n",
      "Vectorized function duration: 0.00013327598571777344\n",
      "Speedup factor: 2.2039355992844363\n"
     ]
    }
   ],
   "source": [
    "import time\n",
    "\n",
    "edge_index = torch.tensor(\n",
    "    [\n",
    "        [0, 0, 0, 0, 6, 0, 0, 0, 0, 0, 0, 0, 0, 1, 3],\n",
    "        [0, 1, 3, 4, 0, 12, 13, 16, 17, 18, 19, 20, 21, 22, 23],\n",
    "    ],\n",
    "    dtype=torch.int64,\n",
    ")\n",
    "\n",
    "\n",
    "# Original fix_edge_index function\n",
    "def correct_object_event_edge_index(\n",
    "    edge_index: torch.Tensor,\n",
    "    allowed_object_indices: torch.Tensor,\n",
    "    object_node_type_position: int,\n",
    ") -> torch.Tensor:\n",
    "    object_id_row = int(bool(object_node_type_position))\n",
    "    event_id_row = int(not (bool(object_node_type_position)))\n",
    "    allowed_object_indices, _ = torch.sort(allowed_object_indices)\n",
    "    mask = ~torch.isin(edge_index[object_id_row], allowed_object_indices)\n",
    "    edge_index[event_id_row, mask] = edge_index[object_id_row, mask]\n",
    "    edge_index[object_id_row, mask] = allowed_object_indices[0]  # Note the difference\n",
    "    return edge_index\n",
    "\n",
    "\n",
    "# Vectorized fix_edge_index function\n",
    "def _correct_object_event_edge_index(\n",
    "    edge_index: torch.Tensor,\n",
    "    num_object_nodes: int,\n",
    "    object_node_type_position: int,\n",
    ") -> torch.Tensor:\n",
    "    object_id_row = int(bool(object_node_type_position))\n",
    "    event_id_row = int(not (bool(object_node_type_position)))\n",
    "    allowed_object_indices = torch.arange(num_object_nodes)\n",
    "    mask = ~torch.isin(edge_index[object_id_row], allowed_object_indices)\n",
    "    edge_index[event_id_row, mask] = edge_index[object_id_row, mask]\n",
    "    edge_index[object_id_row, mask] = allowed_object_indices[-1]  # Note the difference\n",
    "    return edge_index\n",
    "\n",
    "\n",
    "# Generate a large edge_index for testing\n",
    "num_edges = 100000\n",
    "# edge_index = torch.randint(0, 100, (2, num_edges))\n",
    "\n",
    "# Test the speed of the original function\n",
    "start_time = time.time()\n",
    "fixed_edge_index_original = correct_object_event_edge_index(\n",
    "    edge_index.clone(), torch.tensor([0, 1]), 0\n",
    ")\n",
    "original_duration = time.time() - start_time\n",
    "\n",
    "# Test the speed of the vectorized function\n",
    "start_time = time.time()\n",
    "fixed_edge_index_vectorized = _correct_object_event_edge_index(edge_index.clone(), 2, 0)\n",
    "vectorized_duration = time.time() - start_time\n",
    "\n",
    "print(\n",
    "    \"Functions yield equal result: \",\n",
    "    bool((fixed_edge_index_original == fixed_edge_index_vectorized).all()),\n",
    ")\n",
    "print(\"Final class method duration:\", original_duration)\n",
    "print(\"Vectorized function duration:\", vectorized_duration)\n",
    "print(\"Speedup factor:\", original_duration / vectorized_duration)"
   ]
  },
  {
   "cell_type": "code",
   "execution_count": 64,
   "metadata": {},
   "outputs": [
    {
     "data": {
      "text/plain": [
       "tensor([[ 0,  0,  0,  0,  1,  0,  0,  0,  0,  0,  0,  0,  0,  1,  1],\n",
       "        [ 0,  1,  3,  4,  6, 12, 13, 16, 17, 18, 19, 20, 21, 22,  3]])"
      ]
     },
     "execution_count": 64,
     "metadata": {},
     "output_type": "execute_result"
    }
   ],
   "source": [
    "correct_object_event_edge_index(edge_index.clone(), torch.tensor([0, 1]), 0)\n",
    "_correct_object_event_edge_index(edge_index.clone(), 2, 0)"
   ]
  },
  {
   "cell_type": "code",
   "execution_count": 3,
   "metadata": {},
   "outputs": [],
   "source": [
    "feature_storage_out_file = (\n",
    "    \"data/CS/feature_encodings/EFG/efg/raw/CS_split_[C2_P2_P3_O3_eas].fs\"\n",
    ")\n",
    "with open(feature_storage_out_file, \"rb\") as binary:\n",
    "    fs: FeatureStorage = pickle.load(binary)"
   ]
  },
  {
   "cell_type": "code",
   "execution_count": 25,
   "metadata": {},
   "outputs": [],
   "source": [
    "fg = fs.feature_graphs[83116]"
   ]
  },
  {
   "cell_type": "code",
   "execution_count": 26,
   "metadata": {},
   "outputs": [],
   "source": [
    "unique_objects = set(item for obj in fg.objects.values() for item in obj)"
   ]
  },
  {
   "cell_type": "code",
   "execution_count": 27,
   "metadata": {},
   "outputs": [
    {
     "data": {
      "text/plain": [
       "{'krs': {'KRS-6197856': 0}}"
      ]
     },
     "execution_count": 27,
     "metadata": {},
     "output_type": "execute_result"
    }
   ],
   "source": [
    "from collections import defaultdict\n",
    "\n",
    "\n",
    "def __set_to_split_dict(unique_objects: set[tuple[str, str]]) -> dict[str, list[str]]:\n",
    "    # Function that splits a set of [object type, object id]\n",
    "    # into a dict with object types as keys and object ids as values\n",
    "    result = defaultdict(list)\n",
    "    for item in unique_objects:\n",
    "        result[item[0]].append(item[1])\n",
    "    return dict(result)\n",
    "\n",
    "\n",
    "unique_objects_dict = __set_to_split_dict(unique_objects)\n",
    "object_node_map = {\n",
    "    key: {value: index for index, value in enumerate(value_list)}\n",
    "    for key, value_list in unique_objects_dict.items()\n",
    "}\n",
    "object_node_map"
   ]
  },
  {
   "cell_type": "code",
   "execution_count": null,
   "metadata": {},
   "outputs": [],
   "source": []
  },
  {
   "cell_type": "code",
   "execution_count": 3,
   "metadata": {},
   "outputs": [
    {
     "name": "stderr",
     "output_type": "stream",
     "text": [
      "Processing...\n",
      "181it [00:01, 94.84it/s] "
     ]
    },
    {
     "name": "stdout",
     "output_type": "stream",
     "text": [
      "in self.__get_edge_index_for_edge_type()\n",
      "fg.pexec_id: 163\n",
      "(1696790, 'KRV-5060456')\n",
      "{'KRV-6657256': 0}\n"
     ]
    },
    {
     "name": "stderr",
     "output_type": "stream",
     "text": [
      "972it [00:09, 101.24it/s]"
     ]
    },
    {
     "name": "stdout",
     "output_type": "stream",
     "text": [
      "in self.__get_edge_index_for_edge_type()\n",
      "fg.pexec_id: 958\n",
      "(360386, 'KRS-7579265')\n",
      "{'KRS-8339882': 0}\n"
     ]
    },
    {
     "name": "stderr",
     "output_type": "stream",
     "text": [
      "1466it [00:14, 107.22it/s]"
     ]
    },
    {
     "name": "stdout",
     "output_type": "stream",
     "text": [
      "in self.__get_edge_index_for_edge_type()\n",
      "fg.pexec_id: 1446\n",
      "(1395165, 'KRV-5033027')\n",
      "{'KRV-1525213': 0}\n"
     ]
    },
    {
     "name": "stderr",
     "output_type": "stream",
     "text": [
      "1552it [00:15, 92.74it/s] "
     ]
    },
    {
     "name": "stdout",
     "output_type": "stream",
     "text": [
      "in self.__get_edge_index_for_edge_type()\n",
      "fg.pexec_id: 1534\n",
      "(596916, 'KRV-8581988')\n",
      "{'KRV-9862277': 0}\n"
     ]
    },
    {
     "name": "stderr",
     "output_type": "stream",
     "text": [
      "1608it [00:15, 106.25it/s]"
     ]
    },
    {
     "name": "stdout",
     "output_type": "stream",
     "text": [
      "in self.__get_edge_index_for_edge_type()\n",
      "fg.pexec_id: 1595\n",
      "(62955, 'KRS-1227798')\n",
      "{'KRS-7803609': 0}\n"
     ]
    },
    {
     "name": "stderr",
     "output_type": "stream",
     "text": [
      "1819it [00:18, 104.64it/s]"
     ]
    },
    {
     "name": "stdout",
     "output_type": "stream",
     "text": [
      "in self.__get_edge_index_for_edge_type()\n",
      "fg.pexec_id: 1797\n",
      "(863527, 'KRV-149336')\n",
      "{'KRV-4482379': 0}\n"
     ]
    },
    {
     "name": "stderr",
     "output_type": "stream",
     "text": [
      "1944it [00:19, 93.68it/s] "
     ]
    },
    {
     "name": "stdout",
     "output_type": "stream",
     "text": [
      "in self.__get_edge_index_for_edge_type()\n",
      "fg.pexec_id: 1929\n",
      "(1609588, 'KRS-8978524')\n",
      "{'KRS-9341017': 0}\n"
     ]
    },
    {
     "name": "stderr",
     "output_type": "stream",
     "text": [
      "2215it [00:22, 103.69it/s]"
     ]
    },
    {
     "name": "stdout",
     "output_type": "stream",
     "text": [
      "in self.__get_edge_index_for_edge_type()\n",
      "fg.pexec_id: 2198\n",
      "(487787, 'KRV-6042680')\n",
      "{'KRV-3197183': 0}\n"
     ]
    },
    {
     "name": "stderr",
     "output_type": "stream",
     "text": [
      "2269it [00:22, 102.44it/s]"
     ]
    },
    {
     "name": "stdout",
     "output_type": "stream",
     "text": [
      "in self.__get_edge_index_for_edge_type()\n",
      "fg.pexec_id: 2256\n",
      "(1349820, 'KRV-5131099')\n",
      "{'KRV-9704393': 0}\n",
      "in self.__get_edge_index_for_edge_type()\n",
      "fg.pexec_id: 2261\n",
      "(726301, 'KRV-838923')\n",
      "{'KRV-1668011': 0}\n",
      "in self.__get_edge_index_for_edge_type()\n",
      "fg.pexec_id: 2269\n",
      "(360695, 'KRS-4194471')\n",
      "{'KRS-7671141': 0}\n"
     ]
    },
    {
     "name": "stderr",
     "output_type": "stream",
     "text": [
      "2444it [00:24, 95.53it/s] "
     ]
    },
    {
     "name": "stdout",
     "output_type": "stream",
     "text": [
      "in self.__get_edge_index_for_edge_type()\n",
      "fg.pexec_id: 2425\n",
      "(595516, 'KRS-3482974')\n",
      "{'KRS-5001136': 0}\n"
     ]
    },
    {
     "name": "stderr",
     "output_type": "stream",
     "text": [
      "2574it [00:25, 122.49it/s]"
     ]
    },
    {
     "name": "stdout",
     "output_type": "stream",
     "text": [
      "in self.__get_edge_index_for_edge_type()\n",
      "fg.pexec_id: 2547\n",
      "(1584691, 'KRV-9563103')\n",
      "{'KRV-9003632': 0}\n"
     ]
    },
    {
     "name": "stderr",
     "output_type": "stream",
     "text": [
      "2622it [00:26, 113.18it/s]"
     ]
    },
    {
     "name": "stdout",
     "output_type": "stream",
     "text": [
      "in self.__get_edge_index_for_edge_type()\n",
      "fg.pexec_id: 2609\n",
      "(494528, 'KRS-7140697')\n",
      "{'KRS-5201924': 0}\n"
     ]
    },
    {
     "name": "stderr",
     "output_type": "stream",
     "text": [
      "3600it [00:36, 78.67it/s] "
     ]
    },
    {
     "name": "stdout",
     "output_type": "stream",
     "text": [
      "in self.__get_edge_index_for_edge_type()\n",
      "fg.pexec_id: 3590\n",
      "(751076, 'KRS-1726037')\n",
      "{'KRS-8910044': 0}\n"
     ]
    },
    {
     "name": "stderr",
     "output_type": "stream",
     "text": [
      "3951it [00:39, 79.28it/s] "
     ]
    },
    {
     "name": "stdout",
     "output_type": "stream",
     "text": [
      "in self.__get_edge_index_for_edge_type()\n",
      "fg.pexec_id: 3938\n",
      "(1209092, 'KRV-5283537')\n",
      "{'KRV-6204763': 0}\n"
     ]
    },
    {
     "name": "stderr",
     "output_type": "stream",
     "text": [
      "4185it [00:42, 109.77it/s]"
     ]
    },
    {
     "name": "stdout",
     "output_type": "stream",
     "text": [
      "in self.__get_edge_index_for_edge_type()\n",
      "fg.pexec_id: 4166\n",
      "(589660, 'KRV-8101442')\n",
      "{'KRV-1304186': 0}\n"
     ]
    },
    {
     "name": "stderr",
     "output_type": "stream",
     "text": [
      "4263it [00:43, 94.66it/s] "
     ]
    },
    {
     "name": "stdout",
     "output_type": "stream",
     "text": [
      "in self.__get_edge_index_for_edge_type()\n",
      "fg.pexec_id: 4245\n",
      "(1054451, 'KRV-2448420')\n",
      "{'KRV-6605662': 0}\n"
     ]
    },
    {
     "name": "stderr",
     "output_type": "stream",
     "text": [
      "4777it [00:48, 73.25it/s] "
     ]
    },
    {
     "name": "stdout",
     "output_type": "stream",
     "text": [
      "in self.__get_edge_index_for_edge_type()\n",
      "fg.pexec_id: 4767\n",
      "(1106228, 'KRV-3360714')\n",
      "{'KRV-6599082': 0}\n"
     ]
    },
    {
     "name": "stderr",
     "output_type": "stream",
     "text": [
      "4822it [00:49, 79.26it/s]"
     ]
    },
    {
     "name": "stdout",
     "output_type": "stream",
     "text": [
      "in self.__get_edge_index_for_edge_type()\n",
      "fg.pexec_id: 4809\n",
      "(1585391, 'KRV-4399117')\n",
      "{'KRV-5055432': 0}\n"
     ]
    },
    {
     "name": "stderr",
     "output_type": "stream",
     "text": [
      "4940it [00:50, 85.36it/s] "
     ]
    },
    {
     "name": "stdout",
     "output_type": "stream",
     "text": [
      "in self.__get_edge_index_for_edge_type()\n",
      "fg.pexec_id: 4925\n",
      "(677820, 'KRV-2608872')\n",
      "{'KRV-689761': 0}\n"
     ]
    },
    {
     "name": "stderr",
     "output_type": "stream",
     "text": [
      "5003it [00:51, 97.08it/s]\n"
     ]
    },
    {
     "ename": "KeyboardInterrupt",
     "evalue": "",
     "output_type": "error",
     "traceback": [
      "\u001b[0;31m---------------------------------------------------------------------------\u001b[0m",
      "\u001b[0;31mKeyboardInterrupt\u001b[0m                         Traceback (most recent call last)",
      "Cell \u001b[0;32mIn[3], line 12\u001b[0m\n\u001b[1;32m      1\u001b[0m kwargs \u001b[39m=\u001b[39m {\n\u001b[1;32m      2\u001b[0m     \u001b[39m\"\u001b[39m\u001b[39mroot\u001b[39m\u001b[39m\"\u001b[39m: cs_hoeg_config[\u001b[39m\"\u001b[39m\u001b[39mSTORAGE_PATH\u001b[39m\u001b[39m\"\u001b[39m],\n\u001b[1;32m      3\u001b[0m     \u001b[39m\"\u001b[39m\u001b[39mevents_filename\u001b[39m\u001b[39m\"\u001b[39m: cs_hoeg_config[\u001b[39m\"\u001b[39m\u001b[39mSPLIT_FEATURE_STORAGE_FILE\u001b[39m\u001b[39m\"\u001b[39m],\n\u001b[0;32m   (...)\u001b[0m\n\u001b[1;32m     10\u001b[0m     \u001b[39m\"\u001b[39m\u001b[39mskip_cache\u001b[39m\u001b[39m\"\u001b[39m: cs_hoeg_config[\u001b[39m\"\u001b[39m\u001b[39mskip_cache\u001b[39m\u001b[39m\"\u001b[39m],\n\u001b[1;32m     11\u001b[0m }\n\u001b[0;32m---> 12\u001b[0m HOEG(\u001b[39m*\u001b[39;49m\u001b[39m*\u001b[39;49mkwargs)\n",
      "File \u001b[0;32m~/Development/OCPPM/experiments/hoeg.py:109\u001b[0m, in \u001b[0;36mHOEG.__init__\u001b[0;34m(self, root, events_filename, objects_filename, event_node_label_key, object_nodes_label_key, edge_types, object_node_types, event_node_type, graph_level_target, target_dtype, features_dtype, train, validation, test, verbosity, transform, pre_transform, file_extension, skip_cache)\u001b[0m\n\u001b[1;32m    107\u001b[0m \u001b[39mself\u001b[39m\u001b[39m.\u001b[39m_file_extension \u001b[39m=\u001b[39m file_extension\n\u001b[1;32m    108\u001b[0m \u001b[39mself\u001b[39m\u001b[39m.\u001b[39mskip_cache \u001b[39m=\u001b[39m skip_cache\n\u001b[0;32m--> 109\u001b[0m \u001b[39msuper\u001b[39;49m(EFG, \u001b[39mself\u001b[39;49m)\u001b[39m.\u001b[39;49m\u001b[39m__init__\u001b[39;49m(\n\u001b[1;32m    110\u001b[0m     root, transform, pre_transform\n\u001b[1;32m    111\u001b[0m )\n",
      "File \u001b[0;32m~/Development/OCPPM/.env/lib/python3.9/site-packages/torch_geometric/data/dataset.py:97\u001b[0m, in \u001b[0;36mDataset.__init__\u001b[0;34m(self, root, transform, pre_transform, pre_filter, log)\u001b[0m\n\u001b[1;32m     94\u001b[0m     \u001b[39mself\u001b[39m\u001b[39m.\u001b[39m_download()\n\u001b[1;32m     96\u001b[0m \u001b[39mif\u001b[39;00m \u001b[39mself\u001b[39m\u001b[39m.\u001b[39mhas_process:\n\u001b[0;32m---> 97\u001b[0m     \u001b[39mself\u001b[39;49m\u001b[39m.\u001b[39;49m_process()\n",
      "File \u001b[0;32m~/Development/OCPPM/.env/lib/python3.9/site-packages/torch_geometric/data/dataset.py:230\u001b[0m, in \u001b[0;36mDataset._process\u001b[0;34m(self)\u001b[0m\n\u001b[1;32m    227\u001b[0m     \u001b[39mprint\u001b[39m(\u001b[39m'\u001b[39m\u001b[39mProcessing...\u001b[39m\u001b[39m'\u001b[39m, file\u001b[39m=\u001b[39msys\u001b[39m.\u001b[39mstderr)\n\u001b[1;32m    229\u001b[0m makedirs(\u001b[39mself\u001b[39m\u001b[39m.\u001b[39mprocessed_dir)\n\u001b[0;32m--> 230\u001b[0m \u001b[39mself\u001b[39;49m\u001b[39m.\u001b[39;49mprocess()\n\u001b[1;32m    232\u001b[0m path \u001b[39m=\u001b[39m osp\u001b[39m.\u001b[39mjoin(\u001b[39mself\u001b[39m\u001b[39m.\u001b[39mprocessed_dir, \u001b[39m'\u001b[39m\u001b[39mpre_transform.pt\u001b[39m\u001b[39m'\u001b[39m)\n\u001b[1;32m    233\u001b[0m torch\u001b[39m.\u001b[39msave(_repr(\u001b[39mself\u001b[39m\u001b[39m.\u001b[39mpre_transform), path)\n",
      "File \u001b[0;32m~/Development/OCPPM/experiments/hoeg.py:184\u001b[0m, in \u001b[0;36mHOEG.process\u001b[0;34m(self)\u001b[0m\n\u001b[1;32m    179\u001b[0m     \u001b[39mself\u001b[39m\u001b[39m.\u001b[39m_feature_graphs_to_disk(\n\u001b[1;32m    180\u001b[0m         [\u001b[39mself\u001b[39m\u001b[39m.\u001b[39mdata\u001b[39m.\u001b[39mfeature_graphs[i] \u001b[39mfor\u001b[39;00m i \u001b[39min\u001b[39;00m \u001b[39mself\u001b[39m\u001b[39m.\u001b[39mdata\u001b[39m.\u001b[39mtest_indices]\n\u001b[1;32m    181\u001b[0m     )\n\u001b[1;32m    182\u001b[0m \u001b[39melse\u001b[39;00m:\n\u001b[1;32m    183\u001b[0m     \u001b[39m# Write all graphs to disk\u001b[39;00m\n\u001b[0;32m--> 184\u001b[0m     \u001b[39mself\u001b[39;49m\u001b[39m.\u001b[39;49m_feature_graphs_to_disk(\u001b[39mself\u001b[39;49m\u001b[39m.\u001b[39;49mdata\u001b[39m.\u001b[39;49mfeature_graphs)\n",
      "File \u001b[0;32m~/Development/OCPPM/experiments/efg.py:176\u001b[0m, in \u001b[0;36mEFG._feature_graphs_to_disk\u001b[0;34m(self, feature_graphs)\u001b[0m\n\u001b[1;32m    171\u001b[0m \u001b[39m# Save each feature_graph instance\u001b[39;00m\n\u001b[1;32m    172\u001b[0m \u001b[39mfor\u001b[39;00m index, feature_graph \u001b[39min\u001b[39;00m \u001b[39mself\u001b[39m\u001b[39m.\u001b[39m__custom_verbosity_enumerate(\n\u001b[1;32m    173\u001b[0m     feature_graphs, miniters\u001b[39m=\u001b[39m\u001b[39mself\u001b[39m\u001b[39m.\u001b[39m_verbosity\n\u001b[1;32m    174\u001b[0m ):\n\u001b[1;32m    175\u001b[0m     \u001b[39m# Save a feature_graph instance\u001b[39;00m\n\u001b[0;32m--> 176\u001b[0m     \u001b[39mself\u001b[39;49m\u001b[39m.\u001b[39;49m_feature_graph_to_graph_to_disk(\n\u001b[1;32m    177\u001b[0m         feature_graph\u001b[39m=\u001b[39;49mfeature_graph,\n\u001b[1;32m    178\u001b[0m         graph_idx\u001b[39m=\u001b[39;49mindex,\n\u001b[1;32m    179\u001b[0m         graph_level_target\u001b[39m=\u001b[39;49m\u001b[39mself\u001b[39;49m\u001b[39m.\u001b[39;49mgraph_level_target,\n\u001b[1;32m    180\u001b[0m     )\n",
      "File \u001b[0;32m~/Development/OCPPM/experiments/hoeg.py:206\u001b[0m, in \u001b[0;36mHOEG._feature_graph_to_graph_to_disk\u001b[0;34m(self, feature_graph, graph_idx, graph_level_target)\u001b[0m\n\u001b[1;32m    200\u001b[0m event_node_labels \u001b[39m=\u001b[39m \u001b[39mself\u001b[39m\u001b[39m.\u001b[39m_split_X_y(\n\u001b[1;32m    201\u001b[0m     feature_graph\u001b[39m=\u001b[39mfeature_graph,\n\u001b[1;32m    202\u001b[0m     event_node_type\u001b[39m=\u001b[39m\u001b[39mself\u001b[39m\u001b[39m.\u001b[39mevent_node_type,\n\u001b[1;32m    203\u001b[0m     label_key\u001b[39m=\u001b[39m\u001b[39mself\u001b[39m\u001b[39m.\u001b[39mevent_node_label_key,\n\u001b[1;32m    204\u001b[0m )\n\u001b[1;32m    205\u001b[0m \u001b[39m# Get node features\u001b[39;00m\n\u001b[0;32m--> 206\u001b[0m node_feats \u001b[39m=\u001b[39m \u001b[39mself\u001b[39;49m\u001b[39m.\u001b[39;49m_get_node_features(\n\u001b[1;32m    207\u001b[0m     event_node_type\u001b[39m=\u001b[39;49m\u001b[39mself\u001b[39;49m\u001b[39m.\u001b[39;49mevent_node_type,\n\u001b[1;32m    208\u001b[0m     feature_graph\u001b[39m=\u001b[39;49mfeature_graph,\n\u001b[1;32m    209\u001b[0m     object_node_types\u001b[39m=\u001b[39;49m\u001b[39mself\u001b[39;49m\u001b[39m.\u001b[39;49mobject_node_types,\n\u001b[1;32m    210\u001b[0m     object_feature_matrices\u001b[39m=\u001b[39;49m\u001b[39mself\u001b[39;49m\u001b[39m.\u001b[39;49mobjects_data[\u001b[39m\"\u001b[39;49m\u001b[39mobject_feature_matrices\u001b[39;49m\u001b[39m\"\u001b[39;49m],\n\u001b[1;32m    211\u001b[0m     object_id_to_feature_matrix_index\u001b[39m=\u001b[39;49mobject_feature_vector_map,\n\u001b[1;32m    212\u001b[0m     object_nodes_label_key\u001b[39m=\u001b[39;49m\u001b[39mself\u001b[39;49m\u001b[39m.\u001b[39;49mobject_nodes_label_key,\n\u001b[1;32m    213\u001b[0m )\n\u001b[1;32m    214\u001b[0m \u001b[39m# Get adjacency matrix per semantically sensible edge type\u001b[39;00m\n\u001b[1;32m    215\u001b[0m edge_index_dict \u001b[39m=\u001b[39m \u001b[39mself\u001b[39m\u001b[39m.\u001b[39m_get_hetero_edge_index_dict(\n\u001b[1;32m    216\u001b[0m     event_node_type\u001b[39m=\u001b[39m\u001b[39mself\u001b[39m\u001b[39m.\u001b[39mevent_node_type,\n\u001b[1;32m    217\u001b[0m     feature_graph\u001b[39m=\u001b[39mfeature_graph,\n\u001b[1;32m    218\u001b[0m     edge_types\u001b[39m=\u001b[39m\u001b[39mself\u001b[39m\u001b[39m.\u001b[39medge_types,\n\u001b[1;32m    219\u001b[0m     object_node_map\u001b[39m=\u001b[39mobject_node_map,\n\u001b[1;32m    220\u001b[0m )\n",
      "File \u001b[0;32m~/Development/OCPPM/experiments/hoeg.py:360\u001b[0m, in \u001b[0;36mHOEG._get_node_features\u001b[0;34m(self, event_node_type, feature_graph, object_node_types, object_feature_matrices, object_id_to_feature_matrix_index, object_nodes_label_key)\u001b[0m\n\u001b[1;32m    357\u001b[0m             \u001b[39mprint\u001b[39m(object_id_to_feature_matrix_index[object_node_type])\n\u001b[1;32m    358\u001b[0m             \u001b[39mcontinue\u001b[39;00m \u001b[39m# cs BUG: somehow 148 objects are prepared incorrectly in `object_id_to_feature_matrix_index`\u001b[39;00m\n\u001b[1;32m    359\u001b[0m         object_node_feature_matrix \u001b[39m=\u001b[39m (\n\u001b[0;32m--> 360\u001b[0m             object_feature_matrices[object_node_type]\n\u001b[1;32m    361\u001b[0m             \u001b[39m.\u001b[39;49mdrop(\n\u001b[1;32m    362\u001b[0m                 [\u001b[39mf\u001b[39;49m\u001b[39m\"\u001b[39;49m\u001b[39m{\u001b[39;49;00mobject_node_type\u001b[39m}\u001b[39;49;00m\u001b[39m_index\u001b[39;49m\u001b[39m\"\u001b[39;49m, \u001b[39m\"\u001b[39;49m\u001b[39mobject_index\u001b[39;49m\u001b[39m\"\u001b[39;49m], axis\u001b[39m=\u001b[39;49m\u001b[39m1\u001b[39;49m\n\u001b[1;32m    363\u001b[0m             )  \u001b[39m# assuming naming scheme in ofg construction pipeline\u001b[39;00m\n\u001b[1;32m    364\u001b[0m             \u001b[39m.\u001b[39miloc[object_id_to_feature_matrix_index[object_node_type]]\n\u001b[1;32m    365\u001b[0m         )\n\u001b[1;32m    366\u001b[0m         node_features_dict[object_node_type] \u001b[39m=\u001b[39m {\n\u001b[1;32m    367\u001b[0m             \u001b[39m\"\u001b[39m\u001b[39my\u001b[39m\u001b[39m\"\u001b[39m: torch\u001b[39m.\u001b[39mtensor(\n\u001b[1;32m    368\u001b[0m                 object_node_feature_matrix[object_nodes_label_key]\u001b[39m.\u001b[39mvalues,\n\u001b[0;32m   (...)\u001b[0m\n\u001b[1;32m    376\u001b[0m             ),\n\u001b[1;32m    377\u001b[0m         }\n\u001b[1;32m    378\u001b[0m \u001b[39mreturn\u001b[39;00m node_features_dict\n",
      "File \u001b[0;32m~/Development/OCPPM/.env/lib/python3.9/site-packages/pandas/util/_decorators.py:331\u001b[0m, in \u001b[0;36mdeprecate_nonkeyword_arguments.<locals>.decorate.<locals>.wrapper\u001b[0;34m(*args, **kwargs)\u001b[0m\n\u001b[1;32m    325\u001b[0m \u001b[39mif\u001b[39;00m \u001b[39mlen\u001b[39m(args) \u001b[39m>\u001b[39m num_allow_args:\n\u001b[1;32m    326\u001b[0m     warnings\u001b[39m.\u001b[39mwarn(\n\u001b[1;32m    327\u001b[0m         msg\u001b[39m.\u001b[39mformat(arguments\u001b[39m=\u001b[39m_format_argument_list(allow_args)),\n\u001b[1;32m    328\u001b[0m         \u001b[39mFutureWarning\u001b[39;00m,\n\u001b[1;32m    329\u001b[0m         stacklevel\u001b[39m=\u001b[39mfind_stack_level(),\n\u001b[1;32m    330\u001b[0m     )\n\u001b[0;32m--> 331\u001b[0m \u001b[39mreturn\u001b[39;00m func(\u001b[39m*\u001b[39;49margs, \u001b[39m*\u001b[39;49m\u001b[39m*\u001b[39;49mkwargs)\n",
      "File \u001b[0;32m~/Development/OCPPM/.env/lib/python3.9/site-packages/pandas/core/frame.py:5399\u001b[0m, in \u001b[0;36mDataFrame.drop\u001b[0;34m(self, labels, axis, index, columns, level, inplace, errors)\u001b[0m\n\u001b[1;32m   5251\u001b[0m \u001b[39m@deprecate_nonkeyword_arguments\u001b[39m(version\u001b[39m=\u001b[39m\u001b[39mNone\u001b[39;00m, allowed_args\u001b[39m=\u001b[39m[\u001b[39m\"\u001b[39m\u001b[39mself\u001b[39m\u001b[39m\"\u001b[39m, \u001b[39m\"\u001b[39m\u001b[39mlabels\u001b[39m\u001b[39m\"\u001b[39m])\n\u001b[1;32m   5252\u001b[0m \u001b[39mdef\u001b[39;00m \u001b[39mdrop\u001b[39m(  \u001b[39m# type: ignore[override]\u001b[39;00m\n\u001b[1;32m   5253\u001b[0m     \u001b[39mself\u001b[39m,\n\u001b[0;32m   (...)\u001b[0m\n\u001b[1;32m   5260\u001b[0m     errors: IgnoreRaise \u001b[39m=\u001b[39m \u001b[39m\"\u001b[39m\u001b[39mraise\u001b[39m\u001b[39m\"\u001b[39m,\n\u001b[1;32m   5261\u001b[0m ) \u001b[39m-\u001b[39m\u001b[39m>\u001b[39m DataFrame \u001b[39m|\u001b[39m \u001b[39mNone\u001b[39;00m:\n\u001b[1;32m   5262\u001b[0m \u001b[39m    \u001b[39m\u001b[39m\"\"\"\u001b[39;00m\n\u001b[1;32m   5263\u001b[0m \u001b[39m    Drop specified labels from rows or columns.\u001b[39;00m\n\u001b[1;32m   5264\u001b[0m \n\u001b[0;32m   (...)\u001b[0m\n\u001b[1;32m   5397\u001b[0m \u001b[39m            weight  1.0     0.8\u001b[39;00m\n\u001b[1;32m   5398\u001b[0m \u001b[39m    \"\"\"\u001b[39;00m\n\u001b[0;32m-> 5399\u001b[0m     \u001b[39mreturn\u001b[39;00m \u001b[39msuper\u001b[39;49m()\u001b[39m.\u001b[39;49mdrop(\n\u001b[1;32m   5400\u001b[0m         labels\u001b[39m=\u001b[39;49mlabels,\n\u001b[1;32m   5401\u001b[0m         axis\u001b[39m=\u001b[39;49maxis,\n\u001b[1;32m   5402\u001b[0m         index\u001b[39m=\u001b[39;49mindex,\n\u001b[1;32m   5403\u001b[0m         columns\u001b[39m=\u001b[39;49mcolumns,\n\u001b[1;32m   5404\u001b[0m         level\u001b[39m=\u001b[39;49mlevel,\n\u001b[1;32m   5405\u001b[0m         inplace\u001b[39m=\u001b[39;49minplace,\n\u001b[1;32m   5406\u001b[0m         errors\u001b[39m=\u001b[39;49merrors,\n\u001b[1;32m   5407\u001b[0m     )\n",
      "File \u001b[0;32m~/Development/OCPPM/.env/lib/python3.9/site-packages/pandas/util/_decorators.py:331\u001b[0m, in \u001b[0;36mdeprecate_nonkeyword_arguments.<locals>.decorate.<locals>.wrapper\u001b[0;34m(*args, **kwargs)\u001b[0m\n\u001b[1;32m    325\u001b[0m \u001b[39mif\u001b[39;00m \u001b[39mlen\u001b[39m(args) \u001b[39m>\u001b[39m num_allow_args:\n\u001b[1;32m    326\u001b[0m     warnings\u001b[39m.\u001b[39mwarn(\n\u001b[1;32m    327\u001b[0m         msg\u001b[39m.\u001b[39mformat(arguments\u001b[39m=\u001b[39m_format_argument_list(allow_args)),\n\u001b[1;32m    328\u001b[0m         \u001b[39mFutureWarning\u001b[39;00m,\n\u001b[1;32m    329\u001b[0m         stacklevel\u001b[39m=\u001b[39mfind_stack_level(),\n\u001b[1;32m    330\u001b[0m     )\n\u001b[0;32m--> 331\u001b[0m \u001b[39mreturn\u001b[39;00m func(\u001b[39m*\u001b[39;49margs, \u001b[39m*\u001b[39;49m\u001b[39m*\u001b[39;49mkwargs)\n",
      "File \u001b[0;32m~/Development/OCPPM/.env/lib/python3.9/site-packages/pandas/core/generic.py:4505\u001b[0m, in \u001b[0;36mNDFrame.drop\u001b[0;34m(self, labels, axis, index, columns, level, inplace, errors)\u001b[0m\n\u001b[1;32m   4503\u001b[0m \u001b[39mfor\u001b[39;00m axis, labels \u001b[39min\u001b[39;00m axes\u001b[39m.\u001b[39mitems():\n\u001b[1;32m   4504\u001b[0m     \u001b[39mif\u001b[39;00m labels \u001b[39mis\u001b[39;00m \u001b[39mnot\u001b[39;00m \u001b[39mNone\u001b[39;00m:\n\u001b[0;32m-> 4505\u001b[0m         obj \u001b[39m=\u001b[39m obj\u001b[39m.\u001b[39;49m_drop_axis(labels, axis, level\u001b[39m=\u001b[39;49mlevel, errors\u001b[39m=\u001b[39;49merrors)\n\u001b[1;32m   4507\u001b[0m \u001b[39mif\u001b[39;00m inplace:\n\u001b[1;32m   4508\u001b[0m     \u001b[39mself\u001b[39m\u001b[39m.\u001b[39m_update_inplace(obj)\n",
      "File \u001b[0;32m~/Development/OCPPM/.env/lib/python3.9/site-packages/pandas/core/generic.py:4585\u001b[0m, in \u001b[0;36mNDFrame._drop_axis\u001b[0;34m(self, labels, axis, level, errors, only_slice)\u001b[0m\n\u001b[1;32m   4582\u001b[0m     new_axis \u001b[39m=\u001b[39m axis\u001b[39m.\u001b[39mtake(indexer)\n\u001b[1;32m   4584\u001b[0m bm_axis \u001b[39m=\u001b[39m \u001b[39mself\u001b[39m\u001b[39m.\u001b[39mndim \u001b[39m-\u001b[39m axis_num \u001b[39m-\u001b[39m \u001b[39m1\u001b[39m\n\u001b[0;32m-> 4585\u001b[0m new_mgr \u001b[39m=\u001b[39m \u001b[39mself\u001b[39;49m\u001b[39m.\u001b[39;49m_mgr\u001b[39m.\u001b[39;49mreindex_indexer(\n\u001b[1;32m   4586\u001b[0m     new_axis,\n\u001b[1;32m   4587\u001b[0m     indexer,\n\u001b[1;32m   4588\u001b[0m     axis\u001b[39m=\u001b[39;49mbm_axis,\n\u001b[1;32m   4589\u001b[0m     allow_dups\u001b[39m=\u001b[39;49m\u001b[39mTrue\u001b[39;49;00m,\n\u001b[1;32m   4590\u001b[0m     only_slice\u001b[39m=\u001b[39;49monly_slice,\n\u001b[1;32m   4591\u001b[0m )\n\u001b[1;32m   4592\u001b[0m result \u001b[39m=\u001b[39m \u001b[39mself\u001b[39m\u001b[39m.\u001b[39m_constructor(new_mgr)\n\u001b[1;32m   4593\u001b[0m \u001b[39mif\u001b[39;00m \u001b[39mself\u001b[39m\u001b[39m.\u001b[39mndim \u001b[39m==\u001b[39m \u001b[39m1\u001b[39m:\n",
      "File \u001b[0;32m~/Development/OCPPM/.env/lib/python3.9/site-packages/pandas/core/internals/managers.py:743\u001b[0m, in \u001b[0;36mBaseBlockManager.reindex_indexer\u001b[0;34m(self, new_axis, indexer, axis, fill_value, allow_dups, copy, only_slice, use_na_proxy)\u001b[0m\n\u001b[1;32m    740\u001b[0m     \u001b[39mraise\u001b[39;00m \u001b[39mIndexError\u001b[39;00m(\u001b[39m\"\u001b[39m\u001b[39mRequested axis not found in manager\u001b[39m\u001b[39m\"\u001b[39m)\n\u001b[1;32m    742\u001b[0m \u001b[39mif\u001b[39;00m axis \u001b[39m==\u001b[39m \u001b[39m0\u001b[39m:\n\u001b[0;32m--> 743\u001b[0m     new_blocks, new_refs \u001b[39m=\u001b[39m \u001b[39mself\u001b[39;49m\u001b[39m.\u001b[39;49m_slice_take_blocks_ax0(\n\u001b[1;32m    744\u001b[0m         indexer,\n\u001b[1;32m    745\u001b[0m         fill_value\u001b[39m=\u001b[39;49mfill_value,\n\u001b[1;32m    746\u001b[0m         only_slice\u001b[39m=\u001b[39;49monly_slice,\n\u001b[1;32m    747\u001b[0m         use_na_proxy\u001b[39m=\u001b[39;49muse_na_proxy,\n\u001b[1;32m    748\u001b[0m     )\n\u001b[1;32m    749\u001b[0m     parent \u001b[39m=\u001b[39m \u001b[39mNone\u001b[39;00m \u001b[39mif\u001b[39;00m com\u001b[39m.\u001b[39mall_none(\u001b[39m*\u001b[39mnew_refs) \u001b[39melse\u001b[39;00m \u001b[39mself\u001b[39m\n\u001b[1;32m    750\u001b[0m \u001b[39melse\u001b[39;00m:\n",
      "File \u001b[0;32m~/Development/OCPPM/.env/lib/python3.9/site-packages/pandas/core/internals/managers.py:912\u001b[0m, in \u001b[0;36mBaseBlockManager._slice_take_blocks_ax0\u001b[0;34m(self, slice_or_indexer, fill_value, only_slice, use_na_proxy)\u001b[0m\n\u001b[1;32m    910\u001b[0m         refs\u001b[39m.\u001b[39mappend(weakref\u001b[39m.\u001b[39mref(blk))\n\u001b[1;32m    911\u001b[0m \u001b[39melse\u001b[39;00m:\n\u001b[0;32m--> 912\u001b[0m     nb \u001b[39m=\u001b[39m blk\u001b[39m.\u001b[39;49mtake_nd(taker, axis\u001b[39m=\u001b[39;49m\u001b[39m0\u001b[39;49m, new_mgr_locs\u001b[39m=\u001b[39;49mmgr_locs)\n\u001b[1;32m    913\u001b[0m     blocks\u001b[39m.\u001b[39mappend(nb)\n\u001b[1;32m    914\u001b[0m     refs\u001b[39m.\u001b[39mappend(\u001b[39mNone\u001b[39;00m)\n",
      "File \u001b[0;32m~/Development/OCPPM/.env/lib/python3.9/site-packages/pandas/core/internals/blocks.py:880\u001b[0m, in \u001b[0;36mBlock.take_nd\u001b[0;34m(self, indexer, axis, new_mgr_locs, fill_value)\u001b[0m\n\u001b[1;32m    877\u001b[0m     allow_fill \u001b[39m=\u001b[39m \u001b[39mTrue\u001b[39;00m\n\u001b[1;32m    879\u001b[0m \u001b[39m# Note: algos.take_nd has upcast logic similar to coerce_to_target_dtype\u001b[39;00m\n\u001b[0;32m--> 880\u001b[0m new_values \u001b[39m=\u001b[39m algos\u001b[39m.\u001b[39;49mtake_nd(\n\u001b[1;32m    881\u001b[0m     values, indexer, axis\u001b[39m=\u001b[39;49maxis, allow_fill\u001b[39m=\u001b[39;49mallow_fill, fill_value\u001b[39m=\u001b[39;49mfill_value\n\u001b[1;32m    882\u001b[0m )\n\u001b[1;32m    884\u001b[0m \u001b[39m# Called from three places in managers, all of which satisfy\u001b[39;00m\n\u001b[1;32m    885\u001b[0m \u001b[39m#  this assertion\u001b[39;00m\n\u001b[1;32m    886\u001b[0m \u001b[39massert\u001b[39;00m \u001b[39mnot\u001b[39;00m (axis \u001b[39m==\u001b[39m \u001b[39m0\u001b[39m \u001b[39mand\u001b[39;00m new_mgr_locs \u001b[39mis\u001b[39;00m \u001b[39mNone\u001b[39;00m)\n",
      "File \u001b[0;32m~/Development/OCPPM/.env/lib/python3.9/site-packages/pandas/core/array_algos/take.py:117\u001b[0m, in \u001b[0;36mtake_nd\u001b[0;34m(arr, indexer, axis, fill_value, allow_fill)\u001b[0m\n\u001b[1;32m    114\u001b[0m     \u001b[39mreturn\u001b[39;00m arr\u001b[39m.\u001b[39mtake(indexer, fill_value\u001b[39m=\u001b[39mfill_value, allow_fill\u001b[39m=\u001b[39mallow_fill)\n\u001b[1;32m    116\u001b[0m arr \u001b[39m=\u001b[39m np\u001b[39m.\u001b[39masarray(arr)\n\u001b[0;32m--> 117\u001b[0m \u001b[39mreturn\u001b[39;00m _take_nd_ndarray(arr, indexer, axis, fill_value, allow_fill)\n",
      "File \u001b[0;32m~/Development/OCPPM/.env/lib/python3.9/site-packages/pandas/core/array_algos/take.py:163\u001b[0m, in \u001b[0;36m_take_nd_ndarray\u001b[0;34m(arr, indexer, axis, fill_value, allow_fill)\u001b[0m\n\u001b[1;32m    158\u001b[0m     out \u001b[39m=\u001b[39m np\u001b[39m.\u001b[39mempty(out_shape, dtype\u001b[39m=\u001b[39mdtype)\n\u001b[1;32m    160\u001b[0m func \u001b[39m=\u001b[39m _get_take_nd_function(\n\u001b[1;32m    161\u001b[0m     arr\u001b[39m.\u001b[39mndim, arr\u001b[39m.\u001b[39mdtype, out\u001b[39m.\u001b[39mdtype, axis\u001b[39m=\u001b[39maxis, mask_info\u001b[39m=\u001b[39mmask_info\n\u001b[1;32m    162\u001b[0m )\n\u001b[0;32m--> 163\u001b[0m func(arr, indexer, out, fill_value)\n\u001b[1;32m    165\u001b[0m \u001b[39mif\u001b[39;00m flip_order:\n\u001b[1;32m    166\u001b[0m     out \u001b[39m=\u001b[39m out\u001b[39m.\u001b[39mT\n",
      "\u001b[0;31mKeyboardInterrupt\u001b[0m: "
     ]
    }
   ],
   "source": [
    "kwargs = {\n",
    "    \"root\": cs_hoeg_config[\"STORAGE_PATH\"],\n",
    "    \"events_filename\": cs_hoeg_config[\"SPLIT_FEATURE_STORAGE_FILE\"],\n",
    "    \"objects_filename\": cs_hoeg_config[\"OBJECTS_DATA_DICT\"],\n",
    "    \"event_node_label_key\": cs_hoeg_config[\"events_target_label\"],\n",
    "    \"object_nodes_label_key\": cs_hoeg_config[\"objects_target_label\"],\n",
    "    \"edge_types\": cs_hoeg_config[\"meta_data\"][1],\n",
    "    \"object_node_types\": cs_hoeg_config[\"object_types\"],\n",
    "    \"graph_level_target\": False,\n",
    "    \"skip_cache\": cs_hoeg_config[\"skip_cache\"],\n",
    "}\n",
    "HOEG(**kwargs)"
   ]
  },
  {
   "cell_type": "code",
   "execution_count": null,
   "metadata": {},
   "outputs": [],
   "source": []
  }
 ],
 "metadata": {
  "kernelspec": {
   "display_name": ".env",
   "language": "python",
   "name": "python3"
  },
  "language_info": {
   "codemirror_mode": {
    "name": "ipython",
    "version": 3
   },
   "file_extension": ".py",
   "mimetype": "text/x-python",
   "name": "python",
   "nbconvert_exporter": "python",
   "pygments_lexer": "ipython3",
   "version": "3.9.17"
  },
  "orig_nbformat": 4
 },
 "nbformat": 4,
 "nbformat_minor": 2
}
