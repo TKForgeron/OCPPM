{
 "cells": [
  {
   "cell_type": "code",
   "execution_count": 1,
   "metadata": {},
   "outputs": [
    {
     "name": "stderr",
     "output_type": "stream",
     "text": [
      "CRITICAL:root:-------------------------------- TEST CS HOEG --------------------------------\n"
     ]
    },
    {
     "name": "stdout",
     "output_type": "stream",
     "text": [
      "CPU: Intel(R) Core(TM) i5-7500 CPU @ 3.40GHz (4x)\n",
      "Total CPU memory: 46.93GB\n",
      "Available CPU memory: 41.74GB\n",
      "GPU: NVIDIA GeForce GTX 960\n",
      "Total GPU memory: 4096.0MB\n",
      "Available GPU memory: 4029.0MB\n",
      "Platform: Linux-5.19.0-46-generic-x86_64-with-glibc2.35\n",
      "Torch version: 1.13.1+cu117\n",
      "Cuda available: True\n",
      "Torch geometric version: 2.3.1\n"
     ]
    }
   ],
   "source": [
    "# DEPENDENCIES\n",
    "# Python native\n",
    "import functools\n",
    "import json\n",
    "import os\n",
    "os.chdir(\"/home/tim/Development/OCPPM/\")\n",
    "import pickle\n",
    "import logging\n",
    "import random\n",
    "from copy import copy\n",
    "from datetime import datetime\n",
    "from statistics import median as median\n",
    "from sys import platform\n",
    "from typing import Any, Callable\n",
    "\n",
    "# Data handling\n",
    "import numpy as np\n",
    "import ocpa.algo.predictive_monitoring.factory as feature_factory\n",
    "\n",
    "# PyG\n",
    "import torch\n",
    "import torch.nn as nn\n",
    "import torch.nn.functional as F\n",
    "import torch.optim as O\n",
    "\n",
    "# PyTorch TensorBoard support\n",
    "import torch.utils.tensorboard\n",
    "import torch_geometric.nn as pygnn\n",
    "import torch_geometric.transforms as T\n",
    "\n",
    "# Object centric process mining\n",
    "from ocpa.algo.predictive_monitoring.obj import Feature_Storage as FeatureStorage\n",
    "\n",
    "# # Simple machine learning models, procedure tools, and evaluation metrics\n",
    "# from sklearn.model_selection import train_test_split\n",
    "from sklearn.preprocessing import StandardScaler\n",
    "from torch import tensor\n",
    "from torch.utils.tensorboard.writer import SummaryWriter\n",
    "from torch_geometric.loader import DataLoader\n",
    "from tqdm import tqdm\n",
    "\n",
    "import utilities.evaluation_utils as evaluation_utils\n",
    "import utilities.hetero_data_utils as hetero_data_utils\n",
    "import utilities.hetero_evaluation_utils as hetero_evaluation_utils\n",
    "import utilities.hetero_training_utils as hetero_training_utils\n",
    "import utilities.torch_utils\n",
    "\n",
    "# Custom imports\n",
    "# from loan_application_experiment.feature_encodings.efg.efg import EFG\n",
    "from experiments.hoeg import HOEG\n",
    "\n",
    "# from importing_ocel import build_feature_storage, load_ocel, pickle_feature_storage\n",
    "from models.definitions.geometric_models import GraphModel, HeteroHigherOrderGNN\n",
    "\n",
    "# Print system info\n",
    "utilities.torch_utils.print_system_info()\n",
    "utilities.torch_utils.print_torch_info()\n",
    "\n",
    "# INITIAL CONFIGURATION\n",
    "cs_hoeg_config = {\n",
    "    \"STORAGE_PATH\": \"data/CS/feature_encodings/HOEG/hoeg\",\n",
    "    \"SPLIT_FEATURE_STORAGE_FILE\": \"CS_split_[C2_P2_P3_O3_eas].fs\",\n",
    "    \"events_target_label\": (feature_factory.EVENT_REMAINING_TIME, ()),\n",
    "    \"objects_target_label\": \"@@object_lifecycle_duration\",\n",
    "    \"OBJECTS_DATA_DICT\": \"cs_ofg+oi_graph+krs_node_map+krv_node_map+cv_node_map.pkl\",\n",
    "    \"BATCH_SIZE\": 16,\n",
    "    \"RANDOM_SEED\": 42,\n",
    "    \"EPOCHS\": 32,\n",
    "    \"target_node_type\": \"event\",\n",
    "    \"object_types\":[\"krs\", \"krv\", \"cv\"],\n",
    "    \"meta_data\": (\n",
    "        [\"event\", \"krs\", \"krv\", \"cv\"],\n",
    "        [\n",
    "            (\"event\", \"follows\", \"event\"),\n",
    "            (\"event\", \"interacts\", \"krs\"),\n",
    "            (\"event\", \"interacts\", \"krv\"),\n",
    "            (\"event\", \"interacts\", \"cv\"),\n",
    "        ],\n",
    "    ),\n",
    "    \"early_stopping\": 8,\n",
    "    \"optimizer_settings\": {\n",
    "        \"lr\": 0.001,\n",
    "        \"betas\": (0.9, 0.999),\n",
    "        \"eps\": 1e-08,\n",
    "        \"weight_decay\": 0,\n",
    "        \"amsgrad\": False,\n",
    "    },\n",
    "    \"loss_fn\": torch.nn.L1Loss(),\n",
    "    \"verbose\": True,\n",
    "    \"skip_cache\": False,\n",
    "    \"device\": torch.device(\"cuda\" if torch.cuda.is_available() else \"cpu\"),\n",
    "}\n",
    "\n",
    "# CONFIGURATION ADAPTATIONS may be set here\n",
    "# cs_hoeg_config[\"early_stopping\"] = 4\n",
    "cs_hoeg_config['skip_cache'] = True\n",
    "logging.basicConfig(\n",
    "    level=logging.INFO,\n",
    "    format=\"%(asctime)s %(levelname)s %(message)s\",\n",
    "    datefmt=\"%Y-%m-%d %H:%M:%S\",\n",
    "    filename=\"logging/debug.log\",\n",
    ")\n",
    "logging.critical(\"-\" * 32 + ' TEST CS HOEG ' + \"-\" * 32)"
   ]
  },
  {
   "cell_type": "code",
   "execution_count": 2,
   "metadata": {},
   "outputs": [
    {
     "name": "stderr",
     "output_type": "stream",
     "text": [
      "Processing...\n",
      "80919it [12:45, 105.73it/s]\n",
      "Done!\n"
     ]
    },
    {
     "data": {
      "text/plain": [
       "HOEG(80919)"
      ]
     },
     "execution_count": 2,
     "metadata": {},
     "output_type": "execute_result"
    }
   ],
   "source": [
    "kwargs = {\n",
    "    \"root\": cs_hoeg_config[\"STORAGE_PATH\"],\n",
    "    \"events_filename\": cs_hoeg_config[\"SPLIT_FEATURE_STORAGE_FILE\"],\n",
    "    \"objects_filename\": cs_hoeg_config[\"OBJECTS_DATA_DICT\"],\n",
    "    \"event_node_label_key\": cs_hoeg_config[\"events_target_label\"],\n",
    "    \"object_nodes_label_key\": cs_hoeg_config[\"objects_target_label\"],\n",
    "    \"edge_types\": cs_hoeg_config[\"meta_data\"][1],\n",
    "    \"object_node_types\": cs_hoeg_config[\"object_types\"],\n",
    "    \"graph_level_target\": False,\n",
    "    \"skip_cache\": cs_hoeg_config[\"skip_cache\"],\n",
    "}\n",
    "HOEG(train=True, **kwargs)"
   ]
  }
 ],
 "metadata": {
  "kernelspec": {
   "display_name": ".env",
   "language": "python",
   "name": "python3"
  },
  "language_info": {
   "codemirror_mode": {
    "name": "ipython",
    "version": 3
   },
   "file_extension": ".py",
   "mimetype": "text/x-python",
   "name": "python",
   "nbconvert_exporter": "python",
   "pygments_lexer": "ipython3",
   "version": "3.9.17"
  },
  "orig_nbformat": 4
 },
 "nbformat": 4,
 "nbformat_minor": 2
}
