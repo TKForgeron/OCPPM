{
 "cells": [
  {
   "cell_type": "code",
   "execution_count": 1,
   "metadata": {},
   "outputs": [],
   "source": [
    "# Python native\n",
    "import os\n",
    "\n",
    "os.chdir(\"/home/tim/Development/OCPPM/\")\n",
    "from typing import Any, Callable\n",
    "import pickle\n",
    "import re\n",
    "import string\n",
    "import pandas as pd\n",
    "import numpy as np\n",
    "\n",
    "# Object centric process mining\n",
    "import ocpa.objects.log.importer.ocel.factory as ocel_import_factory\n",
    "from ocpa.algo.predictive_monitoring.obj import Feature_Storage\n",
    "from ocpa.objects.log.ocel import OCEL\n",
    "import ocpa.algo.predictive_monitoring.factory as feature_factory\n",
    "from ocpa.algo.predictive_monitoring import tabular\n",
    "import ocpa.objects.log.importer.csv.factory as csv_import_factory\n",
    "\n",
    "from sklearn.preprocessing import PowerTransformer, StandardScaler"
   ]
  },
  {
   "cell_type": "code",
   "execution_count": 2,
   "metadata": {},
   "outputs": [],
   "source": [
    "feature_storage_out_file = \"data/CS/feature_encodings/EFG/efg/raw/CS_split_[P2_P3_O3_ea2_ea4_resource_robot_person_multi].fs\"\n",
    "with open(feature_storage_out_file, \"rb\") as binary:\n",
    "    fs: Feature_Storage = pickle.load(binary)"
   ]
  },
  {
   "cell_type": "code",
   "execution_count": 5,
   "metadata": {},
   "outputs": [],
   "source": [
    "event_feature_matrix = fs._event_id_table(fs.feature_graphs)"
   ]
  },
  {
   "cell_type": "code",
   "execution_count": 4,
   "metadata": {},
   "outputs": [
    {
     "data": {
      "text/plain": [
       "<ocpa.algo.predictive_monitoring.obj.Feature_Storage.Feature_Graph.Node at 0x7f53c2c8e550>"
      ]
     },
     "execution_count": 4,
     "metadata": {},
     "output_type": "execute_result"
    }
   ],
   "source": [
    "fg: Feature_Storage.Feature_Graph = fs.feature_graphs[546]\n",
    "fg.nodes[-1]"
   ]
  }
 ],
 "metadata": {
  "kernelspec": {
   "display_name": ".env",
   "language": "python",
   "name": "python3"
  },
  "language_info": {
   "codemirror_mode": {
    "name": "ipython",
    "version": 3
   },
   "file_extension": ".py",
   "mimetype": "text/x-python",
   "name": "python",
   "nbconvert_exporter": "python",
   "pygments_lexer": "ipython3",
   "version": "3.9.17"
  },
  "orig_nbformat": 4
 },
 "nbformat": 4,
 "nbformat_minor": 2
}
