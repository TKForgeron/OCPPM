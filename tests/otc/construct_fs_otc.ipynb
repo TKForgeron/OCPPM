{
 "cells": [
  {
   "cell_type": "code",
   "execution_count": 1,
   "metadata": {},
   "outputs": [],
   "source": [
    "import os\n",
    "\n",
    "go_up_n_directories = lambda path, n: os.path.abspath(\n",
    "    os.path.join(*([os.path.dirname(path)] + [\"..\"] * n))\n",
    ")\n",
    "os.chdir(go_up_n_directories(os.getcwd(), 1))  # run once (otherwise restart kernel)"
   ]
  },
  {
   "cell_type": "code",
   "execution_count": 2,
   "metadata": {},
   "outputs": [],
   "source": [
    "from typing import Any, Callable\n",
    "import pickle\n",
    "import re\n",
    "import string\n",
    "from sklearn.preprocessing import StandardScaler\n",
    "import category_encoders as ce\n",
    "\n",
    "# Object centric process mining\n",
    "import ocpa.objects.log.importer.ocel.factory as ocel_import_factory\n",
    "from ocpa.algo.predictive_monitoring.obj import Feature_Storage\n",
    "from ocpa.objects.log.ocel import OCEL\n",
    "import ocpa.algo.predictive_monitoring.factory as feature_factory\n",
    "from ocpa.algo.predictive_monitoring import tabular\n",
    "import ocpa.objects.log.importer.csv.factory as csv_import_factory\n",
    "import pm4py\n",
    "import pm4py.read"
   ]
  },
  {
   "cell_type": "code",
   "execution_count": 3,
   "metadata": {},
   "outputs": [],
   "source": [
    "objects_metadata = {\n",
    "    \"items\": [\"encoded_oid\"],\n",
    "    \"orders\": [\"encoded_oid\"],\n",
    "    \"packages\": [\"encoded_oid\"],\n",
    "    \"products\": [\"cost\", \"producer\"],\n",
    "}\n",
    "event_attributes = [\"weight\", \"price\", \"customer\", \"age\", \"bankaccount\"]\n",
    "# ocel_in_file = \"data/OTC/source/running-example.jsonocel\"\n",
    "ocel_in_file = \"data/OTC/source/OTC.jsonocel\"\n",
    "feature_storage_intermediate_file = (\n",
    "    \"data/OTC/feature_encodings/EFG/efg/raw/OTC_[P2_P3_O3_eas].fs\"\n",
    ")\n",
    "feature_storage_out_file = (\n",
    "    \"data/OTC/feature_encodings/EFG/efg/raw/OTC_split_[P2_P3_O3_eas].fs\"\n",
    ")"
   ]
  },
  {
   "cell_type": "code",
   "execution_count": 4,
   "metadata": {},
   "outputs": [],
   "source": [
    "ocel = ocel_import_factory.apply(\n",
    "    ocel_in_file,\n",
    "    parameters={\"execution_extraction\": \"leading_type\", \"leading_type\": \"items\"},\n",
    ")"
   ]
  },
  {
   "cell_type": "code",
   "execution_count": 5,
   "metadata": {},
   "outputs": [],
   "source": [
    "# all_acts = ocel.log.log[\"event_activity\"].unique()\n",
    "event_level_features = (\n",
    "    # {\n",
    "    #     f\"C2{char}\": (feature_factory.EVENT_PRECEDING_ACTIVITIES, (act,))\n",
    "    #     for act, char in zip(all_acts, string.ascii_lowercase)\n",
    "    # } |\n",
    "    {\n",
    "        # \"P2\": (feature_factory.EVENT_ELAPSED_TIME, ()),\n",
    "        \"P3\": (\n",
    "            feature_factory.EVENT_REMAINING_TIME,\n",
    "            (),\n",
    "        ),\n",
    "        # \"P4\": (feature_factory.EVENT_FLOW_TIME, ()),\n",
    "        \"P5\": (feature_factory.EVENT_SYNCHRONIZATION_TIME, ()),\n",
    "        # \"P6\": (feature_factory.EVENT_SOJOURN_TIME, ()),\n",
    "    }\n",
    "    # | {\n",
    "    #     f\"O3{char}\": (feature_factory.EVENT_PREVIOUS_TYPE_COUNT, (ot,))\n",
    "    #     for ot, char in zip(objects_metadata, string.ascii_lowercase)\n",
    "    # }\n",
    ")"
   ]
  },
  {
   "cell_type": "code",
   "execution_count": 8,
   "metadata": {},
   "outputs": [
    {
     "name": "stdout",
     "output_type": "stream",
     "text": [
      "Applying feature extraction to process executions\n"
     ]
    },
    {
     "name": "stderr",
     "output_type": "stream",
     "text": [
      "  7%|▋         | 587/8159 [05:19<1:31:30,  1.38it/s] "
     ]
    },
    {
     "ename": "",
     "evalue": "",
     "output_type": "error",
     "traceback": [
      "\u001b[1;31mCannot execute code, session has been disposed. Please try restarting the Kernel."
     ]
    },
    {
     "ename": "",
     "evalue": "",
     "output_type": "error",
     "traceback": [
      "\u001b[1;31mThe Kernel crashed while executing code in the the current cell or a previous cell. Please review the code in the cell(s) to identify a possible cause of the failure. Click <a href='https://aka.ms/vscodeJupyterKernelCrash'>here</a> for more info. View Jupyter <a href='command:jupyter.viewOutput'>log</a> for further details."
     ]
    }
   ],
   "source": [
    "feature_storage = feature_factory.apply(\n",
    "    ocel,\n",
    "    # event_based_features=list(event_level_features.values()),\n",
    "    event_attributes=[f\"event_{ea}\" for ea in event_attributes],\n",
    "    workers=1,\n",
    ")  # takes much too long when 'customers' is an object type"
   ]
  },
  {
   "cell_type": "code",
   "execution_count": null,
   "metadata": {},
   "outputs": [],
   "source": []
  }
 ],
 "metadata": {
  "kernelspec": {
   "display_name": ".env",
   "language": "python",
   "name": "python3"
  },
  "language_info": {
   "codemirror_mode": {
    "name": "ipython",
    "version": 3
   },
   "file_extension": ".py",
   "mimetype": "text/x-python",
   "name": "python",
   "nbconvert_exporter": "python",
   "pygments_lexer": "ipython3",
   "version": "3.9.17"
  },
  "orig_nbformat": 4
 },
 "nbformat": 4,
 "nbformat_minor": 2
}
