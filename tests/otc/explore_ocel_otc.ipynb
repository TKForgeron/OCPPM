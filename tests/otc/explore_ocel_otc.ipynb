{
 "cells": [
  {
   "cell_type": "code",
   "execution_count": 1,
   "metadata": {},
   "outputs": [],
   "source": [
    "import os\n",
    "\n",
    "go_up_n_directories = lambda path, n: os.path.abspath(\n",
    "    os.path.join(*([os.path.dirname(path)] + [\"..\"] * n))\n",
    ")\n",
    "os.chdir(go_up_n_directories(os.getcwd(), 1))  # run once (otherwise restart kernel)"
   ]
  },
  {
   "cell_type": "code",
   "execution_count": 2,
   "metadata": {},
   "outputs": [],
   "source": [
    "# Imports\n",
    "import pm4py\n",
    "import pm4py.utils\n",
    "import pm4py.read\n",
    "from pm4py.objects.ocel.obj import OCEL\n",
    "import ocpa.objects.log.importer.ocel.factory as ocel_import_factory\n",
    "import ocpa.algo.predictive_monitoring.factory as feature_factory\n",
    "from ocpa.algo.predictive_monitoring.obj import Feature_Storage\n",
    "import torch_geometric.transforms as T\n",
    "import json\n",
    "from typing import Any\n",
    "from copy import copy\n",
    "import pickle\n",
    "import pandas as pd\n",
    "import numpy as np\n",
    "from pprint import pprint\n",
    "\n",
    "from utilities import hetero_data_utils, data_utils\n",
    "from experiments.hoeg import HOEG"
   ]
  },
  {
   "cell_type": "code",
   "execution_count": 3,
   "metadata": {},
   "outputs": [],
   "source": [
    "ocel_in_file = \"data/OTC/source/OTC.jsonocel\"\n",
    "ocel = pm4py.read.read_ocel(ocel_in_file)"
   ]
  },
  {
   "cell_type": "code",
   "execution_count": 4,
   "metadata": {},
   "outputs": [],
   "source": [
    "ocpa_ocel = ocel_import_factory.apply(\n",
    "    ocel_in_file,\n",
    "    parameters={\"execution_extraction\": \"leading_type\", \"leading_type\": \"item\"},\n",
    ")"
   ]
  },
  {
   "cell_type": "code",
   "execution_count": 5,
   "metadata": {},
   "outputs": [
    {
     "name": "stdout",
     "output_type": "stream",
     "text": [
      "{'max_trace_len': 155,\n",
      " 'mean_trace_len': 57.92572619193528,\n",
      " 'median_trace_len': 56.0,\n",
      " 'min_trace_len': 8,\n",
      " 'no_events': 22367,\n",
      " 'std_trace_len': 22.771971594254516}\n"
     ]
    }
   ],
   "source": [
    "trace_lengths = [len(t) for t in ocpa_ocel.process_executions]\n",
    "otc_events_stats = {\n",
    "    \"no_events\": ocpa_ocel.log.log.index.shape[0],\n",
    "    \"min_trace_len\": min(trace_lengths),\n",
    "    \"max_trace_len\": max(trace_lengths),\n",
    "    \"median_trace_len\": np.median(trace_lengths),\n",
    "    \"mean_trace_len\": np.mean(trace_lengths),\n",
    "    \"std_trace_len\": np.std(trace_lengths),\n",
    "}\n",
    "pprint(otc_events_stats)"
   ]
  },
  {
   "cell_type": "code",
   "execution_count": 13,
   "metadata": {},
   "outputs": [
    {
     "data": {
      "text/plain": [
       "HeteroDataBatch(\n",
       "  \u001b[1mevent\u001b[0m={\n",
       "    x=[472616, 20],\n",
       "    y=[472616],\n",
       "    batch=[472616],\n",
       "    ptr=[8160]\n",
       "  },\n",
       "  \u001b[1morder\u001b[0m={\n",
       "    x=[100437, 1],\n",
       "    y=[100437],\n",
       "    batch=[100437],\n",
       "    ptr=[8160]\n",
       "  },\n",
       "  \u001b[1mitem\u001b[0m={\n",
       "    x=[317093, 1],\n",
       "    y=[317093],\n",
       "    batch=[317093],\n",
       "    ptr=[8160]\n",
       "  },\n",
       "  \u001b[1mpackage\u001b[0m={\n",
       "    x=[44156, 1],\n",
       "    y=[44156],\n",
       "    batch=[44156],\n",
       "    ptr=[8160]\n",
       "  },\n",
       "  \u001b[1m(event, follows, event)\u001b[0m={ edge_index=[2, 1324098] },\n",
       "  \u001b[1m(order, interacts, event)\u001b[0m={ edge_index=[2, 895990] },\n",
       "  \u001b[1m(item, interacts, event)\u001b[0m={ edge_index=[2, 1761874] },\n",
       "  \u001b[1m(package, interacts, event)\u001b[0m={ edge_index=[2, 145490] }\n",
       ")"
      ]
     },
     "execution_count": 13,
     "metadata": {},
     "output_type": "execute_result"
    }
   ],
   "source": [
    "transformations = [\n",
    "    hetero_data_utils.AddObjectSelfLoops(),\n",
    "    T.AddSelfLoops(),\n",
    "]\n",
    "otc_hoeg_ds = HOEG(\n",
    "    root=\"data/OTC/feature_encodings/HOEG/hoeg\",\n",
    "    events_filename=\"OTC_split_[C2_P2_P3_O3_eas].fs\",\n",
    "    objects_filename=\"otc_ofg+oi_graph+item_node_map+order_node_map+packages_node_map.pkl\",\n",
    "    event_node_label_key=(feature_factory.EVENT_REMAINING_TIME, ()),\n",
    "    object_nodes_label_key=\"@@object_lifecycle_duration\",\n",
    "    edge_types=[\n",
    "        (\"event\", \"follows\", \"event\"),\n",
    "        (\"order\", \"interacts\", \"event\"),\n",
    "        (\"item\", \"interacts\", \"event\"),\n",
    "        (\"package\", \"interacts\", \"event\"),\n",
    "    ],\n",
    "    object_node_types=[\"order\", \"item\",\"package\"],\n",
    "    transform=T.Compose(transformations),\n",
    ")\n",
    "next(iter(data_utils.DataLoader(otc_hoeg_ds, batch_size=otc_hoeg_ds.len())))"
   ]
  },
  {
   "cell_type": "code",
   "execution_count": 7,
   "metadata": {},
   "outputs": [
    {
     "name": "stdout",
     "output_type": "stream",
     "text": [
      "Train set\n",
      "HOEG (#graphs=8159):\n",
      "+------------+----------+----------+\n",
      "|            |   #nodes |   #edges |\n",
      "|------------+----------+----------|\n",
      "| mean       |    114.5 |    562.5 |\n",
      "| std        |     46.8 |    244.4 |\n",
      "| min        |     11   |     38   |\n",
      "| quantile25 |     80   |    381   |\n",
      "| median     |    110   |    535   |\n",
      "| quantile75 |    145   |    721   |\n",
      "| max        |    314   |   1589   |\n",
      "+------------+----------+----------+ \n",
      "\n"
     ]
    }
   ],
   "source": [
    "data_utils.print_dataset_summaries(otc_hoeg_ds)"
   ]
  },
  {
   "cell_type": "code",
   "execution_count": 6,
   "metadata": {},
   "outputs": [
    {
     "data": {
      "text/plain": [
       "HeteroData(\n",
       "  \u001b[1mitem\u001b[0m={\n",
       "    y=[8159],\n",
       "    x=[8159, 1]\n",
       "  },\n",
       "  \u001b[1morder\u001b[0m={\n",
       "    y=[2000],\n",
       "    x=[2000, 1]\n",
       "  },\n",
       "  \u001b[1mpackage\u001b[0m={\n",
       "    y=[1325],\n",
       "    x=[1325, 1]\n",
       "  },\n",
       "  \u001b[1m(item, interacts, item)\u001b[0m={ edge_index=[2, 38863] }\n",
       ")"
      ]
     },
     "execution_count": 6,
     "metadata": {},
     "output_type": "execute_result"
    }
   ],
   "source": [
    "with open(\"data/OTC/feature_encodings/HOEG/hoeg/raw/otc_ofg+oi_graph+item_node_map+order_node_map+packages_node_map.pkl\", 'rb') as fp:\n",
    "    obj_dict = pickle.load(fp)\n",
    "obj_dict['ofg']"
   ]
  },
  {
   "cell_type": "code",
   "execution_count": 9,
   "metadata": {},
   "outputs": [],
   "source": [
    "fs = feature_factory.apply(\n",
    "    ocpa_ocel,\n",
    "    execution_based_features=[(feature_factory.EXECUTION_THROUGHPUT, ())],\n",
    "    verbose=False\n",
    ")"
   ]
  },
  {
   "cell_type": "code",
   "execution_count": 10,
   "metadata": {},
   "outputs": [
    {
     "name": "stdout",
     "output_type": "stream",
     "text": [
      "{'max_tp': 12109961.0,\n",
      " 'mean_tp': 3594196.7417575684,\n",
      " 'median_tp': 3335901.0,\n",
      " 'min_tp': 447864.0,\n",
      " 'no_cases': 8159,\n",
      " 'std_tp': 1638634.3110654803}\n"
     ]
    }
   ],
   "source": [
    "throughput_times = [fg.attributes[fs.execution_features[0]] for fg in fs.feature_graphs]\n",
    "bpi17_cases_stats = {\n",
    "    \"no_cases\": len(fs.feature_graphs),\n",
    "    \"min_tp\": min(throughput_times),\n",
    "    \"max_tp\": max(throughput_times),\n",
    "    \"median_tp\": np.median(throughput_times),\n",
    "    \"mean_tp\": np.mean(throughput_times),\n",
    "    \"std_tp\": np.std(throughput_times),\n",
    "}\n",
    "pprint(bpi17_cases_stats)"
   ]
  },
  {
   "cell_type": "code",
   "execution_count": null,
   "metadata": {},
   "outputs": [],
   "source": []
  }
 ],
 "metadata": {
  "kernelspec": {
   "display_name": ".env",
   "language": "python",
   "name": "python3"
  },
  "language_info": {
   "codemirror_mode": {
    "name": "ipython",
    "version": 3
   },
   "file_extension": ".py",
   "mimetype": "text/x-python",
   "name": "python",
   "nbconvert_exporter": "python",
   "pygments_lexer": "ipython3",
   "version": "3.9.17"
  },
  "orig_nbformat": 4
 },
 "nbformat": 4,
 "nbformat_minor": 2
}
