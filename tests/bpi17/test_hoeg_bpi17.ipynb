{
 "cells": [
  {
   "cell_type": "code",
   "execution_count": 1,
   "metadata": {},
   "outputs": [
    {
     "name": "stdout",
     "output_type": "stream",
     "text": [
      "CPU: Intel(R) Core(TM) i5-7500 CPU @ 3.40GHz (4x)\n",
      "Total CPU memory: 46.93GB\n",
      "Available CPU memory: 36.67GB\n",
      "GPU: NVIDIA GeForce GTX 960\n",
      "Total GPU memory: 4096.0MB\n",
      "Available GPU memory: 4029.0MB\n",
      "Platform: Linux-5.19.0-46-generic-x86_64-with-glibc2.35\n",
      "Torch version: 1.13.1+cu117\n",
      "Cuda available: True\n",
      "Torch geometric version: 2.3.1\n"
     ]
    }
   ],
   "source": [
    "# %%\n",
    "# DEPENDENCIES\n",
    "# Python native\n",
    "import functools\n",
    "import json\n",
    "import os\n",
    "\n",
    "os.chdir(\"/home/tim/Development/OCPPM/\")\n",
    "\n",
    "import pickle\n",
    "import random\n",
    "from copy import copy\n",
    "from datetime import datetime\n",
    "from statistics import median as median\n",
    "from sys import platform\n",
    "from typing import Any, Callable\n",
    "\n",
    "# Data handling\n",
    "import numpy as np\n",
    "import ocpa.algo.predictive_monitoring.factory as feature_factory\n",
    "\n",
    "# PyG\n",
    "import torch\n",
    "import torch.nn as nn\n",
    "import torch.nn.functional as F\n",
    "import torch.optim as O\n",
    "\n",
    "# PyTorch TensorBoard support\n",
    "import torch.utils.tensorboard\n",
    "import torch_geometric.nn as pygnn\n",
    "import torch_geometric.transforms as T\n",
    "\n",
    "# Object centric process mining\n",
    "from ocpa.algo.predictive_monitoring.obj import Feature_Storage as FeatureStorage\n",
    "\n",
    "# # Simple machine learning models, procedure tools, and evaluation metrics\n",
    "# from sklearn.model_selection import train_test_split\n",
    "from sklearn.preprocessing import StandardScaler\n",
    "from torch import tensor\n",
    "from torch.utils.tensorboard.writer import SummaryWriter\n",
    "from torch_geometric.loader import DataLoader\n",
    "from tqdm import tqdm\n",
    "\n",
    "import utilities.evaluation_utils as evaluation_utils\n",
    "import utilities.hetero_data_utils as hetero_data_utils\n",
    "import utilities.hetero_evaluation_utils as hetero_evaluation_utils\n",
    "import utilities.hetero_training_utils as hetero_training_utils\n",
    "import utilities.torch_utils\n",
    "\n",
    "# Custom imports\n",
    "# from experiments.loan_application.feature_encodings.hoeg.hoeg import HOEG\n",
    "from experiments.hoeg import HOEG\n",
    "\n",
    "# from importing_ocel import build_feature_storage, load_ocel, pickle_feature_storage\n",
    "from models.definitions.geometric_models import GraphModel, HeteroHigherOrderGNN\n",
    "\n",
    "# Print system info\n",
    "utilities.torch_utils.print_system_info()\n",
    "utilities.torch_utils.print_torch_info()\n",
    "\n",
    "# INITIAL CONFIGURATION\n",
    "bpi17_hoeg_config = {\n",
    "    \"STORAGE_PATH\": \"data/BPI17/feature_encodings/HOEG/hoeg\",\n",
    "    \"SPLIT_FEATURE_STORAGE_FILE\": \"BPI_split_[C2_P2_P3_P5_O3_Action_EventOrigin_OrgResource].fs\",\n",
    "    \"OBJECTS_DATA_DICT\": \"bpi17_ofg+oi_graph+app_node_map+off_node_map.pkl\",\n",
    "    \"events_target_label\": (feature_factory.EVENT_REMAINING_TIME, ()),\n",
    "    \"objects_target_label\": \"@@object_lifecycle_duration\",\n",
    "    \"target_node_type\": \"event\",\n",
    "    \"object_types\": [\"application\", \"offer\"],\n",
    "    \"meta_data\": (\n",
    "        [\"event\", \"application\", \"offer\"],\n",
    "        [\n",
    "            (\"event\", \"follows\", \"event\"),\n",
    "            (\"event\", \"interacts\", \"application\"),\n",
    "            (\"event\", \"interacts\", \"offer\"),\n",
    "        ],\n",
    "    ),\n",
    "    \"BATCH_SIZE\": 16,\n",
    "    \"RANDOM_SEED\": 42,\n",
    "    \"EPOCHS\": 32,\n",
    "    \"early_stopping\": 8,\n",
    "    \"optimizer\": O.Adam,\n",
    "    \"optimizer_settings\": {\n",
    "        \"lr\": 0.001,\n",
    "        \"betas\": (0.9, 0.999),\n",
    "        \"eps\": 1e-08,\n",
    "        \"weight_decay\": 0,\n",
    "        \"amsgrad\": False,\n",
    "    },\n",
    "    \"loss_fn\": torch.nn.L1Loss(),\n",
    "    \"verbose\": True,\n",
    "    \"skip_cache\": False,\n",
    "    \"device\": torch.device(\"cuda\" if torch.cuda.is_available() else \"cpu\"),\n",
    "}\n",
    "\n",
    "# CONFIGURATION ADAPTATIONS may be set here\n",
    "# bpi17_hoeg_config[\"early_stopping\"] = 4\n",
    "bpi17_hoeg_config[\"skip_cache\"] = True"
   ]
  },
  {
   "cell_type": "code",
   "execution_count": 2,
   "metadata": {},
   "outputs": [
    {
     "name": "stderr",
     "output_type": "stream",
     "text": [
      "Processing...\n",
      "/home/tim/Development/OCPPM/.env/lib/python3.9/site-packages/sklearn/base.py:324: UserWarning: Trying to unpickle estimator StandardScaler from version 0.24.2 when using version 1.0. This might lead to breaking code or invalid results. Use at your own risk. For more info please refer to:\n",
      "https://scikit-learn.org/stable/modules/model_persistence.html#security-maintainability-limitations\n",
      "  warnings.warn(\n",
      "17645it [00:58, 303.69it/s]\n",
      "Done!\n",
      "Processing...\n",
      "/home/tim/Development/OCPPM/.env/lib/python3.9/site-packages/sklearn/base.py:324: UserWarning: Trying to unpickle estimator StandardScaler from version 0.24.2 when using version 1.0. This might lead to breaking code or invalid results. Use at your own risk. For more info please refer to:\n",
      "https://scikit-learn.org/stable/modules/model_persistence.html#security-maintainability-limitations\n",
      "  warnings.warn(\n",
      "4411it [00:20, 218.54it/s]\n",
      "Done!\n",
      "Processing...\n",
      "/home/tim/Development/OCPPM/.env/lib/python3.9/site-packages/sklearn/base.py:324: UserWarning: Trying to unpickle estimator StandardScaler from version 0.24.2 when using version 1.0. This might lead to breaking code or invalid results. Use at your own risk. For more info please refer to:\n",
      "https://scikit-learn.org/stable/modules/model_persistence.html#security-maintainability-limitations\n",
      "  warnings.warn(\n",
      "9453it [00:39, 238.79it/s]\n",
      "Done!\n"
     ]
    }
   ],
   "source": [
    "# DATA PREPARATION\n",
    "transformations = [\n",
    "    T.ToUndirected(),  # Convert the graph to an undirected graph\n",
    "    T.AddSelfLoops(),  # Add self-loops to the graph\n",
    "    T.NormalizeFeatures(),  # Normalize node features of the graph\n",
    "]\n",
    "ds_train, ds_val, ds_test = hetero_data_utils.load_hetero_datasets(\n",
    "    bpi17_hoeg_config[\"STORAGE_PATH\"],\n",
    "    bpi17_hoeg_config[\"SPLIT_FEATURE_STORAGE_FILE\"],\n",
    "    bpi17_hoeg_config[\"OBJECTS_DATA_DICT\"],\n",
    "    event_node_label_key=bpi17_hoeg_config[\"events_target_label\"],\n",
    "    object_nodes_label_key=bpi17_hoeg_config['objects_target_label'],\n",
    "    edge_types=bpi17_hoeg_config['meta_data'][1],\n",
    "    object_node_types=bpi17_hoeg_config['object_types'],\n",
    "    graph_level_target = False,\n",
    "    transform=T.Compose(transformations),\n",
    "    train=True,\n",
    "    val=True,\n",
    "    test=True,\n",
    "    skip_cache=bpi17_hoeg_config[\"skip_cache\"],\n",
    ")"
   ]
  },
  {
   "cell_type": "markdown",
   "metadata": {},
   "source": [
    "Just some checks..."
   ]
  },
  {
   "cell_type": "code",
   "execution_count": 5,
   "metadata": {},
   "outputs": [
    {
     "data": {
      "text/plain": [
       "HeteroData(\n",
       "  \u001b[1mevent\u001b[0m={\n",
       "    x=[17, 27],\n",
       "    y=[17]\n",
       "  },\n",
       "  \u001b[1mapplication\u001b[0m={\n",
       "    x=[1, 3],\n",
       "    y=[1]\n",
       "  },\n",
       "  \u001b[1moffer\u001b[0m={\n",
       "    x=[2, 7],\n",
       "    y=[2]\n",
       "  },\n",
       "  \u001b[1m(event, follows, event)\u001b[0m={ edge_index=[2, 55] },\n",
       "  \u001b[1m(event, interacts, application)\u001b[0m={ edge_index=[2, 14] },\n",
       "  \u001b[1m(event, interacts, offer)\u001b[0m={ edge_index=[2, 8] },\n",
       "  \u001b[1m(application, rev_interacts, event)\u001b[0m={ edge_index=[2, 14] },\n",
       "  \u001b[1m(offer, rev_interacts, event)\u001b[0m={ edge_index=[2, 8] }\n",
       ")"
      ]
     },
     "execution_count": 5,
     "metadata": {},
     "output_type": "execute_result"
    }
   ],
   "source": [
    "ds_train[0]"
   ]
  },
  {
   "cell_type": "code",
   "execution_count": null,
   "metadata": {},
   "outputs": [
    {
     "name": "stderr",
     "output_type": "stream",
     "text": [
      "100%|██████████| 31509/31509 [00:35<00:00, 897.87it/s]\n"
     ]
    },
    {
     "data": {
      "text/plain": [
       "HOEG (#graphs=31509):\n",
       "+------------+----------+----------+\n",
       "|            |   #nodes |   #edges |\n",
       "|------------+----------+----------|\n",
       "| mean       |     14.9 |     86.1 |\n",
       "| std        |      4.1 |     25.3 |\n",
       "| min        |      8   |     40   |\n",
       "| quantile25 |     12   |     68   |\n",
       "| median     |     14   |     80   |\n",
       "| quantile75 |     17   |     98   |\n",
       "| max        |     52   |    310   |\n",
       "+------------+----------+----------+"
      ]
     },
     "execution_count": 3,
     "metadata": {},
     "output_type": "execute_result"
    }
   ],
   "source": [
    "dataset.get_summary()"
   ]
  },
  {
   "cell_type": "code",
   "execution_count": null,
   "metadata": {},
   "outputs": [
    {
     "data": {
      "text/plain": [
       "HeteroData(\n",
       "  \u001b[1mevent\u001b[0m={\n",
       "    x=[41, 27],\n",
       "    y=[41]\n",
       "  },\n",
       "  \u001b[1mapplication\u001b[0m={\n",
       "    x=[1, 3],\n",
       "    y=[1]\n",
       "  },\n",
       "  \u001b[1moffer\u001b[0m={\n",
       "    x=[9, 7],\n",
       "    y=[9]\n",
       "  },\n",
       "  \u001b[1m(event, follows, event)\u001b[0m={ edge_index=[2, 180] },\n",
       "  \u001b[1m(event, interacts, application)\u001b[0m={ edge_index=[2, 32] },\n",
       "  \u001b[1m(event, interacts, offer)\u001b[0m={ edge_index=[2, 28] },\n",
       "  \u001b[1m(application, rev_interacts, event)\u001b[0m={ edge_index=[2, 32] },\n",
       "  \u001b[1m(offer, rev_interacts, event)\u001b[0m={ edge_index=[2, 28] }\n",
       ")"
      ]
     },
     "execution_count": 4,
     "metadata": {},
     "output_type": "execute_result"
    }
   ],
   "source": [
    "dataset[0]"
   ]
  },
  {
   "cell_type": "code",
   "execution_count": 4,
   "metadata": {},
   "outputs": [
    {
     "data": {
      "text/plain": [
       "HeteroData(\n",
       "  \u001b[1mevent\u001b[0m={\n",
       "    x=[41, 27],\n",
       "    y=[41]\n",
       "  },\n",
       "  \u001b[1mapplication\u001b[0m={\n",
       "    x=[1, 3],\n",
       "    y=[1]\n",
       "  },\n",
       "  \u001b[1moffer\u001b[0m={\n",
       "    x=[9, 7],\n",
       "    y=[9]\n",
       "  },\n",
       "  \u001b[1m(event, follows, event)\u001b[0m={ edge_index=[2, 180] },\n",
       "  \u001b[1m(event, interacts, application)\u001b[0m={ edge_index=[2, 32] },\n",
       "  \u001b[1m(event, interacts, offer)\u001b[0m={ edge_index=[2, 28] },\n",
       "  \u001b[1m(application, rev_interacts, event)\u001b[0m={ edge_index=[2, 32] },\n",
       "  \u001b[1m(offer, rev_interacts, event)\u001b[0m={ edge_index=[2, 28] }\n",
       ")"
      ]
     },
     "execution_count": 4,
     "metadata": {},
     "output_type": "execute_result"
    }
   ],
   "source": [
    "dataset[0]"
   ]
  }
 ],
 "metadata": {
  "kernelspec": {
   "display_name": ".env",
   "language": "python",
   "name": "python3"
  },
  "language_info": {
   "codemirror_mode": {
    "name": "ipython",
    "version": 3
   },
   "file_extension": ".py",
   "mimetype": "text/x-python",
   "name": "python",
   "nbconvert_exporter": "python",
   "pygments_lexer": "ipython3",
   "version": "3.9.17"
  },
  "orig_nbformat": 4
 },
 "nbformat": 4,
 "nbformat_minor": 2
}
