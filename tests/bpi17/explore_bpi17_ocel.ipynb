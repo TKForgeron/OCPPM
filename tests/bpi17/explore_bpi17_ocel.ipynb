{
 "cells": [
  {
   "cell_type": "code",
   "execution_count": 1,
   "id": "5f474491",
   "metadata": {},
   "outputs": [],
   "source": [
    "import os\n",
    "\n",
    "go_up_n_directories = lambda path, n: os.path.abspath(\n",
    "    os.path.join(*([os.path.dirname(path)] + [\"..\"] * n))\n",
    ")\n",
    "os.chdir(go_up_n_directories(os.getcwd(), 1))  # run once (otherwise restart kernel)"
   ]
  },
  {
   "cell_type": "code",
   "execution_count": 11,
   "metadata": {},
   "outputs": [],
   "source": [
    "# Imports\n",
    "import pm4py\n",
    "import pm4py.utils\n",
    "import pm4py.read\n",
    "from pm4py.objects.ocel.obj import OCEL\n",
    "import ocpa.objects.log.importer.ocel.factory as ocel_import_factory\n",
    "import ocpa.algo.predictive_monitoring.factory as feature_factory\n",
    "from ocpa.algo.predictive_monitoring.obj import Feature_Storage\n",
    "import torch_geometric.transforms as T\n",
    "import json\n",
    "from typing import Any\n",
    "from copy import copy\n",
    "import pickle\n",
    "import pandas as pd\n",
    "import numpy as np\n",
    "from pprint import pprint\n",
    "\n",
    "from utilities import hetero_data_utils, data_utils\n",
    "from experiments.hoeg import HOEG"
   ]
  },
  {
   "cell_type": "code",
   "execution_count": 3,
   "id": "14308009",
   "metadata": {},
   "outputs": [],
   "source": [
    "# ocel_ce_in_file = \"../../data/BPI17/source/BPI2017-CountEncoded.jsonocel\"\n",
    "# ocel_ce = pm4py.read.read_ocel(ocel_ce_in_file)\n",
    "\n",
    "ocel_in_file = \"data/BPI17/source/BPI2017-Final.jsonocel\"\n",
    "ocel = pm4py.read.read_ocel(ocel_in_file)\n",
    "ocel_table = ocel.get_extended_table()"
   ]
  },
  {
   "cell_type": "code",
   "execution_count": 14,
   "id": "c811a4f2",
   "metadata": {},
   "outputs": [
    {
     "name": "stdout",
     "output_type": "stream",
     "text": [
      "An event may refer to multiple offers:  True\n",
      "An event may refer to multiple applications:  False\n"
     ]
    }
   ],
   "source": [
    "# check whether an event can refer to multiple offers:\n",
    "mul_offers = ocel_table['ocel:type:offer'].explode().shape != ocel_table['ocel:type:offer'].shape\n",
    "print('An event may refer to multiple offers: ', mul_offers)\n",
    "# answer: YES, it can. For example `ocel:eid==385026`.\n",
    "\n",
    "# check whether an event can refer to multiple applications:\n",
    "mul_applications = ocel_table['ocel:type:application'].explode().shape != ocel_table['ocel:type:application'].shape\n",
    "print('An event may refer to multiple applications: ', mul_applications)\n",
    "# answer: NO, it cannot.\n"
   ]
  },
  {
   "cell_type": "code",
   "execution_count": null,
   "id": "a8cd911c",
   "metadata": {},
   "outputs": [],
   "source": [
    "ocel_ce_in_file = \"data/BPI17/source/BPI2017-CountEncoded.jsonocel\"\n",
    "ocel_in_file = \"data/BPI17/source/BPI2017-Final.jsonocel\""
   ]
  },
  {
   "cell_type": "code",
   "execution_count": 4,
   "id": "efe736e5",
   "metadata": {},
   "outputs": [],
   "source": [
    "ocpa_ocel_ce = ocel_import_factory.apply(ocel_ce_in_file)\n",
    "ocpa_ocel = ocel_import_factory.apply(ocel_in_file)"
   ]
  },
  {
   "cell_type": "code",
   "execution_count": 5,
   "id": "95cf36d0",
   "metadata": {},
   "outputs": [
    {
     "name": "stdout",
     "output_type": "stream",
     "text": [
      "{'max_trace_len': 41,\n",
      " 'mean_trace_len': 12.502173982036878,\n",
      " 'median_trace_len': 12.0,\n",
      " 'min_trace_len': 6,\n",
      " 'no_events': 393931,\n",
      " 'std_trace_len': 3.5650717994052803}\n"
     ]
    }
   ],
   "source": [
    "trace_lengths = [len(t) for t in ocpa_ocel_ce.process_executions]\n",
    "bpi17_events_stats = {\n",
    "    \"no_events\": ocpa_ocel_ce.log.log.index.shape[0],\n",
    "    \"min_trace_len\": min(trace_lengths),\n",
    "    \"max_trace_len\": max(trace_lengths),\n",
    "    \"median_trace_len\": np.median(trace_lengths),\n",
    "    \"mean_trace_len\": np.mean(trace_lengths),\n",
    "    \"std_trace_len\": np.std(trace_lengths),\n",
    "}\n",
    "pprint(bpi17_events_stats)"
   ]
  },
  {
   "cell_type": "code",
   "execution_count": 6,
   "id": "3ba47a65",
   "metadata": {},
   "outputs": [
    {
     "name": "stderr",
     "output_type": "stream",
     "text": [
      "/home/tim/Development/OCPPM/.env/lib/python3.9/site-packages/sklearn/base.py:324: UserWarning: Trying to unpickle estimator StandardScaler from version 0.24.2 when using version 1.0. This might lead to breaking code or invalid results. Use at your own risk. For more info please refer to:\n",
      "https://scikit-learn.org/stable/modules/model_persistence.html#security-maintainability-limitations\n",
      "  warnings.warn(\n"
     ]
    },
    {
     "data": {
      "text/plain": [
       "HeteroDataBatch(\n",
       "  \u001b[1mevent\u001b[0m={\n",
       "    x=[393931, 27],\n",
       "    y=[393931],\n",
       "    batch=[393931],\n",
       "    ptr=[31510]\n",
       "  },\n",
       "  \u001b[1mapplication\u001b[0m={\n",
       "    x=[31509, 3],\n",
       "    y=[31509],\n",
       "    batch=[31509],\n",
       "    ptr=[31510]\n",
       "  },\n",
       "  \u001b[1moffer\u001b[0m={\n",
       "    x=[42995, 7],\n",
       "    y=[42995],\n",
       "    batch=[42995],\n",
       "    ptr=[31510]\n",
       "  },\n",
       "  \u001b[1m(event, follows, event)\u001b[0m={ edge_index=[2, 1219845] },\n",
       "  \u001b[1m(event, interacts, application)\u001b[0m={ edge_index=[2, 328894] },\n",
       "  \u001b[1m(event, interacts, offer)\u001b[0m={ edge_index=[2, 201006] }\n",
       ")"
      ]
     },
     "execution_count": 6,
     "metadata": {},
     "output_type": "execute_result"
    }
   ],
   "source": [
    "transformations = [\n",
    "    hetero_data_utils.AddObjectSelfLoops(),\n",
    "    T.AddSelfLoops(),\n",
    "    T.NormalizeFeatures(),\n",
    "]\n",
    "bpi17_hoeg_ds = HOEG(\n",
    "    root=\"data/BPI17/feature_encodings/HOEG/hoeg\",\n",
    "    events_filename=\"BPI_split_[C2_P2_P3_P5_O3_Action_EventOrigin_OrgResource].fs\",\n",
    "    objects_filename=\"bpi17_ofg+oi_graph+app_node_map+off_node_map.pkl\",\n",
    "    event_node_label_key=(feature_factory.EVENT_REMAINING_TIME, ()),\n",
    "    object_nodes_label_key=\"@@object_lifecycle_duration\",\n",
    "    edge_types=[\n",
    "        (\"event\", \"follows\", \"event\"),\n",
    "        (\"application\", \"interacts\", \"event\"),\n",
    "        (\"offer\", \"interacts\", \"event\"),\n",
    "    ],\n",
    "    object_node_types=[\"application\", \"offer\"],\n",
    "    transform=T.Compose(transformations),\n",
    ")\n",
    "next(iter(data_utils.DataLoader(bpi17_hoeg_ds, batch_size=bpi17_hoeg_ds.len())))"
   ]
  },
  {
   "cell_type": "code",
   "execution_count": 7,
   "id": "dd4edc01",
   "metadata": {},
   "outputs": [
    {
     "name": "stdout",
     "output_type": "stream",
     "text": [
      "Train set\n"
     ]
    },
    {
     "name": "stderr",
     "output_type": "stream",
     "text": [
      "100%|██████████| 31509/31509 [00:31<00:00, 1011.56it/s]\n"
     ]
    },
    {
     "name": "stdout",
     "output_type": "stream",
     "text": [
      "HOEG (#graphs=31509):\n",
      "+------------+----------+----------+\n",
      "|            |   #nodes |   #edges |\n",
      "|------------+----------+----------|\n",
      "| mean       |     14.9 |     57.9 |\n",
      "| std        |      4.1 |     16.8 |\n",
      "| min        |      8   |     28   |\n",
      "| quantile25 |     12   |     46   |\n",
      "| median     |     14   |     54   |\n",
      "| quantile75 |     17   |     66   |\n",
      "| max        |     52   |    206   |\n",
      "+------------+----------+----------+ \n",
      "\n"
     ]
    }
   ],
   "source": [
    "data_utils.print_dataset_summaries(bpi17_hoeg_ds)"
   ]
  },
  {
   "cell_type": "code",
   "execution_count": 8,
   "id": "a174b597",
   "metadata": {},
   "outputs": [
    {
     "data": {
      "text/plain": [
       "HeteroData(\n",
       "  \u001b[1mapplication\u001b[0m={\n",
       "    y=[31509],\n",
       "    x=[31509, 3]\n",
       "  },\n",
       "  \u001b[1moffer\u001b[0m={\n",
       "    y=[42995],\n",
       "    x=[42995, 7]\n",
       "  },\n",
       "  \u001b[1m(application, interacts, application)\u001b[0m={ edge_index=[2, 0] },\n",
       "  \u001b[1m(application, interacts, offer)\u001b[0m={ edge_index=[2, 42995] },\n",
       "  \u001b[1m(offer, interacts, offer)\u001b[0m={ edge_index=[2, 6027] }\n",
       ")"
      ]
     },
     "execution_count": 8,
     "metadata": {},
     "output_type": "execute_result"
    }
   ],
   "source": [
    "with open(\"data/BPI17/feature_encodings/HOEG/hoeg/raw/bpi17_ofg+oi_graph+app_node_map+off_node_map.pkl\", 'rb') as fp:\n",
    "    obj_dict = pickle.load(fp)\n",
    "obj_dict['ofg']"
   ]
  },
  {
   "cell_type": "code",
   "execution_count": 12,
   "id": "eaf26125",
   "metadata": {},
   "outputs": [],
   "source": [
    "with open(\"data/BPI17/feature_encodings/EFG/efg/raw/BPI_split_[C2_P2_P3_P5_O3_Action_EventOrigin_OrgResource].fs\", 'rb') as fp:\n",
    "    fs: Feature_Storage = pickle.load(fp)"
   ]
  },
  {
   "cell_type": "code",
   "execution_count": 23,
   "id": "c69d2638",
   "metadata": {},
   "outputs": [
    {
     "name": "stdout",
     "output_type": "stream",
     "text": [
      "{'max_tp': 14604259.821,\n",
      " 'mean_tp': 1887853.9103989338,\n",
      " 'median_tp': 1646735.9,\n",
      " 'min_tp': 201.062,\n",
      " 'no_cases': 31509,\n",
      " 'std_tp': 1119596.759066281}\n"
     ]
    }
   ],
   "source": [
    "throughput_times = [fg.attributes[fs.execution_features[0]] for fg in fs.feature_graphs]\n",
    "bpi17_cases_stats = {\n",
    "    \"no_cases\": len(fs.feature_graphs),\n",
    "    \"min_tp\": min(throughput_times),\n",
    "    \"max_tp\": max(throughput_times),\n",
    "    \"median_tp\": np.median(throughput_times),\n",
    "    \"mean_tp\": np.mean(throughput_times),\n",
    "    \"std_tp\": np.std(throughput_times),\n",
    "}\n",
    "pprint(bpi17_cases_stats)"
   ]
  }
 ],
 "metadata": {
  "kernelspec": {
   "display_name": ".env",
   "language": "python",
   "name": "python3"
  },
  "language_info": {
   "codemirror_mode": {
    "name": "ipython",
    "version": 3
   },
   "file_extension": ".py",
   "mimetype": "text/x-python",
   "name": "python",
   "nbconvert_exporter": "python",
   "pygments_lexer": "ipython3",
   "version": "3.9.0"
  }
 },
 "nbformat": 4,
 "nbformat_minor": 5
}
