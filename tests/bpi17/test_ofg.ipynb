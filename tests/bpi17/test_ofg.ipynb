{
  "cells": [
    {
      "cell_type": "code",
      "execution_count": 1,
      "metadata": {},
      "outputs": [
        {
          "name": "stderr",
          "output_type": "stream",
          "text": [
            "/home/tim/Development/OCPPM/.env/lib/python3.9/site-packages/tqdm/auto.py:21: TqdmWarning: IProgress not found. Please update jupyter and ipywidgets. See https://ipywidgets.readthedocs.io/en/stable/user_install.html\n",
            "  from .autonotebook import tqdm as notebook_tqdm\n"
          ]
        }
      ],
      "source": [
        "import logging\n",
        "import os\n",
        "import pickle\n",
        "import random\n",
        "from copy import copy\n",
        "from typing import Any, Callable, Optional\n",
        "\n",
        "import matplotlib.pyplot as plt\n",
        "import networkx as nx\n",
        "import numpy as np\n",
        "import pandas as pd\n",
        "import pm4py\n",
        "import pm4py.ocel\n",
        "import skorch\n",
        "import torch\n",
        "import torch.nn.functional as F\n",
        "import torch.optim as O\n",
        "import torch_geometric as tg\n",
        "import torch_geometric.transforms as T\n",
        "import torch_geometric.utils as utils\n",
        "from pm4py.algo.transformation.ocel.features.objects import (\n",
        "    algorithm as object_feature_factory,\n",
        ")\n",
        "from torch import Tensor\n",
        "from torch_geometric.data import HeteroData\n",
        "from torch_geometric.datasets import FakeHeteroDataset\n",
        "from torch_geometric.loader import NeighborLoader\n",
        "from torch_geometric.nn import (\n",
        "    GATConv,\n",
        "    GCNConv,\n",
        "    HeteroConv,\n",
        "    HGTConv,\n",
        "    Linear,\n",
        "    SAGEConv,\n",
        "    to_hetero,\n",
        ")\n",
        "from torch_geometric.typing import (\n",
        "    DEFAULT_REL,\n",
        "    EdgeTensorType,\n",
        "    EdgeType,\n",
        "    FeatureTensorType,\n",
        "    NodeType,\n",
        "    QueryType,\n",
        "    SparseTensor,\n",
        ")\n",
        "\n",
        "os.chdir(\"/home/tim/Development/OCPPM/\")\n",
        "from bpi17_ofg import BPI17_OFG\n",
        "\n",
        "raw_file = \"data/BPI17/feature_encodings/OFG/ofg/raw/BPI17_OFG_all_feats.pkl\"\n",
        "logging.basicConfig(\n",
        "    level=logging.INFO,\n",
        "    format=\"%(asctime)s %(levelname)s %(message)s\",\n",
        "    datefmt=\"%Y-%m-%d %H:%M:%S\",\n",
        "    filename=\"logging/debug.log\",\n",
        ")\n",
        "logging.critical(\"-\" * 64)\n",
        "import torch\n",
        "import torch.nn.functional as F\n",
        "import torch.optim as O\n",
        "import torch_geometric.transforms as T\n",
        "from torch_geometric.datasets import OGB_MAG\n",
        "from torch_geometric.loader import NeighborLoader\n",
        "from torch_geometric.nn import GATConv, Linear, to_hetero\n",
        "\n",
        "DEVICE = torch.device(\"cuda\" if torch.cuda.is_available() else \"cpu\")"
      ]
    },
    {
      "cell_type": "code",
      "execution_count": 2,
      "metadata": {},
      "outputs": [
        {
          "data": {
            "text/plain": [
              "BPI17_OFG (#graphs=1):\n",
              "+------------+----------+----------+\n",
              "|            |   #nodes |   #edges |\n",
              "|------------+----------+----------|\n",
              "| mean       |    74504 |   129553 |\n",
              "| std        |      nan |      nan |\n",
              "| min        |    74504 |   129553 |\n",
              "| quantile25 |    74504 |   129553 |\n",
              "| median     |    74504 |   129553 |\n",
              "| quantile75 |    74504 |   129553 |\n",
              "| max        |    74504 |   129553 |\n",
              "+------------+----------+----------+"
            ]
          },
          "execution_count": 2,
          "metadata": {},
          "output_type": "execute_result"
        }
      ],
      "source": [
        "dataset = BPI17_OFG('data/BPI17/feature_encodings/OFG')\n",
        "dataset.get_summary()"
      ]
    },
    {
      "cell_type": "code",
      "execution_count": 103,
      "metadata": {},
      "outputs": [],
      "source": [
        "with open(raw_file, 'rb') as hetero_data_pkl:\n",
        "    hetero_data: HeteroData = pickle.load(hetero_data_pkl)\n",
        "hetero_data = T.AddSelfLoops()(hetero_data)\n",
        "hetero_data = T.NormalizeFeatures()(hetero_data)\n",
        "hetero_data = T.ToUndirected()(hetero_data)\n",
        "hetero_data['application'].x = hetero_data['application'].x.to(torch.float)\n",
        "hetero_data['application'].y = hetero_data['application'].y.to(torch.float)\n",
        "hetero_data['offer'].x = hetero_data['offer'].x.to(torch.float)\n",
        "hetero_data['offer'].y = hetero_data['offer'].y.to(torch.float)"
      ]
    },
    {
      "cell_type": "code",
      "execution_count": 104,
      "metadata": {},
      "outputs": [],
      "source": [
        "edge_types = [\n",
        "    (\"application\", \"interacts\", \"application\"),\n",
        "    (\"application\", \"interacts\", \"offer\"),\n",
        "    (\"offer\", \"interacts\", \"offer\"),\n",
        "]\n",
        "data = T.RandomNodeSplit(\n",
        "    # num_val=0.1, num_test=0.1, edge_types=edge_types, neg_sampling_ratio=0.0\n",
        ")(hetero_data)"
      ]
    },
    {
      "cell_type": "code",
      "execution_count": 105,
      "metadata": {},
      "outputs": [
        {
          "data": {
            "text/plain": [
              "HeteroData(\n",
              "  \u001b[1mapplication\u001b[0m={\n",
              "    y=[64],\n",
              "    x=[64, 62],\n",
              "    train_mask=[64],\n",
              "    val_mask=[64],\n",
              "    test_mask=[64],\n",
              "    n_id=[64],\n",
              "    input_id=[64],\n",
              "    batch_size=64\n",
              "  },\n",
              "  \u001b[1moffer\u001b[0m={\n",
              "    y=[104],\n",
              "    x=[104, 62],\n",
              "    train_mask=[104],\n",
              "    val_mask=[104],\n",
              "    test_mask=[104],\n",
              "    n_id=[104]\n",
              "  },\n",
              "  \u001b[1m(application, interacts, application)\u001b[0m={\n",
              "    edge_index=[2, 64],\n",
              "    e_id=[64]\n",
              "  },\n",
              "  \u001b[1m(application, interacts, offer)\u001b[0m={\n",
              "    edge_index=[2, 104],\n",
              "    e_id=[104]\n",
              "  },\n",
              "  \u001b[1m(offer, interacts, offer)\u001b[0m={\n",
              "    edge_index=[2, 174],\n",
              "    e_id=[174]\n",
              "  },\n",
              "  \u001b[1m(offer, rev_interacts, application)\u001b[0m={\n",
              "    edge_index=[2, 104],\n",
              "    e_id=[104]\n",
              "  }\n",
              ")"
            ]
          },
          "execution_count": 105,
          "metadata": {},
          "output_type": "execute_result"
        }
      ],
      "source": [
        "train_loader = NeighborLoader(\n",
        "    data,\n",
        "    # Sample 15 neighbors for each node and each edge type for 2 iterations:\n",
        "    num_neighbors = {key: [16] * 2 for key in data.edge_types},\n",
        "    # Use a batch size of 128 for sampling training nodes of type \"paper\":\n",
        "    batch_size=128,\n",
        "    input_nodes=('application', data['application'].train_mask),\n",
        "    # input_nodes=('offer', data['offer'].train_mask),\n",
        ")\n",
        "\n",
        "batch1 = next(iter(train_loader))\n",
        "batch1"
      ]
    },
    {
      "cell_type": "code",
      "execution_count": 106,
      "metadata": {},
      "outputs": [
        {
          "data": {
            "text/plain": [
              "<seaborn.axisgrid.FacetGrid at 0x7f6b60c72a00>"
            ]
          },
          "execution_count": 106,
          "metadata": {},
          "output_type": "execute_result"
        },
        {
          "data": {
            "image/png": "[encoded data removed]",
            "text/plain": [
              "<Figure size 500x500 with 1 Axes>"
            ]
          },
          "metadata": {},
          "output_type": "display_data"
        },
        {
          "data": {
            "image/png": "[encoded data removed]",
            "text/plain": [
              "<Figure size 500x500 with 1 Axes>"
            ]
          },
          "metadata": {},
          "output_type": "display_data"
        }
      ],
      "source": [
        "import seaborn as sns\n",
        "def specs(x, **kwargs):\n",
        "    plt.axvline(x.mean(), c='k', ls='-', lw=2.5)\n",
        "    plt.axvline(x.median(), c='orange', ls='--', lw=2.5)\n",
        "\n",
        "y = batch1['application'].y\n",
        "durations = pd.DataFrame({'lc_duration': y/1000})\n",
        "g = sns.displot(durations, x='lc_duration', kde=True, bins=32,facet_kws=dict(sharey=False, sharex=False))\n",
        "g.map(specs, 'lc_duration')\n",
        "y = batch1['offer'].y\n",
        "durations = pd.DataFrame({'lc_duration': y/1000})\n",
        "g = sns.displot(durations, x='lc_duration', kde=True, bins=32,facet_kws=dict(sharey=False, sharex=False))\n",
        "g.map(specs,'lc_duration' )\n"
      ]
    },
    {
      "cell_type": "code",
      "execution_count": 107,
      "metadata": {},
      "outputs": [
        {
          "data": {
            "text/plain": [
              "GraphModule(\n",
              "  (conv1): ModuleDict(\n",
              "    (application__interacts__application): GATConv((-1, -1), 128, heads=1)\n",
              "    (application__interacts__offer): GATConv((-1, -1), 128, heads=1)\n",
              "    (offer__interacts__offer): GATConv((-1, -1), 128, heads=1)\n",
              "    (offer__rev_interacts__application): GATConv((-1, -1), 128, heads=1)\n",
              "  )\n",
              "  (lin1): ModuleDict(\n",
              "    (application): Linear(-1, 128, bias=True)\n",
              "    (offer): Linear(-1, 128, bias=True)\n",
              "  )\n",
              "  (conv2): ModuleDict(\n",
              "    (application__interacts__application): GATConv((-1, -1), 1, heads=1)\n",
              "    (application__interacts__offer): GATConv((-1, -1), 1, heads=1)\n",
              "    (offer__interacts__offer): GATConv((-1, -1), 1, heads=1)\n",
              "    (offer__rev_interacts__application): GATConv((-1, -1), 1, heads=1)\n",
              "  )\n",
              "  (lin2): ModuleDict(\n",
              "    (application): Linear(-1, 1, bias=True)\n",
              "    (offer): Linear(-1, 1, bias=True)\n",
              "  )\n",
              ")"
            ]
          },
          "execution_count": 107,
          "metadata": {},
          "output_type": "execute_result"
        }
      ],
      "source": [
        "class GAT(torch.nn.Module):\n",
        "    def __init__(self, hidden_channels, out_channels):\n",
        "        super().__init__()\n",
        "        self.conv1 = GATConv((-1, -1), hidden_channels, add_self_loops=False)\n",
        "        self.lin1 = Linear(-1, hidden_channels)\n",
        "        self.conv2 = GATConv((-1, -1), out_channels, add_self_loops=False)\n",
        "        self.lin2 = Linear(-1, out_channels)\n",
        "\n",
        "    def forward(self, x, edge_index):\n",
        "        x = self.conv1(x, edge_index) + self.lin1(x)\n",
        "        x = x.relu()\n",
        "        x = self.conv2(x, edge_index) + self.lin2(x)\n",
        "        return x\n",
        "\n",
        "\n",
        "\n",
        "model = GAT(hidden_channels=128, out_channels=1)\n",
        "model = to_hetero(model, data.metadata(), aggr='sum')\n",
        "optimizer = O.Adam(model.parameters(), lr=0.001, betas=(0.9, 0.999), eps=1e-08, weight_decay=0, amsgrad=False)\n",
        "model.to(DEVICE)"
      ]
    },
    {
      "cell_type": "code",
      "execution_count": 108,
      "metadata": {},
      "outputs": [],
      "source": [
        "def train_one_epoch(i: int, verbose: bool):\n",
        "    total_examples = total_loss = 0\n",
        "    for batch in train_loader:\n",
        "        optimizer.zero_grad()\n",
        "        batch = batch.to(DEVICE)\n",
        "        batch_size = batch[\"application\"].batch_size\n",
        "        # batch_size = batch[\"offer\"].batch_size\n",
        "        out = model(batch.x_dict, batch.edge_index_dict)\n",
        "        loss = F.mse_loss(\n",
        "            # out[\"offer\"][:batch_size], batch[\"offer\"].y[:batch_size]\n",
        "            out[\"application\"][:batch_size], batch[\"application\"].y[:batch_size]\n",
        "        )\n",
        "        loss.backward()\n",
        "        optimizer.step()\n",
        "\n",
        "        total_examples += batch_size\n",
        "        total_loss += float(loss) * batch_size\n",
        "    \n",
        "    avg_loss = total_loss / total_examples\n",
        "    if verbose:\n",
        "        print(f\"Epoch: {i}, Average Loss: {avg_loss}\")\n",
        "    \n",
        "    return avg_loss\n",
        "\n",
        "def train(num_epochs: int, verbose: bool = True) -> list[float]:\n",
        "    # model.double()\n",
        "    model.train()\n",
        "    losses_per_epoch = []\n",
        "    for epoch in range(num_epochs):\n",
        "        losses_per_epoch.append(train_one_epoch(i=epoch+1, verbose=verbose))\n",
        "\n",
        "    return losses_per_epoch"
      ]
    },
    {
      "cell_type": "code",
      "execution_count": 118,
      "metadata": {},
      "outputs": [
        {
          "name": "stderr",
          "output_type": "stream",
          "text": [
            "/tmp/ipykernel_4763/3827497592.py:9: UserWarning: Using a target size (torch.Size([64])) that is different to the input size (torch.Size([64, 1])). This will likely lead to incorrect results due to broadcasting. Please ensure they have the same size.\n",
            "  loss = F.mse_loss(\n",
            "/tmp/ipykernel_4763/3827497592.py:9: UserWarning: Using a target size (torch.Size([57])) that is different to the input size (torch.Size([57, 1])). This will likely lead to incorrect results due to broadcasting. Please ensure they have the same size.\n",
            "  loss = F.mse_loss(\n"
          ]
        },
        {
          "data": {
            "text/plain": [
              "[1253483611928.9866,\n",
              " 1253469374032.6157,\n",
              " 1253465806202.4592,\n",
              " 1253463458712.5046,\n",
              " 1253461799762.2112,\n",
              " 1253460894701.949,\n",
              " 1253460205528.9631,\n",
              " 1253459596807.8655,\n",
              " 1253459115463.6458,\n",
              " 1253458956510.073,\n",
              " 1253458813704.0957,\n",
              " 1253458684042.881,\n",
              " 1253458568871.698,\n",
              " 1253458508277.8142,\n",
              " 1253458449077.2449,\n",
              " 1253458341167.4568,\n",
              " 1253458295725.3198,\n",
              " 1253458244757.971,\n",
              " 1253458205797.5845,\n",
              " 1253458185900.2705,\n",
              " 1253458171167.8284,\n",
              " 1253458150172.0237,\n",
              " 1253458122838.6045,\n",
              " 1253458100038.9163,\n",
              " 1253458068877.1587,\n",
              " 1253458036536.107,\n",
              " 1253458037547.2424,\n",
              " 1253458028093.234,\n",
              " 1253457996492.5168,\n",
              " 1253457969796.79,\n",
              " 1253457954361.1392,\n",
              " 1253457934592.6738,\n",
              " 1253457916905.4446,\n",
              " 1253457897121.6924,\n",
              " 1253457876466.5725,\n",
              " 1253457852286.6736,\n",
              " 1253457834581.9731,\n",
              " 1253457820915.2637,\n",
              " 1253457797434.2056,\n",
              " 1253457776685.179,\n",
              " 1253457746416.6274,\n",
              " 1253457746960.4133,\n",
              " 1253457723881.1887,\n",
              " 1253457704125.827,\n",
              " 1253457673577.739,\n",
              " 1253457662409.386,\n",
              " 1253457638679.3657,\n",
              " 1253457617495.7476,\n",
              " 1253457600472.4172,\n",
              " 1253457577626.8677,\n",
              " 1253457564750.722,\n",
              " 1253457546534.9941,\n",
              " 1253457525753.2095,\n",
              " 1253457506744.734,\n",
              " 1253457480219.3496,\n",
              " 1253457460573.1816,\n",
              " 1253457447697.036,\n",
              " 1253457425768.7153,\n",
              " 1253457411014.4343,\n",
              " 1253457384941.1128,\n",
              " 1253457368323.984,\n",
              " 1253457345262.2305,\n",
              " 1253457327572.8171,\n",
              " 1253457307339.186,\n",
              " 1253457283919.2764,\n",
              " 1253457262547.8447,\n",
              " 1253457251239.7236,\n",
              " 1253457230879.4275,\n",
              " 1253457209385.6985,\n",
              " 1253457187924.7275,\n",
              " 1253457158510.0725,\n",
              " 1253457144965.6602,\n",
              " 1253457131034.7014,\n",
              " 1253457112163.81,\n",
              " 1253457089348.8347,\n",
              " 1253457078988.5168,\n",
              " 1253457050831.7756,\n",
              " 1253457028128.178,\n",
              " 1253457010067.5056,\n",
              " 1253456995874.4814,\n",
              " 1253456992967.7395,\n",
              " 1253456950836.3618,\n",
              " 1253456928750.802,\n",
              " 1253456905407.3281,\n",
              " 1253456890436.8433,\n",
              " 1253456883850.2668,\n",
              " 1253456861456.78,\n",
              " 1253456833518.4265,\n",
              " 1253456825968.7598,\n",
              " 1253456796058.3643,\n",
              " 1253456764608.3347,\n",
              " 1253456752463.7883,\n",
              " 1253456741640.488,\n",
              " 1253456719834.4646,\n",
              " 1253456701649.311,\n",
              " 1253456679081.114,\n",
              " 1253456652678.027,\n",
              " 1253456641806.6814,\n",
              " 1253456616615.6467,\n",
              " 1253456601642.978,\n",
              " 1253456578533.1792,\n",
              " 1253456559059.5376,\n",
              " 1253456533108.5134,\n",
              " 1253456525325.1716,\n",
              " 1253456493940.6584,\n",
              " 1253456479463.73,\n",
              " 1253456463484.2935,\n",
              " 1253456443822.8381,\n",
              " 1253456417823.7686,\n",
              " 1253456393038.9353,\n",
              " 1253456374681.2554,\n",
              " 1253456359926.9744,\n",
              " 1253456342936.4023,\n",
              " 1253456312049.8132,\n",
              " 1253456293133.0605,\n",
              " 1253456274404.1213,\n",
              " 1253456246590.249,\n",
              " 1253456236433.0317,\n",
              " 1253456213091.7417,\n",
              " 1253456188289.4375,\n",
              " 1253456173581.018,\n",
              " 1253456157116.7605,\n",
              " 1253456131552.2825,\n",
              " 1253456131209.4138,\n",
              " 1253456089309.527,\n",
              " 1253456081109.0647,\n",
              " 1253456057999.2659,\n",
              " 1253456035791.4087,\n",
              " 1253456013537.6902,\n",
              " 1253455991484.8884,\n",
              " 1253455971650.907,\n",
              " 1253455956040.5457,\n",
              " 1253455942498.3171,\n",
              " 1253455921050.4497,\n",
              " 1253455894090.4736,\n",
              " 1253455872830.4197,\n",
              " 1253455867425.3213,\n",
              " 1253455834811.2847,\n",
              " 1253455814405.127,\n",
              " 1253455798486.839,\n",
              " 1253455772503.0566,\n",
              " 1253455750683.9297,\n",
              " 1253455721548.811,\n",
              " 1253455704215.37,\n",
              " 1253455696482.2576,\n",
              " 1253455675934.1477,\n",
              " 1253455651738.9614,\n",
              " 1253455635353.3235,\n",
              " 1253455608004.6172,\n",
              " 1253455592549.3115]"
            ]
          },
          "execution_count": 118,
          "metadata": {},
          "output_type": "execute_result"
        }
      ],
      "source": [
        "avg_train_loss = train(150, verbose=False)\n",
        "avg_train_loss"
      ]
    },
    {
      "cell_type": "code",
      "execution_count": 154,
      "metadata": {},
      "outputs": [
        {
          "data": {
            "text/plain": [
              "[2822632381959.251,\n",
              " 2780875126388.24,\n",
              " 2739127686663.865,\n",
              " 2697440968981.8984,\n",
              " 2655856470316.488,\n",
              " 2614410973496.158,\n",
              " 2573130790725.8926,\n",
              " 2532048508901.043,\n",
              " 2491192953341.867,\n",
              " 2450588374750.9775,\n",
              " 2410259476933.291,\n",
              " 2370235455225.73,\n",
              " 2330541624757.492,\n",
              " 2291198607678.3003,\n",
              " 2252235008114.3125,\n",
              " 2213675239600.28,\n",
              " 2175547398226.7827,\n",
              " 2137876509486.177,\n",
              " 2100681751482.423,\n",
              " 2063993135691.7363,\n",
              " 2027839220778.4832,\n",
              " 1992244028535.5332,\n",
              " 1957234916577.2466,\n",
              " 1922835224719.3853,\n",
              " 1889072350567.4868,\n",
              " 1855971827308.8015,\n",
              " 1823557313341.0547,\n",
              " 1791852638386.1226,\n",
              " 1760887498637.0051,\n",
              " 1730686951079.766,\n",
              " 1701273753384.6833,\n",
              " 1672673224331.3076,\n",
              " 1644909386869.9636,\n",
              " 1618006056777.3733,\n",
              " 1591986817249.4172,\n",
              " 1566871757081.4473,\n",
              " 1542684874281.7156,\n",
              " 1519445336803.5156,\n",
              " 1497173727999.9744,\n",
              " 1475887109136.4814,\n",
              " 1455603306980.1384,\n",
              " 1436339953442.6094,\n",
              " 1418110032068.3442,\n",
              " 1400923553794.1838,\n",
              " 1384789917073.0488,\n",
              " 1369716188133.2134,\n",
              " 1355705789234.0671,\n",
              " 1342756991036.739,\n",
              " 1330863586581.6597,\n",
              " 1320017830996.0452,\n",
              " 1310200679268.0234,\n",
              " 1301390321663.6587,\n",
              " 1293559052766.3376,\n",
              " 1286667826090.112,\n",
              " 1280671258349.1726,\n",
              " 1275516567717.4287,\n",
              " 1271143237648.8567,\n",
              " 1267482553838.5461,\n",
              " 1264461642969.0571,\n",
              " 1262004755264.9448,\n",
              " 1260034865803.9558,\n",
              " 1258477629968.089,\n",
              " 1257261925268.137,\n",
              " 1256324863228.3403,\n",
              " 1255610218551.2112,\n",
              " 1255070185145.5784,\n",
              " 1254665080003.6277,\n",
              " 1254363423550.1467,\n",
              " 1254139797694.8164,\n",
              " 1253974655411.1377,\n",
              " 1253852985561.364,\n",
              " 1253763462806.6365,\n",
              " 1253697744450.6252,\n",
              " 1253649458926.128,\n",
              " 1253614004253.687,\n",
              " 1253587898658.8652,\n",
              " 1253568689292.6895,\n",
              " 1253554464862.1116,\n",
              " 1253544033681.5947,\n",
              " 1253536200942.657,\n",
              " 1253530326037.3953,\n",
              " 1253525836182.6108,\n",
              " 1253522520701.7607,\n",
              " 1253520014478.8052,\n",
              " 1253517970676.765,\n",
              " 1253516416810.3213,\n",
              " 1253515248610.2104,\n",
              " 1253514191318.3528,\n",
              " 1253513412241.6545,\n",
              " 1253512788242.145,\n",
              " 1253512253718.3079,\n",
              " 1253511760675.053,\n",
              " 1253511304866.9207,\n",
              " 1253510920194.2522,\n",
              " 1253510607371.1753,\n",
              " 1253510311534.303,\n",
              " 1253510034745.2158,\n",
              " 1253509761063.7876,\n",
              " 1253509538803.9546,\n",
              " 1253509288461.632]"
            ]
          },
          "execution_count": 154,
          "metadata": {},
          "output_type": "execute_result"
        }
      ],
      "source": [
        "loss_app_100epochs"
      ]
    },
    {
      "cell_type": "code",
      "execution_count": 117,
      "metadata": {},
      "outputs": [
        {
          "data": {
            "text/plain": [
              "tensor([4.8238, 4.8183, 4.8064, 4.7877, 4.7632, 4.7337, 4.7000, 4.6622, 4.6207,\n",
              "        4.5755, 4.5267, 4.4744, 4.4187, 4.3599, 4.2983, 4.2339, 4.1669, 4.0974,\n",
              "        4.0252, 3.9507, 3.8740, 3.7955, 3.7151, 3.6332, 3.5498, 3.4652, 3.3796,\n",
              "        3.2930, 3.2057, 3.1179, 3.0300, 2.9419, 2.8540, 2.7664, 2.6794, 2.5931,\n",
              "        2.5078, 2.4238, 2.3412, 2.2603, 2.1813, 2.1044, 2.0299, 1.9578, 1.8885,\n",
              "        1.8222, 1.7591, 1.6994, 1.6431, 1.5906])"
            ]
          },
          "execution_count": 117,
          "metadata": {},
          "output_type": "execute_result"
        }
      ],
      "source": [
        "loss_app_100epochs_offer_sampling = torch.tensor(avg_train_loss) / 1_000_000_000_000\n",
        "loss_app_100epochs_offer_sampling[:50]"
      ]
    },
    {
      "cell_type": "code",
      "execution_count": null,
      "metadata": {},
      "outputs": [],
      "source": []
    },
    {
      "cell_type": "code",
      "execution_count": null,
      "metadata": {},
      "outputs": [],
      "source": []
    },
    {
      "cell_type": "code",
      "execution_count": null,
      "metadata": {},
      "outputs": [],
      "source": []
    },
    {
      "cell_type": "code",
      "execution_count": null,
      "metadata": {},
      "outputs": [],
      "source": []
    },
    {
      "cell_type": "code",
      "execution_count": null,
      "metadata": {},
      "outputs": [],
      "source": []
    },
    {
      "cell_type": "code",
      "execution_count": null,
      "metadata": {},
      "outputs": [],
      "source": []
    },
    {
      "cell_type": "code",
      "execution_count": null,
      "metadata": {},
      "outputs": [],
      "source": []
    },
    {
      "cell_type": "code",
      "execution_count": null,
      "metadata": {},
      "outputs": [],
      "source": []
    },
    {
      "cell_type": "code",
      "execution_count": null,
      "metadata": {},
      "outputs": [],
      "source": []
    },
    {
      "cell_type": "code",
      "execution_count": null,
      "metadata": {},
      "outputs": [],
      "source": [
        "\n",
        "# model = GAT(hidden_channels=64, out_channels=1)\n",
        "# model = to_hetero(model, dataset[0].metadata(), aggr='sum')\n",
        "\n",
        "model = HeteroGNN(hidden_channels=64, out_channels=1, num_layers=2)\n",
        "\n",
        "model.double()"
      ]
    },
    {
      "cell_type": "code",
      "execution_count": 18,
      "metadata": {},
      "outputs": [
        {
          "ename": "IndexError",
          "evalue": "too many indices for tensor of dimension 2",
          "output_type": "error",
          "traceback": [
            "\u001b[0;31m---------------------------------------------------------------------------\u001b[0m",
            "\u001b[0;31mIndexError\u001b[0m                                Traceback (most recent call last)",
            "Cell \u001b[0;32mIn[18], line 12\u001b[0m\n\u001b[1;32m      9\u001b[0m     \u001b[39mreturn\u001b[39;00m \u001b[39mfloat\u001b[39m(loss)\n\u001b[1;32m     11\u001b[0m optimizer \u001b[39m=\u001b[39m O\u001b[39m.\u001b[39mAdam(model\u001b[39m.\u001b[39mparameters(), lr\u001b[39m=\u001b[39m\u001b[39m0.001\u001b[39m, betas\u001b[39m=\u001b[39m(\u001b[39m0.9\u001b[39m, \u001b[39m0.999\u001b[39m), eps\u001b[39m=\u001b[39m\u001b[39m1e-08\u001b[39m, weight_decay\u001b[39m=\u001b[39m\u001b[39m0\u001b[39m, amsgrad\u001b[39m=\u001b[39m\u001b[39mFalse\u001b[39;00m)\n\u001b[0;32m---> 12\u001b[0m loss \u001b[39m=\u001b[39m train(model, dataset[\u001b[39m0\u001b[39;49m], optimizer, F\u001b[39m.\u001b[39;49mmse_loss)\n",
            "Cell \u001b[0;32mIn[18], line 6\u001b[0m, in \u001b[0;36mtrain\u001b[0;34m(model, data, optimizer, loss_fn)\u001b[0m\n\u001b[1;32m      4\u001b[0m out \u001b[39m=\u001b[39m model(data\u001b[39m.\u001b[39mx_dict, data\u001b[39m.\u001b[39medge_index_dict)\n\u001b[1;32m      5\u001b[0m mask \u001b[39m=\u001b[39m data[\u001b[39m\"\u001b[39m\u001b[39moffer\u001b[39m\u001b[39m\"\u001b[39m]\u001b[39m.\u001b[39mtrain_mask\n\u001b[0;32m----> 6\u001b[0m loss \u001b[39m=\u001b[39m loss_fn(out[\u001b[39m\"\u001b[39;49m\u001b[39moffer\u001b[39;49m\u001b[39m\"\u001b[39;49m][mask], data[\u001b[39m\"\u001b[39m\u001b[39moffer\u001b[39m\u001b[39m\"\u001b[39m]\u001b[39m.\u001b[39my[mask])\n\u001b[1;32m      7\u001b[0m loss\u001b[39m.\u001b[39mbackward()\n\u001b[1;32m      8\u001b[0m optimizer\u001b[39m.\u001b[39mstep()\n",
            "\u001b[0;31mIndexError\u001b[0m: too many indices for tensor of dimension 2"
          ]
        }
      ],
      "source": [
        "def train(model, data, optimizer, loss_fn):\n",
        "    model.train()\n",
        "    optimizer.zero_grad()\n",
        "    out = model(data.x_dict, data.edge_index_dict)\n",
        "    mask = data[\"offer\"].train_mask\n",
        "    loss = loss_fn(out[\"offer\"][mask], data[\"offer\"].y[mask])\n",
        "    loss.backward()\n",
        "    optimizer.step()\n",
        "    return float(loss)\n",
        "\n",
        "optimizer = O.Adam(model.parameters(), lr=0.001, betas=(0.9, 0.999), eps=1e-08, weight_decay=0, amsgrad=False)\n",
        "loss = train(model, dataset[0], optimizer, F.mse_loss)"
      ]
    },
    {
      "cell_type": "code",
      "execution_count": null,
      "metadata": {},
      "outputs": [],
      "source": []
    },
    {
      "cell_type": "code",
      "execution_count": null,
      "metadata": {},
      "outputs": [],
      "source": []
    },
    {
      "cell_type": "code",
      "execution_count": null,
      "metadata": {},
      "outputs": [],
      "source": []
    },
    {
      "cell_type": "code",
      "execution_count": null,
      "metadata": {},
      "outputs": [],
      "source": []
    },
    {
      "cell_type": "code",
      "execution_count": null,
      "metadata": {},
      "outputs": [],
      "source": [
        "G = nx.Graph()\n",
        "G.add_edges_from(graph)\n",
        "some_graph = {x for x in graph if \"Application_2114646933\" in x}\n",
        "sorted_cc = sorted(list(nx.connected_components(G)), key=len, reverse=True)\n",
        "sg = G.subgraph(sorted_cc[4])\n",
        "# sg = nx.Graph()\n",
        "# sg.add_edges_from(some_graph_adjacency)\n",
        "nx.draw(sg, with_labels=True)\n",
        "plt.savefig(\"../../tests/objects_interaction_graph.png\")"
      ]
    },
    {
      "cell_type": "code",
      "execution_count": 5,
      "metadata": {},
      "outputs": [
        {
          "data": {
            "text/plain": [
              "HeteroData(\n",
              "  \u001b[1mpaper\u001b[0m={\n",
              "    x=[736389, 128],\n",
              "    year=[736389],\n",
              "    y=[736389],\n",
              "    train_mask=[736389],\n",
              "    val_mask=[736389],\n",
              "    test_mask=[736389]\n",
              "  },\n",
              "  \u001b[1mauthor\u001b[0m={ x=[1134649, 128] },\n",
              "  \u001b[1minstitution\u001b[0m={ x=[8740, 128] },\n",
              "  \u001b[1mfield_of_study\u001b[0m={ x=[59965, 128] },\n",
              "  \u001b[1m(author, affiliated_with, institution)\u001b[0m={ edge_index=[2, 1043998] },\n",
              "  \u001b[1m(author, writes, paper)\u001b[0m={ edge_index=[2, 7145660] },\n",
              "  \u001b[1m(paper, cites, paper)\u001b[0m={ edge_index=[2, 5416271] },\n",
              "  \u001b[1m(paper, has_topic, field_of_study)\u001b[0m={ edge_index=[2, 7505078] }\n",
              ")"
            ]
          },
          "execution_count": 5,
          "metadata": {},
          "output_type": "execute_result"
        }
      ],
      "source": [
        "from torch_geometric.datasets import OGB_MAG\n",
        "\n",
        "dataset = OGB_MAG(root=\"./data\", preprocess=\"metapath2vec\")\n",
        "citation_network = dataset[0]\n",
        "citation_network"
      ]
    },
    {
      "cell_type": "code",
      "execution_count": 6,
      "metadata": {},
      "outputs": [
        {
          "data": {
            "text/plain": [
              "349"
            ]
          },
          "execution_count": 6,
          "metadata": {},
          "output_type": "execute_result"
        }
      ],
      "source": [
        "dataset.num_classes"
      ]
    },
    {
      "cell_type": "code",
      "execution_count": 8,
      "metadata": {},
      "outputs": [
        {
          "name": "stderr",
          "output_type": "stream",
          "text": [
            "/tmp/ipykernel_5995/2265959475.py:5: UserWarning: The use of `x.T` on tensors of dimension other than 2 to reverse their shape is deprecated and it will throw an error in a future release. Consider `x.mT` to transpose batches of matrices or `x.permute(*torch.arange(x.ndim - 1, -1, -1))` to reverse the dimensions of a tensor. (Triggered internally at ../aten/src/ATen/native/TensorShape.cpp:3277.)\n",
            "  order_y_tensor = torch.tensor(list(orders.values()))[\n"
          ]
        }
      ],
      "source": [
        "# testing to check whether we can indicate correct nodes from each node type in the edge_index\n",
        "orders = {\"price\": [1250, 678], \"discount\": [33, 0], \"black_friday_sale\": [1, 0]}\n",
        "items = {\"weight\": [3.5, 3.0, 26.0], \"size\": [2, 2, 3]}\n",
        "order_x_tensor = torch.tensor(list(orders.values()))[1:].T\n",
        "order_y_tensor = torch.tensor(list(orders.values()))[\n",
        "    0\n",
        "].T  # order_price will be the target\n",
        "item_x_tensor = torch.tensor(list(items.values())).T\n",
        "# o_o_interaction = torch.tensor([[],[]])\n",
        "o_i_interaction = torch.tensor(\n",
        "    [[0, 0, 1], [0, 1, 2]]\n",
        ")  # directional (only from order to item)\n",
        "i_i_interaction = torch.tensor([[2, 1], [1, 2]])\n",
        "test_het = HeteroData(\n",
        "    {\"order\": {\"x\": order_x_tensor, \"y\": order_y_tensor}, \"item\": {\"x\": item_x_tensor}},\n",
        "    #   order__interacts_with__order={'edge_index': o_o_interaction},\n",
        "    order__interacts_with__item={\"edge_index\": o_i_interaction},\n",
        "    item__interacts_with__item={\"edge_index\": i_i_interaction},\n",
        ")"
      ]
    },
    {
      "cell_type": "code",
      "execution_count": 9,
      "metadata": {},
      "outputs": [
        {
          "data": {
            "image/png": "[encoded data removed]",
            "text/plain": [
              "<Figure size 640x480 with 1 Axes>"
            ]
          },
          "metadata": {},
          "output_type": "display_data"
        }
      ],
      "source": [
        "test_het\n",
        "g = utils.to_networkx(test_het.to_homogeneous(), to_undirected=False)\n",
        "nx.draw(g, with_labels=True)"
      ]
    },
    {
      "cell_type": "code",
      "execution_count": null,
      "metadata": {},
      "outputs": [],
      "source": [
        "fake_het = FakeHeteroDataset(\n",
        "    num_node_types=2,\n",
        "    num_edge_types=3,\n",
        "    avg_num_nodes=2.5,\n",
        "    num_classes=2,\n",
        "    avg_degree=1,\n",
        "    avg_num_channels=3,\n",
        ")\n",
        "fake_het = fake_het[0]\n",
        "# fake_het.generate_ids()\n",
        "fake_het"
      ]
    },
    {
      "cell_type": "code",
      "execution_count": null,
      "metadata": {},
      "outputs": [],
      "source": [
        "fake_het[\"v0\"]"
      ]
    },
    {
      "cell_type": "code",
      "execution_count": null,
      "metadata": {},
      "outputs": [],
      "source": [
        "fake_het\n",
        "fake_het.to_dict()"
      ]
    },
    {
      "cell_type": "code",
      "execution_count": null,
      "metadata": {},
      "outputs": [],
      "source": [
        "fake_het[\"(v1, e0, v1)\"]"
      ]
    },
    {
      "cell_type": "code",
      "execution_count": null,
      "metadata": {},
      "outputs": [],
      "source": []
    },
    {
      "cell_type": "code",
      "execution_count": null,
      "metadata": {},
      "outputs": [],
      "source": []
    },
    {
      "cell_type": "code",
      "execution_count": null,
      "metadata": {},
      "outputs": [],
      "source": []
    },
    {
      "cell_type": "code",
      "execution_count": null,
      "metadata": {},
      "outputs": [],
      "source": [
        "# define a format for the adjacency matrix (use real oid or custom object_index?)"
      ]
    },
    {
      "cell_type": "code",
      "execution_count": null,
      "metadata": {},
      "outputs": [],
      "source": [
        "# Define HeteroData in PyG, using offer_features, application_features, and the adjacency matrix"
      ]
    },
    {
      "cell_type": "code",
      "execution_count": null,
      "metadata": {},
      "outputs": [],
      "source": [
        "# build OFG class that can hold features\n",
        "# enable this class to be ported to PyG\n"
      ]
    },
    {
      "cell_type": "code",
      "execution_count": null,
      "metadata": {},
      "outputs": [],
      "source": [
        "# COULD MOVE THIS TO A UNIT TEST FILE\n",
        "# example_edges = [('o1','i1'),('o1','i2'),('i2','i3'),('i3','o2')]\n",
        "# test_split = split_on_edge_types(edge_list=to_undirected(example_edges), edge_types=[('o','i'), ('i','i')])\n",
        "# test_split\n"
      ]
    }
  ],
  "metadata": {
    "anaconda-cloud": {},
    "kernelspec": {
      "display_name": "Python 3",
      "language": "python",
      "name": "python3"
    },
    "language_info": {
      "codemirror_mode": {
        "name": "ipython",
        "version": 3
      },
      "file_extension": ".py",
      "mimetype": "text/x-python",
      "name": "python",
      "nbconvert_exporter": "python",
      "pygments_lexer": "ipython3",
      "version": "3.9.17"
    }
  },
  "nbformat": 4,
  "nbformat_minor": 4
}
