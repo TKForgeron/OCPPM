{
 "cells": [
  {
   "cell_type": "code",
   "execution_count": 18,
   "metadata": {},
   "outputs": [],
   "source": [
    "# imports\n",
    "import pm4py\n",
    "import pm4py.utils\n",
    "import pm4py.read\n",
    "from pm4py.objects.ocel.obj import OCEL\n",
    "import json\n",
    "from typing import Any\n",
    "from copy import copy\n",
    "import pandas as pd"
   ]
  },
  {
   "cell_type": "code",
   "execution_count": 2,
   "id": "14308009",
   "metadata": {},
   "outputs": [],
   "source": [
    "ocel_in_file = \"../../data/BPI17/source/BPI2017-CountEncoded.jsonocel\"\n",
    "ocel = pm4py.read.read_ocel(ocel_in_file)"
   ]
  },
  {
   "cell_type": "code",
   "execution_count": 3,
   "id": "1a3cefa7",
   "metadata": {},
   "outputs": [
    {
     "name": "stdout",
     "output_type": "stream",
     "text": [
      "\n"
     ]
    }
   ],
   "source": [
    "# check events\n",
    "ocel.events.head()\n",
    "# check objects\n",
    "ocel.objects.head()\n",
    "# check offer object type\n",
    "ocel.objects[ocel.objects['ocel:type']=='offer'].isna().sum()\n",
    "# check application object type\n",
    "ocel.objects[ocel.objects['ocel:type']=='application'].isna().sum()\n",
    "print()"
   ]
  },
  {
   "cell_type": "code",
   "execution_count": 7,
   "id": "28160ebc",
   "metadata": {},
   "outputs": [
    {
     "data": {
      "text/plain": [
       "(74504, 12)"
      ]
     },
     "execution_count": 7,
     "metadata": {},
     "output_type": "execute_result"
    }
   ],
   "source": [
    "objects_summary = pm4py.ocel_objects_summary(ocel)\n",
    "ocel.objects.shape"
   ]
  },
  {
   "cell_type": "code",
   "execution_count": 13,
   "id": "0b38a40b",
   "metadata": {},
   "outputs": [
    {
     "data": {
      "text/html": [
       "<div>\n",
       "<style scoped>\n",
       "    .dataframe tbody tr th:only-of-type {\n",
       "        vertical-align: middle;\n",
       "    }\n",
       "\n",
       "    .dataframe tbody tr th {\n",
       "        vertical-align: top;\n",
       "    }\n",
       "\n",
       "    .dataframe thead th {\n",
       "        text-align: right;\n",
       "    }\n",
       "</style>\n",
       "<table border=\"1\" class=\"dataframe\">\n",
       "  <thead>\n",
       "    <tr style=\"text-align: right;\">\n",
       "      <th></th>\n",
       "      <th>ocel:oid</th>\n",
       "      <th>activities_lifecycle</th>\n",
       "      <th>lifecycle_start</th>\n",
       "      <th>lifecycle_end</th>\n",
       "      <th>lifecycle_duration</th>\n",
       "      <th>interacting_objects</th>\n",
       "    </tr>\n",
       "  </thead>\n",
       "  <tbody>\n",
       "    <tr>\n",
       "      <th>0</th>\n",
       "      <td>Application_1000086665</td>\n",
       "      <td>[Create application, Submit, Complete, Accept, Create offer, Call, Cancel application, Cancel offer]</td>\n",
       "      <td>2016-08-03 17:57:21.673</td>\n",
       "      <td>2016-09-05 08:00:36.829</td>\n",
       "      <td>2815395.0</td>\n",
       "      <td>{Offer_410892064}</td>\n",
       "    </tr>\n",
       "    <tr>\n",
       "      <th>1</th>\n",
       "      <td>Application_1000158214</td>\n",
       "      <td>[Create application, Submit, Accept, Create offer, Complete, Call, Validate, Accept offer, Pending]</td>\n",
       "      <td>2016-06-02 12:14:26.844</td>\n",
       "      <td>2016-06-10 13:02:01.278</td>\n",
       "      <td>694054.0</td>\n",
       "      <td>{Offer_927137349}</td>\n",
       "    </tr>\n",
       "    <tr>\n",
       "      <th>2</th>\n",
       "      <td>Application_1000311556</td>\n",
       "      <td>[Create application, Accept, Create offer, Complete, Call, Cancel application, Cancel offer]</td>\n",
       "      <td>2016-04-04 17:56:37.675</td>\n",
       "      <td>2016-05-05 08:00:48.950</td>\n",
       "      <td>2642651.0</td>\n",
       "      <td>{Offer_2032690166}</td>\n",
       "    </tr>\n",
       "    <tr>\n",
       "      <th>3</th>\n",
       "      <td>Application_1000334415</td>\n",
       "      <td>[Create application, Submit, Accept, Create offer, Complete, Call, Validate, Call incomplete files, Validate, Deny, Refuse offer]</td>\n",
       "      <td>2016-09-15 18:39:17.758</td>\n",
       "      <td>2016-09-29 09:45:34.380</td>\n",
       "      <td>1177576.0</td>\n",
       "      <td>{Offer_2062524462}</td>\n",
       "    </tr>\n",
       "    <tr>\n",
       "      <th>4</th>\n",
       "      <td>Application_1000339879</td>\n",
       "      <td>[Create application, Submit, Accept, Create offer, Complete, Call, Validate, Validate, Call incomplete files, Validate, Call incomplete files, Validate, Accept offer, Pending]</td>\n",
       "      <td>2016-03-17 13:57:10.159</td>\n",
       "      <td>2016-03-30 11:11:48.596</td>\n",
       "      <td>1113278.0</td>\n",
       "      <td>{Offer_542912001}</td>\n",
       "    </tr>\n",
       "  </tbody>\n",
       "</table>\n",
       "</div>"
      ],
      "text/plain": [
       "                 ocel:oid  \\\n",
       "0  Application_1000086665   \n",
       "1  Application_1000158214   \n",
       "2  Application_1000311556   \n",
       "3  Application_1000334415   \n",
       "4  Application_1000339879   \n",
       "\n",
       "                                                                                                                                                              activities_lifecycle  \\\n",
       "0                                                                             [Create application, Submit, Complete, Accept, Create offer, Call, Cancel application, Cancel offer]   \n",
       "1                                                                              [Create application, Submit, Accept, Create offer, Complete, Call, Validate, Accept offer, Pending]   \n",
       "2                                                                                     [Create application, Accept, Create offer, Complete, Call, Cancel application, Cancel offer]   \n",
       "3                                                [Create application, Submit, Accept, Create offer, Complete, Call, Validate, Call incomplete files, Validate, Deny, Refuse offer]   \n",
       "4  [Create application, Submit, Accept, Create offer, Complete, Call, Validate, Validate, Call incomplete files, Validate, Call incomplete files, Validate, Accept offer, Pending]   \n",
       "\n",
       "          lifecycle_start           lifecycle_end  lifecycle_duration  \\\n",
       "0 2016-08-03 17:57:21.673 2016-09-05 08:00:36.829           2815395.0   \n",
       "1 2016-06-02 12:14:26.844 2016-06-10 13:02:01.278            694054.0   \n",
       "2 2016-04-04 17:56:37.675 2016-05-05 08:00:48.950           2642651.0   \n",
       "3 2016-09-15 18:39:17.758 2016-09-29 09:45:34.380           1177576.0   \n",
       "4 2016-03-17 13:57:10.159 2016-03-30 11:11:48.596           1113278.0   \n",
       "\n",
       "  interacting_objects  \n",
       "0   {Offer_410892064}  \n",
       "1   {Offer_927137349}  \n",
       "2  {Offer_2032690166}  \n",
       "3  {Offer_2062524462}  \n",
       "4   {Offer_542912001}  "
      ]
     },
     "execution_count": 13,
     "metadata": {},
     "output_type": "execute_result"
    }
   ],
   "source": [
    "pd.set_option('max_colwidth', None)\n",
    "objects_summary.head()\n",
    "# pd.reset_option('max_colwidth')"
   ]
  },
  {
   "cell_type": "code",
   "execution_count": 14,
   "id": "327e6577",
   "metadata": {},
   "outputs": [
    {
     "data": {
      "text/plain": [
       "(393931, 6)"
      ]
     },
     "execution_count": 14,
     "metadata": {},
     "output_type": "execute_result"
    }
   ],
   "source": [
    "ocel.events.shape"
   ]
  },
  {
   "cell_type": "code",
   "execution_count": 77,
   "id": "e21a2610",
   "metadata": {},
   "outputs": [
    {
     "name": "stdout",
     "output_type": "stream",
     "text": [
      "Lost objects from sampling: 2.76%\n"
     ]
    }
   ],
   "source": [
    "sampled_ocel = pm4py.utils.sample_events(log=ocel, num_events=int(393931*.5))\n",
    "print(f'Lost objects from sampling: {(ocel.objects.shape[0]-sampled_ocel.objects.shape[0])/ocel.objects.shape[0]*100:.2f}%')"
   ]
  },
  {
   "cell_type": "code",
   "execution_count": 40,
   "id": "d0212a96",
   "metadata": {},
   "outputs": [
    {
     "data": {
      "text/plain": [
       "14"
      ]
     },
     "execution_count": 40,
     "metadata": {},
     "output_type": "execute_result"
    }
   ],
   "source": [
    "objects_summary"
   ]
  },
  {
   "cell_type": "code",
   "execution_count": 28,
   "id": "6fe43799",
   "metadata": {},
   "outputs": [
    {
     "data": {
      "text/html": [
       "<div>\n",
       "<style scoped>\n",
       "    .dataframe tbody tr th:only-of-type {\n",
       "        vertical-align: middle;\n",
       "    }\n",
       "\n",
       "    .dataframe tbody tr th {\n",
       "        vertical-align: top;\n",
       "    }\n",
       "\n",
       "    .dataframe thead th {\n",
       "        text-align: right;\n",
       "    }\n",
       "</style>\n",
       "<table border=\"1\" class=\"dataframe\">\n",
       "  <thead>\n",
       "    <tr style=\"text-align: right;\">\n",
       "      <th></th>\n",
       "      <th>ocel:oid</th>\n",
       "      <th>activities_lifecycle</th>\n",
       "      <th>lifecycle_start</th>\n",
       "      <th>lifecycle_end</th>\n",
       "      <th>lifecycle_duration</th>\n",
       "      <th>interacting_objects</th>\n",
       "    </tr>\n",
       "  </thead>\n",
       "  <tbody>\n",
       "    <tr>\n",
       "      <th>0</th>\n",
       "      <td>Application_1000086665</td>\n",
       "      <td>[Complete, Accept, Create offer, Call, Cancel offer]</td>\n",
       "      <td>2016-08-04 15:39:29.557</td>\n",
       "      <td>2016-09-05 08:00:36.829</td>\n",
       "      <td>2737267.0</td>\n",
       "      <td>{Offer_410892064}</td>\n",
       "    </tr>\n",
       "    <tr>\n",
       "      <th>1</th>\n",
       "      <td>Application_1000158214</td>\n",
       "      <td>[Create application, Submit, Accept, Complete, Call, Validate, Pending]</td>\n",
       "      <td>2016-06-02 12:14:26.844</td>\n",
       "      <td>2016-06-10 13:02:01.278</td>\n",
       "      <td>694054.0</td>\n",
       "      <td>{Offer_927137349}</td>\n",
       "    </tr>\n",
       "    <tr>\n",
       "      <th>2</th>\n",
       "      <td>Application_1000311556</td>\n",
       "      <td>[Accept, Create offer, Complete, Call, Cancel application, Cancel offer]</td>\n",
       "      <td>2016-04-04 18:06:29.479</td>\n",
       "      <td>2016-05-05 08:00:48.950</td>\n",
       "      <td>2642059.0</td>\n",
       "      <td>{Offer_2032690166}</td>\n",
       "    </tr>\n",
       "    <tr>\n",
       "      <th>3</th>\n",
       "      <td>Application_1000334415</td>\n",
       "      <td>[Submit, Call, Validate, Validate, Deny, Refuse offer]</td>\n",
       "      <td>2016-09-15 18:39:17.793</td>\n",
       "      <td>2016-09-29 09:45:34.380</td>\n",
       "      <td>1177576.0</td>\n",
       "      <td>{Offer_2062524462}</td>\n",
       "    </tr>\n",
       "    <tr>\n",
       "      <th>4</th>\n",
       "      <td>Application_1000339879</td>\n",
       "      <td>[Create application, Create offer, Complete, Call, Call incomplete files, Call incomplete files, Validate, Accept offer, Pending]</td>\n",
       "      <td>2016-03-17 13:57:10.159</td>\n",
       "      <td>2016-03-30 11:11:48.596</td>\n",
       "      <td>1113278.0</td>\n",
       "      <td>{Offer_542912001}</td>\n",
       "    </tr>\n",
       "    <tr>\n",
       "      <th>...</th>\n",
       "      <td>...</td>\n",
       "      <td>...</td>\n",
       "      <td>...</td>\n",
       "      <td>...</td>\n",
       "      <td>...</td>\n",
       "      <td>...</td>\n",
       "    </tr>\n",
       "    <tr>\n",
       "      <th>74197</th>\n",
       "      <td>Offer_999693701</td>\n",
       "      <td>[Create offer, Send (mail and online), Return]</td>\n",
       "      <td>2016-06-16 13:04:22.934</td>\n",
       "      <td>2016-06-24 10:24:23.307</td>\n",
       "      <td>681600.0</td>\n",
       "      <td>{Application_1815714214}</td>\n",
       "    </tr>\n",
       "    <tr>\n",
       "      <th>74198</th>\n",
       "      <td>Offer_999824572</td>\n",
       "      <td>[Create offer, Return, Accept offer]</td>\n",
       "      <td>2016-05-17 18:27:19.789</td>\n",
       "      <td>2016-05-27 10:17:57.319</td>\n",
       "      <td>834637.0</td>\n",
       "      <td>{Application_1238063902}</td>\n",
       "    </tr>\n",
       "    <tr>\n",
       "      <th>74199</th>\n",
       "      <td>Offer_999829743</td>\n",
       "      <td>[Create offer, Call, Cancel application]</td>\n",
       "      <td>2016-03-21 17:14:33.373</td>\n",
       "      <td>2016-04-21 08:00:28.316</td>\n",
       "      <td>2645154.0</td>\n",
       "      <td>{Application_1593767107}</td>\n",
       "    </tr>\n",
       "    <tr>\n",
       "      <th>74200</th>\n",
       "      <td>Offer_999976934</td>\n",
       "      <td>[Send (mail and online), Call, Return, Accept offer]</td>\n",
       "      <td>2016-06-10 17:18:10.033</td>\n",
       "      <td>2016-06-16 13:15:06.806</td>\n",
       "      <td>503816.0</td>\n",
       "      <td>{Application_1137266348}</td>\n",
       "    </tr>\n",
       "    <tr>\n",
       "      <th>74201</th>\n",
       "      <td>Offer_999982990</td>\n",
       "      <td>[Create offer, Send (mail and online), Return, Accept offer]</td>\n",
       "      <td>2016-11-19 13:34:04.985</td>\n",
       "      <td>2016-12-20 15:26:31.354</td>\n",
       "      <td>2685146.0</td>\n",
       "      <td>{Application_808506107}</td>\n",
       "    </tr>\n",
       "  </tbody>\n",
       "</table>\n",
       "<p>74202 rows × 6 columns</p>\n",
       "</div>"
      ],
      "text/plain": [
       "                     ocel:oid  \\\n",
       "0      Application_1000086665   \n",
       "1      Application_1000158214   \n",
       "2      Application_1000311556   \n",
       "3      Application_1000334415   \n",
       "4      Application_1000339879   \n",
       "...                       ...   \n",
       "74197         Offer_999693701   \n",
       "74198         Offer_999824572   \n",
       "74199         Offer_999829743   \n",
       "74200         Offer_999976934   \n",
       "74201         Offer_999982990   \n",
       "\n",
       "                                                                                                                    activities_lifecycle  \\\n",
       "0                                                                                   [Complete, Accept, Create offer, Call, Cancel offer]   \n",
       "1                                                                [Create application, Submit, Accept, Complete, Call, Validate, Pending]   \n",
       "2                                                               [Accept, Create offer, Complete, Call, Cancel application, Cancel offer]   \n",
       "3                                                                                 [Submit, Call, Validate, Validate, Deny, Refuse offer]   \n",
       "4      [Create application, Create offer, Complete, Call, Call incomplete files, Call incomplete files, Validate, Accept offer, Pending]   \n",
       "...                                                                                                                                  ...   \n",
       "74197                                                                                     [Create offer, Send (mail and online), Return]   \n",
       "74198                                                                                               [Create offer, Return, Accept offer]   \n",
       "74199                                                                                           [Create offer, Call, Cancel application]   \n",
       "74200                                                                               [Send (mail and online), Call, Return, Accept offer]   \n",
       "74201                                                                       [Create offer, Send (mail and online), Return, Accept offer]   \n",
       "\n",
       "              lifecycle_start           lifecycle_end  lifecycle_duration  \\\n",
       "0     2016-08-04 15:39:29.557 2016-09-05 08:00:36.829           2737267.0   \n",
       "1     2016-06-02 12:14:26.844 2016-06-10 13:02:01.278            694054.0   \n",
       "2     2016-04-04 18:06:29.479 2016-05-05 08:00:48.950           2642059.0   \n",
       "3     2016-09-15 18:39:17.793 2016-09-29 09:45:34.380           1177576.0   \n",
       "4     2016-03-17 13:57:10.159 2016-03-30 11:11:48.596           1113278.0   \n",
       "...                       ...                     ...                 ...   \n",
       "74197 2016-06-16 13:04:22.934 2016-06-24 10:24:23.307            681600.0   \n",
       "74198 2016-05-17 18:27:19.789 2016-05-27 10:17:57.319            834637.0   \n",
       "74199 2016-03-21 17:14:33.373 2016-04-21 08:00:28.316           2645154.0   \n",
       "74200 2016-06-10 17:18:10.033 2016-06-16 13:15:06.806            503816.0   \n",
       "74201 2016-11-19 13:34:04.985 2016-12-20 15:26:31.354           2685146.0   \n",
       "\n",
       "            interacting_objects  \n",
       "0             {Offer_410892064}  \n",
       "1             {Offer_927137349}  \n",
       "2            {Offer_2032690166}  \n",
       "3            {Offer_2062524462}  \n",
       "4             {Offer_542912001}  \n",
       "...                         ...  \n",
       "74197  {Application_1815714214}  \n",
       "74198  {Application_1238063902}  \n",
       "74199  {Application_1593767107}  \n",
       "74200  {Application_1137266348}  \n",
       "74201   {Application_808506107}  \n",
       "\n",
       "[74202 rows x 6 columns]"
      ]
     },
     "execution_count": 28,
     "metadata": {},
     "output_type": "execute_result"
    }
   ],
   "source": [
    "sampled_objects_summary = pm4py.ocel_objects_summary(sampled_ocel)\n",
    "sampled_objects_summary"
   ]
  }
 ],
 "metadata": {
  "kernelspec": {
   "display_name": ".env",
   "language": "python",
   "name": "python3"
  },
  "language_info": {
   "codemirror_mode": {
    "name": "ipython",
    "version": 3
   },
   "file_extension": ".py",
   "mimetype": "text/x-python",
   "name": "python",
   "nbconvert_exporter": "python",
   "pygments_lexer": "ipython3",
   "version": "3.9.17"
  }
 },
 "nbformat": 4,
 "nbformat_minor": 5
}
