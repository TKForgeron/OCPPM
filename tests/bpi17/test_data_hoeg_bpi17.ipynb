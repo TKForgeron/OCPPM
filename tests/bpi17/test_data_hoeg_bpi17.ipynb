{
 "cells": [
  {
   "cell_type": "code",
   "execution_count": 1,
   "metadata": {},
   "outputs": [],
   "source": [
    "from ocpa.algo.predictive_monitoring.obj import Feature_Storage as FeatureStorage\n",
    "import pm4py.ocel\n",
    "from collections import defaultdict\n",
    "import pickle\n",
    "import timeit\n",
    "import random\n",
    "\n",
    "base_dir = \"../data/BPI17/feature_encodings/HOEG/hoeg/raw\""
   ]
  },
  {
   "cell_type": "code",
   "execution_count": 2,
   "metadata": {},
   "outputs": [],
   "source": [
    "def sample_dict(dictionary: dict, n: int):\n",
    "    keys = random.sample(list(dictionary), n)\n",
    "    return {key: dictionary[key] for key in keys}"
   ]
  },
  {
   "cell_type": "code",
   "execution_count": 3,
   "metadata": {},
   "outputs": [
    {
     "name": "stderr",
     "output_type": "stream",
     "text": [
      "/home/tim/Development/OCPPM/.env/lib/python3.9/site-packages/tqdm/auto.py:21: TqdmWarning: IProgress not found. Please update jupyter and ipywidgets. See https://ipywidgets.readthedocs.io/en/stable/user_install.html\n",
      "  from .autonotebook import tqdm as notebook_tqdm\n"
     ]
    }
   ],
   "source": [
    "feature_storage_file = (\n",
    "    f\"{base_dir}/BPI2017-feature_storage-split-[C1-3,C5,P1-6,O2,O3,O5].fs\"\n",
    ")\n",
    "objects_data_dict = f\"{base_dir}/bpi17_ofg+oi_graph+app_node_map+off_node_map.pkl\"\n",
    "with open(feature_storage_file, \"rb\") as f:\n",
    "    fs: FeatureStorage = pickle.load(f)\n",
    "\n",
    "with open(objects_data_dict, \"rb\") as f:\n",
    "    objects_data = pickle.load(f)"
   ]
  },
  {
   "cell_type": "code",
   "execution_count": 4,
   "metadata": {},
   "outputs": [
    {
     "data": {
      "text/plain": [
       "[(7403, [('application', 'Application_1299976284')]),\n",
       " (7404, [('application', 'Application_1299976284')]),\n",
       " (7405, [('application', 'Application_1299976284')]),\n",
       " (7406,\n",
       "  [('application', 'Application_1299976284'), ('offer', 'Offer_499807586')]),\n",
       " (7407,\n",
       "  [('application', 'Application_1299976284'), ('offer', 'Offer_499807586')]),\n",
       " (7408,\n",
       "  [('application', 'Application_1299976284'), ('offer', 'Offer_499807586')])]"
      ]
     },
     "execution_count": 4,
     "metadata": {},
     "output_type": "execute_result"
    }
   ],
   "source": [
    "hetero_data = objects_data[\"ofg\"]\n",
    "fg31463 = fs.feature_graphs[31463]\n",
    "[(node.event_id, node.objects[0][1]) for node in fg31463.nodes]\n",
    "[(node.event_id, node.objects) for node in fg31463.nodes]"
   ]
  },
  {
   "cell_type": "code",
   "execution_count": 5,
   "metadata": {},
   "outputs": [
    {
     "data": {
      "text/plain": [
       "[(7406, 'Offer_499807586'),\n",
       " (7407, 'Offer_499807586'),\n",
       " (7408, 'Offer_499807586')]"
      ]
     },
     "execution_count": 5,
     "metadata": {},
     "output_type": "execute_result"
    }
   ],
   "source": [
    "edge_type_example = (\"event\", \"interacts\", \"application\")\n",
    "edge_type_example = (\"event\", \"interacts\", \"offer\")\n",
    "\n",
    "\n",
    "def get_out_edges(event_node, edge_type):\n",
    "    node_type = edge_type[2]\n",
    "    edges = [\n",
    "        (event_node.event_id, oid) for ot, oid in event_node.objects if ot == node_type\n",
    "    ]\n",
    "    return edges\n",
    "\n",
    "\n",
    "flatten = lambda l: [item for sublist in l for item in sublist]\n",
    "\n",
    "flatten([get_out_edges(node, edge_type_example) for node in fg31463.nodes])"
   ]
  },
  {
   "cell_type": "code",
   "execution_count": 6,
   "metadata": {},
   "outputs": [
    {
     "data": {
      "text/html": [
       "<div>\n",
       "<style scoped>\n",
       "    .dataframe tbody tr th:only-of-type {\n",
       "        vertical-align: middle;\n",
       "    }\n",
       "\n",
       "    .dataframe tbody tr th {\n",
       "        vertical-align: top;\n",
       "    }\n",
       "\n",
       "    .dataframe thead th {\n",
       "        text-align: right;\n",
       "    }\n",
       "</style>\n",
       "<table border=\"1\" class=\"dataframe\">\n",
       "  <thead>\n",
       "    <tr style=\"text-align: right;\">\n",
       "      <th></th>\n",
       "      <th>offer_index</th>\n",
       "      <th>@@event_num_event_NumberOfTerms</th>\n",
       "      <th>@@event_num_event_Accepted</th>\n",
       "      <th>@@event_num_event_Selected</th>\n",
       "      <th>@@event_num_event_OfferedAmount</th>\n",
       "      <th>@@event_num_event_CreditScore</th>\n",
       "      <th>@@event_num_event_FirstWithdrawalAmount</th>\n",
       "      <th>@@event_num_event_MonthlyCost</th>\n",
       "      <th>object_index</th>\n",
       "      <th>@@object_lifecycle_duration</th>\n",
       "    </tr>\n",
       "  </thead>\n",
       "  <tbody>\n",
       "    <tr>\n",
       "      <th>0</th>\n",
       "      <td>0</td>\n",
       "      <td>44.0</td>\n",
       "      <td>1.0</td>\n",
       "      <td>1.0</td>\n",
       "      <td>20000.0</td>\n",
       "      <td>979.0</td>\n",
       "      <td>20000.0</td>\n",
       "      <td>498.29</td>\n",
       "      <td>1</td>\n",
       "      <td>1052406.062</td>\n",
       "    </tr>\n",
       "    <tr>\n",
       "      <th>1</th>\n",
       "      <td>1</td>\n",
       "      <td>33.0</td>\n",
       "      <td>0.0</td>\n",
       "      <td>0.0</td>\n",
       "      <td>6000.0</td>\n",
       "      <td>0.0</td>\n",
       "      <td>500.0</td>\n",
       "      <td>200.00</td>\n",
       "      <td>3</td>\n",
       "      <td>440829.268</td>\n",
       "    </tr>\n",
       "    <tr>\n",
       "      <th>2</th>\n",
       "      <td>2</td>\n",
       "      <td>120.0</td>\n",
       "      <td>1.0</td>\n",
       "      <td>0.0</td>\n",
       "      <td>15000.0</td>\n",
       "      <td>0.0</td>\n",
       "      <td>15000.0</td>\n",
       "      <td>158.98</td>\n",
       "      <td>5</td>\n",
       "      <td>1248.884</td>\n",
       "    </tr>\n",
       "    <tr>\n",
       "      <th>3</th>\n",
       "      <td>3</td>\n",
       "      <td>120.0</td>\n",
       "      <td>1.0</td>\n",
       "      <td>1.0</td>\n",
       "      <td>15000.0</td>\n",
       "      <td>1059.0</td>\n",
       "      <td>15000.0</td>\n",
       "      <td>158.98</td>\n",
       "      <td>6</td>\n",
       "      <td>1020869.024</td>\n",
       "    </tr>\n",
       "    <tr>\n",
       "      <th>4</th>\n",
       "      <td>4</td>\n",
       "      <td>72.0</td>\n",
       "      <td>0.0</td>\n",
       "      <td>1.0</td>\n",
       "      <td>15700.0</td>\n",
       "      <td>834.0</td>\n",
       "      <td>3726.0</td>\n",
       "      <td>252.73</td>\n",
       "      <td>8</td>\n",
       "      <td>2055574.011</td>\n",
       "    </tr>\n",
       "  </tbody>\n",
       "</table>\n",
       "</div>"
      ],
      "text/plain": [
       "   offer_index  @@event_num_event_NumberOfTerms  @@event_num_event_Accepted  \\\n",
       "0            0                             44.0                         1.0   \n",
       "1            1                             33.0                         0.0   \n",
       "2            2                            120.0                         1.0   \n",
       "3            3                            120.0                         1.0   \n",
       "4            4                             72.0                         0.0   \n",
       "\n",
       "   @@event_num_event_Selected  @@event_num_event_OfferedAmount  \\\n",
       "0                         1.0                          20000.0   \n",
       "1                         0.0                           6000.0   \n",
       "2                         0.0                          15000.0   \n",
       "3                         1.0                          15000.0   \n",
       "4                         1.0                          15700.0   \n",
       "\n",
       "   @@event_num_event_CreditScore  @@event_num_event_FirstWithdrawalAmount  \\\n",
       "0                          979.0                                  20000.0   \n",
       "1                            0.0                                    500.0   \n",
       "2                            0.0                                  15000.0   \n",
       "3                         1059.0                                  15000.0   \n",
       "4                          834.0                                   3726.0   \n",
       "\n",
       "   @@event_num_event_MonthlyCost  object_index  @@object_lifecycle_duration  \n",
       "0                         498.29             1                  1052406.062  \n",
       "1                         200.00             3                   440829.268  \n",
       "2                         158.98             5                     1248.884  \n",
       "3                         158.98             6                  1020869.024  \n",
       "4                         252.73             8                  2055574.011  "
      ]
     },
     "execution_count": 6,
     "metadata": {},
     "output_type": "execute_result"
    }
   ],
   "source": [
    "objects_data[\"object_feature_matrices\"][\"application\"].head()\n",
    "objects_data[\"object_feature_matrices\"][\"offer\"].head()"
   ]
  },
  {
   "cell_type": "code",
   "execution_count": 7,
   "metadata": {},
   "outputs": [
    {
     "name": "stdout",
     "output_type": "stream",
     "text": [
      "{'Application_118524871': 27269, 'Application_747812656': 25583, 'Application_936478493': 15578}\n",
      "{'Offer_1264595481': 13518, 'Offer_734403929': 12972, 'Offer_28484110': 914}\n"
     ]
    }
   ],
   "source": [
    "e = objects_data[\"object_feature_vector_map\"]\n",
    "print(sample_dict(e[\"application\"], 3))\n",
    "print(sample_dict(e[\"offer\"], 3))"
   ]
  },
  {
   "cell_type": "code",
   "execution_count": null,
   "metadata": {},
   "outputs": [],
   "source": []
  },
  {
   "cell_type": "code",
   "execution_count": 8,
   "metadata": {},
   "outputs": [
    {
     "data": {
      "text/plain": [
       "{('application', 'Application_2016383446'), ('offer', 'Offer_1967823804')}"
      ]
     },
     "execution_count": 8,
     "metadata": {},
     "output_type": "execute_result"
    }
   ],
   "source": [
    "fg30643: FeatureStorage.Feature_Graph = fs.feature_graphs[30643]\n",
    "unique_items = set(item for obj in fg30643.objects.values() for item in obj)\n",
    "unique_items"
   ]
  },
  {
   "cell_type": "code",
   "execution_count": 9,
   "metadata": {},
   "outputs": [],
   "source": [
    "def generate_unique_objects(n, options=[\"application\", \"offer\", \"contract\", \"product\"]):\n",
    "    unique_items = set()\n",
    "    for i in range(n):\n",
    "        prefix = random.choice(options)\n",
    "        item = (prefix, f\"{prefix}_{i}\")\n",
    "        unique_items.add(item)\n",
    "    return unique_items"
   ]
  },
  {
   "cell_type": "code",
   "execution_count": 10,
   "metadata": {},
   "outputs": [
    {
     "data": {
      "text/plain": [
       "{'application': ['application_8',\n",
       "  'application_0',\n",
       "  'application_1',\n",
       "  'application_7',\n",
       "  'application_3'],\n",
       " 'offer': ['offer_5', 'offer_4', 'offer_9', 'offer_2', 'offer_6']}"
      ]
     },
     "execution_count": 10,
     "metadata": {},
     "output_type": "execute_result"
    }
   ],
   "source": [
    "# Define the set_to_split_dict functions\n",
    "def set_to_split_dict(unique_items):\n",
    "    result = defaultdict(list)\n",
    "    for item in unique_items:\n",
    "        result[item[0]].append(item[1])\n",
    "    return dict(result)\n",
    "\n",
    "\n",
    "set_to_split_dict(generate_unique_objects(10, [\"application\", \"offer\"]))"
   ]
  },
  {
   "cell_type": "code",
   "execution_count": 11,
   "metadata": {},
   "outputs": [
    {
     "data": {
      "text/plain": [
       "12901"
      ]
     },
     "execution_count": 11,
     "metadata": {},
     "output_type": "execute_result"
    }
   ],
   "source": [
    "objects_data[\"object_feature_vector_map\"][\"offer\"][\"Offer_1282810220\"]"
   ]
  },
  {
   "cell_type": "code",
   "execution_count": 12,
   "metadata": {},
   "outputs": [],
   "source": [
    "# import timeit\n",
    "\n",
    "# def generate_dict_with_size(n):\n",
    "#     keys = ['offer', 'application']\n",
    "#     result = {}\n",
    "#     for key in keys:\n",
    "#         result[key] = random.sample(range(10000), n)\n",
    "#     return result\n",
    "\n",
    "# # test data\n",
    "# test_dict = generate_dict_with_size(50)\n",
    "# test_dict1 = generate_dict_with_size(50)\n",
    "\n",
    "# # functions under test\n",
    "# func0 = lambda x: pass\n",
    "# func1 = lambda x: pass\n",
    "\n",
    "# # Time the function execution\n",
    "# execution_time = timeit.timeit(lambda: func0(test_dict), number=1_000_00)\n",
    "# execution_time1 = timeit.timeit(lambda: func1(test_dict1), number=1_000_00)\n",
    "\n",
    "# # Print the execution time\n",
    "# print(f\"Execution time: {execution_time} seconds\")\n",
    "# print(f\"Execution time: {execution_time1} seconds\")"
   ]
  },
  {
   "cell_type": "code",
   "execution_count": 13,
   "metadata": {},
   "outputs": [],
   "source": [
    "def __get_event_node_index_mapping(\n",
    "    feature_graph: FeatureStorage.Feature_Graph,\n",
    ") -> dict[int, int]:\n",
    "    \"\"\"Returns a dictionary containing a mapping from event_ids to node indices in the given graph\"\"\"\n",
    "    return {\n",
    "        id: i for i, id in enumerate([node.event_id for node in feature_graph.nodes])\n",
    "    }\n",
    "\n",
    "\n",
    "def __get_event_object_edges(\n",
    "    event_node: FeatureStorage.Feature_Graph.Node,\n",
    "    edge_type: tuple[str, str, str],\n",
    ") -> list[tuple[int, int]]:\n",
    "    node_type = edge_type[2]\n",
    "    edges = [\n",
    "        (event_node.event_id, oid) for ot, oid in event_node.objects if ot == node_type\n",
    "    ]\n",
    "    return edges\n",
    "\n",
    "\n",
    "def __get_edge_index_for_edge_type(\n",
    "    feature_graph: FeatureStorage.Feature_Graph,\n",
    "    edge_type: tuple[str, str, str],\n",
    "    event_node_map: dict[int, int],\n",
    "    object_node_map: dict[str, int],\n",
    ") -> list[tuple[int, int]]:\n",
    "    flatten = lambda nested_list: [item for sublist in nested_list for item in sublist]\n",
    "\n",
    "    # From all nodes in the feature graph:\n",
    "    # get tuples that indicate which event_id interacts with which application/offer (oid from the OCEL)\n",
    "    edge_list = [\n",
    "        flatten(\n",
    "            [__get_event_object_edges(node, edge_type) for node in feature_graph.nodes]\n",
    "        )\n",
    "    ][0]\n",
    "    # Map event_id to node_index for the application/offer node type\n",
    "    edge_index = [\n",
    "        (event_node_map[edge[0]], object_node_map[edge[1]]) for edge in edge_list\n",
    "    ]\n",
    "    return edge_index"
   ]
  },
  {
   "cell_type": "code",
   "execution_count": 19,
   "metadata": {},
   "outputs": [
    {
     "data": {
      "text/plain": [
       "[(3, 29864), (4, 29864), (5, 29864), (6, 29864), (7, 29864)]"
      ]
     },
     "execution_count": 19,
     "metadata": {},
     "output_type": "execute_result"
    }
   ],
   "source": [
    "fg0 = fs.feature_graphs[0]\n",
    "edge_type = (\"event\", \"interacts\", \"offer\")\n",
    "event_node_map = __get_event_node_index_mapping(fg30643)\n",
    "object_node_map = objects_data[\"object_feature_vector_map\"][\"offer\"]\n",
    "\n",
    "__get_edge_index_for_edge_type(fg30643, edge_type, event_node_map, object_node_map)"
   ]
  }
 ],
 "metadata": {
  "kernelspec": {
   "display_name": ".env",
   "language": "python",
   "name": "python3"
  },
  "language_info": {
   "codemirror_mode": {
    "name": "ipython",
    "version": 3
   },
   "file_extension": ".py",
   "mimetype": "text/x-python",
   "name": "python",
   "nbconvert_exporter": "python",
   "pygments_lexer": "ipython3",
   "version": "3.9.17"
  },
  "orig_nbformat": 4
 },
 "nbformat": 4,
 "nbformat_minor": 2
}
