{
 "cells": [
  {
   "cell_type": "code",
   "execution_count": 1,
   "metadata": {},
   "outputs": [],
   "source": [
    "import os\n",
    "go_up_n_directories = lambda path, n: os.path.abspath(\n",
    "    os.path.join(*([os.path.dirname(path)] + [\"..\"] * n))\n",
    ")\n",
    "try:\n",
    "    suda=suda # will give an error if this cell has not run before\n",
    "except:\n",
    "    os.chdir(go_up_n_directories(os.getcwd(), 0))  # run once (otherwise restart kernel)\n",
    "    suda=True"
   ]
  },
  {
   "cell_type": "code",
   "execution_count": 2,
   "metadata": {},
   "outputs": [],
   "source": [
    "from scipy import stats\n",
    "import pandas as pd\n",
    "import utilities.visualization_utils as visualization_utils\n",
    "\n",
    "DATASETS = [\"BPI17\", \"OTC\", \"Financial Institution\"]\n",
    "ENCODINGS = [\"efg\", \"hoeg\"]\n",
    "HYPERPARAMETERS = [\"learning_rate\", \"hidden_dimensions\"]"
   ]
  },
  {
   "cell_type": "markdown",
   "metadata": {},
   "source": [
    "EFG - Extract Results"
   ]
  },
  {
   "cell_type": "code",
   "execution_count": 6,
   "metadata": {},
   "outputs": [],
   "source": [
    "# BPI17\n",
    "exp1_bpi_efg_dir = \"models/BPI17/efg/exp_v2\"\n",
    "bpi_efg_results = visualization_utils.load_experiment_results(\n",
    "    exp1_bpi_efg_dir, hyperparameters=HYPERPARAMETERS, on_windows=True\n",
    ")\n",
    "bpi_efg_train, bpi_efg_val, bpi_efg_test = visualization_utils.get_exp1_data_all_splits(bpi_efg_results)\n",
    "\n",
    "# OTC\n",
    "exp1_otc_efg_dir = \"models/OTC/efg/exp_v2\"\n",
    "otc_efg_results = visualization_utils.load_experiment_results(\n",
    "    exp1_otc_efg_dir, hyperparameters=HYPERPARAMETERS, on_windows=True\n",
    ")\n",
    "otc_efg_train, otc_efg_val, otc_efg_test = visualization_utils.get_exp1_data_all_splits(otc_efg_results)\n",
    "\n",
    "# FI\n",
    "exp1_cs_efg_dir = \"models/CS/efg/exp_v3\"\n",
    "cs_efg_results = visualization_utils.load_experiment_results(\n",
    "    exp1_cs_efg_dir, hyperparameters=HYPERPARAMETERS, on_windows=True\n",
    ")\n",
    "cs_efg_train, cs_efg_val, cs_efg_test = visualization_utils.get_exp1_data_all_splits(cs_efg_results)\n"
   ]
  },
  {
   "cell_type": "markdown",
   "metadata": {},
   "source": [
    "HOEG - Extract Results"
   ]
  },
  {
   "cell_type": "code",
   "execution_count": 7,
   "metadata": {},
   "outputs": [],
   "source": [
    "# BPI17\n",
    "exp1_bpi_hoeg_dir = \"models/BPI17/hoeg/exp_v3\"\n",
    "bpi_hoeg_results = visualization_utils.load_experiment_results(\n",
    "    exp1_bpi_hoeg_dir, hyperparameters=HYPERPARAMETERS, on_windows=True\n",
    ")\n",
    "bpi_hoeg_train, bpi_hoeg_val, bpi_hoeg_test = visualization_utils.get_exp1_data_all_splits(bpi_hoeg_results)\n",
    "\n",
    "# OTC\n",
    "exp1_otc_hoeg_dir = \"models/OTC/hoeg/exp_v3\"\n",
    "otc_hoeg_results = visualization_utils.load_experiment_results(\n",
    "    exp1_otc_hoeg_dir, hyperparameters=HYPERPARAMETERS, on_windows=True\n",
    ")\n",
    "otc_hoeg_train, otc_hoeg_val, otc_hoeg_test = visualization_utils.get_exp1_data_all_splits(otc_hoeg_results)\n",
    "\n",
    "# FI\n",
    "exp1_cs_hoeg_dir = \"models/CS/hoeg/exp_v3\"\n",
    "cs_hoeg_results = visualization_utils.load_experiment_results(\n",
    "    exp1_cs_hoeg_dir, hyperparameters=HYPERPARAMETERS, on_windows=True\n",
    ")\n",
    "cs_hoeg_train, cs_hoeg_val, cs_hoeg_test = visualization_utils.get_exp1_data_all_splits(cs_hoeg_results)\n"
   ]
  },
  {
   "cell_type": "code",
   "execution_count": 22,
   "metadata": {},
   "outputs": [],
   "source": [
    "def t_test(x1, x2, p: float, dataset: str):\n",
    "\n",
    "    p_significance_threshold = p\n",
    "    t_stat, p_val = stats.ttest_ind(x1, x2)\n",
    "\n",
    "    # print(f\"t-statistic: {t_stat}\")\n",
    "    # print(f\"p-value: {p_val}\")\n",
    "    if p_val < p_significance_threshold:\n",
    "        print(f\"{dataset}: Significant (t={t_stat:.1f}, p<{p:.3f})\")\n",
    "    else:\n",
    "        print(f\"{dataset}: Not significant. (t={t_stat:.1f}, p={p_val:.3f})\")"
   ]
  },
  {
   "cell_type": "code",
   "execution_count": 23,
   "metadata": {},
   "outputs": [
    {
     "name": "stdout",
     "output_type": "stream",
     "text": [
      "TRAIN\n",
      "BPI17: Significant (t=13.7, p<0.001)\n",
      "OTC: Not significant. (t=-1.2, p=0.256)\n",
      "Financial Institution: Not significant. (t=-0.0, p=0.988)\n",
      "\n",
      "VALIDATION\n",
      "BPI17: Significant (t=23.2, p<0.001)\n",
      "OTC: Not significant. (t=-0.9, p=0.390)\n",
      "Financial Institution: Significant (t=-3.1, p<0.005)\n",
      "\n",
      "TEST\n",
      "BPI17: Significant (t=19.9, p<0.001)\n",
      "OTC: Not significant. (t=-1.1, p=0.276)\n",
      "Financial Institution: Significant (t=-2.8, p<0.010)\n",
      "\n"
     ]
    }
   ],
   "source": [
    "print('TRAIN')\n",
    "t_test(bpi_efg_train, bpi_hoeg_train, p=0.001, dataset=DATASETS[0])\n",
    "t_test(otc_efg_train, otc_hoeg_train, p=0.001, dataset=DATASETS[1])\n",
    "t_test(cs_efg_train, cs_hoeg_train, p=0.01, dataset=DATASETS[2])\n",
    "print()\n",
    "\n",
    "print('VALIDATION')\n",
    "t_test(bpi_efg_val, bpi_hoeg_val, p=0.001, dataset=DATASETS[0])\n",
    "t_test(otc_efg_val, otc_hoeg_val, p=0.001, dataset=DATASETS[1])\n",
    "t_test(cs_efg_val, cs_hoeg_val, p=0.005, dataset=DATASETS[2])\n",
    "print()\n",
    "\n",
    "print('TEST')\n",
    "t_test(bpi_efg_test, bpi_hoeg_test, p=0.001, dataset=DATASETS[0])\n",
    "t_test(otc_efg_test, otc_hoeg_test, p=0.001, dataset=DATASETS[1])\n",
    "t_test(cs_efg_test, cs_hoeg_test, p=0.01, dataset=DATASETS[2])\n",
    "print()"
   ]
  },
  {
   "cell_type": "code",
   "execution_count": null,
   "metadata": {},
   "outputs": [],
   "source": []
  }
 ],
 "metadata": {
  "kernelspec": {
   "display_name": ".env",
   "language": "python",
   "name": "python3"
  },
  "language_info": {
   "codemirror_mode": {
    "name": "ipython",
    "version": 3
   },
   "file_extension": ".py",
   "mimetype": "text/x-python",
   "name": "python",
   "nbconvert_exporter": "python",
   "pygments_lexer": "ipython3",
   "version": "3.12.1"
  }
 },
 "nbformat": 4,
 "nbformat_minor": 2
}
