{
 "cells": [
  {
   "cell_type": "code",
   "execution_count": 1,
   "metadata": {},
   "outputs": [
    {
     "name": "stdout",
     "output_type": "stream",
     "text": [
      "/home/tim/Development/OCPPM\n"
     ]
    }
   ],
   "source": [
    "import os\n",
    "\n",
    "go_up_n_directories = lambda path, n: os.path.abspath(\n",
    "    os.path.join(*([os.path.dirname(path)] + [\"..\"] * n))\n",
    ")\n",
    "os.chdir(go_up_n_directories(os.getcwd(), 0))  # run once (otherwise restart kernel)\n",
    "print(os.getcwd())"
   ]
  },
  {
   "cell_type": "code",
   "execution_count": 2,
   "metadata": {},
   "outputs": [],
   "source": [
    "import os\n",
    "import numpy as np\n",
    "import json\n",
    "from copy import copy\n",
    "import utilities.visualization_utils as visualization_utils\n",
    "\n",
    "DATASETS = [\"BPI17\", \"OTC\", \"Financial Institution\"]\n",
    "ENCODINGS = [\"efg\", \"hoeg\"]\n",
    "HYPERPARAMETERS = [\"learning_rate\", \"hidden_dimensions\"]"
   ]
  },
  {
   "cell_type": "markdown",
   "metadata": {},
   "source": [
    "### Experiment 1: HP tuning \n",
    "Preparing the data for the visualizations of experiment 1."
   ]
  },
  {
   "cell_type": "code",
   "execution_count": 3,
   "metadata": {},
   "outputs": [],
   "source": [
    "# initialize results collector dictionary\n",
    "exp1_results = {k: {} for k in ENCODINGS}\n",
    "exp1_results_out_path = \"visualizations/data/exp1_results.json\""
   ]
  },
  {
   "cell_type": "markdown",
   "metadata": {},
   "source": [
    "EFG"
   ]
  },
  {
   "cell_type": "code",
   "execution_count": 4,
   "metadata": {},
   "outputs": [],
   "source": [
    "exp1_bpi_efg_dir = \"models/BPI17/efg/exp_v1\"\n",
    "bpi_efg_results = visualization_utils.load_experiment_results(\n",
    "    exp1_bpi_efg_dir, hyperparameters=HYPERPARAMETERS\n",
    ")\n",
    "exp1_results[\"efg\"][\"BPI17\"] = visualization_utils.get_exp1_data(bpi_efg_results)"
   ]
  },
  {
   "cell_type": "code",
   "execution_count": 5,
   "metadata": {},
   "outputs": [],
   "source": [
    "exp1_otc_efg_dir = \"models/OTC/efg/exp_v0\"\n",
    "otc_efg_results = visualization_utils.load_experiment_results(\n",
    "    exp1_otc_efg_dir, hyperparameters=HYPERPARAMETERS\n",
    ")\n",
    "exp1_results[\"efg\"][\"OTC\"] = visualization_utils.get_exp1_data(otc_efg_results)"
   ]
  },
  {
   "cell_type": "code",
   "execution_count": 6,
   "metadata": {},
   "outputs": [],
   "source": [
    "# TODO:\n",
    "# - evaluate lr=0.001_hidden_dim=64, lr=0.001_hidden_dim=256, and lr=0.01_hidden_dim=256\n",
    "exp1_cs_efg_dir = \"models/CS/efg/exp_v1\"\n",
    "cs_efg_results = visualization_utils.load_experiment_results(\n",
    "    exp1_cs_efg_dir, hyperparameters=HYPERPARAMETERS\n",
    ")\n",
    "exp1_results[\"efg\"][\"Financial Institution\"] = visualization_utils.get_exp1_data(\n",
    "    cs_efg_results\n",
    ")"
   ]
  },
  {
   "cell_type": "markdown",
   "metadata": {},
   "source": [
    "HOEG"
   ]
  },
  {
   "cell_type": "code",
   "execution_count": 7,
   "metadata": {},
   "outputs": [],
   "source": [
    "exp1_bpi_hoeg_dir = \"models/BPI17/hoeg/exp_v2\"\n",
    "bpi_hoeg_results = visualization_utils.load_experiment_results(\n",
    "    exp1_bpi_hoeg_dir, hyperparameters=HYPERPARAMETERS\n",
    ")\n",
    "exp1_results[\"hoeg\"][\"BPI17\"] = visualization_utils.get_exp1_data(bpi_hoeg_results)"
   ]
  },
  {
   "cell_type": "code",
   "execution_count": 8,
   "metadata": {},
   "outputs": [],
   "source": [
    "exp1_otc_hoeg_dir = \"models/OTC/hoeg/exp_v1\"\n",
    "otc_hoeg_results = visualization_utils.load_experiment_results(\n",
    "    exp1_otc_hoeg_dir, hyperparameters=HYPERPARAMETERS\n",
    ")\n",
    "exp1_results[\"hoeg\"][\"OTC\"] = visualization_utils.get_exp1_data(otc_hoeg_results)"
   ]
  },
  {
   "cell_type": "code",
   "execution_count": 9,
   "metadata": {},
   "outputs": [],
   "source": [
    "exp1_cs_hoeg_dir = \"models/CS/hoeg/exp_v0\"\n",
    "cs_hoeg_results = visualization_utils.load_experiment_results(\n",
    "    exp1_cs_hoeg_dir, hyperparameters=HYPERPARAMETERS\n",
    ")\n",
    "exp1_results[\"hoeg\"][\"Financial Institution\"] = visualization_utils.get_exp1_data(\n",
    "    cs_hoeg_results\n",
    ")"
   ]
  },
  {
   "cell_type": "markdown",
   "metadata": {},
   "source": [
    "Store prepared data for experiment 1"
   ]
  },
  {
   "cell_type": "code",
   "execution_count": 10,
   "metadata": {},
   "outputs": [],
   "source": [
    "with open(exp1_results_out_path, \"w\") as fp:\n",
    "    json.dump(exp1_results, fp, indent=2)"
   ]
  },
  {
   "cell_type": "markdown",
   "metadata": {},
   "source": [
    "### Experiment 2: Encoding Type \n",
    "Preparing the data for the visualizations of experiment 2."
   ]
  },
  {
   "cell_type": "code",
   "execution_count": 11,
   "metadata": {},
   "outputs": [],
   "source": [
    "# initialize results collector dictionary\n",
    "exp2_results = {\n",
    "    visualization_key: {dataset_key: {} for dataset_key in DATASETS}\n",
    "    for visualization_key in [\"Encoding Performance\", \"Learning Curve\"]\n",
    "}\n",
    "exp2_results_out_path = \"visualizations/data/exp2_results.json\""
   ]
  },
  {
   "cell_type": "markdown",
   "metadata": {},
   "source": [
    "#### Encoding Performance"
   ]
  },
  {
   "cell_type": "markdown",
   "metadata": {},
   "source": [
    "BPI17"
   ]
  },
  {
   "cell_type": "code",
   "execution_count": 12,
   "metadata": {},
   "outputs": [],
   "source": [
    "# efg\n",
    "exp2_bpi_efg_dir = \"models/BPI17/efg/exp_v1\"\n",
    "bpi_efg_results = visualization_utils.load_experiment_results(\n",
    "    exp2_bpi_efg_dir, hyperparameters=HYPERPARAMETERS\n",
    ")\n",
    "exp2_results[\"Encoding Performance\"][\"BPI17\"][\n",
    "    \"efg\"\n",
    "] = visualization_utils.get_exp2_data(bpi_efg_results, return_encoding_comparison=True)\n",
    "# hoeg\n",
    "exp2_bpi_hoeg_dir = \"models/BPI17/hoeg/exp_v2\"\n",
    "bpi_hoeg_results = visualization_utils.load_experiment_results(\n",
    "    exp2_bpi_hoeg_dir, hyperparameters=HYPERPARAMETERS\n",
    ")\n",
    "exp2_results[\"Encoding Performance\"][\"BPI17\"][\n",
    "    \"hoeg\"\n",
    "] = visualization_utils.get_exp2_data(bpi_hoeg_results, return_encoding_comparison=True)"
   ]
  },
  {
   "cell_type": "markdown",
   "metadata": {},
   "source": [
    "OTC"
   ]
  },
  {
   "cell_type": "code",
   "execution_count": 13,
   "metadata": {},
   "outputs": [],
   "source": [
    "# efg\n",
    "exp2_otc_efg_dir = \"models/OTC/efg/exp_v0\"\n",
    "otc_efg_results = visualization_utils.load_experiment_results(\n",
    "    exp2_otc_efg_dir, hyperparameters=HYPERPARAMETERS\n",
    ")\n",
    "exp2_results[\"Encoding Performance\"][\"OTC\"][\"efg\"] = visualization_utils.get_exp2_data(\n",
    "    otc_efg_results, return_encoding_comparison=True\n",
    ")\n",
    "# hoeg\n",
    "exp2_otc_hoeg_dir = \"models/OTC/hoeg/exp_v1\"\n",
    "otc_hoeg_results = visualization_utils.load_experiment_results(\n",
    "    exp2_otc_hoeg_dir, hyperparameters=HYPERPARAMETERS\n",
    ")\n",
    "exp2_results[\"Encoding Performance\"][\"OTC\"][\"hoeg\"] = visualization_utils.get_exp2_data(\n",
    "    otc_hoeg_results, return_encoding_comparison=True\n",
    ")"
   ]
  },
  {
   "cell_type": "markdown",
   "metadata": {},
   "source": [
    "Financial Institution"
   ]
  },
  {
   "cell_type": "code",
   "execution_count": 14,
   "metadata": {},
   "outputs": [],
   "source": [
    "# efg\n",
    "exp2_cs_efg_dir = \"models/CS/efg/exp_v1\"\n",
    "cs_efg_results = visualization_utils.load_experiment_results(\n",
    "    exp2_cs_efg_dir, hyperparameters=HYPERPARAMETERS\n",
    ")\n",
    "exp2_results[\"Encoding Performance\"][\"Financial Institution\"][\n",
    "    \"efg\"\n",
    "] = visualization_utils.get_exp2_data(cs_efg_results, return_encoding_comparison=True)\n",
    "# hoeg\n",
    "exp2_cs_hoeg_dir = \"models/CS/hoeg/exp_v0\"\n",
    "cs_hoeg_results = visualization_utils.load_experiment_results(\n",
    "    exp2_cs_hoeg_dir, hyperparameters=HYPERPARAMETERS\n",
    ")\n",
    "exp2_results[\"Encoding Performance\"][\"Financial Institution\"][\n",
    "    \"hoeg\"\n",
    "] = visualization_utils.get_exp2_data(cs_hoeg_results, return_encoding_comparison=True)"
   ]
  },
  {
   "cell_type": "markdown",
   "metadata": {},
   "source": [
    "#### Learning Curve\n",
    "We retrieve the best model configurations here. Then manually download the learning curve data from TensorBoard.\n",
    "\n",
    "To launch TensorBoard in the browser run: `tensorboard --logdir=models/ --host localhost --port 8088`"
   ]
  },
  {
   "cell_type": "markdown",
   "metadata": {},
   "source": [
    "Store prepared data for experiment 2"
   ]
  },
  {
   "cell_type": "code",
   "execution_count": 16,
   "metadata": {},
   "outputs": [],
   "source": [
    "with open(exp2_results_out_path, \"w\") as fp:\n",
    "    json.dump(exp2_results, fp, indent=2)"
   ]
  },
  {
   "cell_type": "markdown",
   "metadata": {},
   "source": [
    "### Experiment 3: Baseline\n",
    "Preparing the data for the tables of experiment 3."
   ]
  },
  {
   "cell_type": "code",
   "execution_count": null,
   "metadata": {},
   "outputs": [],
   "source": []
  },
  {
   "cell_type": "markdown",
   "metadata": {},
   "source": [
    "BPI17"
   ]
  },
  {
   "cell_type": "code",
   "execution_count": null,
   "metadata": {},
   "outputs": [],
   "source": []
  },
  {
   "cell_type": "markdown",
   "metadata": {},
   "source": [
    "OTC"
   ]
  },
  {
   "cell_type": "code",
   "execution_count": null,
   "metadata": {},
   "outputs": [],
   "source": []
  },
  {
   "cell_type": "markdown",
   "metadata": {},
   "source": [
    "Financial Institution"
   ]
  },
  {
   "cell_type": "code",
   "execution_count": null,
   "metadata": {},
   "outputs": [],
   "source": []
  }
 ],
 "metadata": {
  "kernelspec": {
   "display_name": ".env",
   "language": "python",
   "name": "python3"
  },
  "language_info": {
   "codemirror_mode": {
    "name": "ipython",
    "version": 3
   },
   "file_extension": ".py",
   "mimetype": "text/x-python",
   "name": "python",
   "nbconvert_exporter": "python",
   "pygments_lexer": "ipython3",
   "version": "3.9.17"
  },
  "orig_nbformat": 4
 },
 "nbformat": 4,
 "nbformat_minor": 2
}
