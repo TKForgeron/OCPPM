{
 "cells": [
  {
   "cell_type": "code",
   "execution_count": 1,
   "metadata": {},
   "outputs": [],
   "source": [
    "import os\n",
    "\n",
    "go_up_n_directories = lambda path, n: os.path.abspath(\n",
    "    os.path.join(*([os.path.dirname(path)] + [\"..\"] * n))\n",
    ")\n",
    "os.chdir(go_up_n_directories(os.getcwd(), 2))  # run once (otherwise restart kernel)"
   ]
  },
  {
   "cell_type": "code",
   "execution_count": 2,
   "metadata": {},
   "outputs": [],
   "source": [
    "from typing import Any, Callable, Union\n",
    "import pickle\n",
    "import re\n",
    "import string\n",
    "from sklearn.preprocessing import StandardScaler\n",
    "\n",
    "# Object centric process mining\n",
    "import ocpa.objects.log.importer.ocel.factory as ocel_import_factory\n",
    "from ocpa.algo.predictive_monitoring.obj import Feature_Storage\n",
    "from ocpa.objects.log.ocel import OCEL\n",
    "import ocpa.algo.predictive_monitoring.factory as feature_factory\n",
    "from ocpa.algo.predictive_monitoring import tabular\n",
    "import ocpa.objects.log.importer.csv.factory as csv_import_factory\n",
    "\n",
    "# Custom local imports\n",
    "import utilities.ocel_import_utils as ocel_import_utils"
   ]
  },
  {
   "cell_type": "code",
   "execution_count": 3,
   "metadata": {},
   "outputs": [],
   "source": [
    "# ocel_in_file = \"data/CS/source/cs_january_ots[krs_krv_cv]_oas[oa1_oa2_oa3_oa4_oa5_oa6_oa7_oa8_oa9_oa10_oa11_oa12_oa13_oa15_oa16]_eas[resourceCE_resourceMulti_ea1_ea2_ea3_ea4_ea6_ea8_ea10_ea12_ea14].jsonocel\"\n",
    "ocel_in_file = \"data/CS/source/cs_january_only_linked_ots[krs_krv_cv]_oas[oa1_oa2_oa3_oa4_oa5_oa6_oa7_oa8_oa10_oa11_oa12_oa13_oa15_oa16]_eas[resourceCE_resourceMulti_ea1_ea2_ea3_ea4_ea6_ea8_ea10_ea12_ea14].jsonocel\"\n",
    "event_attributes = ocel_import_utils.extract_values_from_file_string(\n",
    "    ocel_in_file, key=\"eas\"\n",
    ")\n",
    "object_attributes = ocel_import_utils.extract_values_from_file_string(\n",
    "    ocel_in_file, key=\"oas\"\n",
    ")\n",
    "object_types = ocel_import_utils.extract_values_from_file_string(\n",
    "    ocel_in_file, key=\"ots\"\n",
    ")\n",
    "feature_storage_intermediate_file = (\n",
    "    \"data/CS/feature_encodings/EFG/efg/raw/CS_[C2_P2_P3_O3_eas].fs\"\n",
    ")\n",
    "feature_storage_out_file = (\n",
    "    \"data/CS/feature_encodings/EFG/efg/raw/CS_split_[C2_P2_P3_O3_eas].fs\"\n",
    ")\n",
    "hoeg_feature_storage_out_file = (\n",
    "    \"data/CS/feature_encodings/HOEG/hoeg/raw/CS_split_[C2_P2_P3_O3_eas].fs\"\n",
    ")"
   ]
  },
  {
   "cell_type": "code",
   "execution_count": 8,
   "metadata": {},
   "outputs": [],
   "source": [
    "relevant_event_features = [\n",
    "    \"event_elapsed_time\",\n",
    "    \"event_ea6\",\n",
    "    \"event_ea14\",\n",
    "    \"event_ea3\",\n",
    "    \"event_previous_type_countkrv\",\n",
    "    \"event_ea1\",\n",
    "    \"event_ea2\",\n",
    "    \"event_ea12\",\n",
    "    \"event_ea10\",\n",
    "    \"event_ea8\",\n",
    "    \"event_resourceCE\",\n",
    "    \"event_preceding_activitiesFinishTask\",\n",
    "    \"event_preceding_activitiesSaveObject\",\n",
    "    \"event_previous_type_countcv\",\n",
    "    \"event_resourceMulti\",\n",
    "    \"event_preceding_activitiesPerformAction\",\n",
    "    \"event_previous_type_countkrs\",\n",
    "]  # from EFT shap\n",
    "event_attributes = [\n",
    "    # \"ea1\",\n",
    "    # \"ea2\",\n",
    "    \"ea3\",\n",
    "    # \"ea4\",\n",
    "    \"ea6\",\n",
    "    # \"ea8\",\n",
    "    # \"ea10\",\n",
    "    # \"ea12\",\n",
    "    \"ea14\",\n",
    "    # \"resourceCE\",\n",
    "]  # We only keep the top 3 most relevant event attributes"
   ]
  },
  {
   "cell_type": "code",
   "execution_count": 6,
   "metadata": {},
   "outputs": [],
   "source": [
    "ocel = ocel_import_factory.apply(ocel_in_file)"
   ]
  },
  {
   "cell_type": "code",
   "execution_count": 9,
   "metadata": {},
   "outputs": [
    {
     "data": {
      "text/plain": [
       "16"
      ]
     },
     "execution_count": 9,
     "metadata": {},
     "output_type": "execute_result"
    }
   ],
   "source": [
    "all_acts = ocel.log.log[\"event_activity\"].value_counts(normalize=True) * 100\n",
    "most_occuring_acts = all_acts[all_acts > 4].index\n",
    "event_level_features = {\n",
    "    f\"C2{char}\": (feature_factory.EVENT_PRECEDING_ACTIVITIES, (act,))\n",
    "    for act, char in zip(most_occuring_acts, string.ascii_lowercase)\n",
    "} | {\n",
    "    \"P2\": (feature_factory.EVENT_ELAPSED_TIME, ()),\n",
    "    \"P3\": (\n",
    "        feature_factory.EVENT_REMAINING_TIME,\n",
    "        (),\n",
    "    ),  # only use for target (but we use 'ea4' now)\n",
    "    # \"P4\": (feature_factory.EVENT_FLOW_TIME, ()),\n",
    "    \"P5\": (feature_factory.EVENT_SYNCHRONIZATION_TIME, ()),\n",
    "    # \"P6\": (feature_factory.EVENT_SOJOURN_TIME, ()),\n",
    "    \"O3a\": (feature_factory.EVENT_PREVIOUS_TYPE_COUNT, (\"krs\",)),\n",
    "    \"O3b\": (feature_factory.EVENT_PREVIOUS_TYPE_COUNT, (\"krv\",)),\n",
    "    \"O3c\": (feature_factory.EVENT_PREVIOUS_TYPE_COUNT, (\"cv\",)),\n",
    "}\n",
    "# We've reduced the number of features (e.g. we now only include the top 7 activities and top 3 event attributes)\n",
    "len(event_level_features) + len(event_attributes)"
   ]
  },
  {
   "cell_type": "code",
   "execution_count": 10,
   "metadata": {},
   "outputs": [
    {
     "name": "stderr",
     "output_type": "stream",
     "text": [
      "100%|██████████| 269725/269725 [03:02<00:00, 1478.26it/s] \n"
     ]
    }
   ],
   "source": [
    "feature_storage = feature_factory.apply(\n",
    "    ocel,\n",
    "    event_based_features=list(event_level_features.values()),\n",
    "    event_attributes=[f\"event_{ea}\" for ea in event_attributes],\n",
    "    min_execution_length=4,\n",
    "    workers=2,\n",
    ")  # takes much too long when resource (ot2) is an object type"
   ]
  },
  {
   "cell_type": "code",
   "execution_count": 11,
   "metadata": {},
   "outputs": [
    {
     "name": "stdout",
     "output_type": "stream",
     "text": [
      "1.0\n"
     ]
    }
   ],
   "source": [
    "# Removing process execution graphs that are incomplete (`Feature_Graph.objects` is empty)\n",
    "# Leaving them in causes issues downstream, as our pipelines depend on `Feature_Graph.objects`\n",
    "feature_graph_success_report = {\"success_ids\": [], \"failure_ids\": []}\n",
    "\n",
    "for fg in feature_storage.feature_graphs:\n",
    "    if fg.objects:\n",
    "        feature_graph_success_report[\"success_ids\"].append(fg._pexec_id)\n",
    "    else:\n",
    "        feature_graph_success_report[\"failure_ids\"].append(fg._pexec_id)\n",
    "feature_graph_success_report[\"success_count\"] = len(\n",
    "    feature_graph_success_report[\"success_ids\"]\n",
    ")\n",
    "feature_graph_success_report[\"failure_count\"] = len(\n",
    "    feature_graph_success_report[\"failure_ids\"]\n",
    ")\n",
    "feature_graph_success_report[\"success_rate\"] = feature_graph_success_report[\n",
    "    \"success_count\"\n",
    "] / (\n",
    "    feature_graph_success_report[\"failure_count\"]\n",
    "    + feature_graph_success_report[\"success_count\"]\n",
    ")\n",
    "print(feature_graph_success_report[\"success_rate\"])"
   ]
  },
  {
   "cell_type": "code",
   "execution_count": 12,
   "metadata": {},
   "outputs": [],
   "source": [
    "with open(feature_storage_intermediate_file, \"wb\") as bin:\n",
    "    pickle.dump(feature_storage, bin)"
   ]
  },
  {
   "cell_type": "code",
   "execution_count": 13,
   "metadata": {},
   "outputs": [
    {
     "name": "stderr",
     "output_type": "stream",
     "text": [
      "/home/tim/Development/OCPPM/.env/lib/python3.9/site-packages/sklearn/utils/validation.py:1673: FutureWarning: Feature names only support names that are all strings. Got feature names with dtypes: ['str', 'tuple']. An error will be raised in 1.2.\n",
      "  warnings.warn(\n",
      "/home/tim/Development/OCPPM/.env/lib/python3.9/site-packages/sklearn/utils/validation.py:1673: FutureWarning: Feature names only support names that are all strings. Got feature names with dtypes: ['str', 'tuple']. An error will be raised in 1.2.\n",
      "  warnings.warn(\n",
      "/home/tim/Development/OCPPM/.env/lib/python3.9/site-packages/sklearn/utils/validation.py:1673: FutureWarning: Feature names only support names that are all strings. Got feature names with dtypes: ['str', 'tuple']. An error will be raised in 1.2.\n",
      "  warnings.warn(\n",
      "/home/tim/Development/OCPPM/.env/lib/python3.9/site-packages/sklearn/utils/validation.py:1673: FutureWarning: Feature names only support names that are all strings. Got feature names with dtypes: ['str', 'tuple']. An error will be raised in 1.2.\n",
      "  warnings.warn(\n"
     ]
    }
   ],
   "source": [
    "feature_storage.extract_normalized_train_test_split(\n",
    "    scaler=StandardScaler,\n",
    "    # scaling_exempt_features=[\"event_ea4\"],\n",
    "    test_size=0.15,\n",
    "    validation_size=0.15,\n",
    "    state=42,\n",
    ")"
   ]
  },
  {
   "cell_type": "code",
   "execution_count": 14,
   "metadata": {},
   "outputs": [],
   "source": [
    "with open(feature_storage_out_file, \"wb\") as bin:\n",
    "    pickle.dump(feature_storage, bin)\n",
    "with open(hoeg_feature_storage_out_file, \"wb\") as bin:\n",
    "    pickle.dump(feature_storage, bin)"
   ]
  }
 ],
 "metadata": {
  "kernelspec": {
   "display_name": ".env",
   "language": "python",
   "name": "python3"
  },
  "language_info": {
   "codemirror_mode": {
    "name": "ipython",
    "version": 3
   },
   "file_extension": ".py",
   "mimetype": "text/x-python",
   "name": "python",
   "nbconvert_exporter": "python",
   "pygments_lexer": "ipython3",
   "version": "3.9.17"
  },
  "orig_nbformat": 4
 },
 "nbformat": 4,
 "nbformat_minor": 2
}
