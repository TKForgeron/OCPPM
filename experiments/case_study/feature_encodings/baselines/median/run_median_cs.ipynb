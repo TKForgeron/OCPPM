{
 "cells": [
  {
   "cell_type": "code",
   "execution_count": 1,
   "metadata": {},
   "outputs": [],
   "source": [
    "import os\n",
    "\n",
    "go_up_n_directories = lambda path, n: os.path.abspath(\n",
    "    os.path.join(*([os.path.dirname(path)] + [\"..\"] * n))\n",
    ")\n",
    "os.chdir(go_up_n_directories(os.getcwd(), 4))  # run once (otherwise restart kernel)"
   ]
  },
  {
   "cell_type": "code",
   "execution_count": 2,
   "metadata": {},
   "outputs": [],
   "source": [
    "# Python natives\n",
    "import pprint\n",
    "import json\n",
    "import os\n",
    "import pickle\n",
    "import time\n",
    "from utilities import evaluation_utils\n",
    "from ocpa.algo.predictive_monitoring.obj import Feature_Storage\n",
    "from ocpa.algo.predictive_monitoring import tabular"
   ]
  },
  {
   "cell_type": "code",
   "execution_count": 3,
   "metadata": {},
   "outputs": [],
   "source": [
    "prediction_task = \"regression\"\n",
    "regression = prediction_task == \"regression\"\n",
    "target_name = {\n",
    "    \"regression\": (\"event_remaining_time\", ()),\n",
    "    \"classification\": \"event_ea4\",\n",
    "}\n",
    "# event_attributes = [\"ea2\", \"ea4\", \"resource_ce\", \"resource_multi\"]\n",
    "feature_storage_file = (\n",
    "    \"data/CS/feature_encodings/EFG/efg/raw/CS_split_[C2_P2_P3_O3_eas].fs\"\n",
    ")\n",
    "model_output_path = \"models/CS/baselines/median\""
   ]
  },
  {
   "cell_type": "code",
   "execution_count": 4,
   "metadata": {},
   "outputs": [],
   "source": [
    "with open(feature_storage_file, \"rb\") as bin:\n",
    "    feature_storage: Feature_Storage = pickle.load(bin)"
   ]
  },
  {
   "cell_type": "code",
   "execution_count": 5,
   "metadata": {},
   "outputs": [],
   "source": [
    "# flatten EFG with same train/test split\n",
    "eft_train = tabular.construct_table(\n",
    "    feature_storage, feature_storage.train_indices + feature_storage.validation_indices\n",
    ")\n",
    "eft_test = tabular.construct_table(feature_storage, feature_storage.test_indices)"
   ]
  },
  {
   "cell_type": "code",
   "execution_count": 6,
   "metadata": {},
   "outputs": [],
   "source": [
    "# subset relevant data\n",
    "y_train = eft_train[target_name[prediction_task]]\n",
    "y_test = eft_test[target_name[prediction_task]]"
   ]
  },
  {
   "cell_type": "code",
   "execution_count": 7,
   "metadata": {},
   "outputs": [],
   "source": [
    "train_start_time = time.time()\n",
    "# fit the model ;)\n",
    "median = y_train.median()\n",
    "total_train_time = time.time() - train_start_time"
   ]
  },
  {
   "cell_type": "code",
   "execution_count": 8,
   "metadata": {},
   "outputs": [],
   "source": [
    "if regression:\n",
    "    pred_start_time = time.time()\n",
    "    y_train_preds = [median] * y_train.shape[0]\n",
    "    train_pred_time = time.time() - pred_start_time\n",
    "\n",
    "    pred_start_time = time.time()\n",
    "    y_test_preds = [median] * y_test.shape[0]\n",
    "    test_pred_time = time.time() - pred_start_time"
   ]
  },
  {
   "cell_type": "code",
   "execution_count": 9,
   "metadata": {},
   "outputs": [],
   "source": [
    "eval_train = evaluation_utils.get_evaluation(\n",
    "    y_train, y_train_preds, regression=regression, time=train_pred_time\n",
    ")\n",
    "eval_train[\"report\"][\"training_time\"] = total_train_time\n",
    "eval_valid = evaluation_utils.get_evaluation(\n",
    "    y_test, y_test_preds, regression=regression, time=test_pred_time\n",
    ")\n",
    "evaluation_report = {\"Train\": eval_train, \"Test\": eval_valid}"
   ]
  },
  {
   "cell_type": "code",
   "execution_count": 10,
   "metadata": {},
   "outputs": [
    {
     "name": "stdout",
     "output_type": "stream",
     "text": [
      "{'Test': {'report': {'MAE': 0.7701669027198726,\n",
      "                     'MAPE': 2.5283890251510908,\n",
      "                     'MSE': 1.2880973350708993,\n",
      "                     'R^2': -0.28415082619596976,\n",
      "                     'prediction_time': 8.225440979003906e-05}},\n",
      " 'Train': {'report': {'MAE': 0.7673212528401351,\n",
      "                      'MAPE': 4.9429155758070715,\n",
      "                      'MSE': 1.276318044653244,\n",
      "                      'R^2': -0.27972726892610233,\n",
      "                      'prediction_time': 0.00038743019104003906,\n",
      "                      'training_time': 0.007107734680175781}}}\n"
     ]
    }
   ],
   "source": [
    "with open(os.path.join(model_output_path, \"evaluation_report.json\"), \"w\") as fp:\n",
    "    json.dump(evaluation_report, fp, indent=2)\n",
    "\n",
    "pprint.pprint(evaluation_report)"
   ]
  }
 ],
 "metadata": {
  "kernelspec": {
   "display_name": ".env",
   "language": "python",
   "name": "python3"
  },
  "language_info": {
   "codemirror_mode": {
    "name": "ipython",
    "version": 3
   },
   "file_extension": ".py",
   "mimetype": "text/x-python",
   "name": "python",
   "nbconvert_exporter": "python",
   "pygments_lexer": "ipython3",
   "version": "3.9.17"
  },
  "orig_nbformat": 4
 },
 "nbformat": 4,
 "nbformat_minor": 2
}
