{
 "cells": [
  {
   "cell_type": "code",
   "execution_count": 1,
   "metadata": {},
   "outputs": [],
   "source": [
    "# Python natives\n",
    "import os\n",
    "\n",
    "os.chdir(\"/home/tim/Development/OCPPM/\")\n",
    "import pprint\n",
    "import pickle\n",
    "import lightgbm as lgb\n",
    "import numpy as np\n",
    "import pandas as pd\n",
    "import sklearn.metrics as metrics\n",
    "from sklearn.model_selection import train_test_split\n",
    "from utilities import evaluation_utils\n",
    "from torch_geometric.data import HeteroData"
   ]
  },
  {
   "cell_type": "code",
   "execution_count": 2,
   "metadata": {},
   "outputs": [],
   "source": [
    "prediction_task = \"regression\"\n",
    "if prediction_task == \"regression\":\n",
    "    regression = True\n",
    "elif prediction_task == \"classification\":\n",
    "    regression = False\n",
    "target_name = {\n",
    "    \"regression\": \"@@object_lifecycle_duration\",\n",
    "    \"classification\": \"event_ea4\",\n",
    "}\n",
    "\n",
    "ofg_in_file = \"data/CS/feature_encodings/OFG/ofg/raw/CS_OFG.pkl\"\n",
    "oft_in_file = \"data/CS/feature_encodings/baselines/OFT/objects_w_ea4.csv\""
   ]
  },
  {
   "cell_type": "code",
   "execution_count": 3,
   "metadata": {},
   "outputs": [],
   "source": [
    "with open(ofg_in_file, \"rb\") as ofg_file:\n",
    "    ofg: HeteroData = pickle.load(ofg_file)"
   ]
  },
  {
   "cell_type": "code",
   "execution_count": 4,
   "metadata": {},
   "outputs": [],
   "source": [
    "df_objects = pd.read_csv(oft_in_file, sep=\";\")"
   ]
  },
  {
   "cell_type": "code",
   "execution_count": 5,
   "metadata": {},
   "outputs": [],
   "source": [
    "if not regression:\n",
    "    df_objects[target_name[prediction_task]].value_counts(normalize=True).sort_index()"
   ]
  },
  {
   "cell_type": "code",
   "execution_count": 6,
   "metadata": {},
   "outputs": [],
   "source": [
    "# Make train test split\n",
    "#   regression/classification not 100% equal, since regr. only has 'krs' objects and class. has all\n",
    "if regression:\n",
    "    X, y = ofg[\"krs\"].x.numpy(), ofg[\"krs\"].y.numpy()\n",
    "else:\n",
    "    X, y = (\n",
    "        df_objects.drop(columns=[target_name[prediction_task]]),\n",
    "        df_objects[target_name[prediction_task]],\n",
    "    )\n",
    "X_train, X_valid, y_train, y_valid = train_test_split(\n",
    "    X, y, test_size=0.3, random_state=42\n",
    ")\n",
    "\n",
    "train_data = lgb.Dataset(X_train, label=y_train)\n",
    "valid_data = lgb.Dataset(X_valid, label=y_valid)"
   ]
  },
  {
   "cell_type": "code",
   "execution_count": 7,
   "metadata": {},
   "outputs": [
    {
     "name": "stderr",
     "output_type": "stream",
     "text": [
      "/home/tim/Development/OCPPM/.env/lib/python3.9/site-packages/lightgbm/engine.py:177: UserWarning: Found `num_boost_round` in params. Will use it instead of argument\n",
      "  _log_warning(f\"Found `{alias}` in params. Will use it instead of argument\")\n"
     ]
    },
    {
     "name": "stdout",
     "output_type": "stream",
     "text": [
      "[LightGBM] [Warning] Unknown parameter: stopping_rounds\n",
      "[LightGBM] [Warning] Unknown parameter: stopping_rounds\n",
      "[LightGBM] [Warning] Auto-choosing row-wise multi-threading, the overhead of testing was 0.337599 seconds.\n",
      "You can set `force_row_wise=true` to remove the overhead.\n",
      "And if memory is not enough, you can set `force_col_wise=true`.\n",
      "[LightGBM] [Info] Total Bins 112\n",
      "[LightGBM] [Info] Number of data points in the train set: 144196, number of used features: 18\n",
      "[LightGBM] [Warning] Unknown parameter: stopping_rounds\n",
      "[LightGBM] [Info] Start training from score -0.039582\n",
      "Training until validation scores don't improve for 100 rounds\n",
      "Did not meet early stopping. Best iteration is:\n",
      "[100]\tvalid_0's l2: 0.715016\tvalid_0's l1: 0.498823\tvalid_0's mape: 0.374422\tvalid_0's rmse: 0.845586\n"
     ]
    }
   ],
   "source": [
    "params = {\n",
    "    \"metric\": [\"multi_logloss\"],\n",
    "    \"num_boost_round\": 100,\n",
    "    \"stopping_rounds\": 100,\n",
    "    \"num_threads\": 4,\n",
    "}\n",
    "if regression:\n",
    "    params |= {\"objective\": \"regression\", \"metric\": [\"mse\", \"mae\", \"mape\", \"rmse\"]}\n",
    "else:\n",
    "    params |= {\"objective\": \"multiclass\", \"num_class\": 7}\n",
    "\n",
    "\n",
    "bst = lgb.train(\n",
    "    params,\n",
    "    train_data,\n",
    "    valid_sets=[valid_data],\n",
    "    callbacks=[lgb.early_stopping(params[\"stopping_rounds\"])],\n",
    ")"
   ]
  },
  {
   "cell_type": "code",
   "execution_count": 8,
   "metadata": {},
   "outputs": [],
   "source": [
    "if regression:\n",
    "    y_train_preds = bst.predict(X_train)\n",
    "    y_valid_preds = bst.predict(X_valid)\n",
    "else:\n",
    "    y_train_preds = np.apply_along_axis(\n",
    "        evaluation_utils.get_preds_from_probs, axis=1, arr=bst.predict(X_train)\n",
    "    )\n",
    "    y_valid_preds = np.apply_along_axis(\n",
    "        evaluation_utils.get_preds_from_probs, axis=1, arr=bst.predict(X_valid)\n",
    "    )"
   ]
  },
  {
   "cell_type": "code",
   "execution_count": 9,
   "metadata": {},
   "outputs": [
    {
     "name": "stdout",
     "output_type": "stream",
     "text": [
      "{'train': {'report': {'MAE': 0.49466513957522246,\n",
      "                      'MAPE': 1.1901358349625528,\n",
      "                      'MSE': 0.7016443703397501,\n",
      "                      'R^2': 0.2547469984088744}},\n",
      " 'validation': {'report': {'MAE': 0.49882317212151456,\n",
      "                           'MAPE': 1.2345460803823358,\n",
      "                           'MSE': 0.7150163485048876,\n",
      "                           'R^2': 0.24323910217070777}}}\n",
      "{'experiment_settings': {'metric': ['mse', 'mae', 'mape', 'rmse'],\n",
      "                         'num_boost_round': 100,\n",
      "                         'num_threads': 4,\n",
      "                         'objective': 'regression',\n",
      "                         'stopping_rounds': 100}}\n"
     ]
    }
   ],
   "source": [
    "# Run model evaluation, TODO: store this somewhere (in JSON)\n",
    "eval_train = evaluation_utils.get_evaluation(\n",
    "    y_train, y_train_preds, regression=regression\n",
    ")\n",
    "eval_valid = evaluation_utils.get_evaluation(\n",
    "    y_valid, y_valid_preds, regression=regression\n",
    ")\n",
    "experiment_settings = {\"experiment_settings\": params}\n",
    "evaluation_report = {\"train\": eval_train, \"validation\": eval_valid}\n",
    "pprint.pprint(evaluation_report)\n",
    "pprint.pprint(experiment_settings)"
   ]
  },
  {
   "cell_type": "code",
   "execution_count": null,
   "metadata": {},
   "outputs": [],
   "source": []
  }
 ],
 "metadata": {
  "kernelspec": {
   "display_name": ".env",
   "language": "python",
   "name": "python3"
  },
  "language_info": {
   "codemirror_mode": {
    "name": "ipython",
    "version": 3
   },
   "file_extension": ".py",
   "mimetype": "text/x-python",
   "name": "python",
   "nbconvert_exporter": "python",
   "pygments_lexer": "ipython3",
   "version": "3.9.17"
  },
  "orig_nbformat": 4
 },
 "nbformat": 4,
 "nbformat_minor": 2
}
