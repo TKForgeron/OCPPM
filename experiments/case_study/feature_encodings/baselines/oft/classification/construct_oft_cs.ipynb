{
 "cells": [
  {
   "cell_type": "markdown",
   "metadata": {},
   "source": [
    "Regression OFT takes the OFG encoding and flattens it.\n",
    "<br>\n",
    "<br>\n",
    "This script generates the OFT for prediction classification target 'ea4'."
   ]
  },
  {
   "cell_type": "code",
   "execution_count": 28,
   "metadata": {},
   "outputs": [],
   "source": [
    "import os\n",
    "\n",
    "os.chdir(\"/home/tim/Development/OCPPM/\")\n",
    "import pandas as pd\n",
    "import pm4py\n",
    "import pm4py.read\n",
    "import category_encoders as ce\n",
    "import copy"
   ]
  },
  {
   "cell_type": "code",
   "execution_count": 29,
   "metadata": {},
   "outputs": [],
   "source": [
    "ocel_in_file = \"data/CS/source/cs_january_ots[krs_krv_cv]_oas[oa1_oa2_oa3_oa4_oa5_oa6_oa7_oa8_oa9_oa10_oa11_oa12_oa13_oa15_oa16]_eas[resourceCE_resourceMulti_ea1_ea2_ea3_ea4_ea6_ea8_ea10_ea12_ea14].jsonocel\"\n",
    "oft_out_file = \"data/CS/feature_encodings/baselines/OFT/objects_w_ea4.csv\""
   ]
  },
  {
   "cell_type": "code",
   "execution_count": 30,
   "metadata": {},
   "outputs": [],
   "source": [
    "# load OCEL\n",
    "ocel = pm4py.read.read_ocel(ocel_in_file)\n",
    "objects_df = copy.copy(ocel.objects)"
   ]
  },
  {
   "cell_type": "code",
   "execution_count": 33,
   "metadata": {},
   "outputs": [],
   "source": [
    "# IDEA: add functionality to OCPA to add eas to objects as oas with an aggregation function\n",
    "# select events that contain the target variable 'ea4'\n",
    "events_to_take_target_from = (\n",
    "    ocel.relations.sort_values(\"ocel:timestamp\", ascending=False)\n",
    "    .groupby(\"ocel:oid\")\n",
    "    .tail(1)[[\"ocel:eid\", \"ocel:oid\"]]\n",
    ")\n",
    "# select the target variables for those events\n",
    "events_with_target = ocel.events.loc[\n",
    "    ocel.events[\"ocel:eid\"].isin(events_to_take_target_from[\"ocel:eid\"]),\n",
    "    [\"ocel:eid\", \"event_ea4\"],\n",
    "]\n",
    "# select the objects relating to those events and their target variables\n",
    "objects_with_target = events_to_take_target_from.join(\n",
    "    events_with_target.set_index(\"ocel:eid\"), on=\"ocel:eid\"\n",
    ").drop(columns=[\"ocel:eid\"])\n",
    "# join full objects table with these objects of which we now have target variable 'ea4'\n",
    "objects_df_with_target = objects_with_target.join(\n",
    "    objects_df.set_index(\"ocel:oid\"), on=\"ocel:oid\"\n",
    ").set_index(\"ocel:oid\")\n",
    "objects_df_with_target = objects_df_with_target.drop(columns=[\"ocel:type\"])"
   ]
  },
  {
   "cell_type": "code",
   "execution_count": 34,
   "metadata": {},
   "outputs": [],
   "source": [
    "objects_df_with_target.to_csv(oft_out_file, index=False, sep=\";\")"
   ]
  }
 ],
 "metadata": {
  "kernelspec": {
   "display_name": ".env",
   "language": "python",
   "name": "python3"
  },
  "language_info": {
   "codemirror_mode": {
    "name": "ipython",
    "version": 3
   },
   "file_extension": ".py",
   "mimetype": "text/x-python",
   "name": "python",
   "nbconvert_exporter": "python",
   "pygments_lexer": "ipython3",
   "version": "3.9.17"
  },
  "orig_nbformat": 4
 },
 "nbformat": 4,
 "nbformat_minor": 2
}
