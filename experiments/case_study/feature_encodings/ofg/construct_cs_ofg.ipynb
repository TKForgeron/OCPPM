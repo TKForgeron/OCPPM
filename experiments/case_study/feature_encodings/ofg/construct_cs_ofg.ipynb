{
 "cells": [
  {
   "cell_type": "code",
   "execution_count": 1,
   "metadata": {},
   "outputs": [],
   "source": [
    "import os\n",
    "\n",
    "go_up_n_directories = lambda path, n: os.path.abspath(\n",
    "    os.path.join(*([os.path.dirname(path)] + [\"..\"] * n))\n",
    ")\n",
    "os.chdir(go_up_n_directories(os.getcwd(), 3))  # run once (otherwise restart kernel)"
   ]
  },
  {
   "cell_type": "code",
   "execution_count": 2,
   "metadata": {},
   "outputs": [],
   "source": [
    "# Python native\n",
    "import logging\n",
    "import pickle\n",
    "from typing import Any\n",
    "import os\n",
    "from collections import defaultdict\n",
    "from ocpa.algo.predictive_monitoring.obj import Feature_Storage as FeatureStorage\n",
    "\n",
    "# Custom local imports\n",
    "import utilities.hetero_data_utils as hetero_data_utils\n",
    "import utilities.ocel_import_utils as ocel_import_utils\n",
    "\n",
    "# Data handling\n",
    "import numpy as np\n",
    "import pandas as pd\n",
    "\n",
    "# Object-centric process mining\n",
    "import pm4py\n",
    "import pm4py.ocel\n",
    "import pm4py.read\n",
    "import torch\n",
    "from pm4py.algo.transformation.ocel.features.objects import (\n",
    "    algorithm as object_feature_factory,\n",
    ")\n",
    "from sklearn.preprocessing import StandardScaler\n",
    "from torch_geometric.data import HeteroData\n",
    "\n",
    "# Configuration variables\n",
    "ocel_in_file = \"data/CS/source/cs_january_only_linked_ots[krs_krv_cv]_oas[oa1_oa2_oa3_oa4_oa5_oa6_oa7_oa8_oa10_oa11_oa12_oa13_oa15_oa16]_eas[resourceCE_resourceMulti_ea1_ea2_ea3_ea4_ea6_ea8_ea10_ea12_ea14].jsonocel\"\n",
    "ofg_out_file = \"data/CS/feature_encodings/OFG/ofg/raw/CS_OFG.pkl\"\n",
    "objects_data_dict_out_file = \"data/CS/feature_encodings/HOEG/hoeg/raw/cs_ofg+oi_graph+krs_node_map+krv_node_map+cv_node_map.pkl\"\n",
    "\n",
    "object_attributes = ocel_import_utils.extract_values_from_file_string(\n",
    "    ocel_in_file, key=\"oas\"\n",
    ")\n",
    "object_types = ocel_import_utils.extract_values_from_file_string(\n",
    "    ocel_in_file, key=\"ots\"\n",
    ")\n",
    "\n",
    "factory_feature_prefix = \"@@\"\n",
    "factory_num_oa_prefix = f\"{factory_feature_prefix}event_num_\"\n",
    "factory_str_oa_prefix = f\"{factory_feature_prefix}object_attr_value_\"\n",
    "target_name = f\"{factory_feature_prefix}object_lifecycle_duration\""
   ]
  },
  {
   "cell_type": "code",
   "execution_count": 3,
   "metadata": {},
   "outputs": [],
   "source": [
    "# load OCEL\n",
    "ocel = pm4py.read.read_ocel(ocel_in_file)"
   ]
  },
  {
   "cell_type": "code",
   "execution_count": 4,
   "metadata": {},
   "outputs": [],
   "source": [
    "# record the index as a column so we can later link objects (i.a. with events)\n",
    "ocel.objects = ocel.objects.reset_index().rename(columns={\"index\": \"object_index\"})\n",
    "object_feature_factory_params = {\n",
    "    \"str_obj_attr\": [\"ocel:type\"],  # include ocel:oid for reference\n",
    "    \"num_obj_attr\": [\"object_index\"]  # include object_index for reference\n",
    "    + object_attributes,  # all oas are numerical (encoding already done in OCEL pipeline)\n",
    "}\n",
    "# create object-level feature matrix\n",
    "factory_data, factory_feature_names = object_feature_factory.apply(\n",
    "    ocel,\n",
    "    parameters=object_feature_factory_params,\n",
    ")"
   ]
  },
  {
   "cell_type": "code",
   "execution_count": 5,
   "metadata": {},
   "outputs": [],
   "source": [
    "# create a set with only the relevant feature names (using PM4Py's naming scheme)\n",
    "feature_names = (\n",
    "    {\n",
    "        f\"{factory_num_oa_prefix}{num_feature}\"\n",
    "        for num_feature in object_feature_factory_params[\"num_obj_attr\"]\n",
    "    }\n",
    "    | {\n",
    "        f\"{factory_str_oa_prefix}ocel:type_{object_type}\"\n",
    "        for object_type in object_types\n",
    "    }\n",
    "    | {target_name}\n",
    ")"
   ]
  },
  {
   "cell_type": "code",
   "execution_count": 6,
   "metadata": {},
   "outputs": [],
   "source": [
    "object_features = pd.DataFrame(factory_data, columns=factory_feature_names)\n",
    "object_features = object_features[list(feature_names & set(factory_feature_names))]"
   ]
  },
  {
   "cell_type": "code",
   "execution_count": 7,
   "metadata": {},
   "outputs": [],
   "source": [
    "# NORMALIZE \"@@object_lifecycle_duration\"\n",
    "object_features.loc[:, target_name] = StandardScaler().fit_transform(\n",
    "    object_features.loc[:, [f\"{factory_num_oa_prefix}object_index\", target_name]]\n",
    ")[:, 1]"
   ]
  },
  {
   "cell_type": "code",
   "execution_count": 8,
   "metadata": {},
   "outputs": [],
   "source": [
    "# retrieve the mapper from ocel object id to the object index in the pd.DataFrame (e.g. 'KRS-56423':1)\n",
    "oid_object_index_map = hetero_data_utils.get_index_map(\n",
    "    ocel.objects, \"ocel:oid\", \"object_index\"\n",
    ")"
   ]
  },
  {
   "cell_type": "code",
   "execution_count": 9,
   "metadata": {},
   "outputs": [],
   "source": [
    "# reset column name from object_index that was passed to the object-level feature matrix factory\n",
    "object_features = object_features.rename(\n",
    "    columns={f\"{factory_num_oa_prefix}object_index\": \"object_index\"}\n",
    ")\n",
    "object_features[\"object_index\"] = object_features[\"object_index\"].astype(int)\n",
    "\n",
    "\n",
    "# Split object feature matrix into one feature matrix per object type\n",
    "krs_features = object_features[\n",
    "    object_features[f\"{factory_str_oa_prefix}ocel:type_krs\"] == 1\n",
    "]\n",
    "krv_features = object_features[\n",
    "    object_features[f\"{factory_str_oa_prefix}ocel:type_krv\"] == 1\n",
    "]\n",
    "cv_features = object_features[\n",
    "    object_features[f\"{factory_str_oa_prefix}ocel:type_cv\"] == 1\n",
    "]\n",
    "\n",
    "# Subset features to only include object attribute features, excluding object interaction features\n",
    "flatten = lambda l: [item for sublist in l for item in sublist]\n",
    "krs_attribute_feature_idxs = flatten(\n",
    "    [\n",
    "        np.where(krs_features.columns.str.contains(attr_name))[0]\n",
    "        for attr_name in object_attributes\n",
    "        + [\"object_index\", \"object_lifecycle_duration\"]\n",
    "    ]\n",
    ")\n",
    "krv_attribute_feature_idxs = flatten(\n",
    "    [\n",
    "        np.where(krv_features.columns.str.contains(attr_name))[0]\n",
    "        for attr_name in object_attributes\n",
    "        + [\"object_index\", \"object_lifecycle_duration\"]\n",
    "    ]\n",
    ")\n",
    "cv_attribute_feature_idxs = flatten(\n",
    "    [\n",
    "        np.where(cv_features.columns.str.contains(attr_name))[0]\n",
    "        for attr_name in object_attributes\n",
    "        + [\"object_index\", \"object_lifecycle_duration\"]\n",
    "    ]\n",
    ")\n",
    "# subset krs features, with correct columns\n",
    "krs_features = krs_features.iloc[:, krs_attribute_feature_idxs]\n",
    "# create object_index to krs_index mapper\n",
    "krs_features = hetero_data_utils.add_object_type_index(krs_features, \"krs\")\n",
    "object_index_krs_index_map = hetero_data_utils.get_index_map(\n",
    "    krs_features, \"object_index\", \"krs_index\"\n",
    ")\n",
    "\n",
    "# subset krv features, with correct columns\n",
    "krv_features = krv_features.iloc[:, krv_attribute_feature_idxs]\n",
    "# create object_index to krv_index mapper\n",
    "krv_features = hetero_data_utils.add_object_type_index(krv_features, \"krv\")\n",
    "object_index_krv_index_map = hetero_data_utils.get_index_map(\n",
    "    krv_features, \"object_index\", \"krv_index\"\n",
    ")\n",
    "\n",
    "# subset cv features, with correct columns\n",
    "cv_features = cv_features.iloc[:, cv_attribute_feature_idxs]\n",
    "# create object_index to cv_index mapper\n",
    "cv_features = hetero_data_utils.add_object_type_index(cv_features, \"cv\")\n",
    "object_index_cv_index_map = hetero_data_utils.get_index_map(\n",
    "    cv_features, \"object_index\", \"cv_index\"\n",
    ")"
   ]
  },
  {
   "cell_type": "code",
   "execution_count": 10,
   "metadata": {},
   "outputs": [],
   "source": [
    "graph = pm4py.ocel.discover_objects_graph(\n",
    "    ocel,\n",
    "    graph_type=\"object_descendants\",\n",
    "    # graph_type=\"object_interaction\",\n",
    ")"
   ]
  },
  {
   "cell_type": "code",
   "execution_count": 11,
   "metadata": {},
   "outputs": [],
   "source": [
    "# define object relation types (edge types)\n",
    "cs_edge_types = [\n",
    "    (\"krv\", \"cv\"),\n",
    "    (\"krs\", \"krs\"),\n",
    "    (\"krs\", \"krv\"),\n",
    "    (\"krv\", \"krv\"),\n",
    "    (\"cv\", \"cv\"),\n",
    "    (\"krs\", \"cv\"),\n",
    "]\n",
    "# assign edge tuples to correct edge types\n",
    "cs_edges_per_edge_type = hetero_data_utils.split_on_edge_types(\n",
    "    list(graph), cs_edge_types, to_undirected=True\n",
    ")\n",
    "cs_edge_types = list(\n",
    "    cs_edges_per_edge_type.keys()\n",
    ")  # reset the predefined edge_types to the edge_types found in the data\n",
    "\n",
    "# create ocel object index to krs node index (for HeteroData) mapper\n",
    "krs_to_node_map = hetero_data_utils.object_map_to_node_map(\n",
    "    oid_object_index_map, object_index_krs_index_map, \"krs\"\n",
    ")\n",
    "# create ocel object index to krv node index (for HeteroData) mapper\n",
    "krv_to_node_map = hetero_data_utils.object_map_to_node_map(\n",
    "    oid_object_index_map, object_index_krv_index_map, \"krv\"\n",
    ")\n",
    "# create ocel object index to cv node index (for HeteroData) mapper\n",
    "cv_to_node_map = hetero_data_utils.object_map_to_node_map(\n",
    "    oid_object_index_map, object_index_cv_index_map, \"cv\"\n",
    ")"
   ]
  },
  {
   "cell_type": "code",
   "execution_count": 12,
   "metadata": {},
   "outputs": [],
   "source": [
    "# rename edges to have correct edge_index for HeteroData\n",
    "cs_edges_per_edge_type = hetero_data_utils.rename_edges_in_split_dict(\n",
    "    cs_edges_per_edge_type, krs_to_node_map\n",
    ")\n",
    "cs_edges_per_edge_type = hetero_data_utils.rename_edges_in_split_dict(\n",
    "    cs_edges_per_edge_type, krv_to_node_map\n",
    ")\n",
    "cs_edges_per_edge_type = hetero_data_utils.rename_edges_in_split_dict(\n",
    "    cs_edges_per_edge_type, cv_to_node_map\n",
    ")"
   ]
  },
  {
   "cell_type": "code",
   "execution_count": 13,
   "metadata": {},
   "outputs": [],
   "source": [
    "# define heterogeneous graph\n",
    "hetero_data = HeteroData()\n",
    "# define target variable for both \"krs\" type and \"krv\" type\n",
    "hetero_data[\"krs\"].y = torch.tensor(krs_features[\"@@object_lifecycle_duration\"].values)\n",
    "hetero_data[\"krv\"].y = torch.tensor(krv_features[\"@@object_lifecycle_duration\"].values)\n",
    "hetero_data[\"cv\"].y = torch.tensor(cv_features[\"@@object_lifecycle_duration\"].values)\n",
    "\n",
    "# attach node feature vectors for both \"krs\" type and \"krv\" type\n",
    "hetero_data[\"krs\"].x = torch.tensor(\n",
    "    krs_features.drop(\n",
    "        [\"krs_index\", \"object_index\", \"@@object_lifecycle_duration\"], axis=1\n",
    "    ).values\n",
    ")\n",
    "hetero_data[\"krv\"].x = torch.tensor(\n",
    "    krv_features.drop(\n",
    "        [\"krv_index\", \"object_index\", \"@@object_lifecycle_duration\"], axis=1\n",
    "    ).values\n",
    ")\n",
    "hetero_data[\"cv\"].x = torch.tensor(\n",
    "    cv_features.drop(\n",
    "        [\"cv_index\", \"object_index\", \"@@object_lifecycle_duration\"], axis=1\n",
    "    ).values\n",
    ")"
   ]
  },
  {
   "cell_type": "code",
   "execution_count": 14,
   "metadata": {},
   "outputs": [],
   "source": [
    "for edge_type in cs_edge_types:\n",
    "    hetero_data[\n",
    "        edge_type[0], \"interacts\", edge_type[1]\n",
    "    ].edge_index = hetero_data_utils.to_torch_coo_format(\n",
    "        cs_edges_per_edge_type[edge_type]\n",
    "    )"
   ]
  },
  {
   "cell_type": "code",
   "execution_count": 15,
   "metadata": {},
   "outputs": [],
   "source": [
    "objects_data = {\n",
    "    \"ofg\": hetero_data,\n",
    "    \"objects_interaction_graph\": graph,\n",
    "    \"object_feature_vector_map\": {\n",
    "        \"krs\": krs_to_node_map,\n",
    "        \"krv\": krv_to_node_map,\n",
    "        \"cv\": cv_to_node_map,\n",
    "    },\n",
    "    \"object_feature_matrices\": {\n",
    "        \"krs\": krs_features,\n",
    "        \"krv\": krv_features,\n",
    "        \"cv\": cv_features,\n",
    "    },\n",
    "}\n",
    "\n",
    "# save HeteroData object (for OFG encoding)\n",
    "with open(ofg_out_file, \"wb\") as binary_file:\n",
    "    pickle.dump(hetero_data, binary_file)\n",
    "# save object interaction graph information (for HOEG encoding)\n",
    "with open(objects_data_dict_out_file, \"wb\") as binary_file:\n",
    "    pickle.dump(objects_data, binary_file)"
   ]
  },
  {
   "cell_type": "code",
   "execution_count": 16,
   "metadata": {},
   "outputs": [
    {
     "name": "stdout",
     "output_type": "stream",
     "text": [
      "dict_keys(['ofg', 'objects_interaction_graph', 'object_feature_vector_map', 'object_feature_matrices'])\n"
     ]
    }
   ],
   "source": [
    "check_list_item_type = lambda lst, item_type: all(\n",
    "    isinstance(item, item_type) for item in lst\n",
    ")\n",
    "unique_item_types = lambda input_list: set(type(item) for item in input_list)\n",
    "print(objects_data.keys())"
   ]
  },
  {
   "cell_type": "code",
   "execution_count": 17,
   "metadata": {},
   "outputs": [
    {
     "data": {
      "text/plain": [
       "{'krs': ({str}, {int}), 'krv': ({str}, {int}), 'cv': ({str}, {int})}"
      ]
     },
     "execution_count": 17,
     "metadata": {},
     "output_type": "execute_result"
    }
   ],
   "source": [
    "res = dict()\n",
    "for ot in objects_data[\"object_feature_vector_map\"]:\n",
    "    ks = objects_data[\"object_feature_vector_map\"][ot].keys()\n",
    "    vls = objects_data[\"object_feature_vector_map\"][ot].values()\n",
    "    res[ot] = (unique_item_types(ks), unique_item_types(vls))\n",
    "\n",
    "res"
   ]
  },
  {
   "cell_type": "code",
   "execution_count": 19,
   "metadata": {},
   "outputs": [
    {
     "data": {
      "text/plain": [
       "{'krs': ({str}, {int}), 'krv': ({str}, {int}), 'cv': ({str}, {int})}"
      ]
     },
     "execution_count": 19,
     "metadata": {},
     "output_type": "execute_result"
    }
   ],
   "source": [
    "res = dict()\n",
    "for ot in objects_data[\"object_feature_vector_map\"]:\n",
    "    ks = objects_data[\"object_feature_vector_map\"][ot].keys()\n",
    "    vls = objects_data[\"object_feature_vector_map\"][ot].values()\n",
    "    res[ot] = (unique_item_types(ks), unique_item_types(vls))\n",
    "\n",
    "res"
   ]
  }
 ],
 "metadata": {
  "kernelspec": {
   "display_name": ".env",
   "language": "python",
   "name": "python3"
  },
  "language_info": {
   "codemirror_mode": {
    "name": "ipython",
    "version": 3
   },
   "file_extension": ".py",
   "mimetype": "text/x-python",
   "name": "python",
   "nbconvert_exporter": "python",
   "pygments_lexer": "ipython3",
   "version": "3.9.17"
  },
  "orig_nbformat": 4
 },
 "nbformat": 4,
 "nbformat_minor": 2
}
