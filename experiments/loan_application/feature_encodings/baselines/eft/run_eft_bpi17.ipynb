{
 "cells": [
  {
   "cell_type": "code",
   "execution_count": 1,
   "metadata": {},
   "outputs": [
    {
     "data": {
      "text/plain": [
       "'/home/tim/Development/OCPPM'"
      ]
     },
     "execution_count": 1,
     "metadata": {},
     "output_type": "execute_result"
    }
   ],
   "source": [
    "import os\n",
    "\n",
    "go_up_n_directories = lambda path, n: os.path.abspath(\n",
    "    os.path.join(*([os.path.dirname(path)] + [\"..\"] * n))\n",
    ")\n",
    "os.chdir(go_up_n_directories(os.getcwd(), 4))  # run once (otherwise restart kernel)\n",
    "os.getcwd()"
   ]
  },
  {
   "cell_type": "code",
   "execution_count": 2,
   "metadata": {},
   "outputs": [],
   "source": [
    "# Python natives\n",
    "import pickle\n",
    "import re\n",
    "import time\n",
    "import os\n",
    "import json\n",
    "import pprint\n",
    "\n",
    "# Data handling\n",
    "from ocpa.algo.predictive_monitoring.obj import Feature_Storage\n",
    "from ocpa.algo.predictive_monitoring import tabular\n",
    "\n",
    "# Booster model\n",
    "import lightgbm as lgb\n",
    "\n",
    "import utilities.evaluation_utils as evaluation_utils\n",
    "\n",
    "# Config\n",
    "feature_storage_file = \"data/BPI17/feature_encodings/EFG/efg/raw/BPI_split_[C2_P2_P3_P5_O3_Action_EventOrigin_OrgResource].fs\"\n",
    "target = \"event_remaining_time\"\n",
    "model_output_path = \"models/BPI17/baselines/eft\""
   ]
  },
  {
   "cell_type": "code",
   "execution_count": 3,
   "metadata": {},
   "outputs": [
    {
     "name": "stderr",
     "output_type": "stream",
     "text": [
      "/home/tim/Development/OCPPM/.env/lib/python3.9/site-packages/sklearn/base.py:324: UserWarning: Trying to unpickle estimator StandardScaler from version 0.24.2 when using version 1.0. This might lead to breaking code or invalid results. Use at your own risk. For more info please refer to:\n",
      "https://scikit-learn.org/stable/modules/model_persistence.html#security-maintainability-limitations\n",
      "  warnings.warn(\n"
     ]
    }
   ],
   "source": [
    "with open(feature_storage_file, \"rb\") as bin:\n",
    "    feature_storage: Feature_Storage = pickle.load(bin)"
   ]
  },
  {
   "cell_type": "code",
   "execution_count": 4,
   "metadata": {},
   "outputs": [],
   "source": [
    "# flatten EFG with same train/test split\n",
    "eft_train = tabular.construct_table(\n",
    "    feature_storage, feature_storage.train_indices + feature_storage.validation_indices\n",
    ")\n",
    "eft_test = tabular.construct_table(feature_storage, feature_storage.test_indices)\n",
    "\n",
    "# rename columns that contain JSON special characters (as they are not supported by LightGBM)\n",
    "rename_columns = lambda col_name: re.sub(\"[^A-Za-z0-9_]+\", \"\", str(col_name))\n",
    "eft_train = eft_train.rename(columns=rename_columns)\n",
    "eft_test = eft_test.rename(columns=rename_columns)"
   ]
  },
  {
   "cell_type": "code",
   "execution_count": 5,
   "metadata": {},
   "outputs": [],
   "source": [
    "# import dataset into LightGBM framework\n",
    "X_train, y_train = (\n",
    "    eft_train.drop(columns=[target]),\n",
    "    eft_train.loc[:, target],\n",
    ")\n",
    "X_valid, y_valid = (\n",
    "    eft_test.drop(columns=[target]),\n",
    "    eft_test.loc[:, target],\n",
    ")\n",
    "\n",
    "train_data = lgb.Dataset(\n",
    "    X_train,\n",
    "    label=y_train,\n",
    ")\n",
    "valid_data = lgb.Dataset(\n",
    "    X_valid,\n",
    "    label=y_valid,\n",
    ")"
   ]
  },
  {
   "cell_type": "code",
   "execution_count": 6,
   "metadata": {},
   "outputs": [
    {
     "name": "stderr",
     "output_type": "stream",
     "text": [
      "/home/tim/Development/OCPPM/.env/lib/python3.9/site-packages/lightgbm/engine.py:177: UserWarning: Found `num_boost_round` in params. Will use it instead of argument\n",
      "  _log_warning(f\"Found `{alias}` in params. Will use it instead of argument\")\n"
     ]
    },
    {
     "name": "stdout",
     "output_type": "stream",
     "text": [
      "[LightGBM] [Warning] Unknown parameter: stopping_rounds\n",
      "[LightGBM] [Warning] Unknown parameter: stopping_rounds\n",
      "[LightGBM] [Warning] Auto-choosing row-wise multi-threading, the overhead of testing was 0.232638 seconds.\n",
      "You can set `force_row_wise=true` to remove the overhead.\n",
      "And if memory is not enough, you can set `force_col_wise=true`.\n",
      "[LightGBM] [Info] Total Bins 752\n",
      "[LightGBM] [Info] Number of data points in the train set: 276187, number of used features: 26\n",
      "[LightGBM] [Warning] Unknown parameter: stopping_rounds\n",
      "[LightGBM] [Info] Start training from score 0.001795\n",
      "Training until validation scores don't improve for 100 rounds\n",
      "Did not meet early stopping. Best iteration is:\n",
      "[98]\tvalid_0's l2: 0.566428\tvalid_0's l1: 0.528217\tvalid_0's mape: 0.446807\tvalid_0's rmse: 0.752614\n"
     ]
    }
   ],
   "source": [
    "params = {\n",
    "    \"objective\": \"regression\",\n",
    "    \"metric\": [\"mse\", \"mae\", \"mape\", \"rmse\"],\n",
    "    \"num_boost_round\": 100,\n",
    "    \"stopping_rounds\": 100,\n",
    "}\n",
    "\n",
    "start_train_time = time.time()\n",
    "bst = lgb.train(\n",
    "    params,\n",
    "    train_data,\n",
    "    valid_sets=[valid_data],\n",
    "    callbacks=[lgb.early_stopping(params[\"stopping_rounds\"])],\n",
    ")\n",
    "total_train_time = time.time() - start_train_time"
   ]
  },
  {
   "cell_type": "code",
   "execution_count": 7,
   "metadata": {},
   "outputs": [],
   "source": [
    "pred_start_time = time.time()\n",
    "y_train_preds = bst.predict(X_train)\n",
    "train_pred_time = time.time() - pred_start_time\n",
    "\n",
    "pred_start_time = time.time()\n",
    "y_valid_preds = bst.predict(X_valid)\n",
    "valid_pred_time = time.time() - pred_start_time"
   ]
  },
  {
   "cell_type": "code",
   "execution_count": 8,
   "metadata": {},
   "outputs": [],
   "source": [
    "eval_train = evaluation_utils.get_evaluation(\n",
    "    y_train, y_train_preds, regression=True, time=train_pred_time\n",
    ")\n",
    "eval_train[\"report\"][\"training_time\"] = total_train_time\n",
    "eval_valid = evaluation_utils.get_evaluation(\n",
    "    y_valid, y_valid_preds, regression=True, time=valid_pred_time\n",
    ")\n",
    "\n",
    "experiment_settings = {\"experiment_settings\": params}\n",
    "evaluation_report = {\"Train\": eval_train, \"Test\": eval_valid}"
   ]
  },
  {
   "cell_type": "code",
   "execution_count": 9,
   "metadata": {},
   "outputs": [
    {
     "name": "stdout",
     "output_type": "stream",
     "text": [
      "{'Test': {'report': {'MAE': 0.528216573078087,\n",
      "                     'MAPE': 8.21843932478464,\n",
      "                     'MSE': 0.5664282332331936,\n",
      "                     'R^2': 0.42133709021710364,\n",
      "                     'prediction_time': 0.2623112201690674}},\n",
      " 'Train': {'report': {'MAE': 0.5282096004108215,\n",
      "                      'MAPE': 8.385424154947259,\n",
      "                      'MSE': 0.5730202952019726,\n",
      "                      'R^2': 0.42978440206475876,\n",
      "                      'prediction_time': 0.5728161334991455,\n",
      "                      'training_time': 15.922951459884644}}}\n"
     ]
    }
   ],
   "source": [
    "with open(os.path.join(model_output_path, \"experiment_settings.json\"), \"w\") as fp:\n",
    "    json.dump(experiment_settings, fp, indent=2)\n",
    "with open(os.path.join(model_output_path, \"evaluation_report.json\"), \"w\") as fp:\n",
    "    json.dump(evaluation_report, fp, indent=2)\n",
    "\n",
    "pprint.pprint(evaluation_report)"
   ]
  }
 ],
 "metadata": {
  "kernelspec": {
   "display_name": ".env",
   "language": "python",
   "name": "python3"
  },
  "language_info": {
   "codemirror_mode": {
    "name": "ipython",
    "version": 3
   },
   "file_extension": ".py",
   "mimetype": "text/x-python",
   "name": "python",
   "nbconvert_exporter": "python",
   "pygments_lexer": "ipython3",
   "version": "3.9.17"
  },
  "orig_nbformat": 4
 },
 "nbformat": 4,
 "nbformat_minor": 2
}
