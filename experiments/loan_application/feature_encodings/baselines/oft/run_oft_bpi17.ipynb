{
 "cells": [
  {
   "cell_type": "code",
   "execution_count": null,
   "metadata": {},
   "outputs": [],
   "source": [
    "import os\n",
    "\n",
    "os.chdir(\"/home/tim/Development/OCPPM/\")\n",
    "import pprint\n",
    "\n",
    "import lightgbm as lgb\n",
    "import pandas as pd\n",
    "from sklearn.model_selection import train_test_split\n",
    "from sklearn.preprocessing import StandardScaler\n",
    "\n",
    "import utilities.evaluation_utils as evaluation_utils\n",
    "\n",
    "# ONLY OBJECT TYPE==APPLICATION WILL BE CONSIDERED\n",
    "oft_out_file = \"data/BPI17/feature_encodings/OFT/application_features.csv\""
   ]
  },
  {
   "cell_type": "code",
   "execution_count": null,
   "metadata": {},
   "outputs": [],
   "source": [
    "oft = pd.read_csv(oft_out_file)\n",
    "scaler = StandardScaler()\n",
    "oft_values = scaler.fit_transform(oft.values)\n",
    "oft = pd.DataFrame(oft_values, columns=oft.columns)\n",
    "print(oft.shape)\n",
    "oft.head()"
   ]
  },
  {
   "cell_type": "code",
   "execution_count": null,
   "metadata": {},
   "outputs": [],
   "source": [
    "# make train test split\n",
    "X, y = (\n",
    "    oft.drop(\"object_lifecycle_duration\", axis=1),\n",
    "    oft.loc[:, \"object_lifecycle_duration\"],\n",
    ")\n",
    "X_train, X_valid, y_train, y_valid = train_test_split(\n",
    "    X, y, test_size=0.2, random_state=0\n",
    ")\n",
    "train_data = lgb.Dataset(X_train, label=y_train)\n",
    "valid_data = lgb.Dataset(X_valid, label=y_valid)"
   ]
  },
  {
   "cell_type": "code",
   "execution_count": null,
   "metadata": {},
   "outputs": [],
   "source": [
    "params = {\n",
    "    \"objective\": \"regression\",\n",
    "    \"metric\": [\"mse\", \"mae\", \"mape\", \"rmse\"],\n",
    "    \"num_boost_round\": 100,\n",
    "    \"stopping_rounds\": 100,\n",
    "}\n",
    "\n",
    "bst = lgb.train(\n",
    "    params,\n",
    "    train_data,\n",
    "    valid_sets=[valid_data],\n",
    "    callbacks=[lgb.early_stopping(params[\"stopping_rounds\"])],\n",
    ")"
   ]
  },
  {
   "cell_type": "code",
   "execution_count": null,
   "metadata": {},
   "outputs": [],
   "source": [
    "y_train_preds = bst.predict(X_train)\n",
    "y_valid_preds = bst.predict(X_valid)"
   ]
  },
  {
   "cell_type": "code",
   "execution_count": null,
   "metadata": {},
   "outputs": [],
   "source": [
    "eval_train = evaluation_utils.get_evaluation(y_train, y_train_preds, regression=True)\n",
    "eval_valid = evaluation_utils.get_evaluation(y_valid, y_valid_preds, regression=True)\n",
    "experiment_settings = {\"experiment_settings\": params}\n",
    "evaluation_report = {\"train\": eval_train, \"validation\": eval_valid}\n",
    "pprint.pprint(evaluation_report)"
   ]
  }
 ],
 "metadata": {
  "anaconda-cloud": {},
  "kernelspec": {
   "display_name": "Python 3",
   "language": "python",
   "name": "python3"
  },
  "language_info": {
   "codemirror_mode": {
    "name": "ipython",
    "version": 3
   },
   "file_extension": ".py",
   "mimetype": "text/x-python",
   "name": "python",
   "nbconvert_exporter": "python",
   "pygments_lexer": "ipython3",
   "version": "3.9.17"
  }
 },
 "nbformat": 4,
 "nbformat_minor": 4
}
