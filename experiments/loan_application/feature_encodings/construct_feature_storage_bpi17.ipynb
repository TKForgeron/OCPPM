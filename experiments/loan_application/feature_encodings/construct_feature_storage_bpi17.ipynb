{
 "cells": [
  {
   "cell_type": "code",
   "execution_count": 1,
   "metadata": {},
   "outputs": [
    {
     "data": {
      "text/plain": [
       "'/home/tim/Development/OCPPM'"
      ]
     },
     "execution_count": 1,
     "metadata": {},
     "output_type": "execute_result"
    }
   ],
   "source": [
    "import os\n",
    "\n",
    "go_up_n_directories = lambda path, n: os.path.abspath(\n",
    "    os.path.join(*([os.path.dirname(path)] + [\"..\"] * n))\n",
    ")\n",
    "os.chdir(go_up_n_directories(os.getcwd(), 2))  # run once (otherwise restart kernel)\n",
    "os.getcwd()"
   ]
  },
  {
   "cell_type": "code",
   "execution_count": 2,
   "metadata": {},
   "outputs": [],
   "source": [
    "from typing import Any, Callable\n",
    "import pickle\n",
    "import re\n",
    "import string\n",
    "from sklearn.preprocessing import StandardScaler\n",
    "\n",
    "# Object centric process mining\n",
    "import ocpa.objects.log.importer.ocel.factory as ocel_import_factory\n",
    "from ocpa.algo.predictive_monitoring.obj import Feature_Storage\n",
    "from ocpa.objects.log.ocel import OCEL\n",
    "import ocpa.algo.predictive_monitoring.factory as feature_factory\n",
    "import ocpa.objects.log.importer.csv.factory as csv_import_factory"
   ]
  },
  {
   "cell_type": "code",
   "execution_count": 3,
   "metadata": {},
   "outputs": [],
   "source": [
    "ocel_in_file = \"data/BPI17/source/BPI2017-CountEncoded.jsonocel\"\n",
    "event_attributes = [\n",
    "    \"event_Action_ce\",\n",
    "    \"event_EventOrigin_ce\",\n",
    "    \"event_OrgResource_ce\",\n",
    "]\n",
    "feature_storage_intermediate_file = \"data/BPI17/feature_encodings/EFG/efg/raw/BPI_[C2_P2_P3_P5_O3_Action_EventOrigin_OrgResource].fs\"\n",
    "feature_storage_out_file = \"data/BPI17/feature_encodings/EFG/efg/raw/BPI_split_[C2_P2_P3_P5_O3_Action_EventOrigin_OrgResource].fs\""
   ]
  },
  {
   "cell_type": "code",
   "execution_count": 4,
   "metadata": {},
   "outputs": [],
   "source": [
    "ocel = ocel_import_factory.apply(ocel_in_file)"
   ]
  },
  {
   "cell_type": "code",
   "execution_count": 5,
   "metadata": {},
   "outputs": [],
   "source": [
    "activities = ocel.log.log[\"event_activity\"].unique().tolist()\n",
    "\n",
    "# Adams used just C2, D1, P2, and O3 with P3 as the target variable\n",
    "event_level_features = {\n",
    "    f\"C2{char}\": (feature_factory.EVENT_PRECEDING_ACTIVITIES, (act,))\n",
    "    for act, char in zip(activities, string.ascii_lowercase)\n",
    "} | {\n",
    "    # \"D1\": (\n",
    "    #     feature_factory.EVENT_AGG_PREVIOUS_CHAR_VALUES,\n",
    "    #     (\"event_RequestedAmount\", max),\n",
    "    # ), # error ('event_RequestedAmount' we have made an object attribute)\n",
    "    \"P2\": (feature_factory.EVENT_ELAPSED_TIME, ()),\n",
    "    \"P3\": (feature_factory.EVENT_REMAINING_TIME, ()),\n",
    "    # \"P4\": (feature_factory.EVENT_FLOW_TIME, ()),\n",
    "    \"P5\": (feature_factory.EVENT_SYNCHRONIZATION_TIME, ()),\n",
    "    # \"P6\": (feature_factory.EVENT_SOJOURN_TIME, ()),\n",
    "    # \"P7\": (feature_factory.EVENT_POOLING_TIME, ()), # error\n",
    "    # \"P8\": (feature_factory.EVENT_LAGGING_TIME, ()), # error\n",
    "    # \"P9\": (feature_factory.EVENT_SERVICE_TIME, ()), # error\n",
    "    # \"P10\": (feature_factory.EVENT_WAITING_TIME, ()), # error\n",
    "    \"O3\": (feature_factory.EVENT_PREVIOUS_TYPE_COUNT, (\"offer\",)),\n",
    "}"
   ]
  },
  {
   "cell_type": "code",
   "execution_count": 6,
   "metadata": {},
   "outputs": [
    {
     "name": "stderr",
     "output_type": "stream",
     "text": [
      "100%|██████████| 31509/31509 [01:17<00:00, 408.15it/s]\n"
     ]
    }
   ],
   "source": [
    "feature_storage = feature_factory.apply(\n",
    "    ocel,\n",
    "    event_based_features=list(event_level_features.values()),\n",
    "    event_attributes=event_attributes,\n",
    "    # execution_based_features=[(feature_factory.EXECUTION_THROUGHPUT, ())]\n",
    ")"
   ]
  },
  {
   "cell_type": "code",
   "execution_count": null,
   "metadata": {},
   "outputs": [],
   "source": [
    "# Remove process executions that only contain one event\n",
    "# DETERMINE WHETHER TO DO IT HERE, IN OCPA, OR IN THE RAW OCEL"
   ]
  },
  {
   "cell_type": "code",
   "execution_count": 7,
   "metadata": {},
   "outputs": [],
   "source": [
    "with open(feature_storage_intermediate_file, \"wb\") as binary:\n",
    "    pickle.dump(feature_storage, binary)"
   ]
  },
  {
   "cell_type": "code",
   "execution_count": 8,
   "metadata": {},
   "outputs": [
    {
     "name": "stderr",
     "output_type": "stream",
     "text": [
      "/home/tim/Development/OCPPM/.env/lib/python3.9/site-packages/sklearn/utils/validation.py:1673: FutureWarning: Feature names only support names that are all strings. Got feature names with dtypes: ['str', 'tuple']. An error will be raised in 1.2.\n",
      "  warnings.warn(\n",
      "/home/tim/Development/OCPPM/.env/lib/python3.9/site-packages/sklearn/utils/validation.py:1673: FutureWarning: Feature names only support names that are all strings. Got feature names with dtypes: ['str', 'tuple']. An error will be raised in 1.2.\n",
      "  warnings.warn(\n",
      "/home/tim/Development/OCPPM/.env/lib/python3.9/site-packages/sklearn/utils/validation.py:1673: FutureWarning: Feature names only support names that are all strings. Got feature names with dtypes: ['str', 'tuple']. An error will be raised in 1.2.\n",
      "  warnings.warn(\n",
      "/home/tim/Development/OCPPM/.env/lib/python3.9/site-packages/sklearn/utils/validation.py:1673: FutureWarning: Feature names only support names that are all strings. Got feature names with dtypes: ['str', 'tuple']. An error will be raised in 1.2.\n",
      "  warnings.warn(\n"
     ]
    }
   ],
   "source": [
    "# Generate the train-validation-test split (with the same split as Adams)\n",
    "# but do not normalize the features here\n",
    "feature_storage.extract_normalized_train_test_split(\n",
    "    scaler=StandardScaler,\n",
    "    scaling_exempt_features=[],\n",
    "    test_size=0.3,\n",
    "    validation_size=0.7 * 0.2,\n",
    "    state=42,\n",
    ")"
   ]
  },
  {
   "cell_type": "code",
   "execution_count": 9,
   "metadata": {},
   "outputs": [],
   "source": [
    "with open(feature_storage_out_file, \"wb\") as binary:\n",
    "    pickle.dump(feature_storage, binary)"
   ]
  }
 ],
 "metadata": {
  "kernelspec": {
   "display_name": ".env",
   "language": "python",
   "name": "python3"
  },
  "language_info": {
   "codemirror_mode": {
    "name": "ipython",
    "version": 3
   },
   "file_extension": ".py",
   "mimetype": "text/x-python",
   "name": "python",
   "nbconvert_exporter": "python",
   "pygments_lexer": "ipython3",
   "version": "3.9.17"
  },
  "orig_nbformat": 4
 },
 "nbformat": 4,
 "nbformat_minor": 2
}
