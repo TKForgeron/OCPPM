{
 "cells": [
  {
   "cell_type": "code",
   "execution_count": 1,
   "metadata": {},
   "outputs": [],
   "source": [
    "import os\n",
    "\n",
    "os.chdir(\"/home/tim/Development/OCPPM/\")\n",
    "import pandas as pd\n",
    "import pm4py\n",
    "import pm4py.read\n",
    "import category_encoders as ce"
   ]
  },
  {
   "cell_type": "code",
   "execution_count": 2,
   "metadata": {},
   "outputs": [],
   "source": [
    "ocel_in_file = \"data/CS/source/cs_january_ots[krs_krv_cv]_eas[ea2_ea4_resource_ce_resource_multi].jsonocel\"\n",
    "objects_table_in_file = \"data/CS/source/objects.csv\"\n",
    "\n",
    "oft_out_file = \"data/CS/feature_encodings/baselines/OFT/objects.csv\""
   ]
  },
  {
   "cell_type": "markdown",
   "metadata": {},
   "source": [
    "### TODO: use same object attributes as in actual OCEL (to be able to compare against EFG)"
   ]
  },
  {
   "cell_type": "code",
   "execution_count": 3,
   "metadata": {},
   "outputs": [],
   "source": [
    "# load OCEL\n",
    "ocel = pm4py.read.read_ocel(ocel_in_file)\n",
    "objects_df = pd.read_csv(objects_table_in_file, sep=\";\")"
   ]
  },
  {
   "cell_type": "code",
   "execution_count": 4,
   "metadata": {},
   "outputs": [],
   "source": [
    "# select events that contain the target variable 'ea4'\n",
    "events_to_take_target_from = (\n",
    "    ocel.relations.sort_values(\"ocel:timestamp\", ascending=False)\n",
    "    .groupby(\"ocel:oid\")\n",
    "    .tail(1)[[\"ocel:eid\", \"ocel:oid\"]]\n",
    ")\n",
    "# select the target variables for those events\n",
    "events_with_target = ocel.events.loc[\n",
    "    ocel.events[\"ocel:eid\"].isin(events_to_take_target_from[\"ocel:eid\"]),\n",
    "    [\"ocel:eid\", \"event_ea4\"],\n",
    "]\n",
    "# select the objects relating to those events and their target variables\n",
    "objects_with_target = events_to_take_target_from.join(\n",
    "    events_with_target.set_index(\"ocel:eid\"), on=\"ocel:eid\"\n",
    ").drop(columns=[\"ocel:eid\"])\n",
    "# join full objects table with these objects of which we now have target variable 'ea4'\n",
    "objects_df_with_target = objects_with_target.join(\n",
    "    objects_df.set_index(\"oid\"), on=\"ocel:oid\"\n",
    ")"
   ]
  },
  {
   "cell_type": "code",
   "execution_count": 6,
   "metadata": {},
   "outputs": [],
   "source": [
    "cat_cols = [\n",
    "    k\n",
    "    for (k, v) in objects_df_with_target.dtypes.to_dict().items()\n",
    "    if (k != \"ocel:oid\") and (v == object)\n",
    "]"
   ]
  },
  {
   "cell_type": "code",
   "execution_count": 7,
   "metadata": {},
   "outputs": [],
   "source": [
    "processed_objects_df = objects_df_with_target.drop(columns=[\"event_ea4\", \"ocel:oid\"])\n",
    "\n",
    "encoder = ce.CountEncoder(cols=cat_cols)\n",
    "processed_objects_df = encoder.fit_transform(processed_objects_df)\n",
    "processed_objects_df[\"ea4\"] = objects_df_with_target[\"event_ea4\"]\n",
    "processed_objects_df[\"oa14\"] = processed_objects_df[\"oa14\"].fillna(0)"
   ]
  },
  {
   "cell_type": "code",
   "execution_count": 8,
   "metadata": {},
   "outputs": [],
   "source": [
    "processed_objects_df.to_csv(oft_out_file, index=False, sep=\";\")"
   ]
  }
 ],
 "metadata": {
  "kernelspec": {
   "display_name": ".env",
   "language": "python",
   "name": "python3"
  },
  "language_info": {
   "codemirror_mode": {
    "name": "ipython",
    "version": 3
   },
   "file_extension": ".py",
   "mimetype": "text/x-python",
   "name": "python",
   "nbconvert_exporter": "python",
   "pygments_lexer": "ipython3",
   "version": "3.9.17"
  },
  "orig_nbformat": 4
 },
 "nbformat": 4,
 "nbformat_minor": 2
}
