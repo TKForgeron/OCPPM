{
 "cells": [
  {
   "cell_type": "code",
   "execution_count": 12,
   "metadata": {},
   "outputs": [],
   "source": [
    "# Python natives\n",
    "import os\n",
    "\n",
    "os.chdir(\"/home/tim/Development/OCPPM/\")\n",
    "import pprint\n",
    "import lightgbm as lgb\n",
    "import numpy as np\n",
    "import pandas as pd\n",
    "import sklearn.metrics as metrics\n",
    "from sklearn.model_selection import train_test_split\n",
    "from utilities import evaluation_utils"
   ]
  },
  {
   "cell_type": "code",
   "execution_count": 2,
   "metadata": {},
   "outputs": [],
   "source": [
    "object_attributes = [\"oa1\", \"oa5\", \"oa10\"]\n",
    "oft_out_file = \"data/CS/feature_encodings/baselines/OFT/objects.csv\""
   ]
  },
  {
   "cell_type": "code",
   "execution_count": 3,
   "metadata": {},
   "outputs": [],
   "source": [
    "df_objects = pd.read_csv(oft_out_file, sep=\";\")\n",
    "df_objects = df_objects[object_attributes + [\"ea4\"]]"
   ]
  },
  {
   "cell_type": "code",
   "execution_count": 8,
   "metadata": {},
   "outputs": [
    {
     "data": {
      "text/plain": [
       "0.0    0.706659\n",
       "1.0    0.012044\n",
       "2.0    0.008753\n",
       "3.0    0.014572\n",
       "4.0    0.084501\n",
       "5.0    0.073626\n",
       "6.0    0.099845\n",
       "Name: ea4, dtype: float64"
      ]
     },
     "execution_count": 8,
     "metadata": {},
     "output_type": "execute_result"
    }
   ],
   "source": [
    "df_objects[\"ea4\"].value_counts(normalize=True).sort_index()"
   ]
  },
  {
   "cell_type": "code",
   "execution_count": 9,
   "metadata": {},
   "outputs": [],
   "source": [
    "# make train test split\n",
    "X, y = (\n",
    "    df_objects.drop(columns=[\"ea4\"]),\n",
    "    df_objects[\"ea4\"],\n",
    ")\n",
    "X_train, X_valid, y_train, y_valid = train_test_split(\n",
    "    X, y, test_size=0.3, random_state=42\n",
    ")\n",
    "\n",
    "train_data = lgb.Dataset(X_train, label=y_train)\n",
    "valid_data = lgb.Dataset(X_valid, label=y_valid)"
   ]
  },
  {
   "cell_type": "code",
   "execution_count": null,
   "metadata": {},
   "outputs": [],
   "source": [
    "params = {\n",
    "    \"num_threads\": 4,\n",
    "    \"objective\": \"multiclass\",\n",
    "    \"num_class\": 7,\n",
    "    \"metric\": [\"multi_logloss\"],\n",
    "    \"num_boost_round\": 100,\n",
    "    \"stopping_rounds\": 100,\n",
    "}\n",
    "\n",
    "bst = lgb.train(\n",
    "    params,\n",
    "    train_data,\n",
    "    valid_sets=[valid_data],\n",
    "    callbacks=[lgb.early_stopping(params[\"stopping_rounds\"])],\n",
    ")"
   ]
  },
  {
   "cell_type": "code",
   "execution_count": 11,
   "metadata": {},
   "outputs": [],
   "source": [
    "y_train_probs = bst.predict(X_train)\n",
    "y_valid_probs = bst.predict(X_valid)\n",
    "\n",
    "y_train_preds = np.apply_along_axis(\n",
    "    evaluation_utils.get_preds_from_probs, axis=1, arr=y_train_probs\n",
    ")\n",
    "y_valid_preds = np.apply_along_axis(\n",
    "    evaluation_utils.get_preds_from_probs, axis=1, arr=y_valid_probs\n",
    ")"
   ]
  },
  {
   "cell_type": "code",
   "execution_count": 13,
   "metadata": {},
   "outputs": [
    {
     "name": "stderr",
     "output_type": "stream",
     "text": [
      "/home/tim/Development/OCPPM/.env/lib/python3.9/site-packages/sklearn/metrics/_classification.py:1308: UndefinedMetricWarning: Precision and F-score are ill-defined and being set to 0.0 in labels with no predicted samples. Use `zero_division` parameter to control this behavior.\n",
      "  _warn_prf(average, modifier, msg_start, len(result))\n",
      "/home/tim/Development/OCPPM/.env/lib/python3.9/site-packages/sklearn/metrics/_classification.py:1308: UndefinedMetricWarning: Precision and F-score are ill-defined and being set to 0.0 in labels with no predicted samples. Use `zero_division` parameter to control this behavior.\n",
      "  _warn_prf(average, modifier, msg_start, len(result))\n",
      "/home/tim/Development/OCPPM/.env/lib/python3.9/site-packages/sklearn/metrics/_classification.py:1308: UndefinedMetricWarning: Precision and F-score are ill-defined and being set to 0.0 in labels with no predicted samples. Use `zero_division` parameter to control this behavior.\n",
      "  _warn_prf(average, modifier, msg_start, len(result))\n"
     ]
    },
    {
     "name": "stdout",
     "output_type": "stream",
     "text": [
      "{'train': {'report': {'0.0': {'f1-score': 0.8389990876567128,\n",
      "                              'precision': 0.7319553700146311,\n",
      "                              'recall': 0.9827147330605345,\n",
      "                              'support': 208212},\n",
      "                      '1.0': {'f1-score': 0.0,\n",
      "                              'precision': 0.0,\n",
      "                              'recall': 0.0,\n",
      "                              'support': 3515},\n",
      "                      '2.0': {'f1-score': 0.0,\n",
      "                              'precision': 0.0,\n",
      "                              'recall': 0.0,\n",
      "                              'support': 2584},\n",
      "                      '3.0': {'f1-score': 0.0,\n",
      "                              'precision': 0.0,\n",
      "                              'recall': 0.0,\n",
      "                              'support': 4339},\n",
      "                      '4.0': {'f1-score': 0.0008053799379857448,\n",
      "                              'precision': 0.4166666666666667,\n",
      "                              'recall': 0.0004030795275907937,\n",
      "                              'support': 24809},\n",
      "                      '5.0': {'f1-score': 0.049634913265521455,\n",
      "                              'precision': 0.2948846539618857,\n",
      "                              'recall': 0.027098022950366375,\n",
      "                              'support': 21699},\n",
      "                      '6.0': {'f1-score': 0.3003645772080442,\n",
      "                              'precision': 0.48904718137254904,\n",
      "                              'recall': 0.2167419124885434,\n",
      "                              'support': 29459},\n",
      "                      'accuracy': 0.7182070281076788,\n",
      "                      'confusion_matrix': array([[204613,      0,      0,      0,      1,    457,   3141],\n",
      "       [  3371,      0,      0,      0,      2,     22,    120],\n",
      "       [  2441,      0,      0,      0,      0,     26,    117],\n",
      "       [  4070,      0,      0,      0,      1,     39,    229],\n",
      "       [ 23031,      0,      0,      0,     10,    374,   1394],\n",
      "       [ 19434,      0,      0,      0,      7,    588,   1670],\n",
      "       [ 22583,      0,      0,      0,      3,    488,   6385]]),\n",
      "                      'macro avg': {'f1-score': 0.16997199400975202,\n",
      "                                    'precision': 0.27607912457367606,\n",
      "                                    'recall': 0.17527967828957644,\n",
      "                                    'support': 294617},\n",
      "                      'weighted avg': {'f1-score': 0.6266954275312738,\n",
      "                                       'precision': 0.6229936421088823,\n",
      "                                       'recall': 0.7182070281076788,\n",
      "                                       'support': 294617}}},\n",
      " 'validation': {'report': {'0.0': {'f1-score': 0.838747321701867,\n",
      "                                   'precision': 0.7314481147814481,\n",
      "                                   'recall': 0.9829387498879024,\n",
      "                                   'support': 89208},\n",
      "                           '1.0': {'f1-score': 0.0,\n",
      "                                   'precision': 0.0,\n",
      "                                   'recall': 0.0,\n",
      "                                   'support': 1554},\n",
      "                           '2.0': {'f1-score': 0.0,\n",
      "                                   'precision': 0.0,\n",
      "                                   'recall': 0.0,\n",
      "                                   'support': 1100},\n",
      "                           '3.0': {'f1-score': 0.0,\n",
      "                                   'precision': 0.0,\n",
      "                                   'recall': 0.0,\n",
      "                                   'support': 1794},\n",
      "                           '4.0': {'f1-score': 0.0009279020135473694,\n",
      "                                   'precision': 0.23809523809523808,\n",
      "                                   'recall': 0.00046485682409817776,\n",
      "                                   'support': 10756},\n",
      "                           '5.0': {'f1-score': 0.04959653611493801,\n",
      "                                   'precision': 0.28865979381443296,\n",
      "                                   'recall': 0.027128862094951016,\n",
      "                                   'support': 9289},\n",
      "                           '6.0': {'f1-score': 0.29509831071725284,\n",
      "                                   'precision': 0.48515753050446186,\n",
      "                                   'recall': 0.21203438395415472,\n",
      "                                   'support': 12564},\n",
      "                           'accuracy': 0.7175939492337544,\n",
      "                           'confusion_matrix': array([[87686,     0,     0,     0,     5,   201,  1316],\n",
      "       [ 1490,     0,     0,     0,     1,    12,    51],\n",
      "       [ 1033,     0,     0,     0,     0,     6,    61],\n",
      "       [ 1702,     0,     0,     0,     0,    17,    75],\n",
      "       [ 9989,     0,     0,     0,     5,   168,   594],\n",
      "       [ 8304,     0,     0,     0,     3,   252,   730],\n",
      "       [ 9676,     0,     0,     0,     7,   217,  2664]]),\n",
      "                           'macro avg': {'f1-score': 0.16919572436394362,\n",
      "                                         'precision': 0.24905152531365443,\n",
      "                                         'recall': 0.17465240753730088,\n",
      "                                         'support': 126265},\n",
      "                           'weighted avg': {'f1-score': 0.6256782876352204,\n",
      "                                            'precision': 0.6065723347117263,\n",
      "                                            'recall': 0.7175939492337544,\n",
      "                                            'support': 126265}}}}\n"
     ]
    },
    {
     "name": "stderr",
     "output_type": "stream",
     "text": [
      "/home/tim/Development/OCPPM/.env/lib/python3.9/site-packages/sklearn/metrics/_classification.py:1308: UndefinedMetricWarning: Precision and F-score are ill-defined and being set to 0.0 in labels with no predicted samples. Use `zero_division` parameter to control this behavior.\n",
      "  _warn_prf(average, modifier, msg_start, len(result))\n",
      "/home/tim/Development/OCPPM/.env/lib/python3.9/site-packages/sklearn/metrics/_classification.py:1308: UndefinedMetricWarning: Precision and F-score are ill-defined and being set to 0.0 in labels with no predicted samples. Use `zero_division` parameter to control this behavior.\n",
      "  _warn_prf(average, modifier, msg_start, len(result))\n",
      "/home/tim/Development/OCPPM/.env/lib/python3.9/site-packages/sklearn/metrics/_classification.py:1308: UndefinedMetricWarning: Precision and F-score are ill-defined and being set to 0.0 in labels with no predicted samples. Use `zero_division` parameter to control this behavior.\n",
      "  _warn_prf(average, modifier, msg_start, len(result))\n"
     ]
    }
   ],
   "source": [
    "# Run model evaluation, TODO: store this somewhere (in JSON)\n",
    "eval_train = evaluation_utils.get_evaluation(\n",
    "    y_train, y_train_preds, classification=True\n",
    ")\n",
    "eval_valid = evaluation_utils.get_evaluation(\n",
    "    y_valid, y_valid_preds, classification=True\n",
    ")\n",
    "experiment_settings = {\"experiment_settings\": params}\n",
    "evaluation_report = {\"train\": eval_train, \"validation\": eval_valid}\n",
    "pprint.pprint(evaluation_report)"
   ]
  }
 ],
 "metadata": {
  "kernelspec": {
   "display_name": ".env",
   "language": "python",
   "name": "python3"
  },
  "language_info": {
   "codemirror_mode": {
    "name": "ipython",
    "version": 3
   },
   "file_extension": ".py",
   "mimetype": "text/x-python",
   "name": "python",
   "nbconvert_exporter": "python",
   "pygments_lexer": "ipython3",
   "version": "3.9.17"
  },
  "orig_nbformat": 4
 },
 "nbformat": 4,
 "nbformat_minor": 2
}
