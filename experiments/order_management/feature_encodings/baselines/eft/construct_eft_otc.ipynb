{
 "cells": [
  {
   "cell_type": "code",
   "execution_count": 1,
   "metadata": {},
   "outputs": [],
   "source": [
    "import os\n",
    "os.chdir(\"/home/tim/Development/OCPPM/\")\n",
    "from typing import Any, Callable\n",
    "import pickle\n",
    "import re\n",
    "\n",
    "# Object centric process mining\n",
    "import ocpa.objects.log.importer.ocel.factory as ocel_import_factory\n",
    "from ocpa.algo.predictive_monitoring.obj import Feature_Storage\n",
    "from ocpa.objects.log.ocel import OCEL\n",
    "import ocpa.algo.predictive_monitoring.factory as feature_factory\n",
    "from ocpa.algo.predictive_monitoring import tabular\n",
    "import ocpa.objects.log.importer.csv.factory as csv_import_factory\n",
    "\n",
    "from sklearn.preprocessing import StandardScaler"
   ]
  },
  {
   "cell_type": "code",
   "execution_count": 4,
   "metadata": {},
   "outputs": [],
   "source": [
    "# event_attributes = [\"ea2\", \"ea4\", \"resource_ce\", \"resource_multi\"]\n",
    "feature_storage_file = (\n",
    "    \"data/CS/feature_encodings/EFG/efg/raw/CS_split_[C2_P2_P3_O3_eas].fs\"\n",
    ")\n",
    "eft_out_file = \"data/CS/feature_encodings/baselines/EFT/eft.csv\""
   ]
  },
  {
   "cell_type": "code",
   "execution_count": 5,
   "metadata": {},
   "outputs": [],
   "source": [
    "with open(feature_storage_file, \"rb\") as bin:\n",
    "    feature_storage: Feature_Storage = pickle.load(bin)"
   ]
  },
  {
   "cell_type": "code",
   "execution_count": null,
   "metadata": {},
   "outputs": [],
   "source": [
    "eft = tabular.construct_table(feature_storage)"
   ]
  },
  {
   "cell_type": "code",
   "execution_count": null,
   "metadata": {},
   "outputs": [],
   "source": [
    "# rename columns that contain JSON special characters (as they are not supported by LightGBM)\n",
    "eft = eft.rename(columns=lambda col_name: re.sub(\"[^A-Za-z0-9_]+\", \"\", str(col_name)))\n",
    "eft.to_csv(eft_out_file, sep=\";\", index=False)"
   ]
  }
 ],
 "metadata": {
  "kernelspec": {
   "display_name": ".env",
   "language": "python",
   "name": "python3"
  },
  "language_info": {
   "codemirror_mode": {
    "name": "ipython",
    "version": 3
   },
   "file_extension": ".py",
   "mimetype": "text/x-python",
   "name": "python",
   "nbconvert_exporter": "python",
   "pygments_lexer": "ipython3",
   "version": "3.9.17"
  },
  "orig_nbformat": 4
 },
 "nbformat": 4,
 "nbformat_minor": 2
}
