{
 "cells": [
  {
   "cell_type": "code",
   "execution_count": 1,
   "metadata": {},
   "outputs": [
    {
     "name": "stdout",
     "output_type": "stream",
     "text": [
      "/home/tim/Development/OCPPM\n"
     ]
    }
   ],
   "source": [
    "import os\n",
    "\n",
    "go_up_n_directories = lambda path, n: os.path.abspath(\n",
    "    os.path.join(*([os.path.dirname(path)] + [\"..\"] * n))\n",
    ")\n",
    "os.chdir(go_up_n_directories(os.getcwd(), 4))  # run once (otherwise restart kernel)\n",
    "print(os.getcwd())"
   ]
  },
  {
   "cell_type": "code",
   "execution_count": 2,
   "metadata": {},
   "outputs": [],
   "source": [
    "# Python natives\n",
    "import lightgbm as lgb\n",
    "import pprint\n",
    "import numpy as np\n",
    "from ocpa.algo.predictive_monitoring.obj import Feature_Storage\n",
    "from ocpa.algo.predictive_monitoring import tabular\n",
    "import pickle\n",
    "import pandas as pd\n",
    "import time\n",
    "from datetime import datetime\n",
    "import re\n",
    "import sklearn.metrics as metrics\n",
    "import utilities.evaluation_utils as evaluation_utils"
   ]
  },
  {
   "cell_type": "code",
   "execution_count": 14,
   "metadata": {},
   "outputs": [],
   "source": [
    "feature_storage_file = (\n",
    "    \"data/OTC/feature_encodings/EFG/efg/raw/OTC_split_[C2_P2_P3_O3_eas].fs\"\n",
    ")\n",
    "target = \"event_remaining_time\""
   ]
  },
  {
   "cell_type": "code",
   "execution_count": 9,
   "metadata": {},
   "outputs": [],
   "source": [
    "with open(feature_storage_file, \"rb\") as bin:\n",
    "    feature_storage: Feature_Storage = pickle.load(bin)"
   ]
  },
  {
   "cell_type": "code",
   "execution_count": null,
   "metadata": {},
   "outputs": [],
   "source": [
    "train_eft_in_file = \"data/OTC/feature_encodings/baselines/EFT/eft_train.csv\"\n",
    "test_eft_in_file = \"data/OTC/feature_encodings/baselines/EFT/eft_test.csv\""
   ]
  },
  {
   "cell_type": "code",
   "execution_count": 11,
   "metadata": {},
   "outputs": [],
   "source": [
    "# flatten EFG with same train/test split\n",
    "eft_train = tabular.construct_table(\n",
    "    feature_storage, feature_storage.train_indices + feature_storage.validation_indices\n",
    ")\n",
    "eft_test = tabular.construct_table(feature_storage, feature_storage.test_indices)\n",
    "\n",
    "# rename columns that contain JSON special characters (as they are not supported by LightGBM)\n",
    "rename_columns = lambda col_name: re.sub(\"[^A-Za-z0-9_]+\", \"\", str(col_name))\n",
    "eft_train = eft_train.rename(columns=rename_columns)\n",
    "eft_test = eft_test.rename(columns=rename_columns)"
   ]
  },
  {
   "cell_type": "code",
   "execution_count": 15,
   "metadata": {},
   "outputs": [],
   "source": [
    "# import dataset into LightGBM framework\n",
    "X_train, y_train = (\n",
    "    eft_train.drop(columns=[target]),\n",
    "    eft_train.loc[:, target],\n",
    ")\n",
    "X_valid, y_valid = (\n",
    "    eft_test.drop(columns=[target]),\n",
    "    eft_test.loc[:, target],\n",
    ")\n",
    "\n",
    "train_data = lgb.Dataset(\n",
    "    X_train,\n",
    "    label=y_train,\n",
    ")\n",
    "valid_data = lgb.Dataset(\n",
    "    X_valid,\n",
    "    label=y_valid,\n",
    ")"
   ]
  },
  {
   "cell_type": "code",
   "execution_count": 6,
   "metadata": {},
   "outputs": [
    {
     "name": "stderr",
     "output_type": "stream",
     "text": [
      "/home/tim/Development/OCPPM/.env/lib/python3.9/site-packages/lightgbm/engine.py:177: UserWarning: Found `num_boost_round` in params. Will use it instead of argument\n",
      "  _log_warning(f\"Found `{alias}` in params. Will use it instead of argument\")\n"
     ]
    },
    {
     "name": "stdout",
     "output_type": "stream",
     "text": [
      "[LightGBM] [Warning] Unknown parameter: stopping_rounds\n",
      "[LightGBM] [Warning] Unknown parameter: stopping_rounds\n",
      "[LightGBM] [Warning] Auto-choosing row-wise multi-threading, the overhead of testing was 0.189991 seconds.\n",
      "You can set `force_row_wise=true` to remove the overhead.\n",
      "And if memory is not enough, you can set `force_col_wise=true`.\n",
      "[LightGBM] [Info] Total Bins 1881\n",
      "[LightGBM] [Info] Number of data points in the train set: 402299, number of used features: 20\n",
      "[LightGBM] [Warning] Unknown parameter: stopping_rounds\n",
      "[LightGBM] [Info] Start training from score 0.005967\n",
      "Training until validation scores don't improve for 100 rounds\n",
      "Did not meet early stopping. Best iteration is:\n",
      "[94]\tvalid_0's l2: 0.606287\tvalid_0's l1: 0.603978\tvalid_0's mape: 0.52503\tvalid_0's rmse: 0.778645\n"
     ]
    }
   ],
   "source": [
    "params = {\n",
    "    \"objective\": \"regression\",\n",
    "    \"metric\": [\"mse\", \"mae\", \"mape\", \"rmse\"],\n",
    "    \"num_boost_round\": 100,\n",
    "    \"stopping_rounds\": 100,\n",
    "}\n",
    "\n",
    "start_train_time = datetime.now()\n",
    "bst = lgb.train(\n",
    "    params,\n",
    "    train_data,\n",
    "    valid_sets=[valid_data],\n",
    "    callbacks=[lgb.early_stopping(params[\"stopping_rounds\"])],\n",
    ")\n",
    "total_train_time = datetime.now() - start_train_time"
   ]
  },
  {
   "cell_type": "code",
   "execution_count": 10,
   "metadata": {},
   "outputs": [],
   "source": [
    "pred_start_time = time.time()\n",
    "y_train_preds = bst.predict(X_train)\n",
    "train_pred_time = time.time() - pred_start_time\n",
    "\n",
    "pred_start_time = time.time()\n",
    "y_valid_preds = bst.predict(X_valid)\n",
    "valid_pred_time = time.time() - pred_start_time"
   ]
  },
  {
   "cell_type": "code",
   "execution_count": 12,
   "metadata": {},
   "outputs": [
    {
     "name": "stdout",
     "output_type": "stream",
     "text": [
      "{'Train': {'report': {'MAE': 0.5498749211663642,\n",
      "                      'MAPE': 2.8504579895842856,\n",
      "                      'MSE': 0.5145465752313324,\n",
      "                      'R^2': 0.47655206910375114,\n",
      "                      'prediction_time': 0.655620813369751,\n",
      "                      'training_time': datetime.timedelta(seconds=32, microseconds=156053)}},\n",
      " 'Validation': {'report': {'MAE': 0.6039783080364023,\n",
      "                           'MAPE': 2.820573074678381,\n",
      "                           'MSE': 0.6062872931855923,\n",
      "                           'R^2': 0.21476353684246918,\n",
      "                           'prediction_time': 0.12030315399169922}}}\n"
     ]
    }
   ],
   "source": [
    "eval_train = evaluation_utils.get_evaluation(\n",
    "    y_train, y_train_preds, regression=True, time=train_pred_time\n",
    ")\n",
    "eval_train[\"report\"][\"training_time\"] = total_train_time\n",
    "eval_valid = evaluation_utils.get_evaluation(\n",
    "    y_valid, y_valid_preds, regression=True, time=valid_pred_time\n",
    ")\n",
    "\n",
    "experiment_settings = {\"experiment_settings\": params}\n",
    "evaluation_report = {\"Train\": eval_train, \"Validation\": eval_valid}\n",
    "\n",
    "pprint.pprint(evaluation_report)"
   ]
  }
 ],
 "metadata": {
  "kernelspec": {
   "display_name": ".env",
   "language": "python",
   "name": "python3"
  },
  "language_info": {
   "codemirror_mode": {
    "name": "ipython",
    "version": 3
   },
   "file_extension": ".py",
   "mimetype": "text/x-python",
   "name": "python",
   "nbconvert_exporter": "python",
   "pygments_lexer": "ipython3",
   "version": "3.9.17"
  },
  "orig_nbformat": 4
 },
 "nbformat": 4,
 "nbformat_minor": 2
}
