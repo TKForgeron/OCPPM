{
 "cells": [
  {
   "cell_type": "code",
   "execution_count": 1,
   "metadata": {},
   "outputs": [
    {
     "name": "stdout",
     "output_type": "stream",
     "text": [
      "/home/tim/Development/OCPPM\n"
     ]
    }
   ],
   "source": [
    "import os\n",
    "\n",
    "go_up_n_directories = lambda path, n: os.path.abspath(\n",
    "    os.path.join(*([os.path.dirname(path)] + [\"..\"] * n))\n",
    ")\n",
    "os.chdir(go_up_n_directories(os.getcwd(), 3))  # run once (otherwise restart kernel)\n",
    "print(os.getcwd())"
   ]
  },
  {
   "cell_type": "code",
   "execution_count": 2,
   "metadata": {},
   "outputs": [],
   "source": [
    "import logging\n",
    "import pickle\n",
    "from typing import Any\n",
    "import os\n",
    "import utilities.hetero_data_utils as hetero_data_utils\n",
    "import numpy as np\n",
    "import pandas as pd\n",
    "import pm4py\n",
    "import pm4py.ocel\n",
    "import pm4py.read\n",
    "import torch\n",
    "from pm4py.algo.transformation.ocel.features.objects import (\n",
    "    algorithm as object_feature_factory,\n",
    ")\n",
    "from pm4py.algo.transformation.ocel.features.objects import (\n",
    "    object_lifecycle_duration,\n",
    "    object_num_attributes,\n",
    "    object_str_attributes,\n",
    ")\n",
    "from sklearn.preprocessing import StandardScaler\n",
    "from torch_geometric.data import HeteroData\n",
    "\n",
    "# Configuration variables\n",
    "ocel_in_file = \"data/OTC/source/OTC.jsonocel\"\n",
    "ofg_out_file = \"data/OTC/feature_encodings/OFG/ofg/raw/OTC_OFG.pkl\"\n",
    "objects_data_dict_out_file = \"data/OTC/feature_encodings/HOEG/hoeg/raw/otc_ofg+oi_graph+item_node_map+order_node_map+packages_node_map.pkl\"\n",
    "\n",
    "object_types = [\"item\", \"order\", \"package\"]\n",
    "object_attributes = {\n",
    "    \"str\": [],\n",
    "    \"num\": [\n",
    "        \"encoded_oid\",\n",
    "    ],\n",
    "}"
   ]
  },
  {
   "cell_type": "code",
   "execution_count": 3,
   "metadata": {},
   "outputs": [],
   "source": [
    "# load OCEL\n",
    "ocel = pm4py.read.read_ocel(ocel_in_file)\n",
    "ocel.objects[\"ocel:oid\"] = ocel.objects[\"ocel:oid\"] + \"-\" + ocel.objects[\"ocel:type\"]\n",
    "ocel.relations[\"ocel:oid\"] = (\n",
    "    ocel.relations[\"ocel:oid\"] + \"-\" + ocel.relations[\"ocel:type\"]\n",
    ")\n",
    "ocel.objects[\"encoded_oid\"] = 1"
   ]
  },
  {
   "cell_type": "code",
   "execution_count": 4,
   "metadata": {},
   "outputs": [],
   "source": [
    "# record the index as a column so we can later link objects (i.a. with events)\n",
    "ocel.objects = ocel.objects.reset_index().rename(columns={\"index\": \"object_index\"})\n",
    "object_feature_factory_params = {\n",
    "    \"str_obj_attr\": [\"ocel:type\"],  # include ocel:oid for reference\n",
    "    \"num_obj_attr\": [\"object_index\"]  # include object_index for reference\n",
    "    + object_attributes[\"num\"],\n",
    "}\n",
    "# create object-level feature matrix\n",
    "factory_data, factory_feature_names = object_feature_factory.apply(\n",
    "    ocel,\n",
    "    parameters=object_feature_factory_params,\n",
    ")"
   ]
  },
  {
   "cell_type": "code",
   "execution_count": 5,
   "metadata": {},
   "outputs": [],
   "source": [
    "# make pd.DataFrame from feature matrix\n",
    "factory_feature_prefix = \"@@\"\n",
    "factory_num_oa_prefix = f\"{factory_feature_prefix}event_num_\"\n",
    "factory_str_oa_prefix = f\"{factory_feature_prefix}object_attr_value_\"\n",
    "target_feature_name = f\"{factory_feature_prefix}object_lifecycle_duration\"\n",
    "feature_names = (\n",
    "    {\n",
    "        f\"{factory_num_oa_prefix}{num_feature}\"\n",
    "        for num_feature in object_feature_factory_params[\"num_obj_attr\"]\n",
    "    }\n",
    "    | {\n",
    "        f\"{factory_str_oa_prefix}ocel:type_{object_type}\"\n",
    "        for object_type in object_types\n",
    "    }\n",
    "    | {target_feature_name}\n",
    ")"
   ]
  },
  {
   "cell_type": "code",
   "execution_count": 6,
   "metadata": {},
   "outputs": [],
   "source": [
    "object_features = pd.DataFrame(factory_data, columns=factory_feature_names)\n",
    "object_features = object_features[list(feature_names & set(factory_feature_names))]"
   ]
  },
  {
   "cell_type": "code",
   "execution_count": 7,
   "metadata": {},
   "outputs": [],
   "source": [
    "# NORMALIZE \"@@object_lifecycle_duration\" (JUST FOR TESTING)\n",
    "object_features.loc[:, target_feature_name] = StandardScaler().fit_transform(\n",
    "    object_features.loc[\n",
    "        :, [f\"{factory_num_oa_prefix}object_index\", target_feature_name]\n",
    "    ]\n",
    ")[:, 1]"
   ]
  },
  {
   "cell_type": "code",
   "execution_count": 8,
   "metadata": {},
   "outputs": [],
   "source": [
    "# retrieve the mapper from ocel object id to the object index in the pd.DataFrame (e.g. '880002':1)\n",
    "oid_object_index_map = hetero_data_utils.get_index_map(\n",
    "    ocel.objects, \"ocel:oid\", \"object_index\"\n",
    ")"
   ]
  },
  {
   "cell_type": "code",
   "execution_count": 9,
   "metadata": {},
   "outputs": [],
   "source": [
    "# reset column name from object_index that was passed to the object-level feature matrix factory\n",
    "object_features = object_features.rename(\n",
    "    columns={f\"{factory_num_oa_prefix}object_index\": \"object_index\"}\n",
    ")\n",
    "object_features[\"object_index\"] = object_features[\"object_index\"].astype(int)\n",
    "\n",
    "\n",
    "# Split object feature matrix into one feature matrix per object type\n",
    "def get_object_type_matrices(\n",
    "    object_features: pd.DataFrame, ots: list[str]\n",
    ") -> tuple[list[pd.DataFrame], list[dict]]:\n",
    "    \"\"\"Note this function's impurity: `object_attributes` is external.\"\"\"\n",
    "    _flatten = lambda l: [item for sublist in l for item in sublist]\n",
    "    object_type_matrices = []\n",
    "    object_index_ot_index_maps = []\n",
    "    for ot in ots:\n",
    "        # split object feature matrix into a feature matrix per object type\n",
    "        ot_features = object_features[\n",
    "            object_features[f\"{factory_str_oa_prefix}ocel:type_{ot}\"] == 1\n",
    "        ]\n",
    "        # Subset features to only include object attribute features, excluding object interaction features\n",
    "        ot_attribute_feature_idxs = _flatten(\n",
    "            [\n",
    "                np.where(ot_features.columns.str.contains(attr_name))[0]\n",
    "                for attr_name in object_attributes[\"str\"]\n",
    "                + object_attributes[\"num\"]\n",
    "                + [\"object_index\", \"object_lifecycle_duration\"]\n",
    "            ]\n",
    "        )\n",
    "        # subset each object type's features, with correct columns\n",
    "        ot_features = ot_features.iloc[:, ot_attribute_feature_idxs]\n",
    "        # create object_index to specific ot_index mapper\n",
    "        ot_features = hetero_data_utils.add_object_type_index(ot_features, ot)\n",
    "        object_type_matrices.append(ot_features)\n",
    "        object_index_ot_index_map = hetero_data_utils.get_index_map(\n",
    "            ot_features, \"object_index\", f\"{ot}_index\"\n",
    "        )\n",
    "        object_index_ot_index_maps.append(object_index_ot_index_map)\n",
    "    return object_type_matrices, object_index_ot_index_maps\n",
    "\n",
    "\n",
    "object_type_matrices, object_index_ot_index_maps = get_object_type_matrices(\n",
    "    object_features, object_types\n",
    ")"
   ]
  },
  {
   "cell_type": "code",
   "execution_count": 10,
   "metadata": {},
   "outputs": [],
   "source": [
    "oi_graph = pm4py.ocel.discover_objects_graph(ocel, graph_type=\"object_interaction\")"
   ]
  },
  {
   "cell_type": "code",
   "execution_count": 11,
   "metadata": {},
   "outputs": [],
   "source": [
    "# define object relation types (edge types)\n",
    "otc_edge_types = [\n",
    "    (\"orders\", \"orders\"),\n",
    "    (\"orders\", \"item\"),\n",
    "    (\"orders\", \"packages\"),\n",
    "    (\"item\", \"item\"),\n",
    "    (\"item\", \"packages\"),\n",
    "    (\"packages\", \"packages\"),\n",
    "]\n",
    "# assign edge tuples to correct edge types\n",
    "otc_edges_per_edge_type = hetero_data_utils.split_on_edge_types(\n",
    "    list(oi_graph), otc_edge_types, to_undirected=True\n",
    ")"
   ]
  },
  {
   "cell_type": "code",
   "execution_count": 12,
   "metadata": {},
   "outputs": [],
   "source": [
    "otc_edge_types = list(\n",
    "    otc_edges_per_edge_type.keys()\n",
    ")  # reset the predefined edge_types to the edge_types found in the data\n",
    "ot_to_node_maps = []\n",
    "for ot, object_index_ot_index_map in zip(object_types, object_index_ot_index_maps):\n",
    "    # create ocel object index to specific object type node index (for HeteroData) mapper\n",
    "    ot_to_node_map = hetero_data_utils.object_map_to_node_map(\n",
    "        oid_object_index_map, object_index_ot_index_map, ot\n",
    "    )\n",
    "    ot_to_node_maps.append(ot_to_node_map)\n",
    "    # rename edges to have correct edge_index for HeteroData\n",
    "    otc_edges_per_edge_type = hetero_data_utils.rename_edges_in_split_dict(\n",
    "        otc_edges_per_edge_type, ot_to_node_map\n",
    "    )  # THIS ONE MIGHT NOT BE CORRECTLY UPDATED"
   ]
  },
  {
   "cell_type": "code",
   "execution_count": 13,
   "metadata": {},
   "outputs": [],
   "source": [
    "# define heterogeneous graph\n",
    "hetero_data = HeteroData()\n",
    "for ot, object_type_matrix in zip(object_types, object_type_matrices):\n",
    "    # define target variable for both \"krs\" type and \"krv\" type\n",
    "    hetero_data[ot].y = torch.tensor(\n",
    "        object_type_matrix[\"@@object_lifecycle_duration\"].values\n",
    "    )\n",
    "    # attach node feature vectors for both \"krs\" type and \"krv\" type\n",
    "    hetero_data[ot].x = torch.tensor(\n",
    "        object_type_matrix.drop(\n",
    "            [f\"{ot}_index\", \"object_index\", \"@@object_lifecycle_duration\"], axis=1\n",
    "        ).values\n",
    "    )"
   ]
  },
  {
   "cell_type": "code",
   "execution_count": 14,
   "metadata": {},
   "outputs": [],
   "source": [
    "for edge_type in otc_edge_types:\n",
    "    hetero_data[\n",
    "        edge_type[0], \"interacts\", edge_type[1]\n",
    "    ].edge_index = hetero_data_utils.to_torch_coo_format(\n",
    "        otc_edges_per_edge_type[edge_type]\n",
    "    )"
   ]
  },
  {
   "cell_type": "code",
   "execution_count": 15,
   "metadata": {},
   "outputs": [],
   "source": [
    "# SPECIFIC TO THIS DATASET:\n",
    "# remove object type name from object IDs\n",
    "renamed_oi_graph = set()\n",
    "for edge in oi_graph:\n",
    "    renamed_edge = edge[0].split(\"-\")[0], edge[1].split(\"-\")[0]\n",
    "    renamed_oi_graph.add(renamed_edge)\n",
    "renamed_ot_to_node_maps = [\n",
    "    {oid_key.split(\"-\")[0]: node_id for oid_key, node_id in ot_to_node_map.items()}\n",
    "    for ot_to_node_map in ot_to_node_maps\n",
    "]"
   ]
  },
  {
   "cell_type": "code",
   "execution_count": 16,
   "metadata": {},
   "outputs": [],
   "source": [
    "objects_data = {\n",
    "    \"ofg\": hetero_data,\n",
    "    \"objects_interaction_graph\": renamed_oi_graph,\n",
    "    \"object_feature_vector_map\": {\n",
    "        ot: ot_to_node_map\n",
    "        for ot, ot_to_node_map in zip(object_types, renamed_ot_to_node_maps)\n",
    "    },\n",
    "    \"object_feature_matrices\": {\n",
    "        ot: ot_matrix for ot, ot_matrix in zip(object_types, object_type_matrices)\n",
    "    },\n",
    "}\n",
    "\n",
    "# save HeteroData object (for OFG encoding)\n",
    "with open(ofg_out_file, \"wb\") as binary_file:\n",
    "    pickle.dump(hetero_data, binary_file)\n",
    "# save object interaction graph information (for HOEG encoding)\n",
    "with open(objects_data_dict_out_file, \"wb\") as binary_file:\n",
    "    pickle.dump(objects_data, binary_file)"
   ]
  }
 ],
 "metadata": {
  "kernelspec": {
   "display_name": ".env",
   "language": "python",
   "name": "python3"
  },
  "language_info": {
   "codemirror_mode": {
    "name": "ipython",
    "version": 3
   },
   "file_extension": ".py",
   "mimetype": "text/x-python",
   "name": "python",
   "nbconvert_exporter": "python",
   "pygments_lexer": "ipython3",
   "version": "3.9.17"
  },
  "orig_nbformat": 4
 },
 "nbformat": 4,
 "nbformat_minor": 2
}
