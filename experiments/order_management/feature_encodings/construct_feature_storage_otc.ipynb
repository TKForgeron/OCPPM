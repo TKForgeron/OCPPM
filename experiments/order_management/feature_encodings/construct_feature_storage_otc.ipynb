{
 "cells": [
  {
   "cell_type": "code",
   "execution_count": 1,
   "metadata": {},
   "outputs": [
    {
     "data": {
      "text/plain": [
       "'/home/tim/Development/OCPPM'"
      ]
     },
     "execution_count": 1,
     "metadata": {},
     "output_type": "execute_result"
    }
   ],
   "source": [
    "import os\n",
    "\n",
    "go_up_n_directories = lambda path, n: os.path.abspath(\n",
    "    os.path.join(*([os.path.dirname(path)] + [\"..\"] * n))\n",
    ")\n",
    "os.chdir(go_up_n_directories(os.getcwd(), 2))  # run once (otherwise restart kernel)\n",
    "os.getcwd()"
   ]
  },
  {
   "cell_type": "code",
   "execution_count": 2,
   "metadata": {},
   "outputs": [],
   "source": [
    "from typing import Any, Callable\n",
    "import pickle\n",
    "import re\n",
    "import string\n",
    "from sklearn.preprocessing import StandardScaler\n",
    "import category_encoders as ce\n",
    "\n",
    "# Object centric process mining\n",
    "import ocpa.objects.log.importer.ocel.factory as ocel_import_factory\n",
    "from ocpa.algo.predictive_monitoring.obj import Feature_Storage\n",
    "from ocpa.objects.log.ocel import OCEL\n",
    "import ocpa.algo.predictive_monitoring.factory as feature_factory\n",
    "from ocpa.algo.predictive_monitoring import tabular\n",
    "import ocpa.objects.log.importer.csv.factory as csv_import_factory"
   ]
  },
  {
   "cell_type": "code",
   "execution_count": 3,
   "metadata": {},
   "outputs": [],
   "source": [
    "objects_metadata = {\n",
    "    \"item\": [\"encoded_oid\"],\n",
    "    \"order\": [\"encoded_oid\"],\n",
    "    \"package\": [\"encoded_oid\"],\n",
    "}\n",
    "event_attributes = [\"weight\", \"price\", \"age\", \"bankaccount\"]\n",
    "ocel_in_file = \"data/OTC/source/OTC.jsonocel\"\n",
    "feature_storage_intermediate_file = (\n",
    "    \"data/OTC/feature_encodings/EFG/efg/raw/OTC_[C2_P2_P3_O3_eas].fs\"\n",
    ")\n",
    "feature_storage_out_file = (\n",
    "    \"data/OTC/feature_encodings/EFG/efg/raw/OTC_split_[C2_P2_P3_O3_eas].fs\"\n",
    ")\n",
    "CACHE = True"
   ]
  },
  {
   "cell_type": "code",
   "execution_count": 4,
   "metadata": {},
   "outputs": [],
   "source": [
    "ocel = ocel_import_factory.apply(\n",
    "    ocel_in_file,\n",
    "    parameters={\"execution_extraction\": \"leading_type\", \"leading_type\": \"item\"},\n",
    ")"
   ]
  },
  {
   "cell_type": "code",
   "execution_count": 5,
   "metadata": {},
   "outputs": [],
   "source": [
    "all_acts = ocel.log.log[\"event_activity\"].unique()\n",
    "event_level_features = (\n",
    "    {\n",
    "        f\"C2{char}\": (feature_factory.EVENT_PRECEDING_ACTIVITIES, (act,))\n",
    "        for act, char in zip(all_acts, string.ascii_lowercase)\n",
    "    }\n",
    "    | {\n",
    "        \"P2\": (feature_factory.EVENT_ELAPSED_TIME, ()),\n",
    "        \"P3\": (\n",
    "            feature_factory.EVENT_REMAINING_TIME,\n",
    "            (),\n",
    "        ),\n",
    "        # \"P4\": (feature_factory.EVENT_FLOW_TIME, ()),\n",
    "        \"P5\": (feature_factory.EVENT_SYNCHRONIZATION_TIME, ()),\n",
    "        # \"P6\": (feature_factory.EVENT_SOJOURN_TIME, ()),\n",
    "    }\n",
    "    | {\n",
    "        f\"O3{char}\": (feature_factory.EVENT_PREVIOUS_TYPE_COUNT, (ot,))\n",
    "        for ot, char in zip(objects_metadata, string.ascii_lowercase)\n",
    "    }\n",
    ")"
   ]
  },
  {
   "cell_type": "code",
   "execution_count": 6,
   "metadata": {},
   "outputs": [
    {
     "name": "stdout",
     "output_type": "stream",
     "text": [
      "Applying feature extraction to process executions\n"
     ]
    },
    {
     "name": "stderr",
     "output_type": "stream",
     "text": [
      "100%|██████████| 8159/8159 [1:17:03<00:00,  1.76it/s]  \n"
     ]
    }
   ],
   "source": [
    "if CACHE:\n",
    "    with open(feature_storage_intermediate_file, \"rb\") as bin:\n",
    "        feature_storage = pickle.load(bin)\n",
    "else:\n",
    "    feature_storage = feature_factory.apply(\n",
    "        ocel,\n",
    "        event_based_features=list(event_level_features.values()),\n",
    "        event_attributes=[f\"event_{ea}\" for ea in event_attributes],\n",
    "        # workers=2,\n",
    "    )  # takes much too long when 'customers' is an object type\n",
    "    # 10448 minutes (7.25 days), 0% progress\n",
    "    # Final processing time: 2:03:05 H:m:s\n",
    "\n",
    "    with open(feature_storage_intermediate_file, \"wb\") as bin:\n",
    "        pickle.dump(feature_storage, bin)"
   ]
  },
  {
   "cell_type": "code",
   "execution_count": 7,
   "metadata": {},
   "outputs": [
    {
     "name": "stderr",
     "output_type": "stream",
     "text": [
      "/home/tim/Development/OCPPM/.env/lib/python3.9/site-packages/sklearn/utils/validation.py:1673: FutureWarning: Feature names only support names that are all strings. Got feature names with dtypes: ['str', 'tuple']. An error will be raised in 1.2.\n",
      "  warnings.warn(\n",
      "/home/tim/Development/OCPPM/.env/lib/python3.9/site-packages/sklearn/utils/validation.py:1673: FutureWarning: Feature names only support names that are all strings. Got feature names with dtypes: ['str', 'tuple']. An error will be raised in 1.2.\n",
      "  warnings.warn(\n",
      "/home/tim/Development/OCPPM/.env/lib/python3.9/site-packages/sklearn/utils/validation.py:1673: FutureWarning: Feature names only support names that are all strings. Got feature names with dtypes: ['str', 'tuple']. An error will be raised in 1.2.\n",
      "  warnings.warn(\n",
      "/home/tim/Development/OCPPM/.env/lib/python3.9/site-packages/sklearn/utils/validation.py:1673: FutureWarning: Feature names only support names that are all strings. Got feature names with dtypes: ['str', 'tuple']. An error will be raised in 1.2.\n",
      "  warnings.warn(\n"
     ]
    }
   ],
   "source": [
    "feature_storage.extract_normalized_train_test_split(\n",
    "    scaler=StandardScaler,\n",
    "    scaling_exempt_features=[],\n",
    "    # category_encoder = ce.CountEncoder,\n",
    "    test_size=0.15,\n",
    "    validation_size=0.15,\n",
    "    state=42,\n",
    ")"
   ]
  },
  {
   "cell_type": "code",
   "execution_count": 8,
   "metadata": {},
   "outputs": [],
   "source": [
    "with open(feature_storage_out_file, \"wb\") as bin:\n",
    "    pickle.dump(feature_storage, bin)"
   ]
  }
 ],
 "metadata": {
  "kernelspec": {
   "display_name": ".env",
   "language": "python",
   "name": "python3"
  },
  "language_info": {
   "codemirror_mode": {
    "name": "ipython",
    "version": 3
   },
   "file_extension": ".py",
   "mimetype": "text/x-python",
   "name": "python",
   "nbconvert_exporter": "python",
   "pygments_lexer": "ipython3",
   "version": "3.9.17"
  },
  "orig_nbformat": 4
 },
 "nbformat": 4,
 "nbformat_minor": 2
}
