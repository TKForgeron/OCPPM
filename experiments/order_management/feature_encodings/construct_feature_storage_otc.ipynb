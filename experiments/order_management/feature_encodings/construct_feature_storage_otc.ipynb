{
 "cells": [
  {
   "cell_type": "code",
   "execution_count": null,
   "metadata": {},
   "outputs": [],
   "source": [
    "import os\n",
    "os.chdir(\"/home/tim/Development/OCPPM/\")\n",
    "from typing import Any, Callable\n",
    "import pickle\n",
    "import re\n",
    "import string\n",
    "from sklearn.preprocessing import StandardScaler\n",
    "\n",
    "# Object centric process mining\n",
    "import ocpa.objects.log.importer.ocel.factory as ocel_import_factory\n",
    "from ocpa.algo.predictive_monitoring.obj import Feature_Storage\n",
    "from ocpa.objects.log.ocel import OCEL\n",
    "import ocpa.algo.predictive_monitoring.factory as feature_factory\n",
    "from ocpa.algo.predictive_monitoring import tabular\n",
    "import ocpa.objects.log.importer.csv.factory as csv_import_factory"
   ]
  },
  {
   "cell_type": "code",
   "execution_count": null,
   "metadata": {},
   "outputs": [],
   "source": [
    "objects_metadata = {\n",
    "    \"customers\": [\"age\", \"bankaccount\"],\n",
    "    \"items\": [],\n",
    "    \"orders\": [],\n",
    "    \"packages\": [],\n",
    "    \"products\": [\"cost\", \"producer\"],\n",
    "}\n",
    "event_attributes = [\"weight\", \"price\"]\n",
    "ocel_in_file = \"data/OTC/source/running-example.jsonocel\"\n",
    "feature_storage_intermediate_file = \"data/OTC/feature_encodings/EFG/efg/raw/OTC_[P2_P3_O3_eas].fs\"\n",
    "feature_storage_out_file = \"data/OTC/feature_encodings/EFG/efg/raw/OTC_split_[P2_P3_O3_eas].fs\""
   ]
  },
  {
   "cell_type": "code",
   "execution_count": null,
   "metadata": {},
   "outputs": [],
   "source": [
    "ocel = ocel_import_factory.apply(ocel_in_file)"
   ]
  },
  {
   "cell_type": "code",
   "execution_count": null,
   "metadata": {},
   "outputs": [],
   "source": [
    "all_acts = ocel.log.log[\"event_activity\"].unique()\n",
    "event_level_features = (\n",
    "    {\n",
    "        f\"C2{char}\": (feature_factory.EVENT_PRECEDING_ACTIVITIES, (act,))\n",
    "        for act, char in zip(all_acts, string.ascii_lowercase)\n",
    "    }\n",
    "    | {\n",
    "        \"P2\": (feature_factory.EVENT_ELAPSED_TIME, ()),\n",
    "        \"P3\": (\n",
    "            feature_factory.EVENT_REMAINING_TIME,\n",
    "            (),\n",
    "        ),  # only use for target (but we use 'ea4' now)\n",
    "        # \"P4\": (feature_factory.EVENT_FLOW_TIME, ()),\n",
    "        \"P5\": (feature_factory.EVENT_SYNCHRONIZATION_TIME, ()),\n",
    "        # \"P6\": (feature_factory.EVENT_SOJOURN_TIME, ()),\n",
    "    }\n",
    "    | {\n",
    "        f\"O3{char}\": (feature_factory.EVENT_PREVIOUS_TYPE_COUNT, (ot,))\n",
    "        for ot, char in zip(objects_metadata, string.ascii_lowercase)\n",
    "    }\n",
    ")"
   ]
  },
  {
   "cell_type": "code",
   "execution_count": null,
   "metadata": {},
   "outputs": [],
   "source": [
    "feature_storage = feature_factory.apply(\n",
    "    ocel,\n",
    "    event_based_features=list(event_level_features.values()),\n",
    "    event_attributes=[f\"event_{ea}\" for ea in event_attributes],\n",
    "    workers=1\n",
    ")  # takes much too long when 'customers' is an object type"
   ]
  },
  {
   "cell_type": "code",
   "execution_count": null,
   "metadata": {},
   "outputs": [],
   "source": [
    "with open(feature_storage_intermediate_file, \"wb\") as bin:\n",
    "    pickle.dump(feature_storage, bin)"
   ]
  },
  {
   "cell_type": "code",
   "execution_count": null,
   "metadata": {},
   "outputs": [],
   "source": [
    "feature_storage.extract_normalized_train_test_split(\n",
    "    scaler=StandardScaler,\n",
    "    scaling_exempt_features=[],\n",
    "    test_size=0.3,\n",
    "    validation_size=0.2,\n",
    "    state=42,\n",
    ")"
   ]
  },
  {
   "cell_type": "code",
   "execution_count": null,
   "metadata": {},
   "outputs": [],
   "source": [
    "with open(feature_storage_out_file, \"wb\") as bin:\n",
    "    pickle.dump(feature_storage, bin)"
   ]
  }
 ],
 "metadata": {
  "kernelspec": {
   "display_name": ".env",
   "language": "python",
   "name": "python3"
  },
  "language_info": {
   "codemirror_mode": {
    "name": "ipython",
    "version": 3
   },
   "file_extension": ".py",
   "mimetype": "text/x-python",
   "name": "python",
   "nbconvert_exporter": "python",
   "pygments_lexer": "ipython3",
   "version": "3.9.17"
  },
  "orig_nbformat": 4
 },
 "nbformat": 4,
 "nbformat_minor": 2
}
