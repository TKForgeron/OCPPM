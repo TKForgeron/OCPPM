{
  "cells": [
    {
      "cell_type": "code",
      "execution_count": 1,
      "metadata": {},
      "outputs": [
        {
          "data": {
            "text/plain": [
              "'/home/tim/Development/OCPPM'"
            ]
          },
          "execution_count": 1,
          "metadata": {},
          "output_type": "execute_result"
        }
      ],
      "source": [
        "import os\n",
        "\n",
        "go_up_n_directories = lambda path, n: os.path.abspath(\n",
        "    os.path.join(*([os.path.dirname(path)] + [\"..\"] * n))\n",
        ")\n",
        "os.chdir(go_up_n_directories(os.getcwd(), 3))  # run once (otherwise restart kernel)\n",
        "os.getcwd()"
      ]
    },
    {
      "cell_type": "code",
      "execution_count": 2,
      "metadata": {},
      "outputs": [
        {
          "name": "stdout",
          "output_type": "stream",
          "text": [
            "CPU: Intel(R) Core(TM) i5-7500 CPU @ 3.40GHz (4x)\n",
            "Total CPU memory: 46.93GB\n",
            "Available CPU memory: 32.93GB\n",
            "GPU: NVIDIA GeForce GTX 960\n",
            "Total GPU memory: 4096.0MB\n",
            "Available GPU memory: 3632.0MB\n",
            "Platform: Linux-6.2.0-26-generic-x86_64-with-glibc2.35\n",
            "Torch version: 1.13.1+cu117\n",
            "Cuda available: True\n",
            "Torch geometric version: 2.3.1\n"
          ]
        }
      ],
      "source": [
        "# DEPENDENCIES\n",
        "# Python native\n",
        "import functools\n",
        "import json\n",
        "import pickle\n",
        "import random\n",
        "from copy import copy\n",
        "from datetime import datetime\n",
        "from pprint import pprint\n",
        "from statistics import median as median\n",
        "from sys import platform\n",
        "from typing import Any, Callable, Union\n",
        "\n",
        "# Data handling\n",
        "import numpy as np\n",
        "import ocpa.algo.predictive_monitoring.factory as feature_factory\n",
        "# PyG\n",
        "import torch\n",
        "import torch.nn as nn\n",
        "import torch.nn.functional as F\n",
        "import torch.optim as O\n",
        "# PyTorch TensorBoard support\n",
        "import torch.utils.tensorboard\n",
        "import torch_geometric.nn as pygnn\n",
        "import torch_geometric.transforms as T\n",
        "# Object centric process mining\n",
        "from ocpa.algo.predictive_monitoring.obj import \\\n",
        "    Feature_Storage as FeatureStorage\n",
        "# # Simple machine learning models, procedure tools, and evaluation metrics\n",
        "# from sklearn.model_selection import train_test_split\n",
        "from sklearn.preprocessing import StandardScaler\n",
        "from torch import tensor\n",
        "from torch.utils.tensorboard.writer import SummaryWriter\n",
        "# Custom imports\n",
        "# from loan_application_experiment.feature_encodings.efg.efg import EFG\n",
        "from torch_geometric.data import HeteroData\n",
        "from torch_geometric.loader import DataLoader\n",
        "from tqdm import tqdm\n",
        "\n",
        "import utilities.torch_utils\n",
        "from experiments.hoeg import HOEG\n",
        "# from importing_ocel import build_feature_storage, load_ocel, pickle_feature_storage\n",
        "from models.definitions.geometric_models import (GraphModel,\n",
        "                                                 HeteroHigherOrderGNN)\n",
        "from utilities import (evaluation_utils, hetero_data_utils,\n",
        "                       hetero_evaluation_utils, hetero_experiment_utils,\n",
        "                       hetero_training_utils)\n",
        "\n",
        "# Print system info\n",
        "utilities.torch_utils.print_system_info()\n",
        "utilities.torch_utils.print_torch_info()\n",
        "\n",
        "# INITIAL CONFIGURATION\n",
        "otc_hoeg_config = {\n",
        "    \"model_output_path\": \"models/OTC/hoeg\",\n",
        "    \"STORAGE_PATH\": \"data/OTC/feature_encodings/HOEG/hoeg\",\n",
        "    \"SPLIT_FEATURE_STORAGE_FILE\": \"OTC_split_[C2_P2_P3_O3_eas].fs\",\n",
        "    \"OBJECTS_DATA_DICT\": \"otc_ofg+oi_graph+item_node_map+order_node_map+packages_node_map.pkl\",\n",
        "    \"events_target_label\": (feature_factory.EVENT_REMAINING_TIME, ()),\n",
        "    \"objects_target_label\": \"@@object_lifecycle_duration\",\n",
        "    \"regression_task\": True,\n",
        "    \"target_node_type\": \"event\",\n",
        "    \"object_types\": [\"item\", \"order\", \"package\"],\n",
        "    \"meta_data\": (\n",
        "        [\"event\", \"item\", \"order\", \"package\"],\n",
        "        [\n",
        "            (\"event\", \"follows\", \"event\"),\n",
        "            (\"event\", \"interacts\", \"order\"),\n",
        "            (\"event\", \"interacts\", \"item\"),\n",
        "            (\"event\", \"interacts\", \"package\"),\n",
        "        ],\n",
        "    ),\n",
        "    \"BATCH_SIZE\": 16,\n",
        "    \"RANDOM_SEED\": 42,\n",
        "    \"EPOCHS\": 32,\n",
        "    \"early_stopping\": 4,\n",
        "    \"hidden_dim\": 256,\n",
        "    \"optimizer\": O.Adam,\n",
        "    \"optimizer_settings\": {\n",
        "        \"lr\": 0.001,\n",
        "        \"betas\": (0.9, 0.999),\n",
        "        \"eps\": 1e-08,\n",
        "        \"weight_decay\": 0,\n",
        "        \"amsgrad\": False,\n",
        "    },\n",
        "    \"loss_fn\": torch.nn.L1Loss(),\n",
        "    \"verbose\": True,\n",
        "    \"skip_cache\": False,\n",
        "    \"device\": torch.device(\"cuda\" if torch.cuda.is_available() else \"cpu\"),\n",
        "    \"squeeze\": True,\n",
        "    \"track_time\": True,\n",
        "}\n",
        "\n",
        "# CONFIGURATION ADAPTATIONS may be set here\n",
        "# otc_hoeg_config['skip_cache'] = True"
      ]
    },
    {
      "cell_type": "code",
      "execution_count": 3,
      "metadata": {},
      "outputs": [],
      "source": [
        "# DATA PREPARATION\n",
        "transformations = [\n",
        "    hetero_data_utils.ToUndirected(\n",
        "        exclude_edge_types=[(\"event\", \"follows\", \"event\")]\n",
        "    ),  # Convert heterogeneous graphs to undirected graphs, but exclude event-event relations\n",
        "    T.AddSelfLoops(),  # Add self-loops to the graphs\n",
        "    T.NormalizeFeatures(),  # Normalize node features of the graphs\n",
        "]\n",
        "# Get data and dataloaders\n",
        "ds_train, ds_val, ds_test = hetero_data_utils.load_hetero_datasets(\n",
        "    storage_path=otc_hoeg_config[\"STORAGE_PATH\"],\n",
        "    split_feature_storage_file=otc_hoeg_config[\"SPLIT_FEATURE_STORAGE_FILE\"],\n",
        "    objects_data_file=otc_hoeg_config[\"OBJECTS_DATA_DICT\"],\n",
        "    event_node_label_key=otc_hoeg_config[\"events_target_label\"],\n",
        "    object_nodes_label_key=otc_hoeg_config[\"objects_target_label\"],\n",
        "    edge_types=otc_hoeg_config[\"meta_data\"][1],\n",
        "    object_node_types=otc_hoeg_config[\"object_types\"],\n",
        "    graph_level_target=False,\n",
        "    transform=T.Compose(transformations),\n",
        "    train=True,\n",
        "    val=True,\n",
        "    test=True,\n",
        "    skip_cache=otc_hoeg_config[\"skip_cache\"],\n",
        ")"
      ]
    },
    {
      "cell_type": "code",
      "execution_count": 4,
      "metadata": {},
      "outputs": [],
      "source": [
        "# Update meta data (it has changed after applying `transformations`)\n",
        "otc_hoeg_config[\"meta_data\"] = ds_val[0].metadata()\n",
        "# print_hetero_dataset_summaries(ds_train, ds_val, ds_test)\n",
        "(\n",
        "    train_loader,\n",
        "    val_loader,\n",
        "    test_loader,\n",
        ") = hetero_data_utils.hetero_dataloaders_from_datasets(\n",
        "    batch_size=otc_hoeg_config[\"BATCH_SIZE\"],\n",
        "    ds_train=ds_train,\n",
        "    ds_val=ds_val,\n",
        "    ds_test=ds_test,\n",
        "    num_workers=3,\n",
        "    seed_worker=functools.partial(\n",
        "        utilities.torch_utils.seed_worker, state=otc_hoeg_config[\"RANDOM_SEED\"]\n",
        "    ),\n",
        "    generator=torch.Generator().manual_seed(otc_hoeg_config[\"RANDOM_SEED\"]),\n",
        ")"
      ]
    },
    {
      "cell_type": "code",
      "execution_count": 5,
      "metadata": {},
      "outputs": [
        {
          "data": {
            "text/plain": [
              "HeteroData(\n",
              "  \u001b[1mevent\u001b[0m={\n",
              "    x=[72, 20],\n",
              "    y=[72]\n",
              "  },\n",
              "  \u001b[1mitem\u001b[0m={\n",
              "    x=[52, 1],\n",
              "    y=[52]\n",
              "  },\n",
              "  \u001b[1morder\u001b[0m={\n",
              "    x=[16, 1],\n",
              "    y=[16]\n",
              "  },\n",
              "  \u001b[1mpackage\u001b[0m={\n",
              "    x=[7, 1],\n",
              "    y=[7]\n",
              "  },\n",
              "  \u001b[1m(event, follows, event)\u001b[0m={ edge_index=[2, 207] },\n",
              "  \u001b[1m(event, interacts, order)\u001b[0m={ edge_index=[2, 129] },\n",
              "  \u001b[1m(event, interacts, item)\u001b[0m={ edge_index=[2, 302] },\n",
              "  \u001b[1m(event, interacts, package)\u001b[0m={ edge_index=[2, 23] },\n",
              "  \u001b[1m(order, rev_interacts, event)\u001b[0m={ edge_index=[2, 129] },\n",
              "  \u001b[1m(item, rev_interacts, event)\u001b[0m={ edge_index=[2, 302] },\n",
              "  \u001b[1m(package, rev_interacts, event)\u001b[0m={ edge_index=[2, 23] }\n",
              ")"
            ]
          },
          "execution_count": 5,
          "metadata": {},
          "output_type": "execute_result"
        }
      ],
      "source": [
        "ds_val[0]"
      ]
    },
    {
      "cell_type": "code",
      "execution_count": null,
      "metadata": {},
      "outputs": [],
      "source": [
        "otc_hoeg_config[\"verbose\"] = False\n",
        "otc_hoeg_config[\"squeeze\"] = True\n",
        "otc_hoeg_config[\"model_output_path\"] = \"models/OTC/hoeg/exp_v1\"\n",
        "\n",
        "lr_range = [0.01, 0.001]\n",
        "hidden_dim_range = [8, 16, 24, 32, 48, 64, 128, 256]\n",
        "for lr in lr_range:\n",
        "    for hidden_dim in hidden_dim_range:\n",
        "        hetero_experiment_utils.run_hoeg_experiment_configuration(\n",
        "            HeteroHigherOrderGNN,\n",
        "            lr=lr,\n",
        "            hidden_dim=hidden_dim,\n",
        "            train_loader=train_loader,\n",
        "            val_loader=val_loader,\n",
        "            test_loader=test_loader,\n",
        "            hoeg_config=otc_hoeg_config,\n",
        "        )\n"
      ]
    }
  ],
  "metadata": {
    "anaconda-cloud": {},
    "kernelspec": {
      "display_name": "Python 3",
      "language": "python",
      "name": "python3"
    },
    "language_info": {
      "codemirror_mode": {
        "name": "ipython",
        "version": 3
      },
      "file_extension": ".py",
      "mimetype": "text/x-python",
      "name": "python",
      "nbconvert_exporter": "python",
      "pygments_lexer": "ipython3",
      "version": "3.9.17"
    }
  },
  "nbformat": 4,
  "nbformat_minor": 4
}
